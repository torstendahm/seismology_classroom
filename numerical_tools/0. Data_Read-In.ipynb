{
 "cells": [
  {
   "cell_type": "markdown",
   "id": "9c5d9e53",
   "metadata": {},
   "source": [
    "# Data Read-In"
   ]
  },
  {
   "cell_type": "markdown",
   "id": "5bf15422",
   "metadata": {},
   "source": [
    "What is done here\n",
    "- Pandas and GeoPandas\n",
    "- Numpy\n",
    "- (GEO)JSON\n",
    "- Own\n",
    "- Binary?"
   ]
  },
  {
   "cell_type": "markdown",
   "id": "3e72240a",
   "metadata": {},
   "source": [
    "# Individual Read-In"
   ]
  },
  {
   "cell_type": "code",
   "execution_count": 24,
   "id": "bcc5c843",
   "metadata": {
    "scrolled": false
   },
   "outputs": [
    {
     "name": "stdout",
     "output_type": "stream",
     "text": [
      "0 ['STATIONS_ID', 'MESS_DATUM', 'QN_9', 'TT_TU', 'RF_TU', 'eor\\n']\n",
      "1 ['          3', '1950040101', '    5', '   5.7', '  83.0', 'eor\\n']\n",
      "2 ['          3', '1950040102', '    5', '   5.6', '  83.0', 'eor\\n']\n",
      "3 ['          3', '1950040103', '    5', '   5.5', '  83.0', 'eor\\n']\n",
      "[1950040101.0, 1950040102.0, 1950040103.0, 1950040104.0, 1950040105.0, 1950040106.0, 1950040107.0, 1950040108.0, 1950040109.0, 1950040110.0]\n",
      "[5.7, 5.6, 5.5, 5.5, 5.8, 5.9, 6.0, 6.4, 7.1, 7.7]\n"
     ]
    }
   ],
   "source": [
    "#file = 'data/NY_climate_2010_raw.csv'\n",
    "file = 'data/hourly_data_raw.txt'\n",
    "\n",
    "# open() options 'r', 'w', 'a'\n",
    "# with option to avoid .close()\n",
    "\n",
    "with open(file, 'r') as f:\n",
    "    # lines = f.readlines()\n",
    "    att1 = []\n",
    "    att2 = []\n",
    "    for ii, line in enumerate(f):\n",
    "        line = line.rsplit(';')\n",
    "        \n",
    "        if ii < 4:\n",
    "            print(ii, line)\n",
    "        \n",
    "        if ii == 0:\n",
    "            continue\n",
    "        \n",
    "        att1.append(float(line[1]))\n",
    "        att2.append(float(line[3]))\n",
    "\n",
    "print(att1[:10])           \n",
    "print(att2[:10])\n",
    "\n",
    "# do smth"
   ]
  },
  {
   "cell_type": "markdown",
   "id": "3c1da923",
   "metadata": {},
   "source": [
    "# Individual Write-Out"
   ]
  },
  {
   "cell_type": "code",
   "execution_count": 20,
   "id": "9c996d27",
   "metadata": {},
   "outputs": [],
   "source": [
    "f = open(\"data/test_out.txt\", \"w\")\n",
    "f.write(\"Now the file has more content!\")\n",
    "for idx in range(len(att1)):\n",
    "    f.write('\\n')\n",
    "    f.write(str(att1[idx]))\n",
    "f.close()\n",
    "\n",
    "## play with 'w' and 'a'"
   ]
  },
  {
   "cell_type": "markdown",
   "id": "0268b216",
   "metadata": {},
   "source": [
    "# Numpy"
   ]
  },
  {
   "cell_type": "code",
   "execution_count": null,
   "id": "fe01b9b1",
   "metadata": {},
   "outputs": [],
   "source": [
    "import numpy as num\n",
    "\n",
    "file = ''\n",
    "\n",
    "# delimiter\n",
    "\n",
    "num.genfromtxt()\n",
    "num.loadtxt()"
   ]
  },
  {
   "cell_type": "markdown",
   "id": "f86a4f41",
   "metadata": {},
   "source": [
    "# JSON"
   ]
  },
  {
   "cell_type": "code",
   "execution_count": null,
   "id": "3bfe3d67",
   "metadata": {},
   "outputs": [],
   "source": [
    "import json\n",
    "# geojson\n",
    "\n",
    "file = ''\n",
    "\n",
    "with open(file, 'r') as f:\n",
    "  data = json.load(f)"
   ]
  },
  {
   "cell_type": "markdown",
   "id": "dbda9d00",
   "metadata": {},
   "source": [
    "# GEOJSON for geo data"
   ]
  },
  {
   "cell_type": "code",
   "execution_count": null,
   "id": "f1acc465",
   "metadata": {},
   "outputs": [],
   "source": [
    "import geojson\n",
    "\n",
    "# shape files etc.\n",
    "# e.g. line, polygon objects"
   ]
  },
  {
   "cell_type": "markdown",
   "id": "c48f1ac0",
   "metadata": {},
   "source": [
    "# Pandas for tables, csv etc."
   ]
  },
  {
   "cell_type": "code",
   "execution_count": null,
   "id": "13bc8f61",
   "metadata": {},
   "outputs": [],
   "source": [
    "import pandas as pd\n",
    "# geopandas\n",
    "\n",
    "# has a lot of options: https://pandas.pydata.org/docs/reference/io.html\n",
    "\n",
    "file = ''\n",
    "\n",
    "# excel, json, html, xml, SPSS, SQL\n",
    "df = pd.read_csv(file)"
   ]
  },
  {
   "cell_type": "markdown",
   "id": "1da3756a",
   "metadata": {},
   "source": [
    "# Data modification/handling"
   ]
  },
  {
   "cell_type": "code",
   "execution_count": null,
   "id": "a4ab817e",
   "metadata": {},
   "outputs": [],
   "source": [
    "# Example\n",
    "\n",
    "file = 'data/NY_climate_2010_raw.csv' ## from https://www.ncei.noaa.gov/\n",
    "\n",
    "data = pd.read_csv(file)\n",
    "\n",
    "print(data.head(10))\n",
    "\n",
    "print(data.columns)\n",
    "\n",
    "data['year'] = 2010\n",
    "data['month'] = data['DATE'].str.slice(0, 2)\n",
    "data['day'] = data['DATE'].str.slice(3, 5)\n",
    "data['minute'] = data['DATE'].str.slice(6, 8).astype(float) * 60\n",
    "\n",
    "data['datetime'] = pd.to_datetime(data[['year', 'month', 'day', 'minute']])\n",
    "\n",
    "data['seconds'] = (data['datetime'] - data['datetime'][0]).dt.total_seconds() \n",
    "print(data[['datetime', 'seconds']])\n",
    "\n",
    "data.to_csv('data/NY_climate_2010_modified.csv')"
   ]
  },
  {
   "cell_type": "code",
   "execution_count": null,
   "id": "000c7e4c",
   "metadata": {},
   "outputs": [],
   "source": [
    "file = 'data/hourly_data_raw.txt' # https://opendata.dwd.de/climate_environment/CDC/observations_germany/climate/hourly/air_temperature/historical/\n",
    "\n",
    "data = pd.read_csv(file, sep=';')\n",
    "\n",
    "print(data.head(10))\n",
    "\n",
    "print(data.columns)\n",
    "\n",
    "data['year'] = data['MESS_DATUM'].astype(str).str.slice(0, 4)\n",
    "data['month'] = data['MESS_DATUM'].astype(str).str.slice(4, 6)\n",
    "data['day'] = data['MESS_DATUM'].astype(str).str.slice(6, 8)\n",
    "data['minute'] = data['MESS_DATUM'].astype(str).str.slice(8,10).astype(float) * 60\n",
    "\n",
    "data['datetime'] = pd.to_datetime(data[['year', 'month', 'day', 'minute']])\n",
    "\n",
    "data['seconds'] = (data['datetime'] - data['datetime'][0]).dt.total_seconds() \n",
    "print(data[['datetime', 'seconds']])\n",
    "\n",
    "data.to_csv('data/hourly_data_modified.txt')"
   ]
  }
 ],
 "metadata": {
  "kernelspec": {
   "display_name": "Python 3 (ipykernel)",
   "language": "python",
   "name": "python3"
  },
  "language_info": {
   "codemirror_mode": {
    "name": "ipython",
    "version": 3
   },
   "file_extension": ".py",
   "mimetype": "text/x-python",
   "name": "python",
   "nbconvert_exporter": "python",
   "pygments_lexer": "ipython3",
   "version": "3.8.1"
  }
 },
 "nbformat": 4,
 "nbformat_minor": 5
}
