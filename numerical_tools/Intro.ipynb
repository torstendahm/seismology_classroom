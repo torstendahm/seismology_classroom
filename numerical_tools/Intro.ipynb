{
 "cells": [
  {
   "cell_type": "markdown",
   "id": "d908a1af",
   "metadata": {},
   "source": [
    "# Numerical Tools"
   ]
  },
  {
   "cell_type": "markdown",
   "id": "cd41f6d8",
   "metadata": {},
   "source": [
    "What is done here?"
   ]
  }
 ],
 "metadata": {
  "kernelspec": {
   "display_name": "Python 3 (ipykernel)",
   "language": "python",
   "name": "python3"
  },
  "language_info": {
   "codemirror_mode": {
    "name": "ipython",
    "version": 3
   },
   "file_extension": ".py",
   "mimetype": "text/x-python",
   "name": "python",
   "nbconvert_exporter": "python",
   "pygments_lexer": "ipython3",
   "version": "3.8.1"
  }
 },
 "nbformat": 4,
 "nbformat_minor": 5
}
