{
 "cells": [
  {
   "cell_type": "markdown",
   "id": "59c536c0",
   "metadata": {},
   "source": [
    "# Statistical Tools?\n",
    "mean, std, etc. etc. etc. ? Needed?\n",
    "Covariance etc?"
   ]
  }
 ],
 "metadata": {
  "kernelspec": {
   "display_name": "Python 3 (ipykernel)",
   "language": "python",
   "name": "python3"
  },
  "language_info": {
   "codemirror_mode": {
    "name": "ipython",
    "version": 3
   },
   "file_extension": ".py",
   "mimetype": "text/x-python",
   "name": "python",
   "nbconvert_exporter": "python",
   "pygments_lexer": "ipython3",
   "version": "3.8.1"
  }
 },
 "nbformat": 4,
 "nbformat_minor": 5
}
