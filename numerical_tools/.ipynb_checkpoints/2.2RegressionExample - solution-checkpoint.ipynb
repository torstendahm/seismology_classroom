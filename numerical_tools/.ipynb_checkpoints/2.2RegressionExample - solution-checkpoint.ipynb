{
 "cells": [
  {
   "cell_type": "markdown",
   "id": "5bf80113",
   "metadata": {},
   "source": [
    "# Regression on example\n"
   ]
  },
  {
   "cell_type": "markdown",
   "id": "1470d05b",
   "metadata": {},
   "source": [
    "what is done\n",
    "\n",
    "not sure what to do here in detail, if necessary at all?\n",
    "IDEAS?\n",
    "\n",
    "Others examples? where regression fit might better"
   ]
  },
  {
   "cell_type": "markdown",
   "id": "c287aad5",
   "metadata": {},
   "source": [
    "Task:\n",
    "- Load in the dataset: xy\n",
    "- select one/ten year(s)/days of data\n",
    "- fit different polynomials \n",
    "\n",
    "- Determine average temperature per regression\n",
    "    control: print(num.mean(ydata))"
   ]
  },
  {
   "cell_type": "code",
   "execution_count": 22,
   "id": "0064c6e4",
   "metadata": {},
   "outputs": [
    {
     "name": "stdout",
     "output_type": "stream",
     "text": [
      "Coeffs\n",
      "[-0.00000000e+000  0.00000000e+000 -1.26855020e-142  2.00303270e-136\n",
      " -1.13307620e-130  1.97853933e-125  4.54695191e-120 -1.39810515e-114\n",
      " -3.36058625e-109  7.79426924e-104  2.89676721e-098 -3.37303927e-093\n",
      " -2.31333845e-087  1.07193953e-082  1.71805725e-076 -6.32579351e-072\n",
      " -1.22591017e-065  1.47820753e-060  6.56213327e-055 -2.60091523e-049\n",
      "  4.50803252e-044 -4.71363974e-039  3.17221175e-034 -1.36179184e-029\n",
      "  3.44803677e-025 -3.80420823e-021 -2.89756056e-017  1.29204594e-012\n",
      " -9.50382559e-009 -7.92060259e-006  5.69740395e+000]\n",
      "['-0.000000', '0.000000', '-0.000000', '0.000000', '-0.000000', '0.000000', '0.000000', '-0.000000', '-0.000000', '0.000000', '0.000000', '-0.000000', '-0.000000', '0.000000', '0.000000', '-0.000000', '-0.000000', '0.000000', '0.000000', '-0.000000', '0.000000', '-0.000000', '0.000000', '-0.000000', '0.000000', '-0.000000', '-0.000000', '0.000000', '-0.000000', '-0.000008', '5.697404']\n"
     ]
    },
    {
     "name": "stderr",
     "output_type": "stream",
     "text": [
      "/home/lehmann/.local/lib/python3.8/site-packages/numpy/lib/polynomial.py:666: RuntimeWarning: overflow encountered in multiply\n",
      "  scale = NX.sqrt((lhs*lhs).sum(axis=0))\n",
      "/home/lehmann/.local/lib/python3.8/site-packages/numpy/core/_methods.py:48: RuntimeWarning: overflow encountered in reduce\n",
      "  return umr_sum(a, axis, dtype, out, keepdims, initial, where)\n",
      "/home/lehmann/.local/lib/python3.8/site-packages/IPython/core/interactiveshell.py:3361: RankWarning: Polyfit may be poorly conditioned\n",
      "  exec(code_obj, self.user_global_ns, self.user_ns)\n"
     ]
    },
    {
     "data": {
      "image/png": "[encoded data removed]",
      "text/plain": [
       "<Figure size 432x288 with 1 Axes>"
      ]
     },
     "metadata": {
      "needs_background": "light"
     },
     "output_type": "display_data"
    }
   ],
   "source": [
    "import numpy as num\n",
    "import matplotlib.pyplot as plt\n",
    "import pandas as pd\n",
    "\n",
    "file = 'data/hourly_data_modified.txt' \n",
    "\n",
    "data = pd.read_csv(file)\n",
    "\n",
    "tempcol = 'TT_TU'\n",
    "timecol = 'seconds'\n",
    "\n",
    "numyears = 0.009\n",
    "idxyear = int(24*365 * numyears)\n",
    "\n",
    "xdata = data[timecol][:idxyear]\n",
    "ydata = data[tempcol][:idxyear]\n",
    "\n",
    "\n",
    "order = 5\n",
    "\n",
    "coeff = num.polyfit(xdata, ydata, order)\n",
    "print('Coeffs')\n",
    "print(coeff)\n",
    "print(['{0:f}'.format(c) for c in coeff])\n",
    "\n",
    "model = num.poly1d(coeff)\n",
    "yregr = model(xdata)\n",
    "\n",
    "plt.figure()\n",
    "plt.scatter(xdata, ydata, label='Data')\n",
    "plt.plot(xdata, yregr, color='red', label='Regression')\n",
    "plt.legend(loc='lower right')\n",
    "plt.show()"
   ]
  }
 ],
 "metadata": {
  "kernelspec": {
   "display_name": "Python 3 (ipykernel)",
   "language": "python",
   "name": "python3"
  },
  "language_info": {
   "codemirror_mode": {
    "name": "ipython",
    "version": 3
   },
   "file_extension": ".py",
   "mimetype": "text/x-python",
   "name": "python",
   "nbconvert_exporter": "python",
   "pygments_lexer": "ipython3",
   "version": "3.8.1"
  }
 },
 "nbformat": 4,
 "nbformat_minor": 5
}
