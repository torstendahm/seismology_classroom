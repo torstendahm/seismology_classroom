{
 "cells": [
  {
   "cell_type": "markdown",
   "id": "d908a1af",
   "metadata": {},
   "source": [
    "# Numerical Tools"
   ]
  },
  {
   "cell_type": "markdown",
   "id": "cd41f6d8",
   "metadata": {},
   "source": [
    "Other name? Signal Processing?\n",
    "\n",
    "What is done here?"
   ]
  },
  {
   "cell_type": "markdown",
   "id": "c2eab885",
   "metadata": {},
   "source": [
    "In this module/block we will learn about helpful and important numerical tools for processing general (non-seismological) (time series?) data/signals. \n",
    "The tools are:\n",
    "- Regression\n",
    "- Fourier Transform\n",
    "- Filtering\n",
    "- Correlation"
   ]
  },
  {
   "cell_type": "markdown",
   "id": "e2265329",
   "metadata": {},
   "source": [
    "The goal will be to learn the basic concept and how to apply them into python. In depth knowledge is either preassumed or will be taught during the lectures."
   ]
  }
 ],
 "metadata": {
  "kernelspec": {
   "display_name": "Python 3 (ipykernel)",
   "language": "python",
   "name": "python3"
  },
  "language_info": {
   "codemirror_mode": {
    "name": "ipython",
    "version": 3
   },
   "file_extension": ".py",
   "mimetype": "text/x-python",
   "name": "python",
   "nbconvert_exporter": "python",
   "pygments_lexer": "ipython3",
   "version": "3.8.1"
  }
 },
 "nbformat": 4,
 "nbformat_minor": 5
}
