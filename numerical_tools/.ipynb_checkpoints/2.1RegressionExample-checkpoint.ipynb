{
 "cells": [
  {
   "cell_type": "markdown",
   "id": "e364c935",
   "metadata": {},
   "source": [
    "# Regression on example\n",
    "\n",
    "what is done\n",
    "\n",
    "not sure what to do here in detail, if necessary at all?\n",
    "IDEAS?\n",
    "\n",
    "Others examples? where regression fit might better\n",
    "\n",
    "Task:\n",
    "- Load in the dataset: xy\n",
    "- select one/ten year(s)/days of data\n",
    "- fit different polynomials \n",
    "\n",
    "- Determine average temperature per regression\n",
    "    control: print(num.mean(ydata))\n",
    "    \n",
    "- Extra try to find a model that fits a following day... (?)"
   ]
  }
 ],
 "metadata": {
  "kernelspec": {
   "display_name": "Python 3 (ipykernel)",
   "language": "python",
   "name": "python3"
  },
  "language_info": {
   "codemirror_mode": {
    "name": "ipython",
    "version": 3
   },
   "file_extension": ".py",
   "mimetype": "text/x-python",
   "name": "python",
   "nbconvert_exporter": "python",
   "pygments_lexer": "ipython3",
   "version": "3.8.1"
  }
 },
 "nbformat": 4,
 "nbformat_minor": 5
}
