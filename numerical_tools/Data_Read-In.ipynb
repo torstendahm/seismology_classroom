{
 "cells": [
  {
   "cell_type": "markdown",
   "id": "9c5d9e53",
   "metadata": {},
   "source": [
    "# Data Read-In"
   ]
  },
  {
   "cell_type": "markdown",
   "id": "5bf15422",
   "metadata": {},
   "source": [
    "What is done here\n",
    "- Pandas and GeoPandas\n",
    "- Numpy\n",
    "- (GEO)JSON\n",
    "- Own\n",
    "- Binary?"
   ]
  },
  {
   "cell_type": "code",
   "execution_count": 1,
   "id": "bcc5c843",
   "metadata": {},
   "outputs": [
    {
     "ename": "FileNotFoundError",
     "evalue": "[Errno 2] No such file or directory: ''",
     "output_type": "error",
     "traceback": [
      "\u001b[0;31m---------------------------------------------------------------------------\u001b[0m",
      "\u001b[0;31mFileNotFoundError\u001b[0m                         Traceback (most recent call last)",
      "Input \u001b[0;32mIn [1]\u001b[0m, in \u001b[0;36m<cell line: 7>\u001b[0;34m()\u001b[0m\n\u001b[1;32m      1\u001b[0m file \u001b[38;5;241m=\u001b[39m \u001b[38;5;124m'\u001b[39m\u001b[38;5;124m'\u001b[39m\n\u001b[1;32m      3\u001b[0m \u001b[38;5;66;03m# open() options 'r', 'w', 'a'\u001b[39;00m\n\u001b[1;32m      4\u001b[0m \n\u001b[1;32m      5\u001b[0m \u001b[38;5;66;03m# with option to avoid .close()\u001b[39;00m\n\u001b[0;32m----> 7\u001b[0m \u001b[38;5;28;01mwith\u001b[39;00m \u001b[38;5;28;43mopen\u001b[39;49m\u001b[43m(\u001b[49m\u001b[43mfile\u001b[49m\u001b[43m,\u001b[49m\u001b[43m \u001b[49m\u001b[38;5;124;43m'\u001b[39;49m\u001b[38;5;124;43mr\u001b[39;49m\u001b[38;5;124;43m'\u001b[39;49m\u001b[43m)\u001b[49m \u001b[38;5;28;01mas\u001b[39;00m f:\n\u001b[1;32m      8\u001b[0m     \u001b[38;5;66;03m# lines = f.readlines()\u001b[39;00m\n\u001b[1;32m      9\u001b[0m     \u001b[38;5;28;01mfor\u001b[39;00m line \u001b[38;5;129;01min\u001b[39;00m f:\n\u001b[1;32m     10\u001b[0m         line \u001b[38;5;241m=\u001b[39m line\u001b[38;5;241m.\u001b[39mrsplit(\u001b[38;5;124m'\u001b[39m\u001b[38;5;124m,\u001b[39m\u001b[38;5;124m'\u001b[39m)\n",
      "\u001b[0;31mFileNotFoundError\u001b[0m: [Errno 2] No such file or directory: ''"
     ]
    }
   ],
   "source": [
    "file = ''\n",
    "\n",
    "# open() options 'r', 'w', 'a'\n",
    "\n",
    "# with option to avoid .close()\n",
    "\n",
    "with open(file, 'r') as f:\n",
    "    # lines = f.readlines()\n",
    "    for line in f:\n",
    "        line = line.rsplit(',')\n",
    "        pass"
   ]
  },
  {
   "cell_type": "code",
   "execution_count": null,
   "id": "fe01b9b1",
   "metadata": {},
   "outputs": [],
   "source": [
    "import numpy as num\n",
    "\n",
    "file = ''\n",
    "\n",
    "# delimiter\n",
    "\n",
    "num.genfromtxt()\n",
    "num.loadtxt()"
   ]
  },
  {
   "cell_type": "code",
   "execution_count": null,
   "id": "13bc8f61",
   "metadata": {},
   "outputs": [],
   "source": [
    "import pandas as pd\n",
    "# geopandas\n",
    "\n",
    "# has a lot of options: https://pandas.pydata.org/docs/reference/io.html\n",
    "\n",
    "file = ''\n",
    "\n",
    "# excel, json, html, xml, SPSS, SQL\n",
    "df = pd.read_csv(file)"
   ]
  },
  {
   "cell_type": "code",
   "execution_count": null,
   "id": "3bfe3d67",
   "metadata": {},
   "outputs": [],
   "source": [
    "import json\n",
    "# geojson\n",
    "\n",
    "file = ''\n",
    "\n",
    "with open(file, 'r') as f:\n",
    "  data = json.load(f)"
   ]
  },
  {
   "cell_type": "code",
   "execution_count": null,
   "id": "f1acc465",
   "metadata": {},
   "outputs": [],
   "source": [
    "import geojson\n",
    "\n",
    "# shape files etc.\n",
    "# e.g. line, polygon objects"
   ]
  }
 ],
 "metadata": {
  "kernelspec": {
   "display_name": "Python 3 (ipykernel)",
   "language": "python",
   "name": "python3"
  },
  "language_info": {
   "codemirror_mode": {
    "name": "ipython",
    "version": 3
   },
   "file_extension": ".py",
   "mimetype": "text/x-python",
   "name": "python",
   "nbconvert_exporter": "python",
   "pygments_lexer": "ipython3",
   "version": "3.8.1"
  }
 },
 "nbformat": 4,
 "nbformat_minor": 5
}
