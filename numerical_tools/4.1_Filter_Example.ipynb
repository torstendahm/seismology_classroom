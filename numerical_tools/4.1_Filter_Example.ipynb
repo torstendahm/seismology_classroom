{
 "cells": [
  {
   "cell_type": "markdown",
   "id": "d7130556",
   "metadata": {},
   "source": [
    "# Filter\n",
    "\n",
    "### Task:\n",
    "- Load in the dataset: xy\n",
    "- filter the data that only the daily/yearly variation is shown\n",
    "\n",
    "Whats done here\n",
    "\n",
    "More Ideas examples or tasks?"
   ]
  }
 ],
 "metadata": {
  "kernelspec": {
   "display_name": "Python 3 (ipykernel)",
   "language": "python",
   "name": "python3"
  },
  "language_info": {
   "codemirror_mode": {
    "name": "ipython",
    "version": 3
   },
   "file_extension": ".py",
   "mimetype": "text/x-python",
   "name": "python",
   "nbconvert_exporter": "python",
   "pygments_lexer": "ipython3",
   "version": "3.8.1"
  }
 },
 "nbformat": 4,
 "nbformat_minor": 5
}
