{
 "cells": [
  {
   "cell_type": "markdown",
   "id": "9c5d9e53",
   "metadata": {},
   "source": [
    "# Data Read-In"
   ]
  },
  {
   "cell_type": "markdown",
   "id": "5bf15422",
   "metadata": {},
   "source": [
    "What is done here\n",
    "- Pandas and GeoPandas\n",
    "- Numpy\n",
    "- (GEO)JSON\n",
    "- Own\n",
    "- Binary?"
   ]
  },
  {
   "cell_type": "code",
   "execution_count": null,
   "id": "df3a00fe",
   "metadata": {},
   "outputs": [],
   "source": [
    "import matplotlib.pyplot as plt"
   ]
  },
  {
   "cell_type": "markdown",
   "id": "3e72240a",
   "metadata": {},
   "source": [
    "# Individual Read-In"
   ]
  },
  {
   "cell_type": "code",
   "execution_count": null,
   "id": "bcc5c843",
   "metadata": {
    "scrolled": true
   },
   "outputs": [],
   "source": [
    "#file = 'data/NY_climate_2010_raw.csv'\n",
    "#file = 'data/hourly_data_raw.txt'\n",
    "file = 'data/ingv_seismic.csv'\n",
    "\n",
    "# open() options 'r', 'w', 'a'\n",
    "# with option to avoid .close()\n",
    "\n",
    "with open(file, 'r') as f:\n",
    "    # lines = f.readlines()\n",
    "    attribute1 = []\n",
    "    filedict = {}\n",
    "    for ii, line in enumerate(f):\n",
    "        # line.strip\n",
    "        line = line.replace('\\n', '')\n",
    "        line = line.replace('\\\"', '')\n",
    "        line = line.rsplit(';')\n",
    "        \n",
    "        if ii < 4:\n",
    "            print(ii, line)\n",
    "        \n",
    "        if ii == 0:\n",
    "            header = line\n",
    "            continue\n",
    "        \n",
    "        attribute1.append(line[0])\n",
    "        \n",
    "        for nn in range(len(header)):\n",
    "            if header[nn] not in filedict:\n",
    "                filedict[header[nn]] = []\n",
    "            filedict[header[nn]].append(line[nn])\n",
    "\n",
    "print()\n",
    "print(header)\n",
    "print()\n",
    "print(attribute1) \n",
    "print()\n",
    "print(filedict)\n",
    "\n",
    "# do smth with data"
   ]
  },
  {
   "cell_type": "markdown",
   "id": "3c1da923",
   "metadata": {},
   "source": [
    "# Individual Write-Out"
   ]
  },
  {
   "cell_type": "code",
   "execution_count": null,
   "id": "9c996d27",
   "metadata": {},
   "outputs": [],
   "source": [
    "f = open(\"data/test_out.txt\", \"w\")\n",
    "f.write(\"Stations in Italy\\n\")\n",
    "for idx in range(len(filedict['Station'])):\n",
    "    d = filedict\n",
    "    f.write('The station %s.%s is located at %s, %s.\\n'\n",
    "            % (d['Station'][idx], d['Net'][idx], d['Lat (N)'][idx], d['Lon (E)'][idx]))\n",
    "f.close()\n",
    "\n",
    "## play with 'w' and 'a'\n",
    "## play with \\n"
   ]
  },
  {
   "cell_type": "markdown",
   "id": "0268b216",
   "metadata": {},
   "source": [
    "# Numpy"
   ]
  },
  {
   "cell_type": "code",
   "execution_count": null,
   "id": "99be115b",
   "metadata": {},
   "outputs": [],
   "source": [
    "import numpy as num\n",
    "\n",
    "file = \"data/numpy_test.txt\"\n",
    "\n",
    "a = num.loadtxt(file)\n",
    "print(a)\n",
    "\n",
    "#plt.figure()\n",
    "#plt.plot(a[0], a[1])\n",
    "#plt.show()"
   ]
  },
  {
   "cell_type": "code",
   "execution_count": null,
   "id": "fe01b9b1",
   "metadata": {},
   "outputs": [],
   "source": [
    "a = num.linspace(0,10, 100)\n",
    "b = num.cos(a)\n",
    "print(a)\n",
    "print(b)\n",
    "num.savetxt(\"data/numpy_test_out.txt\", [a, b])"
   ]
  },
  {
   "cell_type": "markdown",
   "id": "f86a4f41",
   "metadata": {},
   "source": [
    "# JSON"
   ]
  },
  {
   "cell_type": "code",
   "execution_count": null,
   "id": "3bfe3d67",
   "metadata": {},
   "outputs": [],
   "source": [
    "import json\n",
    "# geojson\n",
    "\n",
    "file = 'data/finite_fault_usgs.json'\n",
    "file = 'data/metadata.json'\n",
    "\n",
    "with open(file, 'r') as f:\n",
    "  data = json.load(f)\n",
    "\n",
    "print(data)\n",
    "#print(data['features'][0]['geometry'])"
   ]
  },
  {
   "cell_type": "markdown",
   "id": "dbda9d00",
   "metadata": {},
   "source": [
    "# GEOJSON for geo data"
   ]
  },
  {
   "cell_type": "code",
   "execution_count": null,
   "id": "f1acc465",
   "metadata": {},
   "outputs": [],
   "source": [
    "import geojson\n",
    "\n",
    "file = 'data/germany.geojson' # from shakygrounds2\n",
    "\n",
    "with open(file, 'r') as f:\n",
    "  data = geojson.load(f)\n",
    "\n",
    "#print(data)\n",
    "print(data['features'])\n",
    "# shape files etc.\n",
    "# e.g. line, polygon objects"
   ]
  },
  {
   "cell_type": "markdown",
   "id": "c48f1ac0",
   "metadata": {},
   "source": [
    "# Pandas for tables, csv etc."
   ]
  },
  {
   "cell_type": "code",
   "execution_count": null,
   "id": "13bc8f61",
   "metadata": {},
   "outputs": [],
   "source": [
    "import pandas as pd\n",
    "#import geopandas as gpd\n",
    "\n",
    "# has a lot of options: https://pandas.pydata.org/docs/reference/io.html\n",
    "\n",
    "file = ''\n",
    "\n",
    "# excel, json, html, xml, SPSS, SQL\n",
    "df = pd.read_csv(file)\n",
    "print(df)"
   ]
  },
  {
   "cell_type": "markdown",
   "id": "1da3756a",
   "metadata": {},
   "source": [
    "# Data modification/handling"
   ]
  },
  {
   "cell_type": "code",
   "execution_count": null,
   "id": "a4ab817e",
   "metadata": {},
   "outputs": [],
   "source": [
    "# Example\n",
    "\n",
    "file = 'data/NY_climate_2010_raw.csv' ## from https://www.ncei.noaa.gov/\n",
    "\n",
    "data = pd.read_csv(file)\n",
    "\n",
    "print(data.head(10))\n",
    "\n",
    "print(data.columns)\n",
    "\n",
    "data['year'] = 2010\n",
    "data['month'] = data['DATE'].str.slice(0, 2)\n",
    "data['day'] = data['DATE'].str.slice(3, 5)\n",
    "data['minute'] = data['DATE'].str.slice(6, 8).astype(float) * 60\n",
    "\n",
    "data['datetime'] = pd.to_datetime(data[['year', 'month', 'day', 'minute']])\n",
    "\n",
    "data['seconds'] = (data['datetime'] - data['datetime'][0]).dt.total_seconds() \n",
    "print(data[['datetime', 'seconds']])\n",
    "\n",
    "data.to_csv('data/NY_climate_2010_modified.csv')"
   ]
  },
  {
   "cell_type": "code",
   "execution_count": null,
   "id": "000c7e4c",
   "metadata": {},
   "outputs": [],
   "source": [
    "file = 'data/hourly_data_raw.txt' # https://opendata.dwd.de/climate_environment/CDC/observations_germany/climate/hourly/air_temperature/historical/\n",
    "\n",
    "data = pd.read_csv(file, sep=';')\n",
    "\n",
    "print(data.head(10))\n",
    "\n",
    "print(data.columns)\n",
    "\n",
    "data['year'] = data['MESS_DATUM'].astype(str).str.slice(0, 4)\n",
    "data['month'] = data['MESS_DATUM'].astype(str).str.slice(4, 6)\n",
    "data['day'] = data['MESS_DATUM'].astype(str).str.slice(6, 8)\n",
    "data['minute'] = data['MESS_DATUM'].astype(str).str.slice(8,10).astype(float) * 60\n",
    "\n",
    "data['datetime'] = pd.to_datetime(data[['year', 'month', 'day', 'minute']])\n",
    "\n",
    "data['seconds'] = (data['datetime'] - data['datetime'][0]).dt.total_seconds() \n",
    "print(data[['datetime', 'seconds']])\n",
    "\n",
    "data.to_csv('data/hourly_data_modified.txt')"
   ]
  }
 ],
 "metadata": {
  "kernelspec": {
   "display_name": "Python 3 (ipykernel)",
   "language": "python",
   "name": "python3"
  },
  "language_info": {
   "codemirror_mode": {
    "name": "ipython",
    "version": 3
   },
   "file_extension": ".py",
   "mimetype": "text/x-python",
   "name": "python",
   "nbconvert_exporter": "python",
   "pygments_lexer": "ipython3",
   "version": "3.8.1"
  }
 },
 "nbformat": 4,
 "nbformat_minor": 5
}
