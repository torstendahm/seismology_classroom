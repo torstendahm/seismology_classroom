{
 "cells": [
  {
   "cell_type": "markdown",
   "metadata": {},
   "source": [
    "# Source radiation plot\n",
    "\n",
    "## Introduction\n",
    "\n",
    "The radiation pattern depends on the source process. Directivity is an effect of a fault rupturing, so earthquake ground motion in the direction of the rupture propagation is more severe than that in other directions from the earthquake source. Here we will have a look on how to plot the directivity effects of an earthquake described by a rectangular source.\n",
    "\n",
    "**Table of Contents:**\n",
    "\n",
    "* [Plotting_directivity](#plot_directivity)"
   ]
  },
  {
   "cell_type": "markdown",
   "metadata": {},
   "source": [
    "## `plot_directivity`\n"
   ]
  },
  {
   "cell_type": "markdown",
   "metadata": {},
   "source": [
    "* To plot directivity and radiation characteristics of source models (point or finite), we can use **plot_directivity()** (taken from [Pyrocko](https://pyrocko.org/docs/current/library/reference/plot/plot.html#pyrocko.plot.directivity.plot_directivity))."
   ]
  },
  {
   "cell_type": "code",
   "execution_count": null,
   "metadata": {},
   "outputs": [],
   "source": [
    "import os\n",
    "from pyrocko.plot.directivity import plot_directivity\n",
    "from pyrocko.gf import LocalEngine, RectangularSource, ws\n",
    "\n",
    "km = 1e3\n",
    "# The store we are going extract data from:\n",
    "store_id = 'iceland_reg_v2'\n",
    "\n",
    "if not os.path.exists(store_id):\n",
    "    ws.download_gf_store(site='kinherd', store_id=store_id)\n",
    "\n",
    "# Let's use the pyrocko.gf.Engine object which provides the traces extracted from the store.\n",
    "engine = LocalEngine(store_superdirs=['.'])"
   ]
  },
  {
   "cell_type": "markdown",
   "metadata": {},
   "source": [
    "* Let's use a rectangular source. If you check the parameters you will notice that this a strike-slip rupture."
   ]
  },
  {
   "cell_type": "code",
   "execution_count": null,
   "metadata": {},
   "outputs": [],
   "source": [
    "rect_source = RectangularSource(\n",
    "    depth=1.6*km,\n",
    "    strike=240.,\n",
    "    dip=76.6,\n",
    "    rake=-.4,\n",
    "    anchor='top',\n",
    "    nucleation_x=-.57,\n",
    "    nucleation_y=-.59,\n",
    "    velocity=2070.,\n",
    "    length=27*km,\n",
    "    width=9.4*km,\n",
    "    slip=1.4)"
   ]
  },
  {
   "cell_type": "markdown",
   "metadata": {},
   "source": [
    "* Now that the source was defined, we use `plot_directivity` to visualize the radiation patterns. Let's observe the effects at 300 km distance:"
   ]
  },
  {
   "cell_type": "code",
   "execution_count": null,
   "metadata": {},
   "outputs": [],
   "source": [
    "resp = plot_directivity(\n",
    "    engine, rect_source, store_id,\n",
    "    # axes=axes,\n",
    "    distance=300*km,\n",
    "    dazi=5.,\n",
    "    component='R',\n",
    "    plot_mt='full',\n",
    "    show_phases=True,\n",
    "    phases={\n",
    "        'First': 'first{stored:begin}-10%',\n",
    "        'Last': 'last{stored:end}+20'\n",
    "    },\n",
    "    quantity='displacement',\n",
    "    envelope=False)"
   ]
  },
  {
   "cell_type": "markdown",
   "metadata": {},
   "source": [
    "What happens if you change some parameters? Do you see some difference in the plot, and which parameters make a bigger difference?\n",
    "\n",
    "Let's change the `envelope` parameter:"
   ]
  },
  {
   "cell_type": "code",
   "execution_count": null,
   "metadata": {},
   "outputs": [],
   "source": [
    "resp = plot_directivity(\n",
    "    engine, rect_source, store_id,\n",
    "    distance=300*km,\n",
    "    dazi=5.,\n",
    "    component='R',\n",
    "    plot_mt='full',\n",
    "    show_phases=True,\n",
    "    phases={\n",
    "        'First': 'first{stored:begin}-10%',\n",
    "        'Last': 'last{stored:end}+20'\n",
    "    },\n",
    "    quantity='displacement',\n",
    "    envelope=True)"
   ]
  },
  {
   "cell_type": "markdown",
   "metadata": {},
   "source": [
    "With `envelope` set to `True` we are able to see the envelope of the synthetic seismic traces, getting more emphasized directivity effects.\n",
    "\n",
    "<div class=\"alert alert-success\">\n",
    "<strong>Task:</strong>\n",
    "\n",
    " Choose another source type, change the parameters and labels of phases to create two directivity plots: \n",
    " <li> one for the synthetic traces \n",
    " <li> one for the envelope of those traces.\n",
    "</div>"
   ]
  },
  {
   "cell_type": "code",
   "execution_count": null,
   "metadata": {},
   "outputs": [],
   "source": []
  },
  {
   "cell_type": "markdown",
   "metadata": {},
   "source": [
    "## Summary\n",
    "\n",
    "* You can create a polar plot showing the source radiation effects of a rectangular source with **plot_directivity()**."
   ]
  }
 ],
 "metadata": {
  "kernelspec": {
   "display_name": "Python 3 (ipykernel)",
   "language": "python",
   "name": "python3"
  },
  "language_info": {
   "codemirror_mode": {
    "name": "ipython",
    "version": 3
   },
   "file_extension": ".py",
   "mimetype": "text/x-python",
   "name": "python",
   "nbconvert_exporter": "python",
   "pygments_lexer": "ipython3",
   "version": "3.7.13"
  }
 },
 "nbformat": 4,
 "nbformat_minor": 4
}
