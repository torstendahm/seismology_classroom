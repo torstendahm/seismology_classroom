{
 "cells": [
  {
   "cell_type": "markdown",
   "metadata": {},
   "source": [
    "# Creating synthetic seismograms from a point source\n",
    "\n",
    "**Table of Contents:**\n",
    "\n",
    "* How to calculate synthetic seismograms from a point source\n",
    "\n",
    "https://pyrocko.org/docs/current/library/examples/gf_forward.html#calculate-synthetic-seismograms-from-a-local-gf-store\n",
    "\n",
    "From the previous module you have learned about the different source types and how to calculate and download a GF store. Now, we can proceed to calculate synthetic seismograms defining a source model. Let's try a double couple point source mechanism. "
   ]
  },
  {
   "cell_type": "markdown",
   "metadata": {},
   "source": [
    "**Importing modules and packages**"
   ]
  },
  {
   "cell_type": "code",
   "execution_count": 45,
   "metadata": {},
   "outputs": [],
   "source": [
    "import os\n",
    "\n",
    "from pyrocko.gf import LocalEngine, Target, DCSource, ws\n",
    "from pyrocko import trace\n",
    "from pyrocko.gui.marker import PhaseMarker"
   ]
  },
  {
   "cell_type": "markdown",
   "metadata": {},
   "source": [
    "**Green's functions**\n",
    "\n",
    "We need to download a GF store to be used."
   ]
  },
  {
   "cell_type": "code",
   "execution_count": 54,
   "metadata": {},
   "outputs": [],
   "source": [
    "# The store we are going extract data from.\n",
    "store_id = 'iceland_reg_v2'\n",
    "\n",
    "# First, download a Greens Functions store. If you already have one that you\n",
    "# would like to use, you can skip this step and point the *store_superdirs* in\n",
    "# the next step to that directory.\n",
    "\n",
    "if not os.path.exists(store_id):\n",
    "    ws.download_gf_store(site='kinherd', store_id=store_id)\n",
    "    \n",
    "# We need a pyrocko.gf.Engine object which provides us with the traces\n",
    "# extracted from the store. In this case we are going to use a local\n",
    "# engine since we are going to query a local store.\n",
    "engine = LocalEngine(store_superdirs=['.'])    "
   ]
  },
  {
   "cell_type": "markdown",
   "metadata": {},
   "source": [
    "**Target configuration**\n",
    "\n",
    "Here we define the recording devices. This example refers to one station with a sensor of 3-components."
   ]
  },
  {
   "cell_type": "code",
   "execution_count": 47,
   "metadata": {},
   "outputs": [],
   "source": [
    "# Define a list of pyrocko.gf.Target objects.\n",
    "channel_codes = 'ENZ'\n",
    "targets = [Target(lat=10., lon=10., store_id=store_id, codes=('', 'STA', '', channel_code))\n",
    "                  for channel_code in channel_codes]"
   ]
  },
  {
   "cell_type": "markdown",
   "metadata": {},
   "source": [
    "**Source model definition**\n",
    "\n",
    "Here we indicate the source model to be considered. In Pyrocko you can find the sources:\n",
    "* Source\n",
    "* SourceWithMagnitude\n",
    "* SourceWithDerivedMagnitude\n",
    "* ExplosionSource\n",
    "* RectangularExplosionSource\n",
    "* DCSource\n",
    "* CLVDSource\n",
    "* VLVDSource\n",
    "* MTSource\n",
    "* RectangularSource\n",
    "* PseudoDynamicRupture\n",
    "* DoubleDCSource\n",
    "* RingfaultSource\n",
    "* CombiSource\n",
    "* SFSource\n",
    "* PorePressurePointSource\n",
    "* PorePressureLineSource\n",
    "\n",
    "If you want to explore the code details of each source type you can go through https://pyrocko.org/docs/current/_modules/pyrocko/gf/seismosizer.html#Source.\n",
    "\n",
    "For this example we will use the double couple source representation. The parameters needed for this source definition are:"
   ]
  },
  {
   "cell_type": "code",
   "execution_count": 48,
   "metadata": {},
   "outputs": [],
   "source": [
    "source_dc = DCSource(\n",
    "    lat=11.,\n",
    "    lon=11.,\n",
    "    depth=10000.,\n",
    "    strike=0.,\n",
    "    dip=40.,\n",
    "    rake=90.,\n",
    "    magnitude=6.)"
   ]
  },
  {
   "cell_type": "markdown",
   "metadata": {},
   "source": [
    "After defining the source and targets, the data can be processed:"
   ]
  },
  {
   "cell_type": "code",
   "execution_count": 49,
   "metadata": {},
   "outputs": [],
   "source": [
    "# This return a pyrocko.gf.Reponse object.\n",
    "response = engine.process(source_dc, targets)"
   ]
  },
  {
   "cell_type": "markdown",
   "metadata": {},
   "source": [
    "Now we can get the requested traces:"
   ]
  },
  {
   "cell_type": "code",
   "execution_count": 50,
   "metadata": {},
   "outputs": [],
   "source": [
    "synthetic_traces = response.pyrocko_traces()"
   ]
  },
  {
   "cell_type": "markdown",
   "metadata": {},
   "source": [
    "**Visualization with phase arrival picks**\n",
    "\n",
    "To extract interpolated travel times of the phases defined in the GF store's config file, you can do:"
   ]
  },
  {
   "cell_type": "code",
   "execution_count": 51,
   "metadata": {},
   "outputs": [],
   "source": [
    "store = engine.get_store(store_id)\n",
    "\n",
    "markers = []\n",
    "for t in targets:\n",
    "    dist = t.distance_to(source_dc)\n",
    "    depth = source_dc.depth\n",
    "    arrival_time = store.t('begin', (depth, dist))\n",
    "    m = PhaseMarker(tmin=arrival_time,\n",
    "                    tmax=arrival_time,\n",
    "                    phasename='P',\n",
    "                    nslc_ids=(t.codes,))\n",
    "    markers.append(m)"
   ]
  },
  {
   "cell_type": "markdown",
   "metadata": {},
   "source": [
    "We can use Snuffler to visualize those traces together with the phase arrivals:"
   ]
  },
  {
   "cell_type": "code",
   "execution_count": 53,
   "metadata": {},
   "outputs": [
    {
     "name": "stderr",
     "output_type": "stream",
     "text": [
      "cc.py:pyrocko.gui.snuffling     - ERROR    - Traceback (most recent call last):\n",
      "  File \"/usr/local/lib/python3.6/dist-packages/pyrocko/gui/snuffling.py\", line 1824, in load_if_needed\n",
      "    self._module = __import__(self._name)\n",
      "  File \"/home/carrillo/.snufflings/ahfullgreen.py\", line 8, in <module>\n",
      "    from pyrocko.ahfullgreen import add_seismogram, Gauss, Impulse\n",
      "ImportError: cannot import name 'Gauss'\n",
      "\n",
      "cc.py:pyrocko.gui.pile_viewer   - WARNING  - Snuffling module \"/home/carrillo/.snufflings/ahfullgreen.py\" is broken\n",
      "cc.py:pyrocko.gui.snuffling.okada - WARNING  - \n",
      " /home/carrillo/.snufflings/okada/libokada.so: cannot open shared object file: No such file or directory\n",
      "--> run 'make' in okada snuffling directory <--\n"
     ]
    }
   ],
   "source": [
    "trace.snuffle(synthetic_traces, markers=markers)"
   ]
  },
  {
   "cell_type": "code",
   "execution_count": null,
   "metadata": {},
   "outputs": [],
   "source": []
  }
 ],
 "metadata": {
  "kernelspec": {
   "display_name": "Python 3",
   "language": "python",
   "name": "python3"
  },
  "language_info": {
   "codemirror_mode": {
    "name": "ipython",
    "version": 3
   },
   "file_extension": ".py",
   "mimetype": "text/x-python",
   "name": "python",
   "nbconvert_exporter": "python",
   "pygments_lexer": "ipython3",
   "version": "3.6.9"
  }
 },
 "nbformat": 4,
 "nbformat_minor": 2
}
