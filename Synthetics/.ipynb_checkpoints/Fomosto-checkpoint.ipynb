{
 "cells": [
  {
   "cell_type": "markdown",
   "metadata": {},
   "source": [
    "# Fomosto\n",
    "\n",
    "what is fomosto, what can we do with it\n",
    "\n",
    "https://pyrocko.org/docs/current/apps/fomosto/tutorial.html\n",
    "\n",
    "## Downloading pre-calculated Green's functions\n",
    "\n",
    "`fomosto download kinherd <store_id>`\n",
    "\n",
    "https://greens-mill.pyrocko.org"
   ]
  },
  {
   "cell_type": "markdown",
   "metadata": {},
   "source": [
    "## Creation of Green's functions\n",
    "\n",
    "`fomosto`"
   ]
  },
  {
   "cell_type": "markdown",
   "metadata": {},
   "source": [
    "Four modelling codes, including Python interfaces required for Fomosto are hosted in the Pyrocko code repository:\n",
    "\n",
    "* https://git.pyrocko.org/pyrocko/fomosto-qssp\n",
    "\n",
    "* https://git.pyrocko.org/pyrocko/fomosto-qseis\n",
    "\n",
    "* https://git.pyrocko.org/pyrocko/fomosto-qseis2d\n",
    "\n",
    "* https://git.pyrocko.org/pyrocko/fomosto-psgrn-pscmp\n"
   ]
  },
  {
   "cell_type": "markdown",
   "metadata": {},
   "source": [
    "Installation example for qseis\n",
    "\n",
    "`autoreconf -i`   # only if 'configure' script is missing \n",
    "\n",
    "`./configure`\n",
    "\n",
    "`make`\n",
    "\n",
    "`sudo make install`"
   ]
  },
  {
   "cell_type": "markdown",
   "metadata": {},
   "source": [
    "`fomosto init qseis.2006a my_first_gfs`"
   ]
  },
  {
   "cell_type": "markdown",
   "metadata": {},
   "source": [
    "`cd my_first_gfs`\n",
    "\n",
    "`fomosto ttt`\n",
    "...\n",
    "\n",
    "`ls phases/`"
   ]
  },
  {
   "cell_type": "markdown",
   "metadata": {},
   "source": [
    "`fomosto build`"
   ]
  },
  {
   "cell_type": "markdown",
   "metadata": {},
   "source": [
    "`fomosto ttt --force`\n",
    "\n",
    "`fomosto build --force`"
   ]
  },
  {
   "cell_type": "markdown",
   "metadata": {},
   "source": [
    "`fomosto view --extract='20k,@10'`"
   ]
  },
  {
   "cell_type": "markdown",
   "metadata": {},
   "source": [
    "`fomosto view --extract='20k,@10' path/to/my_first_gfs`"
   ]
  },
  {
   "cell_type": "markdown",
   "metadata": {},
   "source": [
    "`fomosto view qseis-test qssp-test --extract='20k,@5'`"
   ]
  },
  {
   "cell_type": "markdown",
   "metadata": {},
   "source": [
    "`fomosto report`"
   ]
  },
  {
   "cell_type": "markdown",
   "metadata": {},
   "source": [
    "`fomosto report single ~/min_config`"
   ]
  },
  {
   "cell_type": "markdown",
   "metadata": {},
   "source": [
    "`fomosto report single ~/min_config --output=~/min_config_full`"
   ]
  },
  {
   "cell_type": "markdown",
   "metadata": {},
   "source": [
    "`fomosto decimate 2`\n",
    "\n",
    "`fomosto decimate 4`\n",
    "\n",
    "`fomosto view . decimated/2 decimated/4 --extract='@2,@5'`\n",
    "\n",
    "`fomosto init redeploy my_first_gfs derived`\n",
    "\n",
    "`fomosto redeploy my_first_gfs derived`"
   ]
  },
  {
   "cell_type": "code",
   "execution_count": null,
   "metadata": {},
   "outputs": [],
   "source": []
  }
 ],
 "metadata": {
  "kernelspec": {
   "display_name": "Python 3 (ipykernel)",
   "language": "python",
   "name": "python3"
  },
  "language_info": {
   "codemirror_mode": {
    "name": "ipython",
    "version": 3
   },
   "file_extension": ".py",
   "mimetype": "text/x-python",
   "name": "python",
   "nbconvert_exporter": "python",
   "pygments_lexer": "ipython3",
   "version": "3.8.1"
  }
 },
 "nbformat": 4,
 "nbformat_minor": 2
}
