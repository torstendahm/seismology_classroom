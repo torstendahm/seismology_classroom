{
 "cells": [
  {
   "cell_type": "markdown",
   "metadata": {},
   "source": [
    "# Source radiation plot\n",
    "\n",
    "## Introduction\n",
    "\n",
    "**Table of Contents:**\n",
    "\n",
    "* Directivity effects plot"
   ]
  },
  {
   "cell_type": "markdown",
   "metadata": {},
   "source": [
    "## Directivity effects\n"
   ]
  },
  {
   "cell_type": "markdown",
   "metadata": {},
   "source": [
    "To plot directivity and radiation characteristics of source models (point or finite), we can use **plot_directivity()** (https://pyrocko.org/docs/current/library/reference/plot/plot.html#pyrocko.plot.directivity.plot_directivity)."
   ]
  },
  {
   "cell_type": "code",
   "execution_count": null,
   "metadata": {},
   "outputs": [],
   "source": [
    "import os\n",
    "from pyrocko.plot.directivity import plot_directivity\n",
    "from pyrocko.gf import LocalEngine, RectangularSource, ws\n",
    "\n",
    "km = 1e3\n",
    "# The store we are going extract data from:\n",
    "store_id = 'iceland_reg_v2'\n",
    "\n",
    "# First, download a Greens Functions store. If you already have one that you\n",
    "# would like to use, you can skip this step and point the *store_superdirs* in\n",
    "# the next step to that directory.\n",
    "\n",
    "if not os.path.exists(store_id):\n",
    "    ws.download_gf_store(site='kinherd', store_id=store_id)\n",
    "\n",
    "# We need a pyrocko.gf.Engine object which provides us with the traces\n",
    "# extracted from the store.\n",
    "engine = LocalEngine(store_superdirs=['.'])\n",
    "\n",
    "# Create a RectangularSource with uniform fit.\n",
    "rect_source = RectangularSource(\n",
    "    depth=1.6*km,\n",
    "    strike=240.,\n",
    "    dip=76.6,\n",
    "    rake=-.4,\n",
    "    anchor='top',\n",
    "    nucleation_x=-.57,\n",
    "    nucleation_y=-.59,\n",
    "    velocity=2070.,\n",
    "    length=27*km,\n",
    "    width=9.4*km,\n",
    "    slip=1.4)\n",
    "\n",
    "resp = plot_directivity(\n",
    "    engine, rect_source, store_id,\n",
    "    # axes=axes,\n",
    "    distance=300*km,\n",
    "    dazi=5.,\n",
    "    component='R',\n",
    "    plot_mt='full',\n",
    "    show_phases=True,\n",
    "    phases={\n",
    "        'First': 'first{stored:begin}-10%',\n",
    "        'Last': 'last{stored:end}+20'\n",
    "    },\n",
    "    quantity='displacement',\n",
    "    envelope=False)"
   ]
  },
  {
   "cell_type": "markdown",
   "metadata": {},
   "source": [
    "## Summary\n",
    "\n",
    "* "
   ]
  }
 ],
 "metadata": {
  "kernelspec": {
   "display_name": "Python 3",
   "language": "python",
   "name": "python3"
  },
  "language_info": {
   "codemirror_mode": {
    "name": "ipython",
    "version": 3
   },
   "file_extension": ".py",
   "mimetype": "text/x-python",
   "name": "python",
   "nbconvert_exporter": "python",
   "pygments_lexer": "ipython3",
   "version": "3.6.9"
  }
 },
 "nbformat": 4,
 "nbformat_minor": 2
}
