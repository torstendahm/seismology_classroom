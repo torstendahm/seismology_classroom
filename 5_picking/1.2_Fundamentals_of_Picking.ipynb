{
 "cells": [
  {
   "cell_type": "markdown",
   "metadata": {},
   "source": [
    "# Basics of picking\n",
    "\n",
    "Within the introduction we introduced the different wave phases and some of their principle characteristics (really basic). In seismology often arrivals of P- and/or S-waves are of interest. These are the times, the first signal of phase arrives at the seismic station. But how can we decide, when the certain phase arrives, so, how do we pick?\n",
    "\n",
    "To understand the principles of picking on filtered, perhaps noisy data we will step back and start with an easy synthetic example, a sinus signal:"
   ]
  },
  {
   "cell_type": "code",
   "execution_count": null,
   "metadata": {},
   "outputs": [],
   "source": [
    "# Import of packages\n",
    "import numpy as num\n",
    "from scipy import signal as ssignal\n",
    "\n",
    "import matplotlib.pyplot as plt"
   ]
  },
  {
   "cell_type": "code",
   "execution_count": null,
   "metadata": {},
   "outputs": [],
   "source": [
    "# Create time array\n",
    "time = num.arange(200)\n",
    "\n",
    "# Generation of simple half sinuisoidal signal centered at 25 s\n",
    "signal = num.zeros(time.shape[0])\n",
    "signal[25:40] = num.sin(num.linspace(0, num.pi, 15))\n",
    "\n",
    "# Plot the generate signal\n",
    "fig, axes = plt.subplots(figsize=(16, 6))\n",
    "axes.plot(time, signal)\n",
    "axes.grid()\n",
    "axes.set_xlabel('Time [s]')\n",
    "axes.set_ylabel('Amplitude')\n",
    "plt.show();"
   ]
  },
  {
   "cell_type": "markdown",
   "metadata": {},
   "source": [
    "## Picking on unfiltered and noise free signals\n",
    "\n",
    "The generated signal was recorded for 50 seconds and shows a half sinusoidal after 25 s. If we would pick the onset of this assuming it to be a seismic phase of interest, it would be at 25 s. "
   ]
  },
  {
   "cell_type": "code",
   "execution_count": null,
   "metadata": {},
   "outputs": [],
   "source": [
    "fig, axes = plt.subplots(figsize=(16, 6))\n",
    "\n",
    "# Plot the generated signal\n",
    "axes.plot(time, signal)\n",
    "\n",
    "# Pick\n",
    "axes.axvline(25, color='darkred')\n",
    "\n",
    "axes.grid()\n",
    "axes.set_xlabel('Time [s]')\n",
    "axes.set_ylabel('Amplitude')\n",
    "plt.show();"
   ]
  },
  {
   "cell_type": "markdown",
   "metadata": {},
   "source": [
    "## Picking on filtered and noise free signals\n",
    "\n",
    "In this step we will now apply different simple filtering techniques and check their effect on the waveforms and the corresponding picks.\n",
    "The two filtering techniques applied are methods shipped with `scipy`: [lfilter](https://docs.scipy.org/doc/scipy/reference/generated/scipy.signal.lfilter.html#scipy.signal.lfilter) and [filtfilt](https://docs.scipy.org/doc/scipy/reference/generated/scipy.signal.filtfilt.html#scipy.signal.filtfilt). We will apply both filters to our input signal and first compare the resulting signals.\n",
    "\n",
    "Let's filter below 0.5 Hz using a 3<sup>rd</sup> order butterworth filter:"
   ]
  },
  {
   "cell_type": "code",
   "execution_count": null,
   "metadata": {},
   "outputs": [],
   "source": [
    "# Obtain filter coefficients for a simple digital low pass butterworth filter\n",
    "b, a = ssignal.butter(3, 0.25, analog=False)\n",
    "\n",
    "# filter using lfilter\n",
    "signal_lfilter = ssignal.lfilter(b, a, signal)\n",
    "\n",
    "# filter using lfilter\n",
    "signal_filtfilt = ssignal.filtfilt(b, a, signal)\n",
    "\n",
    "# Plot\n",
    "fig, axes = plt.subplots(figsize=(16, 6))\n",
    "\n",
    "# Plot the generated signal\n",
    "axes.plot(time, signal, linestyle='-', label='original')\n",
    "axes.plot(time, signal_lfilter, linestyle='--', label='lfilter')\n",
    "axes.plot(time, signal_filtfilt, linestyle=':', label='filtfilt')\n",
    "\n",
    "axes.grid()\n",
    "axes.set_xlabel('Time [s]')\n",
    "axes.set_ylabel('Amplitude')\n",
    "axes.legend(loc='best')\n",
    "plt.show();"
   ]
  },
  {
   "cell_type": "markdown",
   "metadata": {},
   "source": [
    "<div class=\"alert alert-success\">\n",
    "    <p style=\"font-weight: bold; font-size: 150%\">Task 3:</p>\n",
    "    <ol>\n",
    "        <li>What are the differences between the raw and filtered data? Are there differences between the different filters (hint causality vs. acausality)? Why?\n",
    "</li>\n",
    "        <li>When would you pick the arrivals for the different signals? Plot a vertical line within the plot above at the chosen time.</li>\n",
    "    </ol>\n",
    "</div>"
   ]
  },
  {
   "cell_type": "markdown",
   "metadata": {},
   "source": [
    "## Picking on filtered and noise free signals - Order of the filter\n",
    "\n",
    "Not just the choice of the filter is important, but also its order. In the previous example we have chosen a 3<sup>rd</sup> order filter. But what would happen to our signal, when we use different orders like 1, 3 or even 10? Let's try:"
   ]
  },
  {
   "cell_type": "code",
   "execution_count": null,
   "metadata": {},
   "outputs": [],
   "source": [
    "# Plot\n",
    "fig, axes = plt.subplots(figsize=(16, 6))\n",
    "\n",
    "# Plot the generated signal\n",
    "axes.plot(time, signal, linestyle='-', label='original')\n",
    "\n",
    "for order in (1, 3, 10):\n",
    "    # Obtain filter coefficients for a simple digital low pass butterworth filter\n",
    "    b, a = ssignal.butter(order, 0.25, analog=False)\n",
    "\n",
    "    # filter using lfilter\n",
    "    signal_filtfilt = ssignal.filtfilt(b, a, signal)\n",
    "\n",
    "    axes.plot(time, signal_filtfilt, linestyle='--', label='{}. order'.format(order))\n",
    "\n",
    "axes.grid()\n",
    "axes.set_xlabel('Time [s]')\n",
    "axes.set_ylabel('Amplitude')\n",
    "axes.legend(loc='best')\n",
    "plt.show();"
   ]
  },
  {
   "cell_type": "markdown",
   "metadata": {},
   "source": [
    "## Picking on filtered and noisy signals\n",
    "\n",
    "Real seismic records do contain noise - from wind, the ocean waves, tides, human activity... In order to generate a more realistic example, we will now add noise and check the resulting filtered trace using an acausal 3<sup>rd</sup> butterworth filter. We first generate a signal using our noise free input signal and some random noise:"
   ]
  },
  {
   "cell_type": "code",
   "execution_count": null,
   "metadata": {},
   "outputs": [],
   "source": [
    "# Generate noisy signal\n",
    "noise = num.random.normal(\n",
    "    0.,  # Mean of the noise\n",
    "    num.abs(signal).max() / 10.,  # Standard deviation of the noise\n",
    "    signal.shape[0])  # Length of the signal\n",
    "signal_noise = signal + noise\n"
   ]
  },
  {
   "cell_type": "markdown",
   "metadata": {},
   "source": [
    "Now we apply the filter to both signals:"
   ]
  },
  {
   "cell_type": "code",
   "execution_count": null,
   "metadata": {},
   "outputs": [],
   "source": [
    "# Filter\n",
    "b, a = ssignal.butter(order, 0.25, analog=False)\n",
    "\n",
    "# Filter the original signal\n",
    "signal_filtfilt = ssignal.filtfilt(b, a, signal)\n",
    "\n",
    "# Filter the noisy signal\n",
    "signal_noise_filtfilt = ssignal.filtfilt(b, a, signal_noise)"
   ]
  },
  {
   "cell_type": "markdown",
   "metadata": {},
   "source": [
    "Finally we can plot both input signals and resulting filtered traces:"
   ]
  },
  {
   "cell_type": "code",
   "execution_count": null,
   "metadata": {},
   "outputs": [],
   "source": [
    "# Plot\n",
    "fig, axes = plt.subplots(figsize=(16, 6))\n",
    "\n",
    "# Plot the original signal\n",
    "axes.plot(time, signal, color='b', linestyle='-', label='original')\n",
    "axes.plot(time, signal_filtfilt, color='b', linestyle='--', label='original filtfilt')\n",
    "\n",
    "# Plot the noisy signal\n",
    "axes.plot(time, signal_noise, color='r', linestyle='-', label='noisy')\n",
    "axes.plot(time, signal_noise_filtfilt, color='r', linestyle='--', label='noisy filtfilt')\n",
    "\n",
    "axes.grid()\n",
    "axes.set_xlabel('Time [s]')\n",
    "axes.set_ylabel('Amplitude')\n",
    "axes.legend(loc='best')\n",
    "plt.show();"
   ]
  },
  {
   "cell_type": "markdown",
   "metadata": {},
   "source": [
    "<div class=\"alert alert-warning\">\n",
    "    <b>Important to remember</b>\n",
    "    <br>\n",
    "    <ul>\n",
    "        <li>Filters might change the phase of the signal so distort the arrival time - causal vs. acausal filters</li>\n",
    "        <li>Filters generate artifacts and can smoothen signals</li>\n",
    "        <li>Noise interferes with the actual signal and can cause difficulties to pick in both raw and filtered waveforms\n",
    "    </ul>\n",
    "</div>\n",
    "\n",
    "## Teaser: Automatic picking\n",
    "\n",
    "Sooner or later you will propably face `automatic picking`. It embraces a large variety of different methodologies applied on seismic waveforms to obtain seismic phase arrivals in an automated manner. Yes, that sounds really tempting and actually automatic picking algorithms are very capable these days. Nevertheless tuning a picker requires profound knowledge of the seismic waveforms and its algorithm. So, lets build up the knowledge on the waveforms here by doing manual picking."
   ]
  },
  {
   "cell_type": "markdown",
   "metadata": {},
   "source": [
    "## And now: Picking\n",
    "\n",
    "So, now we know a bit of the different wave types and some of their characteristics. We also have gotten a first glimpse at different pitfalls on the way of picking.\n",
    "Hence we can now try to find the different phases within our recorded signal and pick the arrival times for each of them. \n",
    "\n",
    "<div class=\"alert alert-success\">\n",
    "    <p style=\"font-weight: bold; font-size: 150%\">Task 4:</p>\n",
    "    <ol>\n",
    "        <li>open the waveform signal in <em>Snuffler</em>.</li>\n",
    "        <li>Pick the arrivals for the different wave types above.</li>\n",
    "        <ul>\n",
    "            <li>Why have you choosen to pick at a certain time?</li>\n",
    "            <li>Why have you selected a certain wave type?</li>\n",
    "            <li>Is it easy to pick?</li>\n",
    "        </ul>\n",
    "        <li>Save the picks (Snuffler markers, if you search for help) for later usage.</li>\n",
    "    </ol>\n",
    "</div>\n",
    "\n",
    "<div class=\"alert alert-success\">\n",
    "    <p style=\"font-weight: bold; font-size: 150%\">Task 5 (no solutions given):</p>\n",
    "    <ol>\n",
    "        <li>Download available local and regional data via FDSN (check <em>Module 4 - Retrieving data</em>) for an arbitray earthquake in Germany within the past decade with a magnitude of larger 4.</li>\n",
    "        <li>Pick the arrivals for P and S-waves, if possible.</li>\n",
    "        <ul>\n",
    "            <li>Why have you choosen to pick at a certain time?</li>\n",
    "            <li>Why have you selected a certain wave type?</li>\n",
    "            <li>Is it easy to pick?</li>\n",
    "        </ul>\n",
    "        <li>Save the picks (Snuffler markers, if you search for help) for later usage.</li>\n",
    "    </ol>\n",
    "</div>\n"
   ]
  }
 ],
 "metadata": {
  "kernelspec": {
   "display_name": "Python 3",
   "language": "python",
   "name": "python3"
  },
  "language_info": {
   "codemirror_mode": {
    "name": "ipython",
    "version": 3
   },
   "file_extension": ".py",
   "mimetype": "text/x-python",
   "name": "python",
   "nbconvert_exporter": "python",
   "pygments_lexer": "ipython3",
   "version": "3.6.9"
  }
 },
 "nbformat": 4,
 "nbformat_minor": 4
}
