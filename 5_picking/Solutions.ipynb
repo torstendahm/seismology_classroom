{
 "cells": [
  {
   "cell_type": "markdown",
   "metadata": {},
   "source": [
    "# Solutions for tasks in notebooks\n",
    "\n",
    "In the following solutions are given, which give brief answers to the tasks within the notebooks. Solutions for Task 1 and 2 are rather short, so still discuss with your mates, why we have proposed these solutions (and if others could be better suited?)!\n",
    "\n",
    "## Task 1 -  Which coordinate systems and component would you prefer to use to analyse P, SH or Rayleigh waves?\n",
    "\n",
    "* P waves - LQT system using the L component\n",
    "* SH waves - LQT or ZRT system using the T component\n",
    "* Rayleigh waves - ZRT system using the Z and R components\n",
    "\n",
    "\n",
    "## Task 2 -  Which component would you prefer to use to analyse P, SH or Rayleigh waves if just ZNE records are available?\n",
    "\n",
    "* P waves - Z component (especially for distant and/or deep earthquakes)\n",
    "* SH waves - N or E component (depending on back azimuth from station to source)\n",
    "* Rayleigh waves - Z and either N or E component (depending on back azimuth from station to source)\n",
    "\n",
    "\n",
    "## Task 3 - Filter effects and their cause\n",
    "\n",
    "Both filtered traces show small undulations before and after the major signal, which are artefacts from filtering of a discrete finite-length time series. Furthermore it appears, that the signal is shifted to later times when using `lfilter`, while the pulse stays at the original time when using `filtfilt`.\n",
    "\n",
    "That is caused by the (a)causality of the filters. **Causal** filters, as `lfilter` move forward-in-time. The filtered value at any time is hence depending only on past and present input. Consequently **acausal** filters need both past, present and future input to compute the filtered value at any time. Acausal filters as `filtfilt` are zero-phase filter. They do not change the phase of the filtered signal. Thereby time shifts as caused by causal filters are diminished.\n",
    "\n",
    "## Task 4 - Picking of example data of the 2020 Samos earthquake:\n",
    "\n",
    "<img src='img/GE_KTHA_pick_20201030.svg'>\n"
   ]
  }
 ],
 "metadata": {
  "kernelspec": {
   "display_name": "Python 3",
   "language": "python",
   "name": "python3"
  },
  "language_info": {
   "codemirror_mode": {
    "name": "ipython",
    "version": 3
   },
   "file_extension": ".py",
   "mimetype": "text/x-python",
   "name": "python",
   "nbconvert_exporter": "python",
   "pygments_lexer": "ipython3",
   "version": "3.6.9"
  }
 },
 "nbformat": 4,
 "nbformat_minor": 4
}
