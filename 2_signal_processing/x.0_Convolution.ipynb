{
 "cells": [
  {
   "cell_type": "markdown",
   "id": "9d1c1e16",
   "metadata": {},
   "source": [
    "# Convolution\n",
    "\n",
    "https://en.wikipedia.org/wiki/Convolution#/media/File:Comparison_convolution_correlation.svg\n",
    "\n",
    "\n",
    "Difference correlation and covolution:\n",
    "https://en.wikipedia.org/wiki/Convolution#Visual_explanation"
   ]
  },
  {
   "cell_type": "code",
   "execution_count": null,
   "id": "dafa65ca",
   "metadata": {},
   "outputs": [],
   "source": [
    "import numpy as num\n",
    "import matplotlib.pyplot as plt\n",
    "from scipy import signal"
   ]
  },
  {
   "cell_type": "code",
   "execution_count": null,
   "id": "a0b72fb2",
   "metadata": {},
   "outputs": [],
   "source": [
    "xdata = num.linspace(0, 100, 100)\n",
    "ydata1 = num.zeros(len(xdata))\n",
    "ydata1[20:50] = 1\n",
    "\n",
    "ydata2 = num.zeros(len(xdata))\n",
    "ydata2[75:90] = 1\n",
    "\n",
    "filtered = signal.convolve(ydata2, ydata1, mode='same') / sum(ydata2)\n",
    "\n",
    "plt.figure()\n",
    "plt.plot(ydata1, label='Signal 1')\n",
    "plt.plot(ydata2, label='Signal 2')\n",
    "plt.legend()\n",
    "plt.show()\n",
    "\n",
    "plt.figure()\n",
    "plt.plot(filtered)\n",
    "plt.show()"
   ]
  },
  {
   "cell_type": "code",
   "execution_count": null,
   "id": "80ebd639",
   "metadata": {},
   "outputs": [],
   "source": [
    "xdata = num.linspace(0, 100, 100)\n",
    "ydata1 = num.zeros(len(xdata))\n",
    "ydata1[20:50] = 1\n",
    "\n",
    "ydata2 = signal.windows.hann(10)\n",
    "\n",
    "\n",
    "filtered = signal.convolve(ydata1, ydata2, mode='same') / sum(ydata2)\n",
    "\n",
    "plt.figure()\n",
    "plt.plot(ydata1, label='Signal 1')\n",
    "plt.plot(ydata2, label='Signal 2')\n",
    "plt.legend()\n",
    "plt.show()\n",
    "\n",
    "plt.figure()\n",
    "plt.plot(filtered)\n",
    "plt.show()"
   ]
  },
  {
   "cell_type": "code",
   "execution_count": null,
   "id": "118efa48",
   "metadata": {},
   "outputs": [],
   "source": [
    "xdata = num.linspace(0, 100, 100)\n",
    "ydata1 = num.zeros(len(xdata))\n",
    "ydata1[20] = 1\n",
    "ydata1[40] = 1\n",
    "ydata1[60] = 1\n",
    "ydata1[80] = 1\n",
    "\n",
    "ydata2 = signal.windows.hann(20) + 0.1 # to be numerical stable\n",
    "\n",
    "\n",
    "filtered = signal.convolve(ydata1, ydata2, mode='full') / sum(ydata2)\n",
    "\n",
    "plt.figure()\n",
    "plt.plot(ydata1, label='Signal 1')\n",
    "plt.plot(ydata2, label='Signal 2')\n",
    "plt.legend()\n",
    "plt.show()\n",
    "\n",
    "plt.figure()\n",
    "plt.plot(filtered)\n",
    "plt.show()"
   ]
  },
  {
   "cell_type": "markdown",
   "id": "d812532e",
   "metadata": {},
   "source": [
    "# Deconvolution"
   ]
  },
  {
   "cell_type": "code",
   "execution_count": null,
   "id": "5ffc2124",
   "metadata": {},
   "outputs": [],
   "source": [
    "print(ydata2 + 0.0001)\n",
    "\n",
    "recovered, remainder = signal.deconvolve(filtered, ydata2)\n",
    "\n",
    "\n",
    "plt.figure()\n",
    "plt.plot(recovered, label='Signal 1')\n",
    "plt.plot(remainder, label='Signal 2')\n",
    "plt.legend()\n",
    "plt.show()"
   ]
  },
  {
   "cell_type": "code",
   "execution_count": null,
   "id": "b61b84d1",
   "metadata": {},
   "outputs": [],
   "source": [
    "ydata = num.sin(2*num.pi * num.linspace(0, 10, 10000)) + 2\n",
    "\n",
    "pulse = num.sin(2*num.pi * num.linspace(0, 1., 1000)) + 2\n",
    "\n",
    "plt.figure()\n",
    "plt.plot(ydata)\n",
    "plt.plot(pulse)\n",
    "plt.show()\n",
    "\n",
    "recovered, remainder = signal.deconvolve(ydata, pulse)\n",
    "\n",
    "\n",
    "plt.figure()\n",
    "plt.plot(recovered, label='Recovered')\n",
    "plt.plot(remainder, label='Remaining')\n",
    "plt.legend()\n",
    "plt.show()"
   ]
  }
 ],
 "metadata": {
  "kernelspec": {
   "display_name": "Python 3",
   "language": "python",
   "name": "python3"
  },
  "language_info": {
   "codemirror_mode": {
    "name": "ipython",
    "version": 3
   },
   "file_extension": ".py",
   "mimetype": "text/x-python",
   "name": "python",
   "nbconvert_exporter": "python",
   "pygments_lexer": "ipython3",
   "version": "3.6.9"
  }
 },
 "nbformat": 4,
 "nbformat_minor": 5
}
