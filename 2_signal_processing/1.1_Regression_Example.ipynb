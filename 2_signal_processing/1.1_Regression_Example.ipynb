{
 "cells": [
  {
   "cell_type": "markdown",
   "metadata": {},
   "source": [
    "# Regression Examples\n",
    "    \n",
    "<div class =\"alert alert-success\">\n",
    "Task 1\n",
    "    \n",
    "Load the dataset 'data/regression_example1.csv'. Try to fit a (linear) regression line for the data set (xdata and ydata columns). Evaluate the quality with the R² score and see how good the regressions fits with the test set (xtest and ytest columns). \n",
    "\n",
    "</div>"
   ]
  }
 ],
 "metadata": {
  "kernelspec": {
   "display_name": "Python 3",
   "language": "python",
   "name": "python3"
  },
  "language_info": {
   "codemirror_mode": {
    "name": "ipython",
    "version": 3
   },
   "file_extension": ".py",
   "mimetype": "text/x-python",
   "name": "python",
   "nbconvert_exporter": "python",
   "pygments_lexer": "ipython3",
   "version": "3.8.10"
  }
 },
 "nbformat": 4,
 "nbformat_minor": 5
}
