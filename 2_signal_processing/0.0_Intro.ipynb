{
 "cells": [
  {
   "cell_type": "markdown",
   "id": "c2eab885",
   "metadata": {},
   "source": [
    "# Introduction to Signal Processing\n",
    "\n",
    "In this part we will learn about helpful and important tools for signal processing of mainly time-series. The goal is to learn the basic concepts, how to apply them and what possible use-cases exist.\n",
    "\n",
    "In detail we will learn about:\n",
    "- [Regression](1.0_Regression_Introduction.ipynb)\n",
    "- [Fourier](2.0_Fourier_Transform_Introduction.ipynb)\n",
    "- [Filtering](3.0_Filter_Introduction.ipynb)\n",
    "- [Correlation](4.0_Correlation_Introduction.ipynb)"
   ]
  }
 ],
 "metadata": {
  "kernelspec": {
   "display_name": "Python 3",
   "language": "python",
   "name": "python3"
  },
  "language_info": {
   "codemirror_mode": {
    "name": "ipython",
    "version": 3
   },
   "file_extension": ".py",
   "mimetype": "text/x-python",
   "name": "python",
   "nbconvert_exporter": "python",
   "pygments_lexer": "ipython3",
   "version": "3.6.9"
  }
 },
 "nbformat": 4,
 "nbformat_minor": 5
}
