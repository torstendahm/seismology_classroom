{
 "cells": [
  {
   "cell_type": "markdown",
   "metadata": {},
   "source": [
    "# 3.2 Event data handling in Pyrocko\n",
    "\n",
    "Pyrocko ships with multiple methods to load, plot, manipulate and save events. Within Pyrocko events are loaded into a list of single events.\n",
    "\n",
    "## Contents:\n",
    "* [Event loading and first inspection](#sec1)\n",
    "* [Event data manipulation](#sec2)\n",
    "* [Saving](#sec3)\n",
    "* [Summary](#sum)\n",
    "\n",
    "\n",
    "## Event loading and first inspection <a class=\"anchor\" id=\"sec1\"></a>\n",
    "\n",
    "Pyrockos loading function for event data is the `load_events` function for events stored in the Pyrocko internal format. As we are dealing with QuakeML here, we need to use a different approach ([example here](https://pyrocko.org/docs/current/library/examples/metadata.html#quakeml-import)):"
   ]
  },
  {
   "cell_type": "code",
   "execution_count": null,
   "metadata": {},
   "outputs": [],
   "source": [
    "# Import of the event loading function\n",
    "from pyrocko.io import quakeml"
   ]
  },
  {
   "cell_type": "markdown",
   "metadata": {},
   "source": [
    "With this one imported we are now able to load the event(s) stored in a QuakeML file:"
   ]
  },
  {
   "cell_type": "code",
   "execution_count": null,
   "metadata": {},
   "outputs": [],
   "source": [
    "# Loading of a QuakeML\n",
    "qml = quakeml.QuakeML.load_xml(filename='data/quakeml.xml')"
   ]
  },
  {
   "cell_type": "markdown",
   "metadata": {},
   "source": [
    "The loaded `qml` is not of much use within Pyrocko. Hence we should first convert it into the Pyrocko `Event` format:"
   ]
  },
  {
   "cell_type": "code",
   "execution_count": null,
   "metadata": {},
   "outputs": [],
   "source": [
    "# Convert qml to events\n",
    "events = qml.get_pyrocko_events()"
   ]
  },
  {
   "cell_type": "markdown",
   "metadata": {},
   "source": [
    "We can now print the event information or use the map within `Snuffler` for a first glimpse on the location (reminder, check the `Map` snuffling within `Snuffler`)."
   ]
  },
  {
   "cell_type": "code",
   "execution_count": null,
   "metadata": {},
   "outputs": [],
   "source": [
    "# Print events information\n",
    "print(events)\n",
    "\n",
    "# Load snuffler\n",
    "from pyrocko.trace import snuffle\n",
    "\n",
    "# Use Snuffler for event loading and plotting\n",
    "snuffle([], events=events)"
   ]
  },
  {
   "cell_type": "markdown",
   "metadata": {},
   "source": [
    "## Event data manipulation <a class=\"anchor\" id=\"sec2\"></a> \n",
    "\n",
    "Events are stored within the `event` list. Let's check for details of the first event in the list."
   ]
  },
  {
   "cell_type": "code",
   "execution_count": null,
   "metadata": {},
   "outputs": [],
   "source": [
    "# Extract event data\n",
    "event = events[0]\n",
    "\n",
    "# Print detailed information\n",
    "print(event)"
   ]
  },
  {
   "cell_type": "markdown",
   "metadata": {},
   "source": [
    "Let's now check for the focal mechanism of the earthquake, so plot it using the `beachball` plotting module of Pyrocko ([example here](https://pyrocko.org/docs/current/library/examples/plotting.html#plotting-beachballs-focal-mechanisms))"
   ]
  },
  {
   "cell_type": "code",
   "execution_count": null,
   "metadata": {},
   "outputs": [],
   "source": [
    "# Import of the plotting modules and (necessary) matplotlib\n",
    "import matplotlib.pyplot as plt\n",
    "from pyrocko.plot import beachball\n",
    "\n",
    "# Generation of figure\n",
    "fig, axes = plt.subplots()\n",
    "\n",
    "# Plotting of the beachball\n",
    "beachball.plot_beachball_mpl(\n",
    "    mt=event.moment_tensor,\n",
    "    axes=axes,\n",
    "    position=(1, 1),\n",
    "    size=1,\n",
    "    size_units='data')\n",
    "\n",
    "# Some plotting tweaks\n",
    "axes.set_xlim(0., 2.);\n",
    "axes.set_ylim(0., 2.);\n",
    "axes.set_axis_off();\n",
    "plt.axis('equal');"
   ]
  },
  {
   "cell_type": "markdown",
   "metadata": {},
   "source": [
    "Let's now assume an error in the event data, which results in a shifted location (latitude: 20.345). So we need to update the event:"
   ]
  },
  {
   "cell_type": "code",
   "execution_count": null,
   "metadata": {},
   "outputs": [],
   "source": [
    "# Update latitude of event\n",
    "event.lat = 20.345"
   ]
  },
  {
   "cell_type": "markdown",
   "metadata": {},
   "source": [
    "When now generating the map of the `event` and/or the `events` list, you can see, that the location is already updated. No further changes are required. "
   ]
  },
  {
   "cell_type": "code",
   "execution_count": null,
   "metadata": {},
   "outputs": [],
   "source": [
    "# Open snuffler with single event\n",
    "snuffle([], events=[event]);\n",
    "\n",
    "# Open snuffler with the events list\n",
    "snuffle([], events=events);"
   ]
  },
  {
   "cell_type": "markdown",
   "metadata": {},
   "source": [
    "## Saving <a class=\"anchor\" id=\"sec3\"></a>\n",
    "\n",
    "In order to save the manipulated `events` list we can make use of Pyrockos `dump_events` method. Similar to the other submodules will we add a `processed_` to the filename. Note, that it will result in a serialized YAML file, not a QuakeML."
   ]
  },
  {
   "cell_type": "code",
   "execution_count": null,
   "metadata": {},
   "outputs": [],
   "source": [
    "# Load writing function\n",
    "from pyrocko.model import dump_events\n",
    "\n",
    "# Dump events in Pyrockos internal format\n",
    "dump_events(events, filename='processed_events_pyrocko.yaml')"
   ]
  },
  {
   "cell_type": "markdown",
   "metadata": {},
   "source": [
    "## Summary <a class=\"anchor\" id=\"sum\"></a>\n",
    "\n",
    "This simple module covered the\n",
    "* loading of QuakeML files with **quakeml.QuakeML.load_xml**,\n",
    "* event format conversion into Pyrockos own format,\n",
    "* catalog plotting and inspection e.g. with **snuffler**,\n",
    "* simple event data manipulation, here of the latitude,\n",
    "* catalog writing into file with **dump_events**."
   ]
  }
 ],
 "metadata": {
  "kernelspec": {
   "display_name": "Python 3",
   "language": "python",
   "name": "python3"
  },
  "language_info": {
   "codemirror_mode": {
    "name": "ipython",
    "version": 3
   },
   "file_extension": ".py",
   "mimetype": "text/x-python",
   "name": "python",
   "nbconvert_exporter": "python",
   "pygments_lexer": "ipython3",
   "version": "3.6.9"
  }
 },
 "nbformat": 4,
 "nbformat_minor": 4
}
