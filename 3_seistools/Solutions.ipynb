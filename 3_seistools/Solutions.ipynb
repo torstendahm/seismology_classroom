{
 "cells": [
  {
   "cell_type": "markdown",
   "metadata": {},
   "source": [
    "# Solutions for tasks in notebooks\n",
    "\n",
    "In the following solutions (commented code snippets) are given, which solved the tasks within the notebooks. Never the less also other solutions are likely true. **Caution: The snippets will not work standalone but have to be coppied into the notebooks below the task box to run correctly.**\n",
    "\n",
    "## Task 1 - Spectrum of a seismic signal using *Obspy*"
   ]
  },
  {
   "cell_type": "code",
   "execution_count": null,
   "metadata": {},
   "outputs": [],
   "source": [
    "# Extract \n",
    "tr = st_cut[0]\n",
    "dt = 1. / tr.stats.sampling_rate\n",
    "numsamples = tr.stats.npts\n",
    "\n",
    "# Get fourier transformed data\n",
    "ft = num.fft.rfft(tr.data)\n",
    "\n",
    "# Extract amplitudes and frequencies\n",
    "amps = abs(ft) * dt\n",
    "freqs = num.fft.rfftfreq(numsamples, d=dt)\n",
    "\n",
    "# Plot\n",
    "fig, ax = plt.subplots(1, figsize=(16, 9))  # Generate a figure with one subplot and the given figure size\n",
    "ax.semilogx(freqs, amps)  # Plot\n",
    "ax.set_xlabel('Frequency [Hz]')\n",
    "ax.set_ylabel('Amplitude [..]')\n",
    "\n",
    "plt.show();"
   ]
  },
  {
   "cell_type": "markdown",
   "metadata": {},
   "source": [
    "## Task 2 - Spectrum of a seismic signal using *Pyrocko* and *Snuffler*\n",
    "\n",
    "Steps to accomplish this mission:\n",
    "* Start snuffler with the cut traces through adding the following code line into the notebook: \n",
    "```python\n",
    "snuffle(traces_cut)\n",
    "```\n",
    "* Open the `Snufflings` menu within the top menu bar of the opened `Snuffler` and click on `Plot Amplitude Spectrum (builtin)`. An extra panel will open at the bottom of the `Snuffler`, \n",
    "* Click on `Run` (bottom right) of the opened panel.\n",
    "* Done.\n",
    "\n",
    "<img src=\"img/solution_pyrocko_spectrum.svg\">\n",
    "\n",
    "## Task 3 - Spectrogram of a seismic signal using *Pyrocko* and *Snuffler*\n",
    "\n",
    "Steps to accomplish this mission:\n",
    "* Perform the download and installation steps shown in [git.pyrocko.org/pyrocko/contrib-snufflings#installation](https://git.pyrocko.org/pyrocko/contrib-snufflings#installation).\n",
    "* Start snuffler with the cut traces through adding the following code line into the notebook: \n",
    "```python\n",
    "snuffle(traces_cut)\n",
    "```\n",
    "* Open the `Snufflings` menu within the top menu bar of the opened `Snuffler` and click on `Spectrogram`. An extra panel will open at the bottom of the `Snuffler`, \n",
    "* Adjust the window length (e.g. 10 s)\n",
    "* Click on `Run` (bottom right) of the opened panel.\n",
    "* Done.\n",
    "\n",
    "<img src=\"img/solution_pyrocko_spectrogram.svg\">"
   ]
  }
 ],
 "metadata": {
  "kernelspec": {
   "display_name": "Python 3",
   "language": "python",
   "name": "python3"
  },
  "language_info": {
   "codemirror_mode": {
    "name": "ipython",
    "version": 3
   },
   "file_extension": ".py",
   "mimetype": "text/x-python",
   "name": "python",
   "nbconvert_exporter": "python",
   "pygments_lexer": "ipython3",
   "version": "3.6.9"
  }
 },
 "nbformat": 4,
 "nbformat_minor": 4
}
