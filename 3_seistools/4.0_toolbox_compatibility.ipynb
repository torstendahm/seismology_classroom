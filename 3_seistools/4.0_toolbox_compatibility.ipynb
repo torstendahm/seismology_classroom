{
 "cells": [
  {
   "cell_type": "markdown",
   "metadata": {},
   "source": [
    "## 4.0 Compatibility - *Obspy* and *Pyrocko* talk with each other\n",
    "\n",
    "From time to time you might be faced with the problem of converting an *Obspy* stream into *Pyrocko* traces to watch it in snuffler etc.. To do so easily, *Pyrocko* contains a compatibility module [`obspy_compat`](https://pyrocko.org/docs/current/library/reference/obspy_compat.html) ([examples here](https://pyrocko.org/docs/current/library/examples/obspy_compat.html)):\n",
    "\n",
    "You first need to load the module:"
   ]
  },
  {
   "cell_type": "code",
   "execution_count": null,
   "metadata": {},
   "outputs": [],
   "source": [
    "# Import of the compatibility module\n",
    "from pyrocko import obspy_compat"
   ]
  },
  {
   "cell_type": "markdown",
   "metadata": {},
   "source": [
    "... and then `plant` it. Thereby new methods are added onto e.g. the Obspy `Stream` or Pyrocko `traces`."
   ]
  },
  {
   "cell_type": "code",
   "execution_count": null,
   "metadata": {},
   "outputs": [],
   "source": [
    "# Start compatiblity mode\n",
    "obspy_compat.plant()"
   ]
  },
  {
   "cell_type": "markdown",
   "metadata": {},
   "source": [
    "To demonstrate the use of this, let's load some seismic data into an Obspy `Stream`."
   ]
  },
  {
   "cell_type": "code",
   "execution_count": null,
   "metadata": {},
   "outputs": [],
   "source": [
    "# Loading function\n",
    "from obspy import read\n",
    "\n",
    "# Load waveforms\n",
    "st = read('data/*.mseed')"
   ]
  },
  {
   "cell_type": "markdown",
   "metadata": {},
   "source": [
    "As `obspy_compat` was imported and `plant`ed, we can now use the `Snuffler` as a method of the `Stream`:"
   ]
  },
  {
   "cell_type": "code",
   "execution_count": null,
   "metadata": {},
   "outputs": [],
   "source": [
    "# Now snuffle the obspy stream \n",
    "st.snuffle();"
   ]
  },
  {
   "cell_type": "markdown",
   "metadata": {},
   "source": [
    "Furthermore data conversions are possbile e.g. from the `Stream` to Pyrocko `traces` (vice versa of course as well):"
   ]
  },
  {
   "cell_type": "code",
   "execution_count": null,
   "metadata": {},
   "outputs": [],
   "source": [
    "# Convert stream to pyrocko traces:\n",
    "traces_converted = st.to_pyrocko_traces()"
   ]
  },
  {
   "cell_type": "markdown",
   "metadata": {},
   "source": [
    "## Summary\n",
    "\n",
    "This small module showed, how \n",
    "* simple conversion functions between Obspy and Pyrocko are loaded using **obspy_compat**,\n",
    "* how a stream can be inspected then in Snuffler using **snuffle** and\n",
    "* how a stream is converted into Pyrocko traces with **to_pyrocko_traces**."
   ]
  }
 ],
 "metadata": {
  "kernelspec": {
   "display_name": "Python 3",
   "language": "python",
   "name": "python3"
  },
  "language_info": {
   "codemirror_mode": {
    "name": "ipython",
    "version": 3
   },
   "file_extension": ".py",
   "mimetype": "text/x-python",
   "name": "python",
   "nbconvert_exporter": "python",
   "pygments_lexer": "ipython3",
   "version": "3.6.9"
  }
 },
 "nbformat": 4,
 "nbformat_minor": 4
}
