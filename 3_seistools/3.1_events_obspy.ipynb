{
 "cells": [
  {
   "cell_type": "markdown",
   "metadata": {},
   "source": [
    "# 3.1 Event data handling in Obspy\n",
    "\n",
    "Obspy ships with multiple methods to load, plot, manipulate and save events. Within Obspy events are loaded into a [`Catalog`](https://docs.obspy.org/packages/autogen/obspy.core.event.Catalog.html).\n",
    "\n",
    "\n",
    "## Contents:\n",
    "* [Event loading and first inspection](#sec1)\n",
    "* [Event data manipulation](#sec2)\n",
    "* [Saving](#sec3)\n",
    "* [Summary](#sum)\n",
    "\n",
    "\n",
    "## Event loading and first inspection <a class=\"anchor\" id=\"sec1\"></a>\n",
    "\n",
    "Obspys loading function for event data is the `read_events` function:"
   ]
  },
  {
   "cell_type": "code",
   "execution_count": null,
   "metadata": {},
   "outputs": [],
   "source": [
    "# Import of the event loading function\n",
    "from obspy import read_events"
   ]
  },
  {
   "cell_type": "markdown",
   "metadata": {},
   "source": [
    "With this one imported we are now able to load the event(s) stored in a QuakeML file:"
   ]
  },
  {
   "cell_type": "code",
   "execution_count": null,
   "metadata": {},
   "outputs": [],
   "source": [
    "# Loading of a QuakeML\n",
    "catalog = read_events('data/quakeml.xml')"
   ]
  },
  {
   "cell_type": "markdown",
   "metadata": {},
   "source": [
    "More information on the loaded events is gained, when `print`ing the catalog. You can also use the method `plot` which draws the location(s) of the event(s) in the catalog onto a map:"
   ]
  },
  {
   "cell_type": "code",
   "execution_count": null,
   "metadata": {},
   "outputs": [],
   "source": [
    "# Print catalog information\n",
    "print(catalog)\n",
    "\n",
    "# Plot the event location\n",
    "catalog.plot();"
   ]
  },
  {
   "cell_type": "markdown",
   "metadata": {},
   "source": [
    "## Event data manipulation <a class=\"anchor\" id=\"sec2\"></a>\n",
    "\n",
    "Events are stored within the `catalog` in the `event` list. Let's check for details of the first event in the list."
   ]
  },
  {
   "cell_type": "code",
   "execution_count": null,
   "metadata": {},
   "outputs": [],
   "source": [
    "# Extract event data\n",
    "event = catalog.events[0]\n",
    "\n",
    "# Print detailed information\n",
    "print(event)"
   ]
  },
  {
   "cell_type": "markdown",
   "metadata": {},
   "source": [
    "Let's now check for the focal mechnanism of the earthquake, so plot it using the `plot` method of the event:"
   ]
  },
  {
   "cell_type": "code",
   "execution_count": null,
   "metadata": {},
   "outputs": [],
   "source": [
    "# Plotting of the beachball\n",
    "event.plot();"
   ]
  },
  {
   "cell_type": "markdown",
   "metadata": {},
   "source": [
    "Let's now assume an error in the event data, which results in a shifted location (latitude: 20.345). So we need to update the event. Therefore we need to manipulate the `origin` of the event:"
   ]
  },
  {
   "cell_type": "code",
   "execution_count": null,
   "metadata": {},
   "outputs": [],
   "source": [
    "# Extract origins of event\n",
    "origins = event.origins\n",
    "\n",
    "# Update latitude of first origin\n",
    "origins[0].latitude = 20.345"
   ]
  },
  {
   "cell_type": "markdown",
   "metadata": {},
   "source": [
    "When now plotting the `event` and/or the `catalog`, you can see, that the location is already updated. No further changes are required. "
   ]
  },
  {
   "cell_type": "code",
   "execution_count": null,
   "metadata": {},
   "outputs": [],
   "source": [
    "# event plot\n",
    "event.plot();\n",
    "\n",
    "# catalog plot\n",
    "catalog.plot();"
   ]
  },
  {
   "cell_type": "markdown",
   "metadata": {},
   "source": [
    "## Saving <a class=\"anchor\" id=\"sec3\"></a>\n",
    "\n",
    "In order to save the manipulated `catalog` we can make use of its `write` method. Similar to the other submodules will we add a `processed_` to the filename:"
   ]
  },
  {
   "cell_type": "code",
   "execution_count": null,
   "metadata": {},
   "outputs": [],
   "source": [
    "catalog.write('processed_quakeml.xml', format='QUAKEML')"
   ]
  },
  {
   "cell_type": "markdown",
   "metadata": {},
   "source": [
    "## Summary <a class=\"anchor\" id=\"sum\"></a>\n",
    "\n",
    "This simple module covered the\n",
    "* loading of QuakeML files with **read_events**,\n",
    "* catalog plotting and inspection e.g. with **plot**,\n",
    "* simple event data manipulation, here of the origin,\n",
    "* catalog writing into file with **write**."
   ]
  }
 ],
 "metadata": {
  "kernelspec": {
   "display_name": "Python 3",
   "language": "python",
   "name": "python3"
  },
  "language_info": {
   "codemirror_mode": {
    "name": "ipython",
    "version": 3
   },
   "file_extension": ".py",
   "mimetype": "text/x-python",
   "name": "python",
   "nbconvert_exporter": "python",
   "pygments_lexer": "ipython3",
   "version": "3.8.10"
  }
 },
 "nbformat": 4,
 "nbformat_minor": 4
}
