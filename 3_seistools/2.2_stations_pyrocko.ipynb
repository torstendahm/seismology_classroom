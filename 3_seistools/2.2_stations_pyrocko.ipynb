{
 "cells": [
  {
   "cell_type": "markdown",
   "metadata": {},
   "source": [
    "# 2.2 Station meta data handling in Pyrocko\n",
    "\n",
    "This chapter will show multiple steps of station meta data handling in *Pyrocko* as\n",
    "* StationXML loading\n",
    "* Station extraction\n",
    "* Station manipulation\n",
    "* Pyrockos internal station format\n",
    "* Control of the instrument response\n",
    "* Instrument response removal of recorded waveforms.\n",
    "\n",
    "## Contents\n",
    "* [Loading and first display](#sec1)\n",
    "* [Manually add a station](#sec2)\n",
    "* [Saving](#sec3)\n",
    "* [Instrument response and its removal](#sec4)\n",
    "* [Summary](#sum)\n",
    "\n",
    "\n",
    "## Loading and first display  <a class=\"anchor\" id=\"sec1\"></a>\n",
    "\n",
    "*Pyrocko* loads station meta data via `stationxml.load_xml` or using the `Squirrel."
   ]
  },
  {
   "cell_type": "code",
   "execution_count": null,
   "metadata": {},
   "outputs": [],
   "source": [
    "# Import of the loading function\n",
    "from pyrocko.io import stationxml\n",
    "from pyrocko.squirrel import Squirrel\n",
    "\n",
    "# Stations are loaded into Pyrocko StationXML \n",
    "sx = stationxml.load_xml(filename='data/stations.xml');\n",
    "\n",
    "# OR into the Squirrel\n",
    "sq = Squirrel()\n",
    "sq.add(['data/stations.xml']);"
   ]
  },
  {
   "cell_type": "markdown",
   "metadata": {},
   "source": [
    "For most cases *Pyrocko* works with its own data structure, in which stations are gather as a list of Pyrocko `Station`s. Conversion is done with `get_pyrocko_stations()`:"
   ]
  },
  {
   "cell_type": "code",
   "execution_count": null,
   "metadata": {},
   "outputs": [],
   "source": [
    "# Convert stations into Pyrocko format and print the station name\n",
    "stations = sx.get_pyrocko_stations()\n",
    "\n",
    "for s in stations:\n",
    "    print('{}.{:<4}: lat [deg] {:.4f}, lon [deg] {:.4f}'.format(s.network, s.station, s.lat, s.lon))\n",
    "    \n",
    "# OR one uses the Squirrel\n",
    "for s in sq.get_stations():\n",
    "    print('Squirrel: {}.{:<4}: lat [deg] {:.4f}, lon [deg] {:.4f}'.format(\n",
    "        s.codes.network, s.codes.station, s.lat, s.lon))"
   ]
  },
  {
   "cell_type": "markdown",
   "metadata": {},
   "source": [
    "Map plots allowing for an inspection of the station locations are easily done within `Snuffler`. Just start it with the stations and search for the snuffling `Map`:"
   ]
  },
  {
   "cell_type": "code",
   "execution_count": null,
   "metadata": {},
   "outputs": [],
   "source": [
    "# Load Snuffler\n",
    "from pyrocko.trace import snuffle\n",
    "\n",
    "# Start snuffler with the stations\n",
    "snuffle([], stations=stations)\n",
    "\n",
    "# OR snuffle the squirrel\n",
    "snuffle([], stations=sq.get_stations(model='pyrocko'))"
   ]
  },
  {
   "cell_type": "markdown",
   "metadata": {},
   "source": [
    "## Manually add a station  <a class=\"anchor\" id=\"sec2\"></a>\n",
    "\n",
    "Of course it is also possible to add stations manually, e.g. from your own campaign. So let's assume the hypothetical station `GE.RHD` installed on Rhodes (latitude: 36.415597 deg, longitude: 28.193360, elevation: 50 m). It has only a vertical component. We want to add this station to our station list assuming the network `GE`.\n",
    "Finally we want to convert it into stationxml format.\n",
    "\n",
    "First we need to import *Pyrockos*s `Station` and `Channel` class"
   ]
  },
  {
   "cell_type": "code",
   "execution_count": null,
   "metadata": {},
   "outputs": [],
   "source": [
    "from pyrocko.model import Station, Channel"
   ]
  },
  {
   "cell_type": "markdown",
   "metadata": {},
   "source": [
    "In the next step we will create a Station with the given location and code:"
   ]
  },
  {
   "cell_type": "code",
   "execution_count": null,
   "metadata": {},
   "outputs": [],
   "source": [
    "station = Station(\n",
    "    # Station code\n",
    "    network='GE',\n",
    "    station='RHD',\n",
    "    location='',\n",
    "    # Location\n",
    "    lat=36.415597,\n",
    "    lon=28.193360,\n",
    "    elevation=50.)"
   ]
  },
  {
   "cell_type": "markdown",
   "metadata": {},
   "source": [
    "Now we can add the channel information:"
   ]
  },
  {
   "cell_type": "code",
   "execution_count": null,
   "metadata": {},
   "outputs": [],
   "source": [
    "channel = Channel(\n",
    "    # Channel code\n",
    "    name='HHZ')\n",
    "\n",
    "# Add channel list to the station\n",
    "station.add_channel(channel)"
   ]
  },
  {
   "cell_type": "markdown",
   "metadata": {},
   "source": [
    "Finally we add the station to the list of stations and generate a stationxml object using `FDSNStationXML.from_pyrocko_stations`:"
   ]
  },
  {
   "cell_type": "code",
   "execution_count": null,
   "metadata": {},
   "outputs": [],
   "source": [
    "# Add station to station list\n",
    "stations.append(station)\n",
    "\n",
    "# Generate stationxml object\n",
    "sx_new = stationxml.FDSNStationXML.from_pyrocko_stations(stations)"
   ]
  },
  {
   "cell_type": "markdown",
   "metadata": {},
   "source": [
    "When now printing the inventory stats, the freshly added station `GE.RHD` appears:"
   ]
  },
  {
   "cell_type": "code",
   "execution_count": null,
   "metadata": {},
   "outputs": [],
   "source": [
    "print(sx_new)"
   ]
  },
  {
   "cell_type": "markdown",
   "metadata": {},
   "source": [
    "## Saving  <a class=\"anchor\" id=\"sec3\"></a>\n",
    "\n",
    "As we have added the new station, we should also save the new StationXML. The stationxml object allows to do so easily with the `dump_xml` method:"
   ]
  },
  {
   "cell_type": "code",
   "execution_count": null,
   "metadata": {},
   "outputs": [],
   "source": [
    "sx_new.dump_xml(filename='processed_stations.xml')"
   ]
  },
  {
   "cell_type": "markdown",
   "metadata": {},
   "source": [
    "Note: We can also save the stations in Pyrockos YAML-serialized format using `dump_stations`:"
   ]
  },
  {
   "cell_type": "code",
   "execution_count": null,
   "metadata": {},
   "outputs": [],
   "source": [
    "# Import of station saving function\n",
    "from pyrocko.model import dump_stations\n",
    "\n",
    "# Writing of station data into YAML file\n",
    "dump_stations([stations], filename='processed_stations_pyrocko.yaml')"
   ]
  },
  {
   "cell_type": "markdown",
   "metadata": {},
   "source": [
    "## Instrument response and its removal  <a class=\"anchor\" id=\"sec4\"></a>\n",
    "\n",
    "What can we use the station information for? Perhaps **restitution**, so the removal of the instrumental effects (its response) from the recorded raw waveforms. In our case let's try to remove the instrument response from the waveform record, we have seen in [1.2 Waveform handling with Pyrocko](1.2_waveforms_pyrocko.ipynb).\n",
    "\n",
    "So, first load the waveform into the Squirrel (following the [example](https://pyrocko.org/docs/current/library/examples/squirrel/cli_tool.html)):"
   ]
  },
  {
   "cell_type": "code",
   "execution_count": null,
   "metadata": {},
   "outputs": [],
   "source": [
    "# Choosing an individual trace (here the first) of the traces list extracted from squirrel\n",
    "sq.add(['data/data_GE.KTHA..HHZ_2020-10-30_11-30-26.mseed'])\n",
    "\n",
    "traces_squirrel = sq.get_waveforms(codes=[('GE', 'KTHA', '', 'HHZ')])\n",
    "tr = traces_squirrel[0].copy()"
   ]
  },
  {
   "cell_type": "markdown",
   "metadata": {},
   "source": [
    "Next we will extract the instrument response for the chosen waveform from the squirrel(here it is done for data conversion into displacement):"
   ]
  },
  {
   "cell_type": "code",
   "execution_count": null,
   "metadata": {},
   "outputs": [],
   "source": [
    "response = sq.get_response(tr).get_effective(\n",
    "    input_quantity='displacement')  # Get response to get 'displacement' signal"
   ]
  },
  {
   "cell_type": "markdown",
   "metadata": {},
   "source": [
    "For quick inspection the response can be printed or even plotted:"
   ]
  },
  {
   "cell_type": "code",
   "execution_count": null,
   "metadata": {},
   "outputs": [],
   "source": [
    "# Printing response information\n",
    "print(response)"
   ]
  },
  {
   "cell_type": "code",
   "execution_count": null,
   "metadata": {},
   "outputs": [],
   "source": [
    "# Import pyrocko response plotting routine\n",
    "from pyrocko.plot import response as response_plot\n",
    "\n",
    "# Plotting the frequency depending response\n",
    "response_plot.plot(\n",
    "    responses=[response],\n",
    "    fmin=0.001,\n",
    "    fmax=400.,\n",
    "    dpi=75.);"
   ]
  },
  {
   "cell_type": "markdown",
   "metadata": {},
   "source": [
    "So, as there is a instrumental response for our chosen trace we can now use it to obtain the ground displacements during the recorded earthquake for the trace:"
   ]
  },
  {
   "cell_type": "code",
   "execution_count": null,
   "metadata": {},
   "outputs": [],
   "source": [
    "tr_rest = tr.transfer(\n",
    "    0.,  # Rise time of the taper\n",
    "    transfer_function=response,\n",
    "    freqlimits=(0.001, 0.01, 10., 20.),\n",
    "    invert=True,\n",
    "    demean=True)"
   ]
  },
  {
   "cell_type": "markdown",
   "metadata": {},
   "source": [
    "Comparing to the old raw trace shows the differences:"
   ]
  },
  {
   "cell_type": "code",
   "execution_count": null,
   "metadata": {},
   "outputs": [],
   "source": [
    "# Assing location code to distinguish waveforms in snuffler plot\n",
    "tr_rest.set_location('DI')\n",
    "\n",
    "# Plot the ground displacement\n",
    "snuffle([tr_rest, tr]);"
   ]
  },
  {
   "cell_type": "markdown",
   "metadata": {},
   "source": [
    "## Summary <a class=\"anchor\" id=\"sum\"></a>\n",
    "\n",
    "Here we have covered simple techniques to \n",
    "* **load** StationXML into Pyrocko,\n",
    "* convert StationXML to Pyrocko Stations with **get_pyrocko_stations**\n",
    "* visualization techniques of station locations and responses,\n",
    "* simple manipulation steps to add a new station (**Station** and **Channel**),\n",
    "* writing of stations into a StationXML or Pyrocko YAML file,\n",
    "* removal of the instrumental response from raw waveforms."
   ]
  }
 ],
 "metadata": {
  "kernelspec": {
   "display_name": "Python 3",
   "language": "python",
   "name": "python3"
  },
  "language_info": {
   "codemirror_mode": {
    "name": "ipython",
    "version": 3
   },
   "file_extension": ".py",
   "mimetype": "text/x-python",
   "name": "python",
   "nbconvert_exporter": "python",
   "pygments_lexer": "ipython3",
   "version": "3.8.10"
  }
 },
 "nbformat": 4,
 "nbformat_minor": 4
}
