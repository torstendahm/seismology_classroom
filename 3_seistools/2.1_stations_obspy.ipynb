{
 "cells": [
  {
   "cell_type": "markdown",
   "metadata": {},
   "source": [
    "# 2.1 Station meta data handling in Obspy\n",
    "\n",
    "This chapter will show multiple steps of station meta data handling in *Obspy* as\n",
    "* StationXML loading\n",
    "* Station extraction\n",
    "* Station manipulation\n",
    "* Control of the instrument response\n",
    "* Instrument response removal of recorded waveforms.\n",
    "\n",
    "## Contents\n",
    "* [Loading and first display](#sec1)\n",
    "* [Manually add a station](#sec2)\n",
    "* [Saving](#sec3)\n",
    "* [Instrument response and its removal](#sec4)\n",
    "* [Summary](#sum)\n",
    "\n",
    "\n",
    "## Loading and first display  <a class=\"anchor\" id=\"sec1\"></a>\n",
    "\n",
    "*Obspy* uses inventories to store station meta data in. Loading is done via `read_inventory`."
   ]
  },
  {
   "cell_type": "code",
   "execution_count": null,
   "metadata": {
    "scrolled": true
   },
   "outputs": [],
   "source": [
    "# import loading function\n",
    "from obspy import read_inventory\n",
    "\n",
    "# Stations are loaded into an inventory\n",
    "inv = read_inventory('data/stations.xml')"
   ]
  },
  {
   "cell_type": "markdown",
   "metadata": {},
   "source": [
    "The inventory allows for some fast inspection of the station meta data e.g. using the built-in map `plot`:"
   ]
  },
  {
   "cell_type": "code",
   "execution_count": null,
   "metadata": {},
   "outputs": [],
   "source": [
    "# Plot the location of the stations.\n",
    "inv.plot();"
   ]
  },
  {
   "cell_type": "markdown",
   "metadata": {},
   "source": [
    "Furthermore you are also able to access the station meta data. Within the inventory there is a strict hierachy:\n",
    "1. Each inventory contains network(s)\n",
    "1. Each network contains station(s)\n",
    "1. Each station contains channel(s)\n",
    ".\n",
    ".\n",
    ".\n",
    "<figure>\n",
    "    <img src=\"https://docs.obspy.org/_images/Inventory.png\">\n",
    "    <caption>Fig.: Obspy inventory hierachy (image from the obspy documentation)</caption>\n",
    "</figure>\n",
    "\n",
    "Following the shown hierachy we can now iterate through each station within each loaded network and display some station parameters e.g. network and station code together with the station location:"
   ]
  },
  {
   "cell_type": "code",
   "execution_count": null,
   "metadata": {},
   "outputs": [],
   "source": [
    "# Extract station information\n",
    "for net in inv.networks:\n",
    "    for s in net:\n",
    "        print('{}.{:<4}: lat [deg] {:.4f}, lon [deg] {:.4f}'.format(net.code, s.code, s.latitude, s.longitude))\n",
    "        \n",
    "# OR simply\n",
    "print(inv)"
   ]
  },
  {
   "cell_type": "markdown",
   "metadata": {},
   "source": [
    "## Manually add a station  <a class=\"anchor\" id=\"sec2\"></a>\n",
    "\n",
    "Of course it is also possible to add stations manually, e.g. from your own campaign. So let's assume the hypothetical station `GE.RHD` installed on Rhodes (latitude: 36.415597 deg, longitude: 28.193360, elevation: 50 m). It has only a vertical component. We want to add this station to our inventory into the network `GE`.\n",
    "\n",
    "First we need to import *Obspy*s `Station` and `Channel` class"
   ]
  },
  {
   "cell_type": "code",
   "execution_count": null,
   "metadata": {},
   "outputs": [],
   "source": [
    "from obspy.core.inventory import Station, Channel"
   ]
  },
  {
   "cell_type": "markdown",
   "metadata": {},
   "source": [
    "In the next step we will create a Station with the given location and code:"
   ]
  },
  {
   "cell_type": "code",
   "execution_count": null,
   "metadata": {},
   "outputs": [],
   "source": [
    "station = Station(\n",
    "    code='RHD',  # Station code\n",
    "    # Location\n",
    "    latitude=36.415597,\n",
    "    longitude=28.193360, \n",
    "    elevation=50.)"
   ]
  },
  {
   "cell_type": "markdown",
   "metadata": {},
   "source": [
    "Now we can add the channel information:"
   ]
  },
  {
   "cell_type": "code",
   "execution_count": null,
   "metadata": {},
   "outputs": [],
   "source": [
    "channel = Channel(\n",
    "    # Channel code\n",
    "    code='HHZ',\n",
    "    location_code='',\n",
    "    # Channel location (might be different from station location)\n",
    "    latitude=36.415597,\n",
    "    longitude=28.193360,\n",
    "    elevation=50.,\n",
    "    # Local depth\n",
    "    depth=0.)\n",
    "\n",
    "# Add channel list to the station\n",
    "station.channels = [channel]"
   ]
  },
  {
   "cell_type": "markdown",
   "metadata": {},
   "source": [
    "Finally the station has to be added to the inventory:"
   ]
  },
  {
   "cell_type": "code",
   "execution_count": null,
   "metadata": {},
   "outputs": [],
   "source": [
    "inv.networks[0].stations.append(station)"
   ]
  },
  {
   "cell_type": "markdown",
   "metadata": {},
   "source": [
    "When now printing the inventory stats, the freshly added station `GE.RHD` appears:"
   ]
  },
  {
   "cell_type": "code",
   "execution_count": null,
   "metadata": {},
   "outputs": [],
   "source": [
    "print(inv)"
   ]
  },
  {
   "cell_type": "markdown",
   "metadata": {},
   "source": [
    "## Saving <a class=\"anchor\" id=\"sec3\"></a>\n",
    "\n",
    "As we have added the new station, we should also save the new inventory. The inventory allows to do so easily with the `write` method:"
   ]
  },
  {
   "cell_type": "code",
   "execution_count": null,
   "metadata": {},
   "outputs": [],
   "source": [
    "inv.write('processed_stations.xml', format='STATIONXML')"
   ]
  },
  {
   "cell_type": "markdown",
   "metadata": {},
   "source": [
    "## Instrument response and its removal <a class=\"anchor\" id=\"sec4\"></a>\n",
    "\n",
    "What can we use the station information for? Perhaps **restitution**, so the removal of the instrumental effects (its response) from the recorded raw waveforms. In our case let's try to remove the instrument response from the waveform record, we have seen in [1.1 Waveform handling with Obspy](1.1_waveforms_obspy.ipynb).\n",
    "\n",
    "So, first load the waveform into a stream:"
   ]
  },
  {
   "cell_type": "code",
   "execution_count": null,
   "metadata": {},
   "outputs": [],
   "source": [
    "from obspy import read\n",
    "\n",
    "st = read('data/data_GE.KTHA..HHZ_2020-10-30_11-30-26.mseed')"
   ]
  },
  {
   "cell_type": "markdown",
   "metadata": {},
   "source": [
    "Next we will extract the instrument response for the chosen waveform from our inventory:"
   ]
  },
  {
   "cell_type": "code",
   "execution_count": null,
   "metadata": {},
   "outputs": [],
   "source": [
    "# Extract response for the given trace id (Network, station, location and channel codes)\n",
    "# at the start time of the record.\n",
    "response = inv.get_response(\n",
    "    st[0].id,\n",
    "    st[0].stats.starttime)"
   ]
  },
  {
   "cell_type": "markdown",
   "metadata": {},
   "source": [
    "For quick inspection the response can be printed or even plotted:"
   ]
  },
  {
   "cell_type": "code",
   "execution_count": null,
   "metadata": {},
   "outputs": [],
   "source": [
    "# Printing response information\n",
    "print(response)\n",
    "\n",
    "# Plotting the frequency depending response\n",
    "response.plot(min_freq=0.001);"
   ]
  },
  {
   "cell_type": "markdown",
   "metadata": {},
   "source": [
    "So, as there is a instrumental response for our chosen trace within the inventory we can now use it to obtain the ground displacements during the recorded earthquake for the trace:"
   ]
  },
  {
   "cell_type": "code",
   "execution_count": null,
   "metadata": {
    "scrolled": true
   },
   "outputs": [],
   "source": [
    "# Choosing an individual trace (here the first) of the stream\n",
    "tr = st[0].copy()\n",
    "\n",
    "# Removing the response and extract trace in displacement\n",
    "tr.remove_response(\n",
    "    inventory=inv,  # Inventory to search the response in\n",
    "    output='DISP',  # Output will be ground displacement\n",
    "    pre_filt=[0.001, 0.01, 10., 20.])  # Filtering of the raw waveform"
   ]
  },
  {
   "cell_type": "markdown",
   "metadata": {},
   "source": [
    "Comparing to the old raw trace shows the differences:"
   ]
  },
  {
   "cell_type": "code",
   "execution_count": null,
   "metadata": {},
   "outputs": [],
   "source": [
    "from obspy import UTCDateTime\n",
    "\n",
    "starttime = UTCDateTime('2020-10-30T11:50:00')\n",
    "endtime = UTCDateTime('2020-10-30T12:05:00')\n",
    "\n",
    "st[0].plot(starttime=starttime, endtime=endtime, title='Raw');\n",
    "tr.plot(starttime=starttime, endtime=endtime, title='Displacement');"
   ]
  },
  {
   "cell_type": "markdown",
   "metadata": {},
   "source": [
    "## Summary <a class=\"anchor\" id=\"sum\"></a>\n",
    "\n",
    "Here we have covered simple techniques to \n",
    "* **load** StationXML into an Obspy inventory,\n",
    "* inventory visualization techniques of station locations and responses (**plot**),\n",
    "* simple manipulation steps to add a new station (**Station** and **Channel**),\n",
    "* writing of inventories into a file (**write**),\n",
    "* removal of the instrumental response from raw waveforms."
   ]
  }
 ],
 "metadata": {
  "kernelspec": {
   "display_name": "Python 3",
   "language": "python",
   "name": "python3"
  },
  "language_info": {
   "codemirror_mode": {
    "name": "ipython",
    "version": 3
   },
   "file_extension": ".py",
   "mimetype": "text/x-python",
   "name": "python",
   "nbconvert_exporter": "python",
   "pygments_lexer": "ipython3",
   "version": "3.8.10"
  }
 },
 "nbformat": 4,
 "nbformat_minor": 4
}
