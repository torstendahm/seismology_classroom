{
 "cells": [
  {
   "cell_type": "markdown",
   "metadata": {},
   "source": [
    "# 1.2 Waveform data handling in *Pyrocko*\n",
    "\n",
    "Pyrocko ships different techniques to load and to display data from simple waveform file reading to a scan of directories using the `squirrel`.\n",
    "\n",
    "This chapter shows, how to load, manipulate, process and/or save waveforms in *Pyrocko* (following multiple   [examples](https://pyrocko.org/docs/current/library/examples/)).\n",
    "\n",
    "It includes \n",
    "* loading,\n",
    "* plotting,\n",
    "* cutting,\n",
    "* filtering,\n",
    "* spectral plot and\n",
    "* saving\n",
    "\n",
    "of waveforms.\n",
    "\n",
    "\n",
    "## Contents:\n",
    "* [Loading and first inspection](#sec1)\n",
    "* [Simple processing steps - Cutting, Filtering, Spectral plot](#sec2)\n",
    "* [Saving](#sec3)\n",
    "* [Summary](#sum)\n",
    "\n",
    "\n",
    "## Loading and first inspection <a class=\"anchor\" id=\"sec1\"></a>\n",
    "\n",
    "*Pyrocko* waveforms are loaded directly using the `load` function. It will load waveforms from the path(s) into a `traces`. "
   ]
  },
  {
   "cell_type": "code",
   "execution_count": null,
   "metadata": {},
   "outputs": [],
   "source": [
    "# Pyrockos' simple loading function\n",
    "from pyrocko.io import load\n",
    "\n",
    "# This is a list of traces containing the waveform data\n",
    "traces = load(filename='data/data_GE.KTHA..HHZ_2020-10-30_11-30-26.mseed')"
   ]
  },
  {
   "cell_type": "markdown",
   "metadata": {},
   "source": [
    "Alternatively there is the `Squirrel`, a versatile database manager ([squirrel introduction](https://pyrocko.org/docs/current/library/reference/squirrel/index.html)). Loading in this case is equally simple:"
   ]
  },
  {
   "cell_type": "code",
   "execution_count": null,
   "metadata": {},
   "outputs": [],
   "source": [
    "# Pyrockos' Squirrel class\n",
    "from pyrocko.squirrel import Squirrel\n",
    "\n",
    "# Initialization of the database manager\n",
    "sq = Squirrel()\n",
    "\n",
    "# Load waveform data into the squirrel database\n",
    "sq.add('data/data_GE.KTHA..HHZ_2020-10-30_11-30-26.mseed')"
   ]
  },
  {
   "cell_type": "markdown",
   "metadata": {},
   "source": [
    "The `Squirrel` becomes very handy for a lot of data, as it is fast and very effective in memory usage. Hence, in the following we will show both ways of data handling:\n",
    "* handling data loaded via `load` and\n",
    "* handling data loaded via the `Squirrel`.\n",
    "\n",
    "To start with, let's check the meta data of the waveforms we have loaded."
   ]
  },
  {
   "cell_type": "code",
   "execution_count": null,
   "metadata": {},
   "outputs": [],
   "source": [
    "# Accessing an individual trace (here the first) from the trace list\n",
    "tr = traces[0].copy()\n",
    "print(tr)\n",
    "\n",
    "# OR accessing an individual trace (here the first) from the squirrel\n",
    "tr = sq.get_waveforms()[0]\n",
    "print(tr)"
   ]
  },
  {
   "cell_type": "markdown",
   "metadata": {},
   "source": [
    "The output shows, that the trace extracted was recorded at the station `GE.KTHA..HHZ` on 2020-10-30 with a sampling rate of 0.01 s. Both traces loaded via `load` and the `Squirrel` are equivalent (excellent).\n",
    "\n",
    "For the `Squirrel` instance further meta data is shown using the `print` command:"
   ]
  },
  {
   "cell_type": "code",
   "execution_count": null,
   "metadata": {},
   "outputs": [],
   "source": [
    "# Show squirrel meta data\n",
    "print(sq)"
   ]
  },
  {
   "cell_type": "markdown",
   "metadata": {},
   "source": [
    "We know now something about the record (when, which station, sampling rate etc.), but we have not seen the waveform yet. *Pyrocko* comes with an interactive waveform viewer and real time processing tool, the `Snuffler` (more later). Here we will just have a look at the waveforms ([further information here](https://pyrocko.org/docs/current/apps/snuffler/manual.html)).\n",
    "\n",
    "One tip: Familiarize yourself with the display of long waveforms and zooming within `Snuffler`. "
   ]
  },
  {
   "cell_type": "code",
   "execution_count": null,
   "metadata": {},
   "outputs": [],
   "source": [
    "# Plot of the data loaded using `load`\n",
    "from pyrocko.trace import snuffle\n",
    "snuffle(traces);\n",
    "\n",
    "# OR plot of the loaded data using the squirrel\n",
    "sq.snuffle();"
   ]
  },
  {
   "cell_type": "markdown",
   "metadata": {},
   "source": [
    "## Simple processing steps - Cutting, Filtering, Spectral plot  <a class=\"anchor\" id=\"sec2\"></a>\n",
    "\n",
    "In this section some easy but frequently used processing and analysis tools for seismic waveforms are demonstrated based on the loaded waveform.\n",
    "\n",
    "The loaded waveform, as seen above, contains the seismic signal from `11:50:00` to around `12:05:00`, but also a long period of quiescence. Let's remove the quiet parts of the waveforms for a better glimpse at the actual signal. This can be done with the method `chop` (for individual traces) or the `get_waveforms` (for the `Squirrel`), which requires a time range to cut the waveforms to.\n",
    "So here we define the time range:"
   ]
  },
  {
   "cell_type": "code",
   "execution_count": null,
   "metadata": {},
   "outputs": [],
   "source": [
    "# Import of the Pyrocko time formater\n",
    "from pyrocko.util import str_to_time\n",
    "\n",
    "# Defintion of tmin and tmax\n",
    "tmin = str_to_time('2020-10-30 11:50:00')\n",
    "tmax = str_to_time('2020-10-30 12:05:00')"
   ]
  },
  {
   "cell_type": "markdown",
   "metadata": {},
   "source": [
    "Now we are able to slice the traces within both the `traces` list and the `Squirrel` to the decided time range:"
   ]
  },
  {
   "cell_type": "code",
   "execution_count": null,
   "metadata": {},
   "outputs": [],
   "source": [
    "# Generate a new list (traces_cut) with the sliced waveform\n",
    "traces_cut = []\n",
    "for tr in traces:\n",
    "    traces_cut.append(\n",
    "        tr.chop(\n",
    "            tmin,\n",
    "            tmax,\n",
    "            include_last=True,\n",
    "            inplace=False))\n",
    "\n",
    "# OR use the Squirrel with its chopper_waveforms\n",
    "sq_cut = Squirrel()\n",
    "for tr in sq.get_waveforms(\n",
    "        tmin=tmin, tmax=tmax, include_last=True):\n",
    "\n",
    "    sq_cut.add_volatile_waveforms([tr])"
   ]
  },
  {
   "cell_type": "markdown",
   "metadata": {},
   "source": [
    "To inspect, if we have been successful, we can use the `snuffle` method again:"
   ]
  },
  {
   "cell_type": "code",
   "execution_count": null,
   "metadata": {},
   "outputs": [],
   "source": [
    "# Plot of the data loaded using `load`\n",
    "snuffle(traces_cut);\n",
    "\n",
    "# OR plot of the loaded data using the squirrel\n",
    "sq_cut.snuffle();"
   ]
  },
  {
   "cell_type": "markdown",
   "metadata": {},
   "source": [
    "Here we have our earthquake signal. It is characterized by heterogeneous amplitudes and frequencies. Let's first checkout the distribution of amplitudes vs. frequencies as done within the signal processing module (using the Fourier transform):\n",
    "\n",
    "<div class=\"alert alert-success\">\n",
    "    <p style=\"font-weight: bold; font-size: 150%\">Task 2:</p>\n",
    "    <ol>\n",
    "        <li>Start Snuffler with the cut waveforms.</li>\n",
    "        <li>Apply the snuffling .</li>\n",
    "        <li>Calculate the amplitude spectrum using real fast fourier transformation.</li>\n",
    "        <li>Plot the frequency-depending amplitude spectrum using the logarithmic axes scaling for the frequencies.</li>\n",
    "    </ol>\n",
    "</div>\n",
    "\n",
    "A profound look onto the frequency-amplitude distribution over time is provided when calculating a `spectrogram`. In Pyrocko this is best achieved within `Snuffler` using the extension (a so called [`Snuffling`](https://git.pyrocko.org/pyrocko/contrib-snufflings)) `spectrogram`.\n",
    "\n",
    "<div class=\"alert alert-success\">\n",
    "    <p style=\"font-weight: bold; font-size: 150%\">Task 3 <em>(optional)</em>:</p>\n",
    "    <ol>\n",
    "        <li>Install the <em>Snufflings</em> from <a href=\"https://git.pyrocko.org/pyrocko/contrib-snufflings\">git.pyrocko.org/pyrocko/contrib-snufflings</a>.</li>\n",
    "        <li>Start Snuffler with the cut waveforms.</li>\n",
    "        <li>Generate the spectrogram.</li>\n",
    "    </ol>\n",
    "</div>\n"
   ]
  },
  {
   "cell_type": "markdown",
   "metadata": {},
   "source": [
    "Hope, you have been successful. In this case, what do we see?\n",
    "* When does the earthquake start?\n",
    "* How does the frequency content and the amplitudes change over time?\n",
    "* In which frequency range do you observe the largest amplitudes?\n",
    "\n",
    "To look closer into the waveform within the dominant frequency range, let's apply a filter on our cut waveforms:"
   ]
  },
  {
   "cell_type": "code",
   "execution_count": null,
   "metadata": {},
   "outputs": [],
   "source": [
    "# Filter each trace within the cut list (traces_cut)\n",
    "for tr in traces_cut:\n",
    "    tr.lowpass(4, 0.1)\n",
    "    tr.highpass(4, 0.01)\n",
    "\n",
    "# OR use the Squirrel with its chopper_waveforms\n",
    "sq_filter = Squirrel()\n",
    "for tr in sq_cut.get_waveforms():\n",
    "    tr.lowpass(4, 0.1)\n",
    "    tr.highpass(4, 0.01)\n",
    "\n",
    "    sq_filter.add_volatile_waveforms([tr])"
   ]
  },
  {
   "cell_type": "markdown",
   "metadata": {},
   "source": [
    "<div class=\"alert alert-warning\">\n",
    "    Filtering in <strong>Pyrocko</strong> might cause phase shifts of the waveform! Phase true filtering is done using <em>trace.transfer</em>!\n",
    "</div>\n",
    "\n",
    "And of course we should have a look again at the result.\n",
    "* What has changed compared to the raw waveform?"
   ]
  },
  {
   "cell_type": "code",
   "execution_count": null,
   "metadata": {},
   "outputs": [],
   "source": [
    "# Plot of the data loaded using `load`\n",
    "snuffle(traces_cut);\n",
    "\n",
    "# OR plot of the loaded data using the squirrel\n",
    "sq_filter.snuffle();"
   ]
  },
  {
   "cell_type": "markdown",
   "metadata": {},
   "source": [
    "## Saving  <a class=\"anchor\" id=\"sec3\"></a>\n",
    "\n",
    "We have applied multiple processing steps (cutting, filtering) to our raw waveform. The genereated waveform shall be stored now for any later use, so you don't have to apply the processing chain again. This is done using the `save` method.\n",
    "So we will loop over each trace within our stream and write the trace in the same format as the one loaded (reminder: `data_GE.KTHA..HHZ_2020-10-30_11-30-26.mseed`), but adding a `processed_` flag into it: "
   ]
  },
  {
   "cell_type": "code",
   "execution_count": null,
   "metadata": {},
   "outputs": [],
   "source": [
    "from pyrocko.io import save\n",
    "\n",
    "# Save trace list\n",
    "save(\n",
    "    traces_cut,\n",
    "    filename_template='processed_data_%(network)s.%(station)s.%(location)s.%(channel)s_%(tmin)s.mseed')\n",
    "\n",
    "# Save squirrel trace list\n",
    "save(\n",
    "    sq_filter.get_waveforms(include_last=True),\n",
    "    filename_template='processed_data_%(network)s.%(station)s.%(location)s.%(channel)s_%(tmin)s.mseed')\n"
   ]
  },
  {
   "cell_type": "markdown",
   "metadata": {},
   "source": [
    "## Summary  <a class=\"anchor\" id=\"sum\"></a>\n",
    "\n",
    "Here we have covered simple techniques to \n",
    "* **load** waveforms into an Pyrocko traces and the Pyrocko Squirrel database,\n",
    "* waveform visualization techniques of the waveform and its frequency content within **Snuffler**,\n",
    "* simple processing steps (**filtering** and **cutting**),\n",
    "* writing of waveforms into a file (**save**)."
   ]
  }
 ],
 "metadata": {
  "kernelspec": {
   "display_name": "Python 3",
   "language": "python",
   "name": "python3"
  },
  "language_info": {
   "codemirror_mode": {
    "name": "ipython",
    "version": 3
   },
   "file_extension": ".py",
   "mimetype": "text/x-python",
   "name": "python",
   "nbconvert_exporter": "python",
   "pygments_lexer": "ipython3",
   "version": "3.6.9"
  }
 },
 "nbformat": 4,
 "nbformat_minor": 4
}
