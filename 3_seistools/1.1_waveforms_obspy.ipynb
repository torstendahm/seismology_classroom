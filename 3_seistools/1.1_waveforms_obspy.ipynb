{
 "cells": [
  {
   "cell_type": "markdown",
   "metadata": {},
   "source": [
    "# 1.1 Waveform data handling in *Obspy*\n",
    "\n",
    "This chapter shows, how to load, manipulate, process and/or save waveforms in *Obspy* (following the [tutorial](https://docs.obspy.org/tutorial/code_snippets/reading_seismograms.html#accessing-waveform-data)).\n",
    "\n",
    "It includes \n",
    "* loading,\n",
    "* plotting,\n",
    "* cutting,\n",
    "* filtering,\n",
    "* spectral plot and\n",
    "* saving\n",
    "\n",
    "of waveforms.\n",
    "\n",
    "## Contents:\n",
    "* [Loading and first inspection](#sec1)\n",
    "* [Simple processing steps - Cutting, Filtering, Spectral plot](#sec2)\n",
    "* [Saving](#sec3)\n",
    "* [Summary](#sum)\n",
    "\n",
    "\n",
    "## Loading and first inspection <a class=\"anchor\" id=\"sec1\"></a>\n",
    "\n",
    "Within *Obspy* waveforms are loaded using the `read` function. It will load waveforms from the path(s) into a `stream`: "
   ]
  },
  {
   "cell_type": "code",
   "execution_count": null,
   "metadata": {},
   "outputs": [],
   "source": [
    "import numpy as num\n",
    "import matplotlib.pyplot as plt"
   ]
  },
  {
   "cell_type": "code",
   "execution_count": null,
   "metadata": {},
   "outputs": [],
   "source": [
    "# Import of the waveform reading function\n",
    "from obspy import read\n",
    "\n",
    "# This is an obspy stream containing the given waveform data\n",
    "st = read('data/data_GE.KTHA..HHZ_2020-10-30_11-30-26.mseed')"
   ]
  },
  {
   "cell_type": "markdown",
   "metadata": {},
   "source": [
    "*Obspy* uses a stream as the container for waveform data. Each waveform file loaded is called a `trace`. The `print` command allows to inspect the stream (number of traces loaded etc.)"
   ]
  },
  {
   "cell_type": "code",
   "execution_count": null,
   "metadata": {},
   "outputs": [],
   "source": [
    "print(st)"
   ]
  },
  {
   "cell_type": "markdown",
   "metadata": {},
   "source": [
    "The output shows, that one trace is loaded into the stream of the station `GE.KTHA..HHZ` recorded on 2020-10-30 with a sampling frequency of 100 Hz.\n",
    "\n",
    "Additional information on a trace is obtained, when extracting the waveform and printing their `stats` (so the stored meta data):"
   ]
  },
  {
   "cell_type": "code",
   "execution_count": null,
   "metadata": {},
   "outputs": [],
   "source": [
    "# Extract first trace from the stream\n",
    "tr = st[0].copy()\n",
    "\n",
    "# Show trace meta data\n",
    "print(tr.stats)"
   ]
  },
  {
   "cell_type": "markdown",
   "metadata": {},
   "source": [
    "We know now something about the record (when, which station, sampling rate etc.), but we have not seen the waveform yet. *Obspy* provides a simple visualization routine: `stream.plot`, which we will use here:"
   ]
  },
  {
   "cell_type": "code",
   "execution_count": null,
   "metadata": {},
   "outputs": [],
   "source": [
    "# Plot of the loaded data\n",
    "st.plot();"
   ]
  },
  {
   "cell_type": "markdown",
   "metadata": {},
   "source": [
    "## Simple processing steps - Cutting, Filtering, Spectral plot <a class=\"anchor\" id=\"sec2\"></a>\n",
    "\n",
    "In this section some easy but frequently used processing and analysis tools for seismic waveforms are demonstrated based on the loaded waveform.\n",
    "\n",
    "The loaded waveform, as seen above, contains the seismic signal from `11:50:00` to around `12:05:00`, but also a long period of quiescence. Let's remove the quiet parts of the waveforms for a better glimps at the actual signal. This can be done with the method `slice`, which requires a time range to cut the waveforms to.\n",
    "So here we define the time range:"
   ]
  },
  {
   "cell_type": "code",
   "execution_count": null,
   "metadata": {},
   "outputs": [],
   "source": [
    "# Import of the obspy time formater\n",
    "from obspy import UTCDateTime\n",
    "\n",
    "# Defintion of tmin and tmax\n",
    "tmin = UTCDateTime('2020-10-30T11:50:00')\n",
    "tmax = UTCDateTime('2020-10-30T12:05:00')"
   ]
  },
  {
   "cell_type": "markdown",
   "metadata": {},
   "source": [
    "Now we are able to slice the stream to the decided time range:"
   ]
  },
  {
   "cell_type": "code",
   "execution_count": null,
   "metadata": {},
   "outputs": [],
   "source": [
    "# Generate a new stream (st_cut) with the sliced waveform\n",
    "st_cut = st.slice(starttime=tmin, endtime=tmax)"
   ]
  },
  {
   "cell_type": "markdown",
   "metadata": {},
   "source": [
    "To inspect, if we have been successful, we can use the `plot` method again:"
   ]
  },
  {
   "cell_type": "code",
   "execution_count": null,
   "metadata": {},
   "outputs": [],
   "source": [
    "st_cut.plot();"
   ]
  },
  {
   "cell_type": "markdown",
   "metadata": {},
   "source": [
    "Here we have our earthquake signal. It is characterized by heterogeneous amplitudes and frequencies. Let's first checkout the distribution of amplitudes vs. frequencies as done within the signal processing module (using the Fourier transform):\n",
    "\n",
    "<div class=\"alert alert-success\">\n",
    "    <p style=\"font-weight: bold; font-size: 150%\">Task 1:</p>\n",
    "    <ol>\n",
    "        <li>Extract the loaded seismic signal from the stream.</li>\n",
    "        <li>Extract important information (data, sampling rate, ...) from the given signal.</li>\n",
    "        <li>Calculate the amplitude spectrum using real fast fourier transformation.</li>\n",
    "        <li>Plot the frequency-depending amplitude spectrum using the logarithmic axes scaling for the frequencies.</li>\n",
    "    </ol>\n",
    "</div>"
   ]
  },
  {
   "cell_type": "code",
   "execution_count": null,
   "metadata": {},
   "outputs": [],
   "source": []
  },
  {
   "cell_type": "markdown",
   "metadata": {},
   "source": [
    "Here, quite some things are happening. A one can go even further and get a profound look onto the frequency-amplitude distribution over time. That is provided using the `spectrogram` method:"
   ]
  },
  {
   "cell_type": "code",
   "execution_count": null,
   "metadata": {},
   "outputs": [],
   "source": [
    "st_cut.spectrogram();"
   ]
  },
  {
   "cell_type": "markdown",
   "metadata": {},
   "source": [
    "Not much to see here, right? Athough, looking at about 200 s, there is a small colored batch at low frequencies. Let's try to enhance the plot:"
   ]
  },
  {
   "cell_type": "code",
   "execution_count": null,
   "metadata": {},
   "outputs": [],
   "source": [
    "st_cut.spectrogram(\n",
    "    wlen=10.,  # Use a window length of 10 s\n",
    "    log=True,  # Display the frequencies in logarithmic scale\n",
    "    dbscale=True);  # Display the amplitudes (colors) in logarithmic scale"
   ]
  },
  {
   "cell_type": "markdown",
   "metadata": {},
   "source": [
    "Uh, there is still something wrong! The yaxis shows a part, which does not make any sense: For accuracy we will remove it:"
   ]
  },
  {
   "cell_type": "code",
   "execution_count": null,
   "metadata": {},
   "outputs": [],
   "source": [
    "# Predefine the window length in [s]\n",
    "wlen = 10.\n",
    "\n",
    "# Plot the spectrogram\n",
    "fig, ax = plt.subplots(1, figsize=(16, 9))\n",
    "st_cut.spectrogram(\n",
    "    wlen=wlen,\n",
    "    log=True,\n",
    "    dbscale=True,\n",
    "    axes=ax)\n",
    "\n",
    "# Cut the segments of the frequency axis to low frequency range\n",
    "ax.set_ylim((1. / wlen, 5e1))\n",
    "\n",
    "plt.show();"
   ]
  },
  {
   "cell_type": "markdown",
   "metadata": {},
   "source": [
    "Ah, much better. So, what do we see?\n",
    "* When does the earthquake start?\n",
    "* How does the frequency content and the amplitudes change over time?\n",
    "* In which frequency range do you observe the largest amplitudes?\n",
    "\n",
    "To look closer into the waveform within the dominant frequency range, let's apply a filter on our cutted waveforms:"
   ]
  },
  {
   "cell_type": "code",
   "execution_count": null,
   "metadata": {},
   "outputs": [],
   "source": [
    "st_cut.filter('bandpass', freqmin=0.1, freqmax=0.5)"
   ]
  },
  {
   "cell_type": "markdown",
   "metadata": {},
   "source": [
    "<div class=\"alert alert-warning\">\n",
    "    Filtering in <strong>Obspy</strong> might cause phase shifts of the waveform! Please check the documentation carefully!\n",
    "</div>\n",
    "\n",
    "And of course we should have a look again at the result.\n",
    "* What has changed compared to the raw waveform?"
   ]
  },
  {
   "cell_type": "code",
   "execution_count": null,
   "metadata": {},
   "outputs": [],
   "source": [
    "st_cut.plot();"
   ]
  },
  {
   "cell_type": "markdown",
   "metadata": {},
   "source": [
    "## Saving <a class=\"anchor\" id=\"sec3\"></a>\n",
    "\n",
    "We have applied multiple processing steps (cutting, filtering) to our raw waveform. The generated waveform shall be stored now for any later use, so you don't have to apply the processing chain again. This is done using the `trace.write` method.\n",
    "So we will loop over each trace within our stream and write the trace in the same format as the one loaded (reminder: `data_GE.KTHA..HHZ_2020-10-30_11-30-26.mseed`), but adding a `processed_` flag into it: "
   ]
  },
  {
   "cell_type": "code",
   "execution_count": null,
   "metadata": {},
   "outputs": [],
   "source": [
    "# Iterate over each trace in the stream\n",
    "for tr in st_cut:\n",
    "    tstart = tr.stats.starttime.strftime('%Y-%m-%d_%H-%M-%S')\n",
    "    tr.write('processed_data_' + tr.id + '_' + tstart + \".mseed\", format=\"MSEED\")"
   ]
  },
  {
   "cell_type": "markdown",
   "metadata": {},
   "source": [
    "## Summary <a class=\"anchor\" id=\"sum\"></a>\n",
    "\n",
    "Here we have covered simple techniques to \n",
    "* **load** waveforms into an Obspy stream,\n",
    "* waveform visualization techniques of the waveform and its frequency content as **plot** and **spectrogram**,\n",
    "* simple processing steps (**filtering** and **cutting**),\n",
    "* writing of waveforms into a file (**write**)."
   ]
  }
 ],
 "metadata": {
  "kernelspec": {
   "display_name": "Python 3",
   "language": "python",
   "name": "python3"
  },
  "language_info": {
   "codemirror_mode": {
    "name": "ipython",
    "version": 3
   },
   "file_extension": ".py",
   "mimetype": "text/x-python",
   "name": "python",
   "nbconvert_exporter": "python",
   "pygments_lexer": "ipython3",
   "version": "3.6.9"
  }
 },
 "nbformat": 4,
 "nbformat_minor": 4
}
