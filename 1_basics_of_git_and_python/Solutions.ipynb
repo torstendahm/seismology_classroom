{
 "cells": [
  {
   "cell_type": "markdown",
   "id": "provincial-chosen",
   "metadata": {},
   "source": [
    "# Solutions\n",
    "\n",
    "Here you can find solutions examples for the tasks given within the notebooks of this chapter **1: Basics of Git and Python**.\n",
    "\n",
    "## Task 1 - [2.2 Text and Variables](2.2_Text_and_Variables.ipynb)"
   ]
  },
  {
   "cell_type": "code",
   "execution_count": null,
   "id": "tamil-reference",
   "metadata": {},
   "outputs": [],
   "source": [
    "text = \"\"\"The September 19, 2022, M 7.6 earthquake near the Pacific Coast of Mexico occurred as the result of \n",
    "        shallow thrust faulting. The location, depth, and mechanism of the event are broadly consistent with slip \n",
    "        on or near the boundary interface between the subducting Cocos oceanic plate and the North America plate.\"\"\"\n",
    "\n",
    "day = 19\n",
    "mag = 7.6\n",
    "month = 'September'\n",
    "ocean = 'Pacific'\n",
    "country = 'Mexico'\n",
    "\n",
    "\n",
    "# Formatted String Literals\n",
    "print(f'The {month} {day}, 2022, M {mag} earthquake near the {ocean} Coast of {country} occurred as the result of'\n",
    "     f' shallow thrust faulting. The location, depth, and mechanism of the event are broadly consistent with slip' \n",
    "     f' on or near the boundary interface between the subducting Cocos oceanic plate and the North America plate.')"
   ]
  },
  {
   "cell_type": "code",
   "execution_count": null,
   "id": "affiliated-joining",
   "metadata": {
    "scrolled": true
   },
   "outputs": [],
   "source": [
    "#String Format method\n",
    "\n",
    "text2 = \"\"\"The {mm} {dd}, 2022, M {mw} earthquake near the {oc} Coast of {count} occurred as the result of shallow \n",
    "thrust faulting. The location, depth, and mechanism of the event are broadly consistent with slip on or near the \n",
    "boundary interface between the subducting Cocos oceanic plate and the North America plate.\"\"\"\n",
    "\n",
    "print(text2.format(mm = 'September', oc = 'Pacific', count = 'Mexico', dd = 19, mw = 7.6))"
   ]
  },
  {
   "cell_type": "markdown",
   "id": "planned-academy",
   "metadata": {},
   "source": [
    "## Task 2 - [2.3 Containers](2.3_Containers.ipynb)"
   ]
  },
  {
   "cell_type": "code",
   "execution_count": null,
   "id": "historical-atlantic",
   "metadata": {},
   "outputs": [],
   "source": [
    "countries = ['turky','chilee','germny','jpan','argetina','itly']\n",
    "\n",
    "countries[0] = 'turkey'\n",
    "countries[1] = 'chile'\n",
    "countries[2] = 'germany'\n",
    "countries[3] = 'japan'\n",
    "countries[4] = 'argentina'\n",
    "countries[5] = 'italy'\n",
    "print(countries)\n",
    "countries.remove('chile')\n",
    "countries.remove('argentina')\n",
    "print(countries)"
   ]
  },
  {
   "cell_type": "markdown",
   "id": "adjustable-booking",
   "metadata": {},
   "source": [
    "## Task 3 - [2.3 Containers](2.3_Containers.ipynb)"
   ]
  },
  {
   "cell_type": "code",
   "execution_count": null,
   "id": "sexual-hungarian",
   "metadata": {
    "scrolled": true
   },
   "outputs": [],
   "source": [
    "prime_numbers = (2, 3, 5, 7, 11, 13, 17, 19, 23, 29)\n",
    "print(prime_numbers[2], prime_numbers[4], prime_numbers[7])\n",
    "random_numbers = (1, 2, 3, 4, 5, 6, 7, 8, 9, 10)\n",
    "print(prime_numbers + random_numbers)"
   ]
  },
  {
   "cell_type": "markdown",
   "id": "supreme-singapore",
   "metadata": {},
   "source": [
    "## Task 4 - [2.3 Containers](2.3_Containers.ipynb)"
   ]
  },
  {
   "cell_type": "code",
   "execution_count": null,
   "id": "therapeutic-department",
   "metadata": {},
   "outputs": [],
   "source": [
    "years = {2011,2020, 2018}\n",
    "names = {'tohoku', 'samos', 'alaska'}\n",
    "types = {'inverse', 'normal', 'transversal'}\n",
    "\n",
    "tohoku = {'tohoku','inverse',2011}\n",
    "samos = {'samos','normal',2020}\n",
    "alaska = {'alaska','transversal',2018}\n",
    "\n",
    "years.remove(2018)\n",
    "names.remove('alaska')\n",
    "types.remove('transversal')"
   ]
  },
  {
   "cell_type": "markdown",
   "id": "musical-entertainment",
   "metadata": {},
   "source": [
    "## Task 5 - [2.3 Containers](2.3_Containers.ipynb)"
   ]
  },
  {
   "cell_type": "code",
   "execution_count": null,
   "id": "adequate-premium",
   "metadata": {},
   "outputs": [],
   "source": [
    "eruptions = {\n",
    "    'lascar': 2015,\n",
    "    'etna': 2022, \n",
    "    'villarrica': 2015,\n",
    "    'nyiragongo': 2021,\n",
    "    'vesuvius': 1944}"
   ]
  },
  {
   "cell_type": "markdown",
   "id": "novel-times",
   "metadata": {},
   "source": [
    "## Task 6 - [2.4 Control Flow](2.4_Control_Flow.ipynb)"
   ]
  },
  {
   "cell_type": "code",
   "execution_count": null,
   "id": "pretty-defendant",
   "metadata": {},
   "outputs": [],
   "source": [
    "a = 7\n",
    "b = 15\n",
    "\n",
    "if a > 5 and b > 5:\n",
    "    if a < 10 or b < 10 :\n",
    "        print('a and b satisfy the conditions')\n",
    "    else:\n",
    "        print('conditions are not satisfied')"
   ]
  },
  {
   "cell_type": "markdown",
   "id": "running-officer",
   "metadata": {},
   "source": [
    "## Task 7 - [2.6 Classes](2.6_Classes.ipynb)\n",
    "\n",
    "Note that the following code line will only work under the corresponding notebook as here we have not defined the Volcano class."
   ]
  },
  {
   "cell_type": "code",
   "execution_count": null,
   "id": "distributed-eligibility",
   "metadata": {},
   "outputs": [],
   "source": [
    "spain = Volcano(42.17, 2.5, 'Pyroclastic cones', 'Spain')"
   ]
  },
  {
   "cell_type": "markdown",
   "id": "confidential-furniture",
   "metadata": {},
   "source": [
    "## Task 8 - [2.7 Modules](2.7_Modules.ipynb)\n",
    "\n",
    "Note that the following code line will only work under the corresponding notebook as here we have not imported the needed module."
   ]
  },
  {
   "cell_type": "code",
   "execution_count": null,
   "id": "obvious-soldier",
   "metadata": {},
   "outputs": [],
   "source": [
    "lat, lon, baz = vinc_pt(15.25, 36.48, 45, 18e3)\n",
    "print(lat, lon, baz)\n",
    "\n",
    "s, az, baz = vinc_dist(10, -15, -4, 25)\n",
    "print(s, az, baz)"
   ]
  },
  {
   "cell_type": "markdown",
   "id": "beautiful-hampton",
   "metadata": {},
   "source": [
    "## Task 9 - [4.0 Matplotlib](4.0_Matplotlib.ipynb)"
   ]
  },
  {
   "cell_type": "code",
   "execution_count": null,
   "id": "satellite-desktop",
   "metadata": {},
   "outputs": [],
   "source": [
    "import matplotlib.pyplot as plt\n",
    "import numpy as np\n",
    "\n",
    "data = np.loadtxt('data/gps_maule_coseismic.dat', skiprows=1)\n",
    "lat = data[:,0]\n",
    "east = data[:,2]\n",
    "north = data[:,3]\n",
    "up = data[:,4]\n",
    "fig, axes = plt.subplots()\n",
    "\n",
    "axes.plot(lat, east, 'ko')\n",
    "axes.set_xlabel('Lat')\n",
    "axes.set_ylabel('Disp East [mm]')\n",
    "axes.set_title('Coseismic 2010 Maule earthquake')\n",
    "\n",
    "fig, axes = plt.subplots()\n",
    "axes.plot(lat, north, 'c.')\n",
    "axes.set_xlabel('Latitude')\n",
    "axes.set_ylabel('Disp North [mm]')\n",
    "axes.set_title('Coseismic 2010 Maule earthquake')\n",
    "\n",
    "fig, axes = plt.subplots()\n",
    "axes.plot(lat, up, 'y*')\n",
    "axes.set_xlabel('Latitude')\n",
    "axes.set_ylabel('Disp Up [mm]')\n",
    "axes.set_title('Coseismic 2010 Maule earthquake')\n",
    "\n",
    "\n",
    "fig, axes = plt.subplots(1, 3, figsize=(20,5), sharey=True)\n",
    "axes[0].plot(lat, east, 'g.')\n",
    "axes[0].set_xlabel('Latitude')\n",
    "axes[0].set_ylabel('Disp East [mm]')\n",
    "axes[1].plot(lat, north, 'r.')\n",
    "axes[1].set_xlabel('Latitude')\n",
    "axes[1].set_ylabel('Disp North [mm]')\n",
    "axes[1].set_title('Coseismic 2010 Maule earthquake')\n",
    "axes[2].plot(lat, up, 'b.')\n",
    "axes[2].set_xlabel('Latitude')\n",
    "axes[2].set_ylabel('Disp Up [mm]')"
   ]
  }
 ],
 "metadata": {
  "kernelspec": {
   "display_name": "Python 3",
   "language": "python",
   "name": "python3"
  },
  "language_info": {
   "codemirror_mode": {
    "name": "ipython",
    "version": 3
   },
   "file_extension": ".py",
   "mimetype": "text/x-python",
   "name": "python",
   "nbconvert_exporter": "python",
   "pygments_lexer": "ipython3",
   "version": "3.6.9"
  }
 },
 "nbformat": 4,
 "nbformat_minor": 5
}
