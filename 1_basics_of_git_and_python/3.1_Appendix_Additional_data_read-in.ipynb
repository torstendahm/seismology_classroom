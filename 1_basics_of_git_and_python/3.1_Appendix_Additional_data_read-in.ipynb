{
 "cells": [
  {
   "cell_type": "markdown",
   "metadata": {},
   "source": [
    "# Data Read-In\n",
    "\n",
    "## Introduction\n",
    "\n",
    "We have checked in the [previous submodule](3.0_NUmpy_and_Pandas.ipynb) about Numpy and Pandas and how to read data using them. This appendix shows other ways of reading data, such as an individual read-in and also two other libraries.\n",
    "\n",
    "**Table of contents:**\n",
    "\n",
    "* [Individual Read-in](#Individual-Read-in)\n",
    "* [Individual Write-out](#Individual-Write-out)\n",
    "* [JSON](#JSON)\n",
    "* [GEOJSON](#GEOJSON-for-geo-data)\n"
   ]
  },
  {
   "cell_type": "markdown",
   "metadata": {},
   "source": [
    "## Individual Read-in\n",
    "\n",
    "Python has a built-in function called `open()`. This function simply returns a file object."
   ]
  },
  {
   "cell_type": "code",
   "execution_count": null,
   "metadata": {},
   "outputs": [],
   "source": [
    "file = 'data/ingv_seismic.csv'\n",
    "\n",
    "with open(file, 'r') as f:\n",
    "    attribute1 = []\n",
    "    filedict = {}\n",
    "    for ii, line in enumerate(f):\n",
    "        # line.strip\n",
    "        line = line.replace('\\n', '')\n",
    "        line = line.replace('\\\"', '')\n",
    "        line = line.rsplit(';')\n",
    "        \n",
    "        if ii < 4:\n",
    "            print(ii, line)\n",
    "        \n",
    "        if ii == 0:\n",
    "            header = line\n",
    "            continue\n",
    "        \n",
    "        attribute1.append(line[0])\n",
    "        \n",
    "        for nn in range(len(header)):\n",
    "            if header[nn] not in filedict:\n",
    "                filedict[header[nn]] = []\n",
    "            filedict[header[nn]].append(line[nn])\n",
    "\n",
    "\n",
    "print(header)"
   ]
  },
  {
   "cell_type": "markdown",
   "metadata": {},
   "source": [
    "## Individual Write-out"
   ]
  },
  {
   "cell_type": "code",
   "execution_count": null,
   "metadata": {},
   "outputs": [],
   "source": [
    "f = open(\"data/test_out.txt\", \"w\")\n",
    "f.write(\"Stations in Italy\\n\")\n",
    "for idx in range(len(filedict['Station'])):\n",
    "    d = filedict\n",
    "    f.write('The station %s.%s is located at %s, %s.\\n'\n",
    "            % (d['Station'][idx], d['Net'][idx], d['Lat (N)'][idx], d['Lon (E)'][idx]))\n",
    "f.close()"
   ]
  },
  {
   "cell_type": "markdown",
   "metadata": {},
   "source": [
    "## JSON\n",
    "\n",
    "JSON is a JavaScript Object Notation. Python supports JSON with the built-in package **`json`**. More details [here](https://docs.python.org/3/library/json.html)."
   ]
  },
  {
   "cell_type": "code",
   "execution_count": null,
   "metadata": {},
   "outputs": [],
   "source": [
    "import json \n",
    "\n",
    "file = 'data/finite_fault_usgs.json'\n",
    "file = 'data/metadata.json'\n",
    "\n",
    "with open(file, 'r') as f:\n",
    "  data = json.load(f)"
   ]
  },
  {
   "cell_type": "markdown",
   "metadata": {},
   "source": [
    "## GEOJSON for geo data\n",
    "\n",
    "GeoJSON is a format for encoding a variety of geographic data structures and it is based on JavaScript Object Notation. Documentation about usage and installation is available [here](https://pypi.org/project/geojson/)."
   ]
  },
  {
   "cell_type": "code",
   "execution_count": null,
   "metadata": {},
   "outputs": [],
   "source": [
    "import geojson\n",
    "\n",
    "file = 'data/germany.geojson' \n",
    "\n",
    "with open(file, 'r') as f:\n",
    "  data = geojson.load(f)\n"
   ]
  }
 ],
 "metadata": {
  "kernelspec": {
   "display_name": "Python 3",
   "language": "python",
   "name": "python3"
  },
  "language_info": {
   "codemirror_mode": {
    "name": "ipython",
    "version": 3
   },
   "file_extension": ".py",
   "mimetype": "text/x-python",
   "name": "python",
   "nbconvert_exporter": "python",
   "pygments_lexer": "ipython3",
   "version": "3.6.9"
  }
 },
 "nbformat": 4,
 "nbformat_minor": 5
}
