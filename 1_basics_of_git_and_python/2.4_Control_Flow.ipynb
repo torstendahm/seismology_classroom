{
 "cells": [
  {
   "cell_type": "markdown",
   "metadata": {},
   "source": [
    "# Control Flow\n",
    "\n",
    "\n",
    "## Introduction\n",
    "\n",
    "When we start to do a bit more of work in a code, usually we face to the problem of performing the same task over a big amount of data. In this case, instead of doing a tedious code with a big amount of lines we can easily solve this problem by using control flow statements. \n",
    "\n",
    "* `if-elif-else`: Conditional statement. It tells Python to evaluate several conditions and execute certain instructions according to which condition is true.\n",
    "\n",
    "* `for`: Repetition statement. It iterates over a sequence (list, tuple, dict or set).\n",
    "\n",
    "* `while`: Repetition statement. It executes a block of statements many times, but only *while* a condition is satisfied.\n",
    "\n",
    "\n",
    "**Table of contents:**\n",
    "\n",
    "* [if-elif-else](#if-elif-else)\n",
    "* [For loop](#For-Loop)\n",
    "* [While loop](#While-Loop)\n",
    "* [Control Flow structures combination](#Control-flow-structures-combination)\n",
    "* [List Comprehensions](#List-Comprehensions)"
   ]
  },
  {
   "cell_type": "markdown",
   "metadata": {},
   "source": [
    "# if-elif-else\n",
    "\n",
    "The syntax for conditional statements is `if`, `elif` and/or `else`."
   ]
  },
  {
   "cell_type": "code",
   "execution_count": null,
   "metadata": {},
   "outputs": [],
   "source": [
    "statement1 = False\n",
    "statement2 = False\n",
    "\n",
    "if statement1 == True:\n",
    "    print('statement1 is True')\n",
    "    \n",
    "elif statement2 == True:\n",
    "    print('statement2 is True')\n",
    "    \n",
    "else:\n",
    "    print('statement1 and statement2 are False')"
   ]
  },
  {
   "cell_type": "markdown",
   "metadata": {},
   "source": [
    "As you see from the previous example, there is one very important detail: program blocks are defined by their **indentation** level. After every `if`, `elif` and `else` comes an indented statement and this tells Python to include it as part of the condition. You can choose how many spaces to indent (usually it is a tab or 4 spaces), but make sure to always use the same amount. \n",
    "\n",
    "It is also possible to only use `if`, as `elif` and `else` are optional."
   ]
  },
  {
   "cell_type": "code",
   "execution_count": null,
   "metadata": {},
   "outputs": [],
   "source": [
    "#Bad indentation\n",
    "if statement1 == False:\n",
    "print('statement1 is False')"
   ]
  },
  {
   "cell_type": "markdown",
   "metadata": {},
   "source": [
    "The error indicates a line not properly indented. Let's add spaces after the condition (note that we are only using `if`):"
   ]
  },
  {
   "cell_type": "code",
   "execution_count": null,
   "metadata": {},
   "outputs": [],
   "source": [
    "if statement1 == False:\n",
    "    print('statement1 is False')"
   ]
  },
  {
   "cell_type": "markdown",
   "metadata": {},
   "source": [
    "It is also possible to write a condition without relational operators. This is done when we only want to check the existence of a value as Python:"
   ]
  },
  {
   "cell_type": "code",
   "execution_count": null,
   "metadata": {},
   "outputs": [],
   "source": [
    "if statement1:\n",
    "    print('statement1 is True')\n",
    "else:\n",
    "    print('statement1 is False')"
   ]
  },
  {
   "cell_type": "markdown",
   "metadata": {},
   "source": [
    "You could also include `if` into other `if`, i.e., to have nested conditions:"
   ]
  },
  {
   "cell_type": "code",
   "execution_count": null,
   "metadata": {},
   "outputs": [],
   "source": [
    "if statement1 == False:\n",
    "    if statement2 == True:\n",
    "        print('statement1 is False and statement2 is True')\n",
    "    else:\n",
    "        print('statement1 and statement2 are False')"
   ]
  },
  {
   "cell_type": "markdown",
   "metadata": {},
   "source": [
    "* Using **and**"
   ]
  },
  {
   "cell_type": "code",
   "execution_count": null,
   "metadata": {},
   "outputs": [],
   "source": [
    "if statement1==True and statement2==True:\n",
    "    print('statement1 and statement2 are True')\n",
    "else:\n",
    "    print('At least one statement is False')"
   ]
  },
  {
   "cell_type": "markdown",
   "metadata": {},
   "source": [
    "* Using **not**"
   ]
  },
  {
   "cell_type": "code",
   "execution_count": null,
   "metadata": {},
   "outputs": [],
   "source": [
    "if not statement1 == True:\n",
    "    print('statement1 is not True')"
   ]
  },
  {
   "cell_type": "markdown",
   "metadata": {},
   "source": [
    "* Using **or**"
   ]
  },
  {
   "cell_type": "code",
   "execution_count": null,
   "metadata": {},
   "outputs": [],
   "source": [
    "if statement1 == True or statement2 == True:\n",
    "    print('At least one statement is True')\n",
    "else:\n",
    "    print('Both are False')"
   ]
  },
  {
   "cell_type": "markdown",
   "metadata": {},
   "source": [
    "<div class=\"alert alert-success\">\n",
    "    <p style=\"font-weight: bold; font-size: 150%\">Task:</p> \n",
    "    \n",
    "Declare two variables <strong>a</strong> and <strong>b</strong>, assign them integer values and create a nested conditional using relational operators. For example: if both variables are greater than 5, and if at least one variable is less than 10, print <em>a and b satisfy the conditions</em>. Print another message if the conditions are not satisfied (else). "
   ]
  },
  {
   "cell_type": "code",
   "execution_count": null,
   "metadata": {},
   "outputs": [],
   "source": []
  },
  {
   "cell_type": "markdown",
   "metadata": {},
   "source": [
    "# For-Loop\n",
    "\n",
    "The `for` loop is the most common way to execute a task on each element of a group of data. A very basic for loop looks like:"
   ]
  },
  {
   "cell_type": "code",
   "execution_count": null,
   "metadata": {},
   "outputs": [],
   "source": [
    "for i in [1, 2, 3]:\n",
    "    print(i)"
   ]
  },
  {
   "cell_type": "markdown",
   "metadata": {},
   "source": [
    "It is very common to use the function `range`. It returns a sequence of numbers that starts from 0 (default), increments by 1 (default) and stops **before** a specified number."
   ]
  },
  {
   "cell_type": "code",
   "execution_count": null,
   "metadata": {},
   "outputs": [],
   "source": [
    "for i in range(4):\n",
    "    print(i)"
   ]
  },
  {
   "cell_type": "markdown",
   "metadata": {},
   "source": [
    "As you can see, 4 is not included. We could also iterate over strings:"
   ]
  },
  {
   "cell_type": "code",
   "execution_count": null,
   "metadata": {},
   "outputs": [],
   "source": [
    "for s in ['a','b','c']:\n",
    "    print(s)"
   ]
  },
  {
   "cell_type": "markdown",
   "metadata": {},
   "source": [
    "or over a dictionary. Here it is useful to know that **dict.items()** give us the tuples of (key, value), with **dict.keys()** we only get the keys, and with **dict.values()** we only get the values:"
   ]
  },
  {
   "cell_type": "code",
   "execution_count": null,
   "metadata": {},
   "outputs": [],
   "source": [
    "d = {'x': 1, 'y': 2, 'z': 3}\n",
    "\n",
    "for key, value in d.items():\n",
    "    print(key + '=' + str(value))"
   ]
  },
  {
   "cell_type": "markdown",
   "metadata": {},
   "source": [
    "We can also access some elements of a list (or tuple or string) by using **len()** which give us the number of items in an object:"
   ]
  },
  {
   "cell_type": "code",
   "execution_count": null,
   "metadata": {},
   "outputs": [],
   "source": [
    "years = [1960, 2010, 2014, 2015]\n",
    "for i in range(len(years)):\n",
    "    print(years[i])"
   ]
  },
  {
   "cell_type": "markdown",
   "metadata": {},
   "source": [
    "# While-Loop\n",
    "\n"
   ]
  },
  {
   "cell_type": "markdown",
   "metadata": {},
   "source": [
    "As we mentioned earlier, `while` is also a repetition statement, but it will be executed only when a condition is fulfilled. \n",
    "\n",
    "For example, we have an initial value `x=0`. We want to print that value and then increase it in one unity and print it again. That would be only a repeating action. But, we want to add the condition that the value will be printed only **while** it is less than 5. In this case, `while` is a good alternative to use. The following code shows a way to perform this action and it includes a `print` command (note that this is not indented, i.e., not part of the statement) to indicate when the action is finished:"
   ]
  },
  {
   "cell_type": "code",
   "execution_count": null,
   "metadata": {},
   "outputs": [],
   "source": [
    "x = 0\n",
    "\n",
    "while x < 5:\n",
    "    print(x)\n",
    "    x += 1\n",
    "print('finished')"
   ]
  },
  {
   "cell_type": "markdown",
   "metadata": {},
   "source": [
    "# Control flow structures combination"
   ]
  },
  {
   "cell_type": "markdown",
   "metadata": {},
   "source": [
    "## For loop with conditional statements\n",
    "\n",
    "We can combine a for loop with a conditional statement. Let's check one example:\n",
    "\n",
    "We have a list of different values corresponding to earthquakes depths. We want to iterate over that list and check if the depth would correspond to a shallow, intermediate or a deep earthquake. For this we will build a code that uses a `for` loop to do the iteration and an `if-else` statement within it to check the condition: "
   ]
  },
  {
   "cell_type": "code",
   "execution_count": null,
   "metadata": {},
   "outputs": [],
   "source": [
    "depths = [10, 95, 60, 231, 152, 22]\n",
    "\n",
    "for d in depths:\n",
    "    if d <= 70:\n",
    "        print('An earthquake', d, 'km deep correspond to a shallow earthquake')\n",
    "    if d > 70 and d <=300:\n",
    "        print('An earthquake', d, 'km deep correspond to an intermediate earthquake')\n",
    "    else:\n",
    "        print('An earthquake', d, 'km deep correspond to a deep earthquake')"
   ]
  },
  {
   "cell_type": "markdown",
   "metadata": {},
   "source": [
    "## Nested Loops\n",
    "\n",
    "Another possibility is to combine loops within loops, also called nested loops. As with any control flow structure, put special attention to the indentations in this case."
   ]
  },
  {
   "cell_type": "code",
   "execution_count": null,
   "metadata": {},
   "outputs": [],
   "source": [
    "letters = ['a','b','c']\n",
    "numbers = [1,2]\n",
    "\n",
    "for i in letters:\n",
    "    for j in numbers:\n",
    "        print(i,j)\n",
    "    print(i, 'finished')"
   ]
  },
  {
   "cell_type": "markdown",
   "metadata": {},
   "source": [
    "# List Comprehensions\n",
    "\n",
    "A list comprehension is a shorter way to create a new list based on existing lists. The advantage of using list comprehension is that we can write loops in a single line, and we can even add conditionals in the same line, making the code less \"crowded\".\n",
    "\n",
    "In [Containers](2.3_Containers.ipynb) we saw how to initialise a new list with other data using `append`. Let's first reproduce the same exercise with a for loop, where we have a list with our values and we want to save them in a new list called `magnitudes`:"
   ]
  },
  {
   "cell_type": "code",
   "execution_count": null,
   "metadata": {},
   "outputs": [],
   "source": [
    "values = [9.6, 8.2, 8.8]\n",
    "magnitudes = []\n",
    "\n",
    "for m in values:\n",
    "    magnitudes.append(m)\n",
    "print(magnitudes)"
   ]
  },
  {
   "cell_type": "markdown",
   "metadata": {},
   "source": [
    "Now, with a list comprehension, the same exercise could be written in only one line:"
   ]
  },
  {
   "cell_type": "code",
   "execution_count": null,
   "metadata": {},
   "outputs": [],
   "source": [
    "mag = [x for x in values]\n",
    "print(mag)"
   ]
  },
  {
   "cell_type": "markdown",
   "metadata": {},
   "source": [
    "<div class=\"alert alert-warning\">\n",
    "<strong>Note</strong> that we changed the variable name to `mag` just to show that with a list comprehension we do <strong>not</strong> need to create an empty list before as we did in the previous example using `append`.\n",
    "</div>\n",
    "\n",
    "What if we want to include a conditional statement? That is also possible. Let's say we have a list of magnitudes and we want to save, in other list, only the magnitudes `>=` 3:"
   ]
  },
  {
   "cell_type": "code",
   "execution_count": null,
   "metadata": {},
   "outputs": [],
   "source": [
    "m = [3, 4.5, 3.8, 2.9, 5.3, 2.3, 1.5, 6.2, 4.3]\n",
    "\n",
    "m3 = [x for x in m if x >= 3]\n",
    "print(m3)"
   ]
  },
  {
   "cell_type": "markdown",
   "metadata": {},
   "source": [
    "# Summary\n",
    "\n",
    "* You learned the conditional statements **if**, **elif** and **else**.\n",
    "* You know about **for** loops.\n",
    "* You know about **while** loops.\n",
    "* You know how to **combine** different control flow structures.\n",
    "* You learned how to use **list comprehensions**."
   ]
  }
 ],
 "metadata": {
  "kernelspec": {
   "display_name": "Python 3",
   "language": "python",
   "name": "python3"
  },
  "language_info": {
   "codemirror_mode": {
    "name": "ipython",
    "version": 3
   },
   "file_extension": ".py",
   "mimetype": "text/x-python",
   "name": "python",
   "nbconvert_exporter": "python",
   "pygments_lexer": "ipython3",
   "version": "3.6.9"
  }
 },
 "nbformat": 4,
 "nbformat_minor": 4
}
