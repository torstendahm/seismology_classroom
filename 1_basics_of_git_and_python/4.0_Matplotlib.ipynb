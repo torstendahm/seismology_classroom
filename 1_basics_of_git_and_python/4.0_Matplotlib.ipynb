{
 "cells": [
  {
   "cell_type": "markdown",
   "metadata": {},
   "source": [
    "# Matplotlib \n",
    "\n",
    "## Introduction\n",
    "\n",
    "**Matplotlib** is a 2D and 3D graphics library for plotting scientific figures. It is very easy to get started,, it supports Latex formatted text, you can easily control every element in a figure such as figure size and resolution, there are many output formats and it also includes a GUI for exploring the figures. \n",
    "\n",
    "A list of plots that Matplotlib supports can be found at [Matplotlib plots](https://matplotlib.org/3.2.0/gallery/index.html). For installations details check [here](https://matplotlib.org/stable/users/installing/index.html).\n",
    "\n",
    "**Table of Contents:**\n",
    "\n",
    "* [Matplotlib basics](#Matplotlib-basics)\n",
    "  * [Importing Matplotlib](#Importing-Matplotlib)\n",
    "  * [Creating Axes](#Creating-Axes)\n",
    "  * [Subplots](#Subplots)\n",
    "  * [Figure size, DPI and aspect ratio](#Figure-size,-DPI,-aspect-ratio)\n",
    "  * [Showing figures](#Showing-figures)\n",
    "  * [Saving figures](#Saving-figures)\n",
    "  * [Legends](#Legends)\n",
    "  * [Text in figures](#Text-in-figures)\n",
    "  * [Line and marker styles](#Line-and-marker-style)\n",
    "  * [Twin axes](#Twin-axes)\n",
    "  * [More plot styles](#More-plot-styles)\n",
    "  * [Data as image](#Data-as-image)\n"
   ]
  },
  {
   "cell_type": "markdown",
   "metadata": {},
   "source": [
    "## Matplotlib basics\n",
    "\n",
    "First of all, take a look on this nice figure taken from [Matplotlib anatomy](https://matplotlib.org/stable/gallery/showcase/anatomy.html#sphx-glr-gallery-showcase-anatomy-py). The figure shows the name of many Matplotlib components available in one figure:"
   ]
  },
  {
   "cell_type": "markdown",
   "metadata": {},
   "source": [
    "![matplotlib anatomy](https://matplotlib.org/_images/anatomy.png)"
   ]
  },
  {
   "cell_type": "markdown",
   "metadata": {},
   "source": [
    "### Importing Matplotlib\n",
    "\n",
    "There are two ways of importing Matplotlib. \n",
    "\n",
    "* One of these ways allows to use the **MatLab-like API**, i.e., it is compatible with MatLab's plotting functions and it is easier to start with if you are already familiar with MatLab:"
   ]
  },
  {
   "cell_type": "code",
   "execution_count": null,
   "metadata": {},
   "outputs": [],
   "source": [
    "from pylab import *"
   ]
  },
  {
   "cell_type": "markdown",
   "metadata": {},
   "source": [
    "Let's see one example:"
   ]
  },
  {
   "cell_type": "code",
   "execution_count": null,
   "metadata": {},
   "outputs": [],
   "source": [
    "import numpy as np\n",
    "\n",
    "x = np.linspace(0,10,5)\n",
    "y = x ** 3\n",
    "\n",
    "figure()\n",
    "plot(x,y,'g')\n",
    "xlabel('x'); ylabel('y'); title('y vs x')\n",
    "show()"
   ]
  },
  {
   "cell_type": "markdown",
   "metadata": {},
   "source": [
    "* The other way correspond to the **object-oriented API**. This allows to have objects where we can apply actions on, like functions. This way is better when we have more than one figure or if the figure contains several subplots. To import it we use (note that `plt` is the most common abbreviation, but it can be changed to any name):"
   ]
  },
  {
   "cell_type": "code",
   "execution_count": null,
   "metadata": {},
   "outputs": [],
   "source": [
    "import matplotlib.pyplot as plt"
   ]
  },
  {
   "cell_type": "markdown",
   "metadata": {},
   "source": [
    "## Creating Axes\n",
    "\n",
    "Let's start with the same figure as before:"
   ]
  },
  {
   "cell_type": "code",
   "execution_count": null,
   "metadata": {
    "scrolled": true
   },
   "outputs": [],
   "source": [
    "fig = plt.figure()\n",
    "\n",
    "axes = fig.add_axes([0.1, 0.1, 0.8, 0.8]) # left, bottom, width, height (range 0 to 1)\n",
    "\n",
    "axes.plot(x, y, 'g')  #What to plot, 'g' indicates green color\n",
    "\n",
    "axes.set_xlabel('x') # x axis label\n",
    "axes.set_ylabel('y') # y axis label\n",
    "axes.set_title('y vs x') # title "
   ]
  },
  {
   "cell_type": "markdown",
   "metadata": {},
   "source": [
    "In the previous code, instead of creating a global figure instance, there is a reference stored for the new figure instance created in the `fig` variable. From this variable a new axis instance is created (`axes`) using the `add_axes` method available in the `figure` class."
   ]
  },
  {
   "cell_type": "markdown",
   "metadata": {},
   "source": [
    "Now we could play a bit more with the figure, as we have full control on the axes:"
   ]
  },
  {
   "cell_type": "code",
   "execution_count": null,
   "metadata": {
    "scrolled": true
   },
   "outputs": [],
   "source": [
    "fig = plt.figure()\n",
    "\n",
    "axes1 = fig.add_axes([0.1, 0.1, 0.8, 0.8]) # main axes\n",
    "axes2 = fig.add_axes([0.2, 0.5, 0.4, 0.3]) # inset axes\n",
    "\n",
    "# main figure\n",
    "axes1.plot(x, y, 'g')\n",
    "axes1.set_xlabel('x')\n",
    "axes1.set_ylabel('y')\n",
    "axes1.set_title('y vs x')\n",
    "\n",
    "# insert\n",
    "axes2.plot(y, x, 'r')\n",
    "axes2.set_xlabel('y')\n",
    "axes2.set_ylabel('x')\n",
    "axes2.set_title('x vs y');"
   ]
  },
  {
   "cell_type": "markdown",
   "metadata": {},
   "source": [
    "### Subplots\n",
    "\n",
    "Now, if there is no need of being explicit about the location of our plot axes, the easiest is to use `subplots`:"
   ]
  },
  {
   "cell_type": "code",
   "execution_count": null,
   "metadata": {},
   "outputs": [],
   "source": [
    "fig, axes = plt.subplots()\n",
    "\n",
    "axes.plot(x,y,'g')\n",
    "axes.set_xlabel('x')\n",
    "axes.set_ylabel('y')\n",
    "axes.set_title('y vs x')"
   ]
  },
  {
   "cell_type": "code",
   "execution_count": null,
   "metadata": {
    "scrolled": true
   },
   "outputs": [],
   "source": [
    "fig, axes = plt.subplots(nrows=1, ncols=2)\n",
    "\n",
    "axes[0].plot(x,y,'g')\n",
    "axes[1].plot(y,x,'r')\n",
    "axes[0].set_title('y vs x')\n",
    "axes[1].set_title('x vs y')\n",
    "axes[0].set_xlabel('x')\n",
    "axes[0].set_ylabel('y')\n",
    "axes[1].set_xlabel('y')\n",
    "axes[1].set_ylabel('x')"
   ]
  },
  {
   "cell_type": "markdown",
   "metadata": {},
   "source": [
    "There is a small problem with axes and labels being too close. We can improve that with the `fig.tight_layout` method that avoid the overlapping of content:"
   ]
  },
  {
   "cell_type": "code",
   "execution_count": null,
   "metadata": {
    "scrolled": true
   },
   "outputs": [],
   "source": [
    "fig, axes = plt.subplots(nrows=1, ncols=2)\n",
    "\n",
    "axes[0].plot(x,y,'g')\n",
    "axes[1].plot(y,x,'r')\n",
    "axes[0].set_title('y vs x')\n",
    "axes[1].set_title('x vs y')\n",
    "axes[0].set_xlabel('x')\n",
    "axes[0].set_ylabel('y')\n",
    "axes[1].set_xlabel('y')\n",
    "axes[1].set_ylabel('x')\n",
    "\n",
    "fig.tight_layout()"
   ]
  },
  {
   "cell_type": "markdown",
   "metadata": {},
   "source": [
    "We can also play with the number of subplots and insets. This can be done with `subplots`, `subplot2grid` and `gridspec`:"
   ]
  },
  {
   "cell_type": "code",
   "execution_count": null,
   "metadata": {},
   "outputs": [],
   "source": [
    "fig, ax = plt.subplots(2, 3)\n",
    "fig.tight_layout()"
   ]
  },
  {
   "cell_type": "code",
   "execution_count": null,
   "metadata": {
    "scrolled": true
   },
   "outputs": [],
   "source": [
    "fig = plt.figure()\n",
    "ax1 = plt.subplot2grid((3,3), (0,0), colspan=3)\n",
    "ax2 = plt.subplot2grid((3,3), (1,0), colspan=2)\n",
    "ax3 = plt.subplot2grid((3,3), (1,2), rowspan=2)\n",
    "ax4 = plt.subplot2grid((3,3), (2,0))\n",
    "ax5 = plt.subplot2grid((3,3), (2,1))\n",
    "fig.tight_layout()"
   ]
  },
  {
   "cell_type": "code",
   "execution_count": null,
   "metadata": {},
   "outputs": [],
   "source": [
    "import matplotlib.gridspec as gridspec\n",
    "\n",
    "fig = plt.figure()\n",
    "\n",
    "gs = gridspec.GridSpec(2, 3, height_ratios=[2,1], width_ratios=[1,2,1])\n",
    "for g in gs:\n",
    "    ax = fig.add_subplot(g)\n",
    "    \n",
    "fig.tight_layout()"
   ]
  },
  {
   "cell_type": "markdown",
   "metadata": {},
   "source": [
    "### Figure size, DPI, aspect ratio\n",
    "\n",
    "In Matplotlib we can specify the figure size, DPI and aspect ratio once the Figure object is created. The keywords for this are `figsize` and `dpi`. `figsize` is a tuple containing width and height in inches, while `dpi` contains the dots (pixels) per inch. Let's try a 800x400 pixel, 100 dots per inch figure:"
   ]
  },
  {
   "cell_type": "code",
   "execution_count": null,
   "metadata": {},
   "outputs": [],
   "source": [
    "fig = plt.figure(figsize=(8,4), dpi=100)"
   ]
  },
  {
   "cell_type": "markdown",
   "metadata": {},
   "source": [
    "We can also do the same using subplots:"
   ]
  },
  {
   "cell_type": "code",
   "execution_count": null,
   "metadata": {},
   "outputs": [],
   "source": [
    "fig, axes = plt.subplots(figsize=(8,4), dpi=100)\n",
    "\n",
    "axes.plot(x,y,'g')\n",
    "axes.set_xlabel('x')\n",
    "axes.set_ylabel('y')\n",
    "axes.set_title('y vs x')"
   ]
  },
  {
   "cell_type": "markdown",
   "metadata": {},
   "source": [
    "### Showing figures\n",
    "\n",
    "If you are not running Matplotlib in a jupyter notebook you need to specify `figure.show()` to show a figure or `plt.show()` to show all figures.\n",
    "\n",
    "### Saving figures\n",
    "\n",
    "To save a figure to a file we use the `savefig` method of the `figure` class.:"
   ]
  },
  {
   "cell_type": "code",
   "execution_count": null,
   "metadata": {},
   "outputs": [],
   "source": [
    "fig.savefig('images/figure.png')"
   ]
  },
  {
   "cell_type": "markdown",
   "metadata": {},
   "source": [
    "You can also specify the DPI and choose other formats like jpg, eps, svg, pgf and pdf. "
   ]
  },
  {
   "cell_type": "code",
   "execution_count": null,
   "metadata": {},
   "outputs": [],
   "source": [
    "fig.savefig('images/figure2.png', dpi=200)"
   ]
  },
  {
   "cell_type": "markdown",
   "metadata": {},
   "source": [
    "### Legends\n",
    "\n",
    "To add legends to the plot we use the `legend` method, and these can be added in two ways:\n",
    "\n",
    "* By passing the legend texts as a list/tuple\n"
   ]
  },
  {
   "cell_type": "code",
   "execution_count": null,
   "metadata": {},
   "outputs": [],
   "source": [
    "x = np.linspace(0,10,20)\n",
    "y = x**2\n",
    "z = x**3\n",
    "\n",
    "fig, ax = plt.subplots()\n",
    "\n",
    "ax.plot(x,y,'g')\n",
    "ax.plot(x,z,'r')\n",
    "ax.legend(['curve1','curve2'])"
   ]
  },
  {
   "cell_type": "markdown",
   "metadata": {},
   "source": [
    "The previous method is not so recommendable as curves can be easily mistaken if others are added.\n",
    "\n",
    "* By using the `label` keyword argument and then using `legend` without arguments."
   ]
  },
  {
   "cell_type": "code",
   "execution_count": null,
   "metadata": {},
   "outputs": [],
   "source": [
    "fig, ax = plt.subplots()\n",
    "ax.plot(x,y,label='curve1')\n",
    "ax.plot(x,z,label='curve2')\n",
    "ax.legend()"
   ]
  },
  {
   "cell_type": "markdown",
   "metadata": {},
   "source": [
    "If new curves are added, then the last method is better as legends will be updated automatically. A useful argument for this method is `loc`, which allows to specify the location of the legend. This is important as sometimes you face to the problem that the legend is overlapping an important part of your figure. The argument is simply `loc=x`, where x can be\n",
    "\n",
    "* 0 - matplotlib decides the best location\n",
    "* 1 - upper right corner\n",
    "* 2 - upper left corner\n",
    "* 3 - lower left corner\n",
    "* 4 - lower right corner\n",
    "\n",
    "Check [Matplotlib legend](https://matplotlib.org/stable/api/_as_gen/matplotlib.pyplot.legend.html) for more details, as many more options are available."
   ]
  },
  {
   "cell_type": "code",
   "execution_count": null,
   "metadata": {},
   "outputs": [],
   "source": [
    "fig, ax = plt.subplots()\n",
    "ax.plot(x,y,label='curve1')\n",
    "ax.plot(x,z,label='curve2')\n",
    "ax.legend(loc=3)"
   ]
  },
  {
   "cell_type": "markdown",
   "metadata": {},
   "source": [
    "Matplotlib already decided that the best location was upper left, but here we changed it just to visualize the `loc` argument."
   ]
  },
  {
   "cell_type": "markdown",
   "metadata": {},
   "source": [
    "### Text in figures\n",
    "\n",
    "Figures above are functional, but they can certainly be improved. In Matplotlib it is possible to include Latex formatted text. To accomplish this, we just need to use raw strings, i.e., to add a `r` before the Latex commands."
   ]
  },
  {
   "cell_type": "code",
   "execution_count": null,
   "metadata": {
    "scrolled": true
   },
   "outputs": [],
   "source": [
    "fig, ax = plt.subplots()\n",
    "\n",
    "ax.plot(x, y, label=r'$y = x^2$')\n",
    "ax.plot(x, z, label=r'$y = x^3$')\n",
    "ax.legend(loc=2) # upper left corner\n",
    "ax.set_xlabel(r'$x$', fontsize=18)\n",
    "ax.set_ylabel(r'$y$', fontsize=18)\n",
    "ax.set_title('Functions');"
   ]
  },
  {
   "cell_type": "markdown",
   "metadata": {},
   "source": [
    "### Line and marker styles\n",
    "\n",
    "To change the width of lines we use the `linewidth` or `lw` keyword argument. To change the style we use `linestyle` or `ls`. Markers are added with `marker`. Some markers options are `+`, `-`, `o`, `*`, `s`, `,`, `.`, etc. Check the following code to see how to use these arguments and how do they look:"
   ]
  },
  {
   "cell_type": "code",
   "execution_count": null,
   "metadata": {
    "scrolled": true
   },
   "outputs": [],
   "source": [
    "fig, ax = plt.subplots(figsize=(12,6))\n",
    "\n",
    "ax.plot(x, x+1, color=\"blue\", linewidth=0.25)\n",
    "ax.plot(x, x+2, color=\"blue\", linewidth=0.50)\n",
    "ax.plot(x, x+3, color=\"blue\", linewidth=1.00)\n",
    "ax.plot(x, x+4, color=\"blue\", linewidth=2.00)\n",
    "\n",
    "# possible linestype options ‘-‘, ‘--’, ‘-.’, ‘:’, ‘steps’\n",
    "ax.plot(x, x+5, color=\"red\", lw=2, linestyle='-')\n",
    "ax.plot(x, x+6, color=\"red\", lw=2, ls='-.')\n",
    "ax.plot(x, x+7, color=\"red\", lw=2, ls=':')\n",
    "\n",
    "# custom dash\n",
    "line, = ax.plot(x, x+8, color=\"black\", lw=1.50)\n",
    "line.set_dashes([5, 10, 15, 10]) # format: line length, space length, ...\n",
    "\n",
    "ax.plot(x, x+ 9, color=\"green\", lw=2, ls='--', marker='+')\n",
    "ax.plot(x, x+10, color=\"green\", lw=2, ls='--', marker='o')\n",
    "ax.plot(x, x+11, color=\"green\", lw=2, ls='--', marker='s')\n",
    "ax.plot(x, x+12, color=\"green\", lw=2, ls='--', marker='1')\n",
    "\n",
    "# marker size and color\n",
    "ax.plot(x, x+13, color=\"purple\", lw=1, ls='-', marker='o', markersize=2)\n",
    "ax.plot(x, x+14, color=\"purple\", lw=1, ls='-', marker='o', markersize=4)\n",
    "ax.plot(x, x+15, color=\"purple\", lw=1, ls='-', marker='o', markersize=8, markerfacecolor=\"red\")\n",
    "ax.plot(x, x+16, color=\"purple\", lw=1, ls='-', marker='s', markersize=8, markerfacecolor=\"yellow\", \n",
    "        markeredgewidth=2, markeredgecolor=\"blue\");\n",
    "ax.grid()"
   ]
  },
  {
   "cell_type": "markdown",
   "metadata": {},
   "source": [
    "### Twin axes\n",
    "\n",
    "When we want to plot dual axes in a figure, it is useful to check the `twinx` and `twiny` functions. Let's say we want to plot the area and the volume of `x`:"
   ]
  },
  {
   "cell_type": "code",
   "execution_count": null,
   "metadata": {},
   "outputs": [],
   "source": [
    "fig, ax1 = plt.subplots()\n",
    "\n",
    "ax1.plot(x, x**2, lw=2, color='g')\n",
    "ax1.set_ylabel(r\"Area $(m^2)$\", fontsize=18, color='g')\n",
    "for label in ax1.get_yticklabels():\n",
    "    label.set_color('g')\n",
    "    \n",
    "ax2 = ax1.twinx()\n",
    "ax2.plot(x, x**3, lw=2, color='r')\n",
    "ax2.set_ylabel(r\"Volume $(m^3)$\", fontsize=18, color='r')\n",
    "for label in ax2.get_yticklabels():\n",
    "    label.set_color('r')"
   ]
  },
  {
   "cell_type": "markdown",
   "metadata": {},
   "source": [
    "### More plot styles\n",
    "\n",
    "There are many plot styles available in [Matplotlib plots](https://matplotlib.org/stable/api/_as_gen/matplotlib.pyplot.plot.html). Here we will quickly check only some of them:"
   ]
  },
  {
   "cell_type": "code",
   "execution_count": null,
   "metadata": {
    "scrolled": false
   },
   "outputs": [],
   "source": [
    "data = np.linspace(0,5,10)\n",
    "data2 = np.random.randint(0,10,50)\n",
    "\n",
    "fig, axes = plt.subplots(1, 5, figsize=(12,3)) #We can omit the nrows and ncols and assign it directly\n",
    "\n",
    "axes[0].bar(data, data**2, color='purple', width=0.5)\n",
    "axes[0].set_title('bar')\n",
    "axes[0].grid()\n",
    "\n",
    "axes[1].step(data, data**2, lw=3, color='green')\n",
    "axes[1].set_title('step')\n",
    "axes[1].grid()\n",
    "\n",
    "axes[2].fill_between(data, data**2, data**3, color='yellow');\n",
    "axes[2].set_title('fill_between');\n",
    "axes[2].grid()\n",
    "\n",
    "axes[3].scatter(data, data + 0.15*np.random.randn(len(data)), color='black')\n",
    "axes[3].set_title('scatter')\n",
    "axes[3].grid()\n",
    "\n",
    "axes[4].hist(data2, bins=20, color='cyan')\n",
    "axes[4].set_title('hist')\n",
    "axes[4].grid()"
   ]
  },
  {
   "cell_type": "markdown",
   "metadata": {},
   "source": [
    "### Data as image\n",
    "\n",
    "We can also plot arrays as an image. For this we have the options of `imshow` and `pcolormesh`. Both options produce similar plots, but the difference is that **`pcolormesh`** is more flexible than **`imshow`** as the first one allows not equally spaced vectors."
   ]
  },
  {
   "cell_type": "code",
   "execution_count": null,
   "metadata": {},
   "outputs": [],
   "source": [
    "import matplotlib.pyplot as plt\n",
    "import numpy as np\n",
    "\n",
    "# x and y are evenly spaced\n",
    "x, y = np.meshgrid(np.linspace(-5, 5, 10), np.linspace(-5, 5, 10))\n",
    "z = x+y\n",
    "\n",
    "\n",
    "# a contains uneven sampling:\n",
    "a = [-4, -3, -2.6, -0.9, -0.1, 0.2, 0.4, 0.6, 2.8, 3.5, 4.7, 4.8, 4]\n",
    "b, c = np.meshgrid(a, np.linspace(-5, 5, 116))\n",
    "Z = b+c\n",
    "\n",
    "# plot\n",
    "fig, ax = plt.subplots(1,2)\n",
    "ax[0].imshow(z)\n",
    "ax[0].set_title('imshow')\n",
    "ax[1].pcolormesh(b, c, Z)\n",
    "ax[1].set_title('pcolormesh')"
   ]
  },
  {
   "cell_type": "markdown",
   "metadata": {},
   "source": [
    "<div class=\"alert alert-success\">\n",
    "<div class=\"alert alert-success\">\n",
    "<p style=\"font-weight: bold; font-size: 150%\">Task 9:</p>\n",
    "<ol>\n",
    "<li> Load the file data/gps_maule_coseismic.dat. This file contains longitude, latitude, displacement_east, displacement_north and displacement_up in [mm] for the coseismic period of the 2010 Maule earthquake.\n",
    "<li> Create a plot of each displacement component with the latitude on the x-axis.\n",
    "<li> Add different colors to each component and select different markers.\n",
    "<li> Plot the 3 displacement sets using 3 subplots.\n",
    "</div>"
   ]
  },
  {
   "cell_type": "code",
   "execution_count": null,
   "metadata": {},
   "outputs": [],
   "source": []
  },
  {
   "cell_type": "markdown",
   "metadata": {},
   "source": [
    "# Summary\n",
    "\n",
    "* You learned the basics of **`Matplotlib`**\n",
    "    - How to **import** it\n",
    "    - How to add **Axes**\n",
    "    - **Subplots**\n",
    "    - Figure **size**, **DPI** and **aspect ratio**\n",
    "    - You know how to **show** and **save** a figure\n",
    "    - You know how to add **legends**\n",
    "    - You can add **text** in a figure\n",
    "    - You learned to customize **lines**\n",
    "    - You can create **twin axes**\n",
    "    - You learned different **plot types**\n",
    "    \n",
    "<hr style=\"border:1.5px solid gray\">\n",
    "\n",
    "This notebook is based on the [GitHub project](https://github.com/EvaEibl/Volcanoseismology) created by Prof. Dr. Eva Eibl and Julian Niedermeier and the examples were taken from [here](https://github.com/jrjohansson/scientific-python-lectures)."
   ]
  }
 ],
 "metadata": {
  "kernelspec": {
   "display_name": "Python 3",
   "language": "python",
   "name": "python3"
  },
  "language_info": {
   "codemirror_mode": {
    "name": "ipython",
    "version": 3
   },
   "file_extension": ".py",
   "mimetype": "text/x-python",
   "name": "python",
   "nbconvert_exporter": "python",
   "pygments_lexer": "ipython3",
   "version": "3.6.9"
  }
 },
 "nbformat": 4,
 "nbformat_minor": 4
}
