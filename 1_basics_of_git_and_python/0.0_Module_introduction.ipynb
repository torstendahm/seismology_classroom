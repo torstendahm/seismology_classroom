{
 "cells": [
  {
   "cell_type": "markdown",
   "metadata": {},
   "source": [
    "# Introduction\n",
    "\n",
    "In this module you will find the basics about Git and the Python programming language. The main goal in this module is to learn the basics needed to code and perform different numerical tasks required during the master program.\n",
    "\n",
    "The submodules covered here are:\n",
    "\n",
    "* [GitHub](1.0_GitHub.ipynb) \n",
    "* [Python Introduction](2.0_Python_Introduction.ipynb) \n",
    "* [Variables and Types](2.1_Variables_and_Types.ipynb) \n",
    "* [Text and Variables](2.2_Text_and_Variables.ipynb) \n",
    "* [Containers](2.3_Containers.ipynb) \n",
    "* [Control Flow](2.4_Control_Flow.ipynb) \n",
    "* [Functions](2.5_Functions.ipynb) \n",
    "* [Classes](2.6_Classes.ipynb) \n",
    "* [Modules](2.7_Modules.ipynb) \n",
    "* [Numpy and Pandas](3.0_Numpy_and_Pandas.ipynb) \n",
    "* [Matplotlib](4.0_Matplotlib.ipynb) \n",
    "* [Gridded data plots](5.0_Plotting_gridded_data.ipynb) \n",
    "\n",
    "<div class=\"alert alert-block alert-info\">\n",
    "<b>Note:</b> Many Python versions can be installed simultaneously in your system. You can check your version by typing in the terminal <strong>python --version</strong>, or <strong>python3 --version</strong>. As Python3 has more updates that are not available in Python2, we will always use Python3 to run our scripts.\n",
    "</div>"
   ]
  }
 ],
 "metadata": {
  "kernelspec": {
   "display_name": "Python 3",
   "language": "python",
   "name": "python3"
  },
  "language_info": {
   "codemirror_mode": {
    "name": "ipython",
    "version": 3
   },
   "file_extension": ".py",
   "mimetype": "text/x-python",
   "name": "python",
   "nbconvert_exporter": "python",
   "pygments_lexer": "ipython3",
   "version": "3.6.9"
  }
 },
 "nbformat": 4,
 "nbformat_minor": 2
}
