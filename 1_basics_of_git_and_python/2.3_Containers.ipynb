{
 "cells": [
  {
   "cell_type": "markdown",
   "metadata": {},
   "source": [
    "# Containers\n",
    "\n",
    "## Introduction \n",
    "\n",
    "All Python objects that contain other objects are called containers. Here we will check 4 container types available within Python and the main usage of them. \n",
    "\n",
    "**Table of contents:**\n",
    "\n",
    "* [Lists](#List)\n",
    "* [Tuples](#Tuple)\n",
    "* [Sets](#Set)\n",
    "* [Dictionaries](#Dictionaries)\n"
   ]
  },
  {
   "cell_type": "markdown",
   "metadata": {},
   "source": [
    "## Lists\n",
    "\n",
    "A `list` can contain elements of any type. To create a `list` in Python we can use ths syntax `list()` or `[...]`. , Lists are *mutable* as the data stored in them can be modified and it is also possible to add data."
   ]
  },
  {
   "cell_type": "code",
   "execution_count": null,
   "metadata": {},
   "outputs": [],
   "source": [
    "a_list = [1,2,3,4]\n",
    "print(type(a_list))\n",
    "print(a_list)"
   ]
  },
  {
   "cell_type": "code",
   "execution_count": null,
   "metadata": {},
   "outputs": [],
   "source": [
    "a_list = list((1,2,3,4))\n",
    "print(type(a_list))\n",
    "print(a_list)"
   ]
  },
  {
   "cell_type": "markdown",
   "metadata": {},
   "source": [
    "We can access to the elements of a list by indexing the position. Here it is important to remember that Python starts at 0, and if we use negative values to index, then the count begin from the end of the list:"
   ]
  },
  {
   "cell_type": "code",
   "execution_count": null,
   "metadata": {},
   "outputs": [],
   "source": [
    "print(a_list[0])\n",
    "print(a_list[1])\n",
    "print(a_list[-1])\n",
    "print(a_list[1:2])"
   ]
  },
  {
   "cell_type": "markdown",
   "metadata": {},
   "source": [
    "We can also combine different data types on the same list:"
   ]
  },
  {
   "cell_type": "code",
   "execution_count": null,
   "metadata": {},
   "outputs": [],
   "source": [
    "combined_list = ['x', 2, 3.5, 'y', 4j]\n",
    "combined_list"
   ]
  },
  {
   "cell_type": "markdown",
   "metadata": {},
   "source": [
    "And we can even have nested lists:"
   ]
  },
  {
   "cell_type": "code",
   "execution_count": null,
   "metadata": {},
   "outputs": [],
   "source": [
    "nested_list = [10, ['a', 'b', 'c'], 4j]\n",
    "print(nested_list)\n",
    "nested_list[1]"
   ]
  },
  {
   "cell_type": "markdown",
   "metadata": {},
   "source": [
    "### Adding, inserting, modifying and removing elements "
   ]
  },
  {
   "cell_type": "markdown",
   "metadata": {},
   "source": [
    "* **Adding**: It is very common to start with an empty list and add values to it over time. This can be done with `.append(...)`"
   ]
  },
  {
   "cell_type": "code",
   "execution_count": null,
   "metadata": {},
   "outputs": [],
   "source": [
    "magnitudes = []\n",
    "\n",
    "magnitudes.append(9.6)\n",
    "magnitudes.append(8.2)\n",
    "magnitudes.append(8.8)\n",
    "\n",
    "print(magnitudes)"
   ]
  },
  {
   "cell_type": "markdown",
   "metadata": {},
   "source": [
    "* **Inserting**: We can insert new elements at an specific index using `insert` "
   ]
  },
  {
   "cell_type": "code",
   "execution_count": null,
   "metadata": {},
   "outputs": [],
   "source": [
    "magnitudes.insert(0, 'Valdivia')\n",
    "magnitudes.insert(2, 'Iquique')\n",
    "magnitudes.insert(4, 'Maule')\n",
    "print(magnitudes)"
   ]
  },
  {
   "cell_type": "markdown",
   "metadata": {},
   "source": [
    "* **Modifying**: As lists are *mutable*, we can assign new values to elements in a list. This is done by simply assigning a new value to the corresponding index."
   ]
  },
  {
   "cell_type": "code",
   "execution_count": null,
   "metadata": {},
   "outputs": [],
   "source": [
    "magnitudes[1] = 9.5\n",
    "print(magnitudes)"
   ]
  },
  {
   "cell_type": "markdown",
   "metadata": {},
   "source": [
    "* **Removing**: The command `remove` allows to delete the first element matching the input. The command `del` removes the element at the location given in the index:"
   ]
  },
  {
   "cell_type": "code",
   "execution_count": null,
   "metadata": {},
   "outputs": [],
   "source": [
    "magnitudes.remove('Valdivia')\n",
    "print(magnitudes)"
   ]
  },
  {
   "cell_type": "code",
   "execution_count": null,
   "metadata": {
    "scrolled": true
   },
   "outputs": [],
   "source": [
    "del magnitudes[0]\n",
    "print(magnitudes)"
   ]
  },
  {
   "cell_type": "markdown",
   "metadata": {},
   "source": [
    "<div class=\"alert alert-success\">\n",
    "    <strong>Task:</strong>\n",
    "    <li> The following list contains countries with some typos. Correct their names by modifying the list with the corresponding index.\n",
    "     <li> Print the list.\n",
    "     <li> Remove 2 of them.\n",
    "     <li> Print the list. \n",
    "</div>"
   ]
  },
  {
   "cell_type": "code",
   "execution_count": null,
   "metadata": {},
   "outputs": [],
   "source": [
    "countries = ['turky','chilee','germny','jpan','argetina','itly']"
   ]
  },
  {
   "cell_type": "markdown",
   "metadata": {},
   "source": [
    "## Tuples\n",
    "\n",
    "Tuples are very similar to lists, but unlike them, tuples cannot be modified once created, i.e., they are inmutable. In Python, tuples are created with the syntax `tuple((...))`, `(...)` or just `...`. If the tuple to be created contains a single element, then it needs to finish with a comma: `(value,)`."
   ]
  },
  {
   "cell_type": "code",
   "execution_count": null,
   "metadata": {},
   "outputs": [],
   "source": [
    "tuple_1 = (1, 2, 3)\n",
    "print(tuple_1, type(tuple_1))"
   ]
  },
  {
   "cell_type": "code",
   "execution_count": null,
   "metadata": {},
   "outputs": [],
   "source": [
    "tuple_1 = 1,2,3\n",
    "print(tuple_1)"
   ]
  },
  {
   "cell_type": "code",
   "execution_count": null,
   "metadata": {},
   "outputs": [],
   "source": [
    "tuple_1 = tuple((1,2,3))\n",
    "print(tuple_1)"
   ]
  },
  {
   "cell_type": "code",
   "execution_count": null,
   "metadata": {},
   "outputs": [],
   "source": [
    "tuple_1[1]"
   ]
  },
  {
   "cell_type": "code",
   "execution_count": null,
   "metadata": {},
   "outputs": [],
   "source": [
    "tuple_2 = (4,5)\n",
    "tuple_1 + tuple_2"
   ]
  },
  {
   "cell_type": "code",
   "execution_count": null,
   "metadata": {},
   "outputs": [],
   "source": [
    "a, b, c = tuple_1\n",
    "print('a =', a)\n",
    "print('b =', b)\n",
    "print('c =', c)"
   ]
  },
  {
   "cell_type": "markdown",
   "metadata": {},
   "source": [
    "If we try to assign a new value to an element in a tuple we will get an error:"
   ]
  },
  {
   "cell_type": "code",
   "execution_count": null,
   "metadata": {
    "scrolled": true
   },
   "outputs": [],
   "source": [
    "tuple_1[0] = 7"
   ]
  },
  {
   "cell_type": "markdown",
   "metadata": {},
   "source": [
    "<div class=\"alert alert-success\">\n",
    "    <strong>Task:</strong>\n",
    "    <li> Define a tuple called prime_numbers containing 10 prime numbers.\n",
    "    <li> Print the values at the index 2, 4 and 7.\n",
    "     <li> Define another tuple called random_numbers containing 10 random numbers.\n",
    "     <li> Add the tuples prime_numbers and random_numbers and print the result.\n",
    "</div>"
   ]
  },
  {
   "cell_type": "markdown",
   "metadata": {},
   "source": [
    "## `Set`\n",
    "\n",
    "A set stores multiple items in a single variable. It is a collection that store values only once, is unordered, unchangeable and unindexed, but you can remove and add items. This way, sets are useful to create unique lists.\n",
    "\n",
    "To create a set we use `set([])` or curly brackets `{}` and it can contain any data type.\n"
   ]
  },
  {
   "cell_type": "code",
   "execution_count": null,
   "metadata": {},
   "outputs": [],
   "source": [
    "set1 = {'a', 'b', 'c'}\n",
    "print(set1)\n",
    "set2 = {1, 2, 3}\n",
    "print(set2)\n",
    "set3 = {True, False, True}\n",
    "print(set3)\n",
    "set4 = set(['a',1,'b',4,True])\n",
    "print(set4)"
   ]
  },
  {
   "cell_type": "markdown",
   "metadata": {},
   "source": [
    "### Adding, removing, union and intersection "
   ]
  },
  {
   "cell_type": "code",
   "execution_count": null,
   "metadata": {},
   "outputs": [],
   "source": [
    "set1.add('1')"
   ]
  },
  {
   "cell_type": "code",
   "execution_count": null,
   "metadata": {},
   "outputs": [],
   "source": [
    "set1.add('a')"
   ]
  },
  {
   "cell_type": "code",
   "execution_count": null,
   "metadata": {},
   "outputs": [],
   "source": [
    "set4.remove(4)"
   ]
  },
  {
   "cell_type": "code",
   "execution_count": null,
   "metadata": {},
   "outputs": [],
   "source": [
    "set2.remove(2)"
   ]
  },
  {
   "cell_type": "code",
   "execution_count": null,
   "metadata": {},
   "outputs": [],
   "source": [
    "set2.discard(4)"
   ]
  },
  {
   "cell_type": "code",
   "execution_count": null,
   "metadata": {},
   "outputs": [],
   "source": [
    "set1.union(set2)"
   ]
  },
  {
   "cell_type": "code",
   "execution_count": null,
   "metadata": {
    "scrolled": true
   },
   "outputs": [],
   "source": [
    "set3.intersection(set4)"
   ]
  },
  {
   "cell_type": "markdown",
   "metadata": {},
   "source": [
    "<div class=\"alert alert-success\">\n",
    "    <strong>Task:</strong>\n",
    "        Check the following table:\n",
    "</div>\n",
    "\n",
    "| name| type | year\n",
    "|----|---|----|\n",
    "| tohoku | inverse | 2011|\n",
    "| samos | normal | 2020 |\n",
    "| alaska | transversal | 2018 |\n",
    "\n",
    "<div class=\"alert alert-success\">\n",
    "    <li> Create 3 sets storing: years, names, types.\n",
    "     <li> Create sets per event, i.e., storing the name, type and year of one event.\n",
    "     <li> Remove the data corresponding to the Alaska 2018 earthquake from every set created.\n",
    "</div>"
   ]
  },
  {
   "cell_type": "code",
   "execution_count": null,
   "metadata": {},
   "outputs": [],
   "source": []
  },
  {
   "cell_type": "markdown",
   "metadata": {},
   "source": [
    "## Dictionaries\n",
    "\n",
    "Dictionaries are similar to lists, but in dictionaries each element is a key-value pair. The syntax for dictionaries is `{key: value}` or `dict({key:value})`. Multiple pair can be written separated by a comma. All data types seen before are supported in a dictionary, but they are unordered like sets, so they do not support indexing ny number."
   ]
  },
  {
   "cell_type": "code",
   "execution_count": null,
   "metadata": {},
   "outputs": [],
   "source": [
    "parameters = {'par1': 1,\n",
    "              'par2': 2,\n",
    "              'par3': 3}\n",
    "print(parameters)"
   ]
  },
  {
   "cell_type": "markdown",
   "metadata": {},
   "source": [
    "A dictionary can also be created from a list of tuples."
   ]
  },
  {
   "cell_type": "code",
   "execution_count": null,
   "metadata": {},
   "outputs": [],
   "source": [
    "a_list = [('x', 1), ('y', 2), ('z', 3)]\n",
    "dict(a_list)"
   ]
  },
  {
   "cell_type": "markdown",
   "metadata": {},
   "source": [
    "* Accessing values by key"
   ]
  },
  {
   "cell_type": "code",
   "execution_count": null,
   "metadata": {},
   "outputs": [],
   "source": [
    "magnitudes = {\n",
    "    'valdivia': 9.5,\n",
    "    'iquique': 8.2,\n",
    "    'maule': 8.8,\n",
    "    'illapel': 8.4}"
   ]
  },
  {
   "cell_type": "code",
   "execution_count": null,
   "metadata": {},
   "outputs": [],
   "source": [
    "magnitudes['iquique']"
   ]
  },
  {
   "cell_type": "code",
   "execution_count": null,
   "metadata": {},
   "outputs": [],
   "source": [
    "magnitudes['illapel']"
   ]
  },
  {
   "cell_type": "markdown",
   "metadata": {},
   "source": [
    "* Adding values to a dict: We can use `dict.update` to add new values."
   ]
  },
  {
   "cell_type": "code",
   "execution_count": null,
   "metadata": {},
   "outputs": [],
   "source": [
    "other_earthquake = {'aysen': 6.2}\n",
    "magnitudes.update(other_earthquake) \n",
    "print(magnitudes)"
   ]
  },
  {
   "cell_type": "markdown",
   "metadata": {},
   "source": [
    "<div class=\"alert alert-success\">\n",
    "    <strong>Task:</strong>\n",
    "    <li> Create a dictionary containing 5 volcanoes names and its most recent eruption year.\n",
    "</div>"
   ]
  },
  {
   "cell_type": "code",
   "execution_count": null,
   "metadata": {},
   "outputs": [],
   "source": []
  },
  {
   "cell_type": "markdown",
   "metadata": {},
   "source": [
    "# Summary\n",
    "\n",
    "* You learned the **basic containers** in Python (`list`, `dict`, `tuple`, `set`).\n",
    "* You can operate with the containers (**add**, **remove**, **update**)."
   ]
  }
 ],
 "metadata": {
  "kernelspec": {
   "display_name": "Python 3",
   "language": "python",
   "name": "python3"
  },
  "language_info": {
   "codemirror_mode": {
    "name": "ipython",
    "version": 3
   },
   "file_extension": ".py",
   "mimetype": "text/x-python",
   "name": "python",
   "nbconvert_exporter": "python",
   "pygments_lexer": "ipython3",
   "version": "3.6.9"
  }
 },
 "nbformat": 4,
 "nbformat_minor": 4
}
