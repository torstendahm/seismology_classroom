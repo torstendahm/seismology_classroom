{
 "cells": [
  {
   "cell_type": "markdown",
   "id": "adca2b02",
   "metadata": {},
   "source": [
    "# Variables and Types\n",
    "\n",
    "## Introduction\n",
    "\n",
    "In Python we can not handle each data in the same way, as it will depend on the data type. Here we will learn how the variables are defined, which data types exist and how to work with them.\n",
    "\n",
    "**Table of Contents**\n",
    "\n",
    "* [Symbols](#Symbols)\n",
    "* [Assignment](#Assignment)\n",
    "* [Data Types](#Data-Types)\n",
    "* [Operators](#Relational-operators)\n",
    "* [Conversion](#Conversion)\n",
    "* [Math](#Practice-some-math)\n",
    "\n",
    "## Symbols\n",
    "\n",
    "Variable names can contain alphanumerical characters `a-z`, `A-Z`, `0-9` and some special characters like `_`. \n",
    "\n",
    "One rule is that normal variable names **must** start with a letter. It is used as convention that variable names start with a lower-case letter and Class names start with a capital letter (we will check what a Class is later in the module 2.6).\n",
    "\n",
    "\n",
    "It is important to know that there are certain Python keywords that cannot be used as variable names:\n",
    "<div class=\"alert alert-danger\">\n",
    "and, as, assert, break, class, complex, continue, def, del, elif, else, except, \n",
    "exec, finally, for, from, global, if, import, in, is, lambda, not, or,\n",
    "pass, print, raise, return, try, while, with, yield\n",
    "</div>\n",
    "\n",
    "## Assignment\n",
    "\n",
    "The assignment operator in Python is `=`. As Python is a dynamically typed language, it is not necessary to specify the type of variable when we are creating one. \n",
    "\n",
    "So, to **declare** a variable and **assign** it a value, we just do `my_variable = value`. For example:"
   ]
  },
  {
   "cell_type": "code",
   "execution_count": null,
   "id": "3dd8a13b",
   "metadata": {},
   "outputs": [],
   "source": [
    "my_variable = 7"
   ]
  },
  {
   "cell_type": "markdown",
   "id": "64b7e2fe",
   "metadata": {},
   "source": [
    "After declaring the variable you can later access to the stored value just with the name you gave:"
   ]
  },
  {
   "cell_type": "code",
   "execution_count": null,
   "id": "a2bdd23d",
   "metadata": {},
   "outputs": [],
   "source": [
    "my_variable"
   ]
  },
  {
   "cell_type": "markdown",
   "id": "00925400",
   "metadata": {},
   "source": [
    "## Data Types\n",
    "\n",
    "All variables have a type, even those where the type was not specified (as `my_variable` declared before). To check the type of a variable we can use `type(variable)`."
   ]
  },
  {
   "cell_type": "code",
   "execution_count": null,
   "id": "feee2284",
   "metadata": {},
   "outputs": [],
   "source": [
    "type(my_variable)"
   ]
  },
  {
   "cell_type": "markdown",
   "id": "bb61f35c",
   "metadata": {},
   "source": [
    "In this case, `my_variable` is `int`, meaning that it is a numerical data type and contains an integer. Let's check the fundamental data types in Python."
   ]
  },
  {
   "cell_type": "markdown",
   "id": "f7b29f55",
   "metadata": {},
   "source": [
    "* **Integers**: As in the previous example, integers are a set of whole positive and negative numbers. "
   ]
  },
  {
   "cell_type": "code",
   "execution_count": null,
   "id": "b8b6aa50",
   "metadata": {},
   "outputs": [],
   "source": [
    "an_integer = 1\n",
    "type(an_integer)"
   ]
  },
  {
   "cell_type": "markdown",
   "id": "fe2beab4",
   "metadata": {},
   "source": [
    "* **Floats**: rational numbers."
   ]
  },
  {
   "cell_type": "code",
   "execution_count": null,
   "id": "930e89ac",
   "metadata": {},
   "outputs": [],
   "source": [
    "a_float = 1.0\n",
    "type(a_float)"
   ]
  },
  {
   "cell_type": "markdown",
   "id": "1a755dc7",
   "metadata": {},
   "source": [
    "* **Complex**: numbers represented by `x + yj`, where x is the real part and y is the imaginary part. To define which part is the imaginary one, we denote it with an additional `j` (`J` also works)."
   ]
  },
  {
   "cell_type": "code",
   "execution_count": null,
   "id": "75a1d1fc",
   "metadata": {},
   "outputs": [],
   "source": [
    "a_complex = 2 + 7j\n",
    "type(a_complex)"
   ]
  },
  {
   "cell_type": "markdown",
   "id": "f83fad9e",
   "metadata": {},
   "source": [
    "* **Boolean**: truth values represented by `True` or `False`. These are useful in conditional statements (you will see this later). Internally, `True` equals 1 and `False` equals 0."
   ]
  },
  {
   "cell_type": "code",
   "execution_count": null,
   "id": "543d9d07",
   "metadata": {},
   "outputs": [],
   "source": [
    "bool_1 = False\n",
    "bool_2 = True\n",
    "type(bool_1)\n",
    "type(bool_2)"
   ]
  },
  {
   "cell_type": "markdown",
   "id": "221ea98e",
   "metadata": {},
   "source": [
    "* **None**: represents no value available."
   ]
  },
  {
   "cell_type": "code",
   "execution_count": null,
   "id": "23b8a5a9",
   "metadata": {},
   "outputs": [],
   "source": [
    "a_none = None\n",
    "type(a_none)"
   ]
  },
  {
   "cell_type": "markdown",
   "id": "9a338617",
   "metadata": {},
   "source": [
    "* **String**: textual data. In Python it is called `str` and is defined with `''` or `str('')`."
   ]
  },
  {
   "cell_type": "code",
   "execution_count": null,
   "id": "af2631b1",
   "metadata": {},
   "outputs": [],
   "source": [
    "a_string = 'Hello world'\n",
    "type(a_string)"
   ]
  },
  {
   "cell_type": "markdown",
   "id": "a5e7b273",
   "metadata": {},
   "source": [
    "## Operators\n",
    "\n",
    "* To compare values we use relational operators:\n",
    "\n",
    "| Operator | Description | Syntax\n",
    "|----|---|----|\n",
    "| `==` | Equal to. True if both values are equal. | `x == y`|\n",
    "| `!=`  | Not equal to. True, if both values are not equal. | `x != y` |\n",
    "| `<` | Less than. True if left value is less than right value. | `x < y` |\n",
    "| `>` | Greater than. True if left value is greater than right value. | `x > y` |\n",
    "| `<=`  | Less than or equal to. True if left value is at most the right value. | `x <= y` |\n",
    "| `>=`  | Greater than or equal to. True if left value is at least the right value. | `x >= y` |\n",
    "\n",
    "* Arithmetic operators in Python work as one would expect:\n",
    "\n",
    "| Operator | Description | Syntax\n",
    "|----|---|----|\n",
    "| `+` | Addition. | `x + y`|\n",
    "| `-`  | Subtraction. | `x - y` |\n",
    "| `*` | Multiplication. | `x * y` |\n",
    "| `/` | Division. | `x / y` |\n",
    "| `//`  | Floor division. | `x // y` |\n",
    "| `**`  | Exponentiation. | `x ** y` |\n",
    "| `%`  | Modulus. | `x % y` |\n",
    "\n",
    "* Boolean operators:\n",
    "\n",
    "| Operator | Description | Syntax\n",
    "|----|---|----|\n",
    "| `and` | It takes two arguments. Evaluates `False` unless both values are `True`. | `x and y`|\n",
    "| `not` | Only takes one argument and returns the opposite result. | `not x` |\n",
    "| `or` | It takes two arguments. It is `True` unless both values are `False`. | `x or y` |\n"
   ]
  },
  {
   "cell_type": "code",
   "execution_count": null,
   "id": "9345f700",
   "metadata": {},
   "outputs": [],
   "source": [
    "a = 1\n",
    "b = 2\n",
    "c = 'hello world'\n",
    "d = 'Hello world'\n",
    "a == b\n",
    "a != b\n",
    "c == d"
   ]
  },
  {
   "cell_type": "code",
   "execution_count": null,
   "id": "d0c34457",
   "metadata": {},
   "outputs": [],
   "source": [
    "a / b\n",
    "a // b"
   ]
  },
  {
   "cell_type": "markdown",
   "id": "0dea56b0",
   "metadata": {},
   "source": [
    "<div class=\"alert alert-warning\">\n",
    "<strong>Note</strong>: We already said at the beginning of the course that we use Python3, but it is worth to mention that the `/` operator always performs a floating point division in Python3, which is not true in Python2, where the result of `/` is always an integer if the operand are integers too. \n",
    "    \n",
    "    \n",
    "<li>`1/2` = 0.5 in Python3 (float).\n",
    "<li> `1/2 = 0` in Python2 (int). \n",
    "<li> `1.0/2 = 0.5` in Python2 (float).\n",
    "\n",
    "</div>"
   ]
  },
  {
   "cell_type": "markdown",
   "id": "e2c0afe5",
   "metadata": {},
   "source": [
    "<div class=\"alert alert-success\">\n",
    "<strong>Task</strong>: \n",
    "    <li>Compare by yourself the variables defined with the other operators.\n",
    "    <li>Define other variables and make comparisons as you wish. \n",
    "</div>"
   ]
  },
  {
   "cell_type": "code",
   "execution_count": null,
   "id": "a5893c6d",
   "metadata": {},
   "outputs": [],
   "source": []
  },
  {
   "cell_type": "markdown",
   "id": "83e03cb8",
   "metadata": {},
   "source": [
    "## Conversion\n",
    "\n",
    "Let's convert different data types."
   ]
  },
  {
   "cell_type": "code",
   "execution_count": null,
   "id": "da9670f9",
   "metadata": {},
   "outputs": [],
   "source": [
    "an_integer = 1\n",
    "a_float = 1.5\n",
    "a_bool = True\n",
    "a_string = '10'"
   ]
  },
  {
   "cell_type": "markdown",
   "id": "a65ed219",
   "metadata": {},
   "source": [
    "* To integer:"
   ]
  },
  {
   "cell_type": "code",
   "execution_count": null,
   "id": "ff2247a0",
   "metadata": {},
   "outputs": [],
   "source": [
    "int(a_float)"
   ]
  },
  {
   "cell_type": "code",
   "execution_count": null,
   "id": "e902aeeb",
   "metadata": {},
   "outputs": [],
   "source": [
    "int(a_bool)"
   ]
  },
  {
   "cell_type": "code",
   "execution_count": null,
   "id": "17968ab1",
   "metadata": {},
   "outputs": [],
   "source": [
    "int(a_string)"
   ]
  },
  {
   "cell_type": "markdown",
   "id": "ac9e3c4d",
   "metadata": {},
   "source": [
    "* To float:"
   ]
  },
  {
   "cell_type": "code",
   "execution_count": null,
   "id": "f9aa55aa",
   "metadata": {},
   "outputs": [],
   "source": [
    "float(an_integer)"
   ]
  },
  {
   "cell_type": "code",
   "execution_count": null,
   "id": "cc7a875d",
   "metadata": {},
   "outputs": [],
   "source": [
    "float(a_bool)"
   ]
  },
  {
   "cell_type": "code",
   "execution_count": null,
   "id": "f421e8bb",
   "metadata": {},
   "outputs": [],
   "source": [
    "float(a_string)"
   ]
  },
  {
   "cell_type": "markdown",
   "id": "f122c55c",
   "metadata": {},
   "source": [
    "* To string:"
   ]
  },
  {
   "cell_type": "code",
   "execution_count": null,
   "id": "d0a2fc80",
   "metadata": {},
   "outputs": [],
   "source": [
    "str(an_integer)"
   ]
  },
  {
   "cell_type": "code",
   "execution_count": null,
   "id": "883d7850",
   "metadata": {},
   "outputs": [],
   "source": [
    "str(a_float)"
   ]
  },
  {
   "cell_type": "code",
   "execution_count": null,
   "id": "60421556",
   "metadata": {},
   "outputs": [],
   "source": [
    "str(a_bool)"
   ]
  },
  {
   "cell_type": "markdown",
   "id": "323ec28e",
   "metadata": {},
   "source": [
    "### Practice some math\n",
    "\n",
    "<div class=\"alert alert-success\">\n",
    "<strong> Task </strong>: With the operators shown before, use the code cell below to perform different math operations. Some ideas could be: addition of integers, addition of an integer and a float, multiplication of an integer and a boolean, addition of strings, etc.\n",
    "</div>"
   ]
  },
  {
   "cell_type": "code",
   "execution_count": null,
   "id": "af337f26",
   "metadata": {},
   "outputs": [],
   "source": []
  },
  {
   "cell_type": "markdown",
   "id": "4d99bacf",
   "metadata": {},
   "source": [
    "In Python we can also modify a variable by combining `=` with an operator. For example, instead of doing `x = x+2` we can do `x += 2`. Then, the relational operators would look like:\n",
    "\n",
    "| Operator | Description | Syntax\n",
    "|----|---|----|\n",
    "| `+=` | Addition. | `x += value`|\n",
    "| `-=`  | Subtraction. | `x -= value` |\n",
    "| `*=` | Multiplication. | `x *= value` |\n",
    "| `/=` | Division. | `x /= value` |\n",
    "| `//=`  | Floor division. | `x //= value` |\n",
    "| `**=`  | Exponentiation. | `x **= value` |\n",
    "| `%=`  | Modulus. | `x %= value |"
   ]
  },
  {
   "cell_type": "code",
   "execution_count": null,
   "id": "6fd72904",
   "metadata": {},
   "outputs": [],
   "source": [
    "value_1 = 20\n",
    "print(value_1)\n",
    "value_1 += 5\n",
    "print(value_1)"
   ]
  },
  {
   "cell_type": "markdown",
   "id": "2c277df6",
   "metadata": {},
   "source": [
    "## Summary\n",
    "\n",
    "* You learned the **syntax** to define variables in Python.\n",
    "* You learned how to **declare** a variable and how to **assign** a value to it.\n",
    "* You learned the main concepts about the **data types** int, float, complex, bool, and str and how to convert them.\n",
    "* You learned the **operators** of Python, their syntax and how to compare data and do some math with them.\n",
    "* You know about **shorthand** operators to redefine a variable. \n",
    "\n",
    "<hr style=\"border:1.5px solid gray\">\n",
    "\n",
    "This notebook is based on the [GitHub project](https://github.com/EvaEibl/Volcanoseismology) created by Prof. Dr. Eva Eibl and Julian Niedermeier."
   ]
  }
 ],
 "metadata": {
  "kernelspec": {
   "display_name": "Python 3",
   "language": "python",
   "name": "python3"
  },
  "language_info": {
   "codemirror_mode": {
    "name": "ipython",
    "version": 3
   },
   "file_extension": ".py",
   "mimetype": "text/x-python",
   "name": "python",
   "nbconvert_exporter": "python",
   "pygments_lexer": "ipython3",
   "version": "3.6.9"
  }
 },
 "nbformat": 4,
 "nbformat_minor": 5
}
