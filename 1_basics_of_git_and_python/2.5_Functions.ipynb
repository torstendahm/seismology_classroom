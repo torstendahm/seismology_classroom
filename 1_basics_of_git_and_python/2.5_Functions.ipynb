{
 "cells": [
  {
   "cell_type": "markdown",
   "metadata": {},
   "source": [
    "# Functions\n",
    "\n",
    "## Introduction\n",
    "\n",
    "A Function is a block of code that will return a result depending on the input. It is a reusable code that will run only when called. This notebook will show you the main structure of a function in terms of syntax and arguments.\n",
    "\n",
    "**Table of contents:**\n",
    "\n",
    "* [How does a function look like?](#How-does-a-function-look-like?)\n",
    "* [Arguments](#Arguments)\n",
    "* [`lambda` function](#lambda-function)\n",
    "\n",
    "\n",
    "\n",
    "## How does a function look like?\n",
    "\n",
    "Functions in Python are defined with the keyword `def`. This is followed by a function name, parentheses `()` and a colon `:`. Then, a function looks like:"
   ]
  },
  {
   "cell_type": "code",
   "execution_count": null,
   "metadata": {},
   "outputs": [],
   "source": [
    "def myfunction():\n",
    "    print('function test')"
   ]
  },
  {
   "cell_type": "markdown",
   "metadata": {},
   "source": [
    "As `myfunction` does not ask for any argument, we can call it simply with:"
   ]
  },
  {
   "cell_type": "code",
   "execution_count": null,
   "metadata": {},
   "outputs": [],
   "source": [
    "myfunction()"
   ]
  },
  {
   "cell_type": "markdown",
   "metadata": {},
   "source": [
    "Something highly recommended is to define a \"docstring\", which contains the description of the function, i.e., what is done and how it is done. Let's add a docstring to the previous function:\n",
    "\n"
   ]
  },
  {
   "cell_type": "code",
   "execution_count": null,
   "metadata": {},
   "outputs": [],
   "source": [
    "def myfunction():\n",
    "    \"\"\"\n",
    "    myfunction prints the string 'function test'\n",
    "    \"\"\"\n",
    "    print('function test')"
   ]
  },
  {
   "cell_type": "markdown",
   "metadata": {},
   "source": [
    "If you want to know the description of a function, you could use `help` to get more information."
   ]
  },
  {
   "cell_type": "code",
   "execution_count": null,
   "metadata": {},
   "outputs": [],
   "source": [
    "help(myfunction)"
   ]
  },
  {
   "cell_type": "markdown",
   "metadata": {},
   "source": [
    "Let's define another function with arguments in it. For example, we could define a function that calculates the square of a value."
   ]
  },
  {
   "cell_type": "code",
   "execution_count": null,
   "metadata": {
    "slideshow": {
     "slide_type": "-"
    },
    "tags": [
     "raises-exception"
    ]
   },
   "outputs": [],
   "source": [
    "def square(x):\n",
    "    \"\"\"\n",
    "    Return the square of x\n",
    "    \"\"\"\n",
    "    return x**2"
   ]
  },
  {
   "cell_type": "code",
   "execution_count": null,
   "metadata": {},
   "outputs": [],
   "source": [
    "square(3)"
   ]
  },
  {
   "cell_type": "markdown",
   "metadata": {},
   "source": [
    "<div class=\"alert alert-info\">\n",
    "Like the example above, when a function gives back a value (or multiple values), we use the `return` statement to define this \n",
    "value. This simply indicates <strong>what</strong> to return. But, if `return` is not provided, then Python will return None:\n",
    "</div>"
   ]
  },
  {
   "cell_type": "code",
   "execution_count": null,
   "metadata": {},
   "outputs": [],
   "source": [
    "def square2(x):\n",
    "    \"\"\"\n",
    "    Return the square of x\n",
    "    \"\"\"\n",
    "    x**2\n",
    "\n",
    "square2(3) #Nothing happens, as None is \"hidden\"\n",
    "x = square2(3)\n",
    "print(x)"
   ]
  },
  {
   "cell_type": "markdown",
   "metadata": {},
   "source": [
    "## Arguments\n",
    "\n",
    "The arguments of a function are specified inside the parenthesis. The previous example contained one single argument meaning that the function will work only when one argument is provided. But we can add as many arguments as we like. This is donde by simply separating them with a comma. In Python documentations sometimes you find the shortened word *args* but this is also referring to arguments. \n",
    "\n",
    "### Positional arguments (args)\n",
    "\n",
    "Positional arguments are the first ones in the list of all arguments. To specify their values it is important to do it in the same order they were specified in the function."
   ]
  },
  {
   "cell_type": "code",
   "execution_count": null,
   "metadata": {},
   "outputs": [],
   "source": [
    "def speed(d ,t):\n",
    "    return d/t"
   ]
  },
  {
   "cell_type": "markdown",
   "metadata": {},
   "source": [
    "Let's calculate the speed of an object that covered 10 meters in 5 seconds:"
   ]
  },
  {
   "cell_type": "code",
   "execution_count": null,
   "metadata": {},
   "outputs": [],
   "source": [
    "speed(10,5)"
   ]
  },
  {
   "cell_type": "markdown",
   "metadata": {},
   "source": [
    "But, what happens if I forget the order? Like:"
   ]
  },
  {
   "cell_type": "code",
   "execution_count": null,
   "metadata": {},
   "outputs": [],
   "source": [
    "speed(5,10)"
   ]
  },
  {
   "cell_type": "markdown",
   "metadata": {},
   "source": [
    "Result would be different. Then, I should define the value with the given name:"
   ]
  },
  {
   "cell_type": "code",
   "execution_count": null,
   "metadata": {},
   "outputs": [],
   "source": [
    "speed(t=5, d=10)"
   ]
  },
  {
   "cell_type": "markdown",
   "metadata": {},
   "source": [
    "### *args\n",
    "\n",
    "When you do not know hoy many positional arguments will be given to your function, you can add `*` before the argument name. This `*` inidicates that a tuple will be received, which means that values can be accessed with **args[index]**."
   ]
  },
  {
   "cell_type": "code",
   "execution_count": null,
   "metadata": {},
   "outputs": [],
   "source": [
    "def memo(note, *args):\n",
    "    print(note)\n",
    "    print(args)\n",
    "\n",
    "memo(3,'check stations list', 2022)"
   ]
  },
  {
   "cell_type": "markdown",
   "metadata": {},
   "source": [
    "### Keyword arguments (kwargs)\n",
    "\n",
    "Keyword arguments comes after the positional arguments. They are explicitly listed with a name so they do not need to be called in the same order. Besides, we could use the default value, change only one or both:"
   ]
  },
  {
   "cell_type": "code",
   "execution_count": null,
   "metadata": {},
   "outputs": [],
   "source": [
    "def speed2(d=30, t=15):\n",
    "    return d/t\n",
    "\n",
    "speed2()"
   ]
  },
  {
   "cell_type": "code",
   "execution_count": null,
   "metadata": {},
   "outputs": [],
   "source": [
    "speed2(t=10)"
   ]
  },
  {
   "cell_type": "code",
   "execution_count": null,
   "metadata": {},
   "outputs": [],
   "source": [
    "speed2(d=15,t=3)"
   ]
  },
  {
   "cell_type": "markdown",
   "metadata": {},
   "source": [
    "### *kwargs\n",
    "\n",
    "When you do not know how many keyword arguments will be given to your function, you can add `*` before the keyword argument name. Unlike `*args`, it is a dictionary that will store the unknown kwargs, and the values can be accessed with **kwargs[keyword]**. "
   ]
  },
  {
   "cell_type": "code",
   "execution_count": null,
   "metadata": {},
   "outputs": [],
   "source": [
    "def memo2(**kwargs):\n",
    "    print('kwargs:', kwargs)\n",
    "    \n",
    "memo2(to_do='Finish report', deadline=30, scolarship_renew='october')"
   ]
  },
  {
   "cell_type": "markdown",
   "metadata": {},
   "source": [
    "## `lambda` function\n",
    "\n",
    "`lambda` is a keyword to create unnamed functions. Let's define two functions that perform the same task. `f1` will be defined in the way we already learned, and `f2` will be defined with the `lambda` keyword:"
   ]
  },
  {
   "cell_type": "code",
   "execution_count": null,
   "metadata": {},
   "outputs": [],
   "source": [
    "def f1(x):\n",
    "    return x**3\n",
    "\n",
    "f2 = lambda x: x**3\n",
    "\n",
    "#Let's execute f1 and f2:\n",
    "\n",
    "f1(2), f2(2)"
   ]
  },
  {
   "cell_type": "markdown",
   "metadata": {},
   "source": [
    "This becomes useful when we want to use a simple function as argument for another function. Let's check the built-in function `map` that makes an iterator of the results after applying a given function to each item of an iterable (list, tuple, etc). Instead of defining the function with `def`, we can include it directly as an argument. In the following example, we will ask for a function that returns the doubled values of a tuple:"
   ]
  },
  {
   "cell_type": "code",
   "execution_count": null,
   "metadata": {},
   "outputs": [],
   "source": [
    "values = (1, 2, 3, 4)\n",
    "result = map(lambda x: x*2, values)\n",
    "#To visualize the results we transform the map object into a list:\n",
    "result, list(result)"
   ]
  },
  {
   "cell_type": "markdown",
   "metadata": {},
   "source": [
    "# Summary\n",
    "\n",
    "* You know **what a function is**.\n",
    "* You know the **syntax of a function** (def ...).\n",
    "* You learned to use **return**.\n",
    "* You know the **different arguments of a function** (positional, keyword) and how to build functions with them.\n",
    "* You learned about the **lambda** function.\n",
    "\n",
    "<hr style=\"border:1.5px solid gray\">\n",
    "\n",
    "This notebook is based on the [GitHub project](https://github.com/EvaEibl/Volcanoseismology) created by Prof. Dr. Eva Eibl and Julian Niedermeier."
   ]
  }
 ],
 "metadata": {
  "kernelspec": {
   "display_name": "Python 3",
   "language": "python",
   "name": "python3"
  },
  "language_info": {
   "codemirror_mode": {
    "name": "ipython",
    "version": 3
   },
   "file_extension": ".py",
   "mimetype": "text/x-python",
   "name": "python",
   "nbconvert_exporter": "python",
   "pygments_lexer": "ipython3",
   "version": "3.6.9"
  }
 },
 "nbformat": 4,
 "nbformat_minor": 4
}
