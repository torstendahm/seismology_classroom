{
 "cells": [
  {
   "cell_type": "markdown",
   "metadata": {},
   "source": [
    "# Visualization of gridded data\n",
    "\n",
    "## Introduction\n",
    "\n",
    "This notebook refers to an example to plot gridded data. We will check 3 examples using imshow, pcolormesh and finally using Basemap to plot a dataset on a map.\n",
    "\n",
    "**Table of Contents:**\n",
    "\n",
    "* [imshow](#imshow)\n",
    "* [pcolormesh](#pcolormesh)\n",
    "* [Using Basemap](#Using-Basemap)"
   ]
  },
  {
   "cell_type": "markdown",
   "metadata": {},
   "source": [
    "## `imshow` \n",
    "\n",
    "With imshow we can display data as an image, i.e., on a 2D regular raster. Let's create a random dataset:"
   ]
  },
  {
   "cell_type": "code",
   "execution_count": null,
   "metadata": {},
   "outputs": [],
   "source": [
    "import matplotlib.pyplot as plt\n",
    "\n",
    "data = [ [0,0,0,0,0,1,4,1,1,0],\n",
    "         [0,0,0,0,0,3,0,0,1,0],\n",
    "         [0,0,1,0,1,0,2,1,0,0],\n",
    "         [0,0,1,0,0,1,9,0,1,0],\n",
    "         [0,0,1,0,1,0,0,2,1,0],\n",
    "         [1,0,0,1,0,1,0,0,1,0],\n",
    "         [0,1,0,0,0,1,1,3,1,1],\n",
    "         [0,1,0,0,0,0,1,3,1,1],\n",
    "         [1,0,0,0,1,1,1,2,1,0],\n",
    "         [1,1,1,1,0,0,4,1,1,0] ]\n",
    "plt.imshow(data)\n",
    "plt.show()"
   ]
  },
  {
   "cell_type": "markdown",
   "metadata": {},
   "source": [
    "## `pcolormesh`\n",
    "\n",
    "We could also use *pcolormesh*, which creates a pseudocolor plot. Let's create a non-rectangular dataset:"
   ]
  },
  {
   "cell_type": "code",
   "execution_count": null,
   "metadata": {},
   "outputs": [],
   "source": [
    "import matplotlib.pyplot as plt\n",
    "import numpy as np\n",
    "\n",
    "x = np.linspace(0,4)\n",
    "y = np.linspace(0,1)\n",
    "\n",
    "def f(x, y):\n",
    "    return y * np.sin(x) \n",
    "\n",
    "X, Y = np.meshgrid(x,y)\n",
    "Z = np.zeros((50,50))\n",
    "\n",
    "for i in range(50):\n",
    "   for j in range(50):\n",
    "       Z[i,j] = f(X[i,j],Y[i,j])\n",
    "\n",
    "plt.pcolormesh(X, Y, Z)\n",
    "plt.show()"
   ]
  },
  {
   "cell_type": "markdown",
   "metadata": {},
   "source": [
    "# Using Basemap\n",
    "\n",
    "Here we will use the interpolation subpackage contained in [SciPy](3.2_Appendix_Scipy.ipynb). The following example shows how to create a map using Basemap and include in it the slip data of the 2010 Maule earthquake in Chile. The data contain 3 columns (longitude, latitude and slip) and we want to interpolate these points to a regular grid."
   ]
  },
  {
   "cell_type": "code",
   "execution_count": null,
   "metadata": {
    "scrolled": true
   },
   "outputs": [],
   "source": [
    "import numpy as np\n",
    "from scipy.interpolate import griddata\n",
    "import matplotlib.pyplot as plt\n",
    "from mpl_toolkits.basemap import Basemap\n",
    "\n",
    "data = np.loadtxt(fname='data/slip_maule.xyz')\n",
    "slip = data[:,2]\n",
    "lat = data[:,1]\n",
    "lon = data[:,0]\n",
    "\n",
    "#Let's define the map extension by giving some coordinates\n",
    "lat1=-40; lat2=-32; lon1=-76; lon2=-71\n",
    "\n",
    "#Now we use Basemap for the map creation\n",
    "m=Basemap(projection='merc', llcrnrlon=lon1, llcrnrlat=lat1, urcrnrlon=lon2,urcrnrlat=lat2, resolution='l')\n",
    "m.drawcoastlines(zorder=16)\n",
    "m.drawmeridians(np.arange(0,360,2),labels=[0,0,0,1])\n",
    "m.drawparallels(np.arange(-90,90,2),labels=[1,0,0,0])\n",
    "\n",
    "lonm, latm = m(lon, lat) #We take the coordinates as part of the map \n",
    "numcols, numrows = 100, 100\n",
    "xi = np.linspace(lonm.min(), lonm.max(), numcols)\n",
    "yi = np.linspace(latm.min(), latm.max(), numrows)\n",
    "xi, yi = np.meshgrid(xi, yi) #\n",
    "zi=griddata((lonm,latm),slip,(xi,yi),method ='linear')\n",
    "\n",
    "blevels_top=np.linspace(slip.min(),slip.max(),100)\n",
    "im=plt.contourf(xi,yi,zi,levels=blevels_top,cmap=plt.cm.hot_r,extend='max',zorder=15)\n",
    "level=np.linspace(0,6,10)\n",
    "cs =plt.contour(xi, yi, zi, levels=level, linewidths=0.5, colors='k',\n",
    "                linestyles = '-', zorder=15)\n",
    "ticks=np.linspace(0,40,9)\n",
    "plt.colorbar(im,ticks=ticks)\n",
    "                \n",
    "plt.title('Slip [m] - 2010 Maule earthquake')\n",
    "plt.show()   \n"
   ]
  },
  {
   "cell_type": "markdown",
   "metadata": {},
   "source": [
    "To check other tools, you can visit [Pyrocko-gridded data](https://pyrocko.org/docs/current/library/examples/plotting.html#map-with-gridded-data) to see another example on how to plot a map with gridded data included using GMT methods."
   ]
  },
  {
   "cell_type": "markdown",
   "metadata": {},
   "source": [
    "## Summary\n",
    "\n",
    "* You know how to use **imshow** and **pcolormesh** to plot gridded data.\n",
    "* You know how to interpolate gridded data and plot it using **Basemap**."
   ]
  }
 ],
 "metadata": {
  "kernelspec": {
   "display_name": "Python 3",
   "language": "python",
   "name": "python3"
  },
  "language_info": {
   "codemirror_mode": {
    "name": "ipython",
    "version": 3
   },
   "file_extension": ".py",
   "mimetype": "text/x-python",
   "name": "python",
   "nbconvert_exporter": "python",
   "pygments_lexer": "ipython3",
   "version": "3.6.9"
  }
 },
 "nbformat": 4,
 "nbformat_minor": 2
}
