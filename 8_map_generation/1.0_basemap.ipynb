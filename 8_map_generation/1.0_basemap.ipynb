{
 "cells": [
  {
   "cell_type": "markdown",
   "metadata": {},
   "source": [
    "# Basemap\n",
    "\n",
    "Basemap is a library to create maps using Python. This library provides many map projections and the methods to create data visualizations come from Matplotlib. \n",
    "\n",
    "It is important to mention that Basemap is under new management and the Cartopy project will replace Basemap in a future. The following examples aim at showing you other options.\n",
    "\n",
    "To install Basemap, check the [Installation](https://matplotlib.org/basemap/users/installing.html) or use [pip](https://pypi.org/project/basemap/).\n",
    "\n",
    "## Importing Basemap\n",
    "\n",
    "To import Basemap we do it from `mpl_toolkits.basemap`:"
   ]
  },
  {
   "cell_type": "code",
   "execution_count": null,
   "metadata": {},
   "outputs": [],
   "source": [
    "from mpl_toolkits.basemap import Basemap"
   ]
  },
  {
   "cell_type": "markdown",
   "metadata": {},
   "source": [
    "## Basic map generation\n",
    "\n",
    "Let's start with the simplest way of creating a map:"
   ]
  },
  {
   "cell_type": "code",
   "execution_count": null,
   "metadata": {},
   "outputs": [],
   "source": [
    "import matplotlib.pyplot as plt # We also include matplotlib to use the methods in it\n",
    "\n",
    "m = Basemap() # This line creates the map. When no option is given we get the Plate Carrée projection centered at 0,0\n",
    "m.drawcoastlines() #Coast lines \n",
    "plt.show() #To visualize the figure"
   ]
  },
  {
   "cell_type": "markdown",
   "metadata": {},
   "source": [
    "### Projections\n",
    "\n",
    "In Basemap we can define the projection of our map with the `projection` argument inside `Basemap`. The projections available are listed at [Basemap projections](https://matplotlib.org/basemap/users/mapsetup.html). Let's try the `Orthographic` projection, which displays the earth seen from a satellite:"
   ]
  },
  {
   "cell_type": "code",
   "execution_count": null,
   "metadata": {
    "scrolled": true
   },
   "outputs": [],
   "source": [
    "m = Basemap(projection='ortho', lat_0=0, lon_0=0)\n",
    "m.drawcoastlines()\n",
    "\n",
    "plt.show()"
   ]
  },
  {
   "cell_type": "markdown",
   "metadata": {},
   "source": [
    "Now let's go for a map of a certain region. To enclose a specific area we can define the borders with the coordinates."
   ]
  },
  {
   "cell_type": "code",
   "execution_count": null,
   "metadata": {
    "scrolled": true
   },
   "outputs": [],
   "source": [
    "lon_min = 6\n",
    "lon_max = 20\n",
    "lat_min = 36\n",
    "lat_max = 48\n",
    "\n",
    "m = Basemap(projection='merc', llcrnrlat=lat_min, urcrnrlat=lat_max, llcrnrlon=lon_min, urcrnrlon=lon_max, \n",
    "            lat_0=42, lon_0=13)\n",
    "m.drawcoastlines()\n",
    "plt.show()"
   ]
  },
  {
   "cell_type": "markdown",
   "metadata": {},
   "source": [
    "The map doesn't look so good, right? To fix this resolution problems, we can use the `resolution` argument. The default is crude (`c`), and this can be changed to low (`l`), intermediate (`i`), high (`h`) and full (`f`)."
   ]
  },
  {
   "cell_type": "code",
   "execution_count": null,
   "metadata": {
    "scrolled": true
   },
   "outputs": [],
   "source": [
    "m = Basemap(projection='merc', llcrnrlat=lat_min, urcrnrlat=lat_max, llcrnrlon=lon_min, urcrnrlon=lon_max, \n",
    "            lat_0=42, lon_0=13, resolution='l')\n",
    "m.drawcoastlines()\n",
    "plt.show()"
   ]
  },
  {
   "cell_type": "markdown",
   "metadata": {},
   "source": [
    "You can also try by yourself to test the other resolution options by editing the `resolution` parameter, although it can take some time.\n",
    "\n",
    "What about adding some color? We can use `fillcontinents` to define the color of continents:"
   ]
  },
  {
   "cell_type": "code",
   "execution_count": null,
   "metadata": {},
   "outputs": [],
   "source": [
    "m = Basemap(projection='merc', llcrnrlat=lat_min, urcrnrlat=lat_max, llcrnrlon=lon_min, urcrnrlon=lon_max, \n",
    "            lat_0=42, lon_0=13, resolution='l')\n",
    "m.drawcoastlines()\n",
    "m.fillcontinents(color='lightgray')\n",
    "\n",
    "plt.show()"
   ]
  },
  {
   "cell_type": "markdown",
   "metadata": {},
   "source": [
    "## Features\n",
    "\n",
    "To customize the map appearance we can add some more features. \n",
    "\n",
    "* **Countries**: National borders are drawn with `drawcountries()`."
   ]
  },
  {
   "cell_type": "code",
   "execution_count": null,
   "metadata": {},
   "outputs": [],
   "source": [
    "m = Basemap(projection='merc', llcrnrlat=lat_min, urcrnrlat=lat_max, llcrnrlon=lon_min, urcrnrlon=lon_max, \n",
    "            lat_0=42, lon_0=13, resolution='l')\n",
    "m.drawcoastlines()\n",
    "m.fillcontinents(color='lightgray')\n",
    "m.drawcountries()\n",
    "plt.show()"
   ]
  },
  {
   "cell_type": "markdown",
   "metadata": {},
   "source": [
    "* **Rivers**: Rivers are added in a similar way as national borders, but here we use `drawrivers()`."
   ]
  },
  {
   "cell_type": "code",
   "execution_count": null,
   "metadata": {},
   "outputs": [],
   "source": [
    "m = Basemap(projection='merc', llcrnrlat=lat_min, urcrnrlat=lat_max, llcrnrlon=lon_min, urcrnrlon=lon_max, \n",
    "            lat_0=42, lon_0=13, resolution='l')\n",
    "m.drawcoastlines()\n",
    "m.fillcontinents(color='lightgray')\n",
    "m.drawcountries()\n",
    "m.drawrivers()\n",
    "plt.show()"
   ]
  },
  {
   "cell_type": "markdown",
   "metadata": {},
   "source": [
    "* **Topography**: To visualize topographical features on a map we have some options that can be easily added to Basemap. There are several images available to plot as a map background. These images are loaded with the options:\n",
    "\n",
    "  - `drawlsmask()`: it draws a high-resolution land-sea mask as an image.\n",
    "  - `bluemarble()` it draws a NASA blue marble image.\n",
    "  - `shadedrelief()`: it draws a shaded relief image.\n",
    "  - `etopo()`: it draws an etopo relief image from NOAA.\n",
    "  - `warpimage()`: it uses an arbitrary image.\n",
    "\n",
    "The detailed documentation on this can be found at [Map Backgrounds](https://matplotlib.org/basemap/users/geography.html). As an example, let's use `etopo()` to add some relief on our map:"
   ]
  },
  {
   "cell_type": "code",
   "execution_count": null,
   "metadata": {},
   "outputs": [],
   "source": [
    "m = Basemap(projection='merc', llcrnrlat=lat_min, urcrnrlat=lat_max, llcrnrlon=lon_min, urcrnrlon=lon_max, \n",
    "            lat_0=13, lon_0=42, resolution='i')\n",
    "m.drawcoastlines()\n",
    "m.etopo()\n",
    "plt.show()"
   ]
  },
  {
   "cell_type": "markdown",
   "metadata": {},
   "source": [
    "As you can observe, the resolution of etopo is not so good in this case, but can be worth to use it for bigger maps.\n",
    "\n",
    "<div class=\"alert alert-success\">\n",
    "    <strong>Task:</strong> define a bigger region (a whole continent maybe) and reproduce a similar map using etopo to check the differences in the resolution."
   ]
  },
  {
   "cell_type": "code",
   "execution_count": null,
   "metadata": {},
   "outputs": [],
   "source": []
  },
  {
   "cell_type": "markdown",
   "metadata": {},
   "source": [
    "## Symbols and labels\n",
    "\n",
    "To add symbols and labels we can use the matplotlib methods:"
   ]
  },
  {
   "cell_type": "code",
   "execution_count": null,
   "metadata": {},
   "outputs": [],
   "source": [
    "rome_lat = 41.90\n",
    "rome_lon = 12.49\n",
    "\n",
    "m = Basemap(projection='merc', llcrnrlat=lat_min, urcrnrlat=lat_max, llcrnrlon=lon_min, urcrnrlon=lon_max, \n",
    "            lat_0=13, lon_0=42, resolution='i')\n",
    "m.drawcoastlines()\n",
    "m.shadedrelief()\n",
    "\n",
    "x, y = m(rome_lon,rome_lat) #This uses the Basemap instance (m) to include the position in the map coordinates\n",
    "plt.text(x, y, 'Rome', fontsize=10, fontweight='bold', color='k',bbox=dict(facecolor='w')) # To plot the label\n",
    "m.plot(x,y,marker='D', color='k')  #To plot the symbol\n",
    "plt.show()"
   ]
  },
  {
   "cell_type": "markdown",
   "metadata": {},
   "source": [
    "If we have more than one point to plot, then it is recommendable to use `scatter`. Let's say that we have a list of several stations to be plotted along this map. We would do:"
   ]
  },
  {
   "cell_type": "code",
   "execution_count": null,
   "metadata": {
    "scrolled": true
   },
   "outputs": [],
   "source": [
    "rome_lat = 41.90\n",
    "rome_lon = 12.49\n",
    "\n",
    "m = Basemap(projection='merc', llcrnrlat=lat_min, urcrnrlat=lat_max, llcrnrlon=lon_min, urcrnrlon=lon_max, \n",
    "            lat_0=13, lon_0=42, resolution='i')\n",
    "m.drawcoastlines()\n",
    "m.shadedrelief()\n",
    "\n",
    "x, y = m(rome_lon,rome_lat) #This uses the Basemap instance (m) to include the position in the map coordinates\n",
    "plt.text(x, y, 'Rome', fontsize=10, fontweight='bold', color='k',bbox=dict(facecolor='w'))\n",
    "m.plot(x,y,marker='D', color='k')\n",
    "\n",
    "st_lons = [14.50064, 13.602, 15.1345, 15.48892]\n",
    "st_lats = [37.02398, 43.55017, 37.7551, 40.7564]\n",
    "stations = ['ACATE', 'AOI', 'ESAL', 'MRLC']\n",
    "\n",
    "x, y = m(st_lons, st_lats)\n",
    "m.scatter(x,y, marker='^', color='b')\n",
    "for i in range(len(stations)):\n",
    "    plt.text(x[i],y[i],stations[i], fontsize=7, fontweight='bold', color='b',bbox=dict(facecolor='w'))\n",
    "\n",
    "plt.show()"
   ]
  },
  {
   "cell_type": "markdown",
   "metadata": {},
   "source": [
    "## Contoured data\n",
    "\n",
    "Contoured data can also be added on Basemap using `contour` (for contours only) or `contourf` (for color filled contours). \n",
    "\n",
    "* We will create a numpy array containing longitude (`coord[:,0]`) and latitude (`coord[:,1]`) points.\n",
    "* We will create a random data set grid (15x15) of integers in the range of 0 and 10, which will be called slip.\n",
    "* With `numpy.meshgrid` we can create a grid of coordinates so it has the same dimensions as our slip grid.\n",
    "* Now we can use the contour functions to add this data into our map. \n"
   ]
  },
  {
   "cell_type": "code",
   "execution_count": null,
   "metadata": {
    "scrolled": true
   },
   "outputs": [],
   "source": [
    "import numpy as np\n",
    "\n",
    "rome_lat = 41.90\n",
    "rome_lon = 12.49\n",
    "\n",
    "# Coordinates and slip data creation.\n",
    "coord=np.zeros((15,2))\n",
    "coord[:,0] = np.linspace(9,13,15)\n",
    "coord[:,1] = np.linspace(43,47,15)\n",
    "slip = np.random.randint(0, 10, (15,15))\n",
    "\n",
    "m = Basemap(projection='merc', llcrnrlat=lat_min, urcrnrlat=lat_max, llcrnrlon=lon_min, urcrnrlon=lon_max, \n",
    "            lat_0=13, lon_0=42, resolution='i')\n",
    "m.drawcoastlines(color='gray')\n",
    "m.drawmeridians(np.arange(0,360,2),labels=[0,0,0,1])\n",
    "m.drawparallels(np.arange(-90,90,2),labels=[1,0,0,0])\n",
    "\n",
    "x, y = m(rome_lon,rome_lat)\n",
    "plt.text(x, y, 'Rome', fontsize=10, fontweight='bold', color='k',bbox=dict(facecolor='w'))\n",
    "m.plot(x,y,marker='D', color='k')\n",
    "\n",
    "st_lons = [14.50064, 13.602, 15.1345, 15.48892]\n",
    "st_lats = [37.02398, 43.55017, 37.7551, 40.7564]\n",
    "stations = ['ACATE', 'AOI', 'ESAL', 'MRLC']\n",
    "\n",
    "x, y = m(st_lons, st_lats)\n",
    "m.scatter(x,y, marker='^', color='b')\n",
    "for i in range(len(stations)):\n",
    "    plt.text(x[i],y[i],stations[i], fontsize=7, fontweight='bold', color='k')#,bbox=dict(facecolor='w'))\n",
    "    \n",
    "xx, yy = np.meshgrid(coord[:,0],coord[:,1])\n",
    "level=np.linspace(0,10,6)\n",
    "c=m.contour(xx, yy, slip, levels=level, linewidths=0.8, cmap = plt.cm.jet,\n",
    "          zorder=15, latlon=True)\n",
    "\n",
    "#The following line just add labels to the contour lines guided by `levels`\n",
    "plt.clabel(c, inline=True, fmt='%1.0f', fontsize=5, colors='k')\n",
    "plt.title('Contoured data using contour')\n",
    "plt.savefig('images/basemap_contour.png', dpi=200)\n",
    "plt.show()"
   ]
  },
  {
   "cell_type": "markdown",
   "metadata": {},
   "source": [
    "It looks a bit messy because of the random data. Let's see what happens if instead of `contour` we use `contourf`:"
   ]
  },
  {
   "cell_type": "code",
   "execution_count": null,
   "metadata": {
    "scrolled": true
   },
   "outputs": [],
   "source": [
    "m = Basemap(projection='merc', llcrnrlat=lat_min, urcrnrlat=lat_max, llcrnrlon=lon_min, urcrnrlon=lon_max, \n",
    "            lat_0=13, lon_0=42, resolution='i')\n",
    "m.drawcoastlines(color='gray')\n",
    "m.drawmeridians(np.arange(0,360,2),labels=[0,0,0,1])\n",
    "m.drawparallels(np.arange(-90,90,2),labels=[1,0,0,0])\n",
    "#m.shadedrelief()\n",
    "\n",
    "x, y = m(rome_lon,rome_lat) #This uses the Basemap instance (m) to include the position in the map coordinates\n",
    "plt.text(x, y, 'Rome', fontsize=10, fontweight='bold', color='k',bbox=dict(facecolor='w'))\n",
    "m.plot(x,y,marker='D', color='k')\n",
    "\n",
    "st_lons = [14.50064, 13.602, 15.1345, 15.48892]\n",
    "st_lats = [37.02398, 43.55017, 37.7551, 40.7564]\n",
    "stations = ['ACATE', 'AOI', 'ESAL', 'MRLC']\n",
    "\n",
    "x, y = m(st_lons, st_lats)\n",
    "m.scatter(x,y, marker='^', color='b')\n",
    "for i in range(len(stations)):\n",
    "    plt.text(x[i],y[i],stations[i], fontsize=7, fontweight='bold', color='k')#,bbox=dict(facecolor='w'))\n",
    "    \n",
    "xx, yy = np.meshgrid(coord[:,0],coord[:,1])\n",
    "level=np.linspace(0,10,6)\n",
    "c=m.contourf(xx, yy, slip, levels=level, cmap = plt.cm.jet,\n",
    "          zorder=15, latlon=True)\n",
    "\n",
    "# The following two lines define ticks for a colorbar instead of labels as the previous case.\n",
    "ticks=np.linspace(0,10,9)\n",
    "plt.colorbar(c,ticks=ticks)\n",
    "plt.title('Contoured data using contourf')\n",
    "plt.savefig('images/basemap_contourf.png', dpi=200)\n",
    "plt.show()"
   ]
  }
 ],
 "metadata": {
  "kernelspec": {
   "display_name": "Python 3",
   "language": "python",
   "name": "python3"
  },
  "language_info": {
   "codemirror_mode": {
    "name": "ipython",
    "version": 3
   },
   "file_extension": ".py",
   "mimetype": "text/x-python",
   "name": "python",
   "nbconvert_exporter": "python",
   "pygments_lexer": "ipython3",
   "version": "3.6.9"
  }
 },
 "nbformat": 4,
 "nbformat_minor": 2
}
