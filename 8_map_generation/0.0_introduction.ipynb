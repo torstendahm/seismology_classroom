{
 "cells": [
  {
   "cell_type": "markdown",
   "metadata": {},
   "source": [
    "# Module 8 - Map generation\n",
    "\n",
    "Nice and clear maps are an obligatory part of almost each seismological study as very important to show results. Different approaches are common today: The map generation through a graphical user interface as, e.g. in ArcGIS or QGIS or map plotting using scripting. For the latter different packages and toolboxes have been released which help you with map generation, e.g.:\n",
    "\n",
    "* *Generic Mapping Tools* GMT ([generic-mapping-tools.org](https://www.generic-mapping-tools.org/))\n",
    "* *Cartopy* ([scitools.org.uk\\/cartopy\\/docs\\/latest\\/index.html](https://scitools.org.uk/cartopy/docs/latest/index.html))\n",
    "* *Basemap* ([matplotlib.org\\/basemap\\/index.html](https://matplotlib.org/basemap/index.html))\n",
    "* ...\n",
    "\n",
    "All of them have their own strengths and weaknesses, so it is fully worth to check out each of them and also search for other tool boxes.\n",
    "\n",
    "Within this module we focus on first simple usages of each of the packages named above. In this sense we will write small scripts in Python to generate simple maps. For any further application you will certainly be forced to look into the documentation of packages, though.\n",
    "\n",
    "This module shows steps to\n",
    "* plot simple maps\n",
    "* add features (topography, rivers, borders)\n",
    "* add symbols at different locations (with labels) as, e.g. cities or seismic stations\n",
    "* draw contoured data onto maps.\n",
    "\n",
    "The module is structured by toolbox:\n",
    "1. [Basemap](1.0_basemap.ipynb)\n",
    "1. [Cartopy](2.0_cartopy.ipynb)\n",
    "1. [GMT](3.0_gmt.ipynb)\n",
    "\n",
    "\n",
    "## Package installation\n",
    "\n",
    "All packages have well documented installation instructions for various systems and requirements. So just check the instructions on the [GMT website](https://generic-mapping-tools.org/), [Cartopy website](https://scitools.org.uk/cartopy/docs/latest/index.html) or [Basemap website](https://matplotlib.org/basemap/index.html). They will help you for sure.\n",
    "\n",
    "## Tasks\n",
    "\n",
    "Tasks within this module are marked with green boxes:\n",
    "\n",
    "<div class=\"alert alert-success\">\n",
    "    <p style=\"font-weight: bold; font-size: 150%\">Task 1:</p>\n",
    "    <ol>\n",
    "        <li>Do a lot of things.</li>\n",
    "        <li>Aaaaaaand more!</li>\n",
    "    </ol>\n",
    "</div>\n",
    "\n",
    "Tasks are numbered consecutively through the submodules. Solutions can be found in [Solutions.ipynb](Solutions.ipynb). But, try first, before checking the solutions! You can do it!"
   ]
  }
 ],
 "metadata": {
  "kernelspec": {
   "display_name": "Python 3",
   "language": "python",
   "name": "python3"
  },
  "language_info": {
   "codemirror_mode": {
    "name": "ipython",
    "version": 3
   },
   "file_extension": ".py",
   "mimetype": "text/x-python",
   "name": "python",
   "nbconvert_exporter": "python",
   "pygments_lexer": "ipython3",
   "version": "3.6.9"
  }
 },
 "nbformat": 4,
 "nbformat_minor": 4
}
