{
 "cells": [
  {
   "cell_type": "markdown",
   "metadata": {},
   "source": [
    "# Solutions for tasks in notebooks\n",
    "\n",
    "In the following solutions are given, which give brief answers to the tasks within the notebooks.\n",
    "\n",
    "## GMT Task X - Influence of resolution on coastlines\n",
    "\n",
    "The resolution parameter can be given as 'c' - crude, 'l' - low, 'i' - intermediate, 'h' - high or 'f' - full. Better resolution will lead to more accurately displayed coastlines. It needs much more time to plot especially for high and full, though.\n",
    "\n",
    "## GMT Task X - Adopting line appearance\n",
    "\n",
    "That is up to you. Just check different line styles as shown in https://www.pygmt.org/latest/gallery/lines/linestyles.html. You also might want to check out the different built-in colornames as shown in https://docs.generic-mapping-tools.org/latest/gmtcolors.html.\n",
    "\n",
    "## GMT Task X - Plotting volcanoes\n",
    "\n",
    "This task is a bit tricky, as you can set quite some parameters. But checking the different websites https://www.pygmt.org/latest/gallery/symbols/basic_symbols.html and https://www.pygmt.org/latest/gallery/symbols/custom_symbols.html helped hopefully. The following full code shows the last step of escalation using volcano symbols and scaled symbol sizes. These lines are indicated with a commented `OPT` and the simpler versions in comments behind."
   ]
  },
  {
   "cell_type": "code",
   "execution_count": null,
   "metadata": {},
   "outputs": [],
   "source": [
    "fig = pygmt.Figure()\n",
    "\n",
    "# Generate general empty plot frame\n",
    "fig.basemap(region=region, projection=\"M15c\", frame=True)\n",
    "\n",
    "# Plot topography\n",
    "fig.grdimage(grid=grid, cmap=\"geo\")\n",
    "\n",
    "# Plot colorbar\n",
    "fig.colorbar(frame=[\"a1000\", \"x+lElevation\", \"y+lm\"])\n",
    "\n",
    "# Plot the coast and rivers with specific colors\n",
    "fig.coast(shorelines=1, borders=\"1/2p,darkred,-\", rivers='r/1p,darkblue')\n",
    "\n",
    "# Volcano coordinates, names and heights\n",
    "volcanoe_lat = num.array([40.816667, 37.755, 38.793889, 38.399434])\n",
    "volcanoe_lon = num.array([14.433333, 14.995, 15.211111, 14.963955])\n",
    "volcanoe_height = num.array([1281.0, 3357.0, 924.0, 501.0])\n",
    "volcanoe_name = num.array(['Vesuvius', 'Etna', 'Stromboli', 'Vulcano'])\n",
    "\n",
    "# Plot the volcano locations\n",
    "fig.plot(\n",
    "    x=volcanoe_lon,\n",
    "    y=volcanoe_lat,\n",
    "    \n",
    "    # OPT - The following two lines will generate scaled volcanoe symbols. Simpler option is commented below\n",
    "    size=2 * volcanoe_height / num.max(volcanoe_height), # Normalized size of the symbols\n",
    "    style=\"kvolcano\",  # Using the kvolcano symbol\n",
    "\n",
    "    # Alternative to plot volcanoes (as dots)\n",
    "#     style='c0.9c',  # Plot as circles with 0.9 centimeter diameter\n",
    "    pen=\"1p,black\",\n",
    "    color=\"orange\")\n",
    "\n",
    "# Plot the volcano labels\n",
    "fig.text(\n",
    "    x=volcanoe_lon,\n",
    "    y=volcanoe_lat,\n",
    "    text=volcanoe_name,\n",
    "    font=\"15p,Helvetica-Bold\",\n",
    "    justify='BL')\n",
    "\n",
    "fig.show()"
   ]
  }
 ],
 "metadata": {
  "kernelspec": {
   "display_name": "Python 3",
   "language": "python",
   "name": "python3"
  },
  "language_info": {
   "codemirror_mode": {
    "name": "ipython",
    "version": 3
   },
   "file_extension": ".py",
   "mimetype": "text/x-python",
   "name": "python",
   "nbconvert_exporter": "python",
   "pygments_lexer": "ipython3",
   "version": "3.6.9"
  }
 },
 "nbformat": 4,
 "nbformat_minor": 4
}
