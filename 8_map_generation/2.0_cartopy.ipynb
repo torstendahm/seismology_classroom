{
 "cells": [
  {
   "cell_type": "markdown",
   "id": "491f6990",
   "metadata": {},
   "source": [
    "# Creating Maps with Cartopy\n",
    "\n",
    "[Documentation](https://scitools.org.uk/cartopy/docs/latest/matplotlib/intro.html)\n",
    "\n",
    "Cartopy can be easily integrated with matplotlib. It handels the projections and the conversion from one projection into another, relatively easy.\n",
    "\n",
    "\n",
    "### Installation\n",
    "\n",
    "[Installation documentation](https://scitools.org.uk/cartopy/docs/latest/installing.html)\n",
    "\n",
    "Easiest via Conda or pip\n",
    "\n",
    "Dependencies: GEOS, Shapely, and pyshp"
   ]
  },
  {
   "cell_type": "code",
   "execution_count": null,
   "id": "641dbded",
   "metadata": {},
   "outputs": [],
   "source": [
    "import cartopy.crs as ccrs\n",
    "import cartopy.feature as cfeature\n",
    "import cartopy.io.img_tiles as cimgt\n",
    "\n",
    "import matplotlib.pyplot as plt\n",
    "import numpy as num"
   ]
  },
  {
   "cell_type": "markdown",
   "id": "e9e3a86a",
   "metadata": {},
   "source": [
    "The simplest map plot can be created by calling *plt.axes* with the key word *projection*. The created *axis object* has now new functionalities, e.g. coastlines."
   ]
  },
  {
   "cell_type": "code",
   "execution_count": null,
   "id": "88bc9e7b",
   "metadata": {},
   "outputs": [],
   "source": [
    "fig = plt.figure(figsize=(16,9)) \n",
    "ax = plt.axes(projection=ccrs.PlateCarree())\n",
    "ax.coastlines()"
   ]
  },
  {
   "cell_type": "markdown",
   "id": "e1f5da34",
   "metadata": {},
   "source": [
    "We can add topography (by default Cartopy only supports a really rough one), limit the map to certain areas and add a grid with labels. "
   ]
  },
  {
   "cell_type": "code",
   "execution_count": null,
   "id": "1c03b895",
   "metadata": {},
   "outputs": [],
   "source": [
    "fig = plt.figure(figsize=(16,9))\n",
    "ax = plt.axes(projection=ccrs.PlateCarree())\n",
    "ax.coastlines()\n",
    "ax.stock_img()\n",
    "ax.set_extent([-10, 30, 30, 70]) # lower, lon, upper lon, lower lat, upper lat\n",
    "# or with set_xlim and set_ylim\n",
    "ax.gridlines(draw_labels=True, dms=True, x_inline=False, y_inline=False)\n"
   ]
  },
  {
   "cell_type": "markdown",
   "id": "2b962961",
   "metadata": {},
   "source": [
    "Europe looks a bit odd.\n",
    "\n",
    "The projection that we used here is *PlateCarree*, which is the *Equirectangular projection*.\n",
    "\n",
    "Finding the *best* projection is a topic on its own. Cartopy supports several projections ([list of available projections](https://scitools.org.uk/cartopy/docs/latest/reference/projections.html#cartopy-projections)) - every single one hast some advantages and disadvantages.\n",
    "\n",
    "We can try now different projections:"
   ]
  },
  {
   "cell_type": "code",
   "execution_count": null,
   "id": "4070d6e3",
   "metadata": {},
   "outputs": [],
   "source": [
    "fig = plt.figure(figsize=(16,9))\n",
    "ax = plt.axes(projection=ccrs.EuroPP())\n",
    "ax.coastlines()\n",
    "ax.stock_img()\n",
    "ax.gridlines(draw_labels=True, dms=True, x_inline=False, y_inline=False)"
   ]
  },
  {
   "cell_type": "markdown",
   "id": "bd912234",
   "metadata": {},
   "source": [
    "As said in the beginning, Cartopy allows for simple data plotting. You need to know in which projection our data is stored.\n",
    "\n",
    "The *projection* key word in plt.axes() is used to define the output projection of the final map, while the *transform* argument, e.g. in plt.plot(), states the projection our data. [Detailed documentation](https://scitools.org.uk/cartopy/docs/latest/tutorials/understanding_transform.html)"
   ]
  },
  {
   "cell_type": "code",
   "execution_count": null,
   "id": "e4b8c923",
   "metadata": {},
   "outputs": [],
   "source": [
    "# Location of a specific geographical location\n",
    "BerlinLon, BerlinLat = 13.41, 52.52\n",
    "\n",
    "# Creating a grid of locations around Berlin\n",
    "lon = num.linspace(BerlinLon - 30, BerlinLon + 30, 60)\n",
    "lat = num.linspace(BerlinLat - 30, BerlinLat + 30, 60)\n",
    "lon2d, lat2d = num.meshgrid(lon, lat)\n",
    "\n",
    "# Generation of some data\n",
    "data = num.sqrt((lon2d - BerlinLon) ** 2 + (lat2d - BerlinLat) ** 2)\n",
    "\n",
    "plt.figure(figsize=(16, 9))\n",
    "ax = plt.axes(projection=ccrs.PlateCarree())\n",
    "# ax = plt.axes(projection=ccrs.RotatedPole(central_rotated_longitude=0, pole_longitude=192.0, pole_latitude=52.0))\n",
    "ax.set_global()\n",
    "ax.coastlines()\n",
    "ax.gridlines(draw_labels=True, dms=True, x_inline=False, y_inline=False)\n",
    "\n",
    "# Plot the location of Berlin with an additional label\n",
    "plt.plot(BerlinLon, BerlinLat, '*r', transform=ccrs.Geodetic(), label='Berlin')\n",
    "plt.text(\n",
    "    BerlinLon + 3,\n",
    "    BerlinLat - 3,\n",
    "    'Berlin',\n",
    "    color='black',\n",
    "    horizontalalignment='right',\n",
    "    transform=ccrs.Geodetic())\n",
    "\n",
    "# Plot the data as contours\n",
    "ax.contourf(lon, lat, data, transform=ccrs.PlateCarree())\n",
    "# ax.contourf(lon, lat, data, transform=ccrs.RotatedPole())\n",
    "plt.legend()\n",
    "plt.show()"
   ]
  },
  {
   "cell_type": "markdown",
   "id": "41ea2eeb",
   "metadata": {},
   "source": [
    "Besides the topography and coastline, we can add [*features*](https://scitools.org.uk/cartopy/docs/latest/reference/feature.html) like rivers, lakes, ocean, land and even political boarders with Cartopy without any external data."
   ]
  },
  {
   "cell_type": "code",
   "execution_count": null,
   "id": "7b2afa10",
   "metadata": {},
   "outputs": [],
   "source": [
    "fig = plt.figure(figsize=(16,9))\n",
    "ax = plt.axes(projection=ccrs.Mercator())\n",
    "ax.gridlines(draw_labels=True, dms=True, x_inline=False, y_inline=False)\n",
    "ax.set_extent([-10, 30, 30, 70]) # lower, lon, upper lon, lower lat, upper lat\n",
    "\n",
    "ax.add_feature(cfeature.OCEAN, zorder=0)\n",
    "ax.add_feature(cfeature.LAND, zorder=0, edgecolor='black')\n",
    "rivers_10m = cfeature.NaturalEarthFeature('physical', 'rivers_lake_centerlines', '10m')\n",
    "ax.add_feature(rivers_10m, facecolor='None', edgecolor='b', zorder=1)\n",
    "ax.add_feature(cfeature.COASTLINE, linewidth=0.3, zorder=1)\n",
    "ax.add_feature(cfeature.BORDERS, linestyle=':', linewidth=1, zorder=1)\n",
    "ax.add_feature(cfeature.LAKES, alpha=0.5, zorder=1)"
   ]
  },
  {
   "cell_type": "markdown",
   "id": "3a635959",
   "metadata": {},
   "source": [
    "For the last example, we already downloaded the station locations of the German Regional Seismic Network (GRSN) - GR network. The map shows those stations in Germany with their station names."
   ]
  },
  {
   "cell_type": "code",
   "execution_count": null,
   "id": "7204ef96",
   "metadata": {
    "scrolled": false
   },
   "outputs": [],
   "source": [
    "import pandas as pd\n",
    "\n",
    "df = pd.read_csv('data/GR.txt', sep='|')\n",
    "# df = df[df['Station'].str.contains('GR')]\n",
    "df = df[df['Latitude'] > 0]\n",
    "\n",
    "fig = plt.figure(figsize=(16,9))\n",
    "# ax = plt.axes(projection=ccrs.PlateCarree())\n",
    "ax = plt.axes(projection=ccrs.Mercator())\n",
    "ax.coastlines()\n",
    "ax.stock_img()\n",
    "ax.gridlines(draw_labels=True, dms=True, x_inline=False, y_inline=False)\n",
    "ax.set_extent([5, 16, 47, 56]) # lower, lon, upper lon, lower lat, upper lat\n",
    "ax.add_feature(cfeature.BORDERS, linestyle=':', linewidth=1, zorder=1)\n",
    "\n",
    "lats = df['Latitude']\n",
    "lons = df['Longitude']\n",
    "\n",
    "# plt.plot(lons, lats, 'kv', transform=ccrs.Geodetic())\n",
    "\n",
    "for ii, row in df.iterrows():\n",
    "    plt.plot(row['Longitude'], row['Latitude'], 'kv', transform=ccrs.Geodetic())\n",
    "    plt.text(row['Longitude'] + 0.1, row['Latitude'], row['Station'], transform=ccrs.Geodetic())"
   ]
  }
 ],
 "metadata": {
  "kernelspec": {
   "display_name": "Python 3",
   "language": "python",
   "name": "python3"
  },
  "language_info": {
   "codemirror_mode": {
    "name": "ipython",
    "version": 3
   },
   "file_extension": ".py",
   "mimetype": "text/x-python",
   "name": "python",
   "nbconvert_exporter": "python",
   "pygments_lexer": "ipython3",
   "version": "3.6.9"
  }
 },
 "nbformat": 4,
 "nbformat_minor": 5
}
