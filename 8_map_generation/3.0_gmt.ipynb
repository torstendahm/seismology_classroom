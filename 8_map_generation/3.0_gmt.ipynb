{
 "cells": [
  {
   "cell_type": "markdown",
   "metadata": {},
   "source": [
    "# Generic Mapping Tools - GMT\n",
    "\n",
    "GMT is one of the commonly used scripting based map plotting packages in geophysics and also other disciplines. GMT itself has to be scripted in `bash`. Nevertheless also GMT wrappers for Python, Julia and Matlab were released through the last years.\n",
    "\n",
    "## Installation\n",
    "\n",
    "One of largest challenges of GMT is its installation. In our case we are going to use GMT version 6.4, for which its python wrapping `pyGMT` is available.\n",
    "\n",
    "<div class='alert alert-info'>\n",
    "    <p style=\"font-weight: bold; font-size: 150%\">Good to know:</p>\n",
    "    PyGMT is just one wrapper. There are others, which aid you in using GMT within Python as e.g. Automap and GMTPY (modules within Pyrocko). If you are interested, check out <a href='https://pyrocko.org/docs/current/library/examples/plotting.html#generating-topographic-maps-with-automap'>pyrocko.org/docs/current/library/examples/plotting.html</a>\n",
    "</div>\n",
    "\n",
    "\n",
    "Depending on the environment of Python you are using, you can install it via `conda` or have to install from source.\n",
    "Installing instructions for **GMT** are located at [github.com\\/GenericMappingTools/gmt/blob/master/BUILDING.md](https://github.com/GenericMappingTools/gmt/blob/master/BUILDING.md). The source packages and additional data can be found at [github.com\\/GenericMappingTools/gmt/releases](https://github.com/GenericMappingTools/gmt/releases) and [generic-mapping-tools.org\\/download/](https://www.generic-mapping-tools.org/download/)\n",
    "\n",
    "**PyGMT** has its own installation instructions at [pygmt.org\\/latest/install.html](https://www.pygmt.org/latest/install.html).\n",
    "\n",
    "\n",
    "## Test\n",
    "Let's hope, we have accomplished the parcour through the installations and can test the basic functionality:"
   ]
  },
  {
   "cell_type": "code",
   "execution_count": null,
   "metadata": {},
   "outputs": [],
   "source": [
    "# Import of pygmt package (and numpy for later use)\n",
    "import pygmt\n",
    "import numpy as num\n",
    "\n",
    "# List detailed information on package\n",
    "pygmt.show_versions()\n",
    "\n",
    "# Plot first map\n",
    "fig = pygmt.Figure()\n",
    "fig.coast(\n",
    "    region=\"g\",\n",
    "    frame=True,\n",
    "    shorelines=1)\n",
    "fig.show()"
   ]
  },
  {
   "cell_type": "markdown",
   "metadata": {},
   "source": [
    "## Basic Map Generation (World, Germany) - Projections\n",
    "\n",
    "We have successfully generated our first figure, but hey, it does not really look super appealing, right? We should start tweaking our figure by adopting the projection, so the way, the earth (a 3D sphere) is converted into a 2D map. The available projections are listed within the PyGMT docs at [pygmt.org\\/latest/projections/index.html](https://www.pygmt.org/latest/projections/index.html).\n",
    "\n",
    "The first task will be to choose the `Mollweide` projection and replot the map above in this projection."
   ]
  },
  {
   "cell_type": "code",
   "execution_count": null,
   "metadata": {},
   "outputs": [],
   "source": [
    "fig = pygmt.Figure()\n",
    "\n",
    "fig.coast(\n",
    "    region=\"g\",\n",
    "    projection=\"W10c\", # set the projection to Mollweide\n",
    "    frame=True,\n",
    "    shorelines=1)\n",
    "fig.show()"
   ]
  },
  {
   "cell_type": "markdown",
   "metadata": {},
   "source": [
    "Hint: You can find the full documentation of the `coast` command here: [pygmt.org\\/latest/api/generated/pygmt.Figure.basemap.html#pygmt.Figure.basemap](https://www.pygmt.org/latest/api/generated/pygmt.Figure.basemap.html#pygmt.Figure.basemap).\n",
    "\n",
    "Great, we are able to plot some basic global maps. But how about a more focused map:"
   ]
  },
  {
   "cell_type": "code",
   "execution_count": null,
   "metadata": {},
   "outputs": [],
   "source": [
    "fig = pygmt.Figure()\n",
    "\n",
    "# Define region of the map\n",
    "region = [6, 20, 36, 48]  # geographical limits [lon_min, lon_max, lat_min, lat_max]\n",
    "\n",
    "# Generate basic map\n",
    "fig.coast(\n",
    "    region=region,\n",
    "    projection=\"M15c\",  # Definition of projection\n",
    "    frame=True,  # If True, our map shows a frame\n",
    "    shorelines=1, # Which coast lines are shown, here major lakes, rivers and seashores\n",
    "    resolution='c')  # Resolution of the coast line: test ['c', 'l', 'i', 'h', 'f']\n",
    "fig.show()"
   ]
  },
  {
   "cell_type": "markdown",
   "metadata": {},
   "source": [
    "Hm, better but why does it look so weird. So here comes your first task:\n",
    "\n",
    "<div class='alert alert-success'>\n",
    "    <p style=\"font-weight: bold; font-size: 150%\">Task 1:</p>\n",
    "    <ol>\n",
    "        <li>Check the parameter <em>resolution</em> and test the different available options. What does change?</li>\n",
    "    </ol>\n",
    "    <span style='font-weight: bold'>Hint:</span>\n",
    "Check <a href='https://www.pygmt.org/latest/tutorials/basics/coastlines.html#sphx-glr-tutorials-basics-coastlines-py'>the PyGMT coastline tutorial.</a>\n",
    "</div>\n",
    "\n",
    "\n",
    "Have you accomplished the task? Great! But even now there are still options for improvement. Therefore we have to turn things a bit more advanced and create now a figure with colored land and water surfaces:"
   ]
  },
  {
   "cell_type": "code",
   "execution_count": null,
   "metadata": {},
   "outputs": [],
   "source": [
    "fig = pygmt.Figure()\n",
    "\n",
    "# Generate general empty plot frame (similar to examples before)\n",
    "fig.basemap(region=region, projection=\"M15c\", frame=True)\n",
    "\n",
    "# Plot the coast and rivers with specific colors\n",
    "fig.coast(\n",
    "    land=\"#666666\",  # Color for land surfaces\n",
    "    water=\"skyblue\",  # Color for water surfaces\n",
    "    shorelines=1)\n",
    "\n",
    "fig.show()"
   ]
  },
  {
   "cell_type": "markdown",
   "metadata": {},
   "source": [
    "## Features\n",
    "\n",
    "So, we have generated a simple, rather ok looking map of Italy. We can display land and sea surfaces and coast lines. GMT provides us with some additional data, which we can now use to add some information to our map. \n",
    "\n",
    "### National borders\n",
    "\n",
    "As said, the map shows already some essentials. For easier orientation on the map, national borders are often helpful. GMTs' `coast` command allows to plot border rather simple, adding only one new line of code:\n"
   ]
  },
  {
   "cell_type": "code",
   "execution_count": null,
   "metadata": {},
   "outputs": [],
   "source": [
    "fig = pygmt.Figure()\n",
    "\n",
    "# Generate general empty plot frame\n",
    "fig.basemap(\n",
    "    region=[6, 20, 36, 48],\n",
    "    projection=\"M15c\",\n",
    "    frame=True)\n",
    "\n",
    "# Plot the coast and rivers with specific colors\n",
    "fig.coast(\n",
    "    land=\"#666666\",\n",
    "    water=\"skyblue\",\n",
    "    shorelines=1,\n",
    "    borders=\"1/2p,darkred,-\") # Add national borders (1) with 2 points linewidth, darkred color and dashed line\n",
    "\n",
    "fig.show()"
   ]
  },
  {
   "cell_type": "markdown",
   "metadata": {},
   "source": [
    "<div class='alert alert-success'>\n",
    "    <p style=\"font-weight: bold; font-size: 150%\">Task 2:</p>\n",
    "    <ol>\n",
    "        <li>Adopt the appearance of the borders and change the line size, color and line style</li>\n",
    "    </ol>\n",
    "    <span style='font-weight: bold'>Hint:</span>\n",
    "Check <a href='https://www.pygmt.org/latest/gallery/lines/linestyles.html'>the PyGMT line style guide.</a>\n",
    "</div>\n",
    "\n",
    "\n",
    "### Rivers\n",
    "Similar to national borders we can also add rivers. "
   ]
  },
  {
   "cell_type": "code",
   "execution_count": null,
   "metadata": {},
   "outputs": [],
   "source": [
    "fig = pygmt.Figure()\n",
    "\n",
    "# Generate general empty plot frame\n",
    "fig.basemap(region=region, projection=\"M15c\", frame=True)\n",
    "\n",
    "# Plot the coast and rivers with specific colors\n",
    "fig.coast(\n",
    "    land=\"#666666\",\n",
    "    water=\"skyblue\",\n",
    "    shorelines=1,\n",
    "    borders=\"1/2p,darkred,-\",\n",
    "    rivers='r/0.5p,darkblue')  # Draw major rivers with 0.5 point linewidth in darkblue\n",
    "\n",
    "fig.show()"
   ]
  },
  {
   "cell_type": "markdown",
   "metadata": {},
   "source": [
    "### Topography\n",
    "\n",
    "Topographical datasets are built-in in PyGMT, but need to be downloaded at the first use. PyGMT offers datasets in different resolutions ([check the documentation](https://www.pygmt.org/latest/api/generated/pygmt.datasets.load_earth_relief.html#pygmt.datasets.load_earth_relief)). The better the resolution, the longer the download. Here we will use 15 second data.\n",
    "\n",
    "The flow of topographic plotting consists of three steps:\n",
    "1. loading the topography in the desired resolution for the desired region\n",
    "1. plotting the topography with a specified colormap\n",
    "1. plotting the associated colorbar"
   ]
  },
  {
   "cell_type": "code",
   "execution_count": null,
   "metadata": {},
   "outputs": [],
   "source": [
    "fig = pygmt.Figure()\n",
    "\n",
    "# Generate general empty plot frame\n",
    "fig.basemap(region=region, projection=\"M15c\", frame=True)\n",
    "\n",
    "# Load topography\n",
    "grid = pygmt.datasets.load_earth_relief(\n",
    "    resolution=\"15s\",  # Resolution of 15 arc seconds\n",
    "    region=region)\n",
    "\n",
    "# Plot topography\n",
    "fig.grdimage(\n",
    "    grid=grid,\n",
    "    cmap=\"geo\")  # Use the \"geo\" colormap\n",
    "\n",
    "# Plot colorbar with some specifications\n",
    "fig.colorbar(\n",
    "    frame=[\n",
    "        \"a1000\",  # Increment every 1000 m\n",
    "        \"x+lElevation\", # Set \"Elevation\" as Title\n",
    "        \"y+lm\"])  # Set \"m\" as colorbar unit\n",
    "\n",
    "# Plot the coast and rivers with specific colors\n",
    "fig.coast(shorelines=1, borders=\"1/2p,darkred,-\", rivers='r/1p,darkblue')\n",
    "\n",
    "fig.show()"
   ]
  },
  {
   "cell_type": "markdown",
   "metadata": {},
   "source": [
    "## Symbols and labels\n",
    "\n",
    "Locations, e.g. of cities, seismic stations, earthquakes, can be indicated by symbols and associated labels. \n",
    "\n",
    "In the following we will plot the location of Rome and also label it on the map:\n",
    "Rome is located at 41.893333 N, 12.482778 E.\n",
    "\n",
    "Check also the tutorials to plot symbols and text here:\n",
    "* https://www.pygmt.org/latest/gallery/index.html#symbols-and-markers\n",
    "* https://www.pygmt.org/latest/tutorials/basics/text.html\n",
    "* https://www.pygmt.org/latest/tutorials/basics/plot.html"
   ]
  },
  {
   "cell_type": "code",
   "execution_count": null,
   "metadata": {},
   "outputs": [],
   "source": [
    "fig = pygmt.Figure()\n",
    "\n",
    "# Generate general empty plot frame\n",
    "fig.basemap(region=region, projection=\"M15c\", frame=True)\n",
    "\n",
    "# Plot topography\n",
    "fig.grdimage(grid=grid, cmap=\"geo\")\n",
    "\n",
    "# Plot colorbar\n",
    "fig.colorbar(frame=[\"a1000\", \"x+lElevation\", \"y+lm\"])\n",
    "\n",
    "# Plot the coast and rivers with specific colors\n",
    "fig.coast(shorelines=1, borders=\"1/2p,darkred,-\", rivers='r/1p,darkblue')\n",
    "\n",
    "# Coordinates of Rome\n",
    "lat = num.array([41.893333])\n",
    "lon = num.array([12.482778])\n",
    "\n",
    "# Plot dot at location of Rome\n",
    "fig.plot(\n",
    "    x=lon,\n",
    "    y=lat,\n",
    "    style=\"c0.9c\",  # Plot circle with 0.9 centimeter diameter\n",
    "    pen=\"1p,black\",  # Draw the boundary of the circle with 1 point line in black\n",
    "    color=\"darkred\")  # Circle fill color = darkred\n",
    "\n",
    "# Plot label\n",
    "fig.text(\n",
    "    x=lon-0.5,\n",
    "    y=lat+0.4,\n",
    "    text='Rome',  # Label text\n",
    "    font=\"15p,Helvetica-Bold,beige\",  # Font specifications (size, Font, color)\n",
    "    justify='MR',  # Justification relative to location ('MR' - middle right)\n",
    "    angle=315)  # Rotate label by 315 degrees\n",
    "\n",
    "fig.show()"
   ]
  },
  {
   "cell_type": "markdown",
   "metadata": {},
   "source": [
    "Great, if you have accomplished these, there is now a special task:\n",
    "\n",
    "<div class='alert alert-success'>\n",
    "    <p style=\"font-weight: bold; font-size: 150%\">Task 3:</p>\n",
    "    <ol>\n",
    "        <li>Plot the location and name of the 4 active volcanoes in Italy on the map using <em>plot</em> and <em>text</em>.</li>\n",
    "        <li>If you want to escalate, use the volcano symbol.</li>\n",
    "        <li>If you want to escalate even more, let the symbol scale with the height of the volcano.</li>\n",
    "    </ol>\n",
    "    <span style='font-weight: bold'>Hint:</span>\n",
    "Check <a href='https://www.pygmt.org/latest/gallery/symbols/basic_symbols.html#sphx-glr-gallery-symbols-basic-symbols-py'>pygmt.org/latest/gallery/symbols/basic_symbols.html</a> and <a href='https://www.pygmt.org/latest/gallery/symbols/custom_symbols.html#sphx-glr-gallery-symbols-custom-symbols-py'>pygmt.org/latest/gallery/symbols/custom_symbols.html</a>.\n",
    "</div>\n"
   ]
  },
  {
   "cell_type": "code",
   "execution_count": null,
   "metadata": {},
   "outputs": [],
   "source": [
    "fig = pygmt.Figure()\n",
    "\n",
    "# Generate general empty plot frame\n",
    "fig.basemap(region=region, projection=\"M15c\", frame=True)\n",
    "\n",
    "# Plot topography\n",
    "fig.grdimage(grid=grid, cmap=\"geo\")\n",
    "\n",
    "# Plot colorbar\n",
    "fig.colorbar(frame=[\"a1000\", \"x+lElevation\", \"y+lm\"])\n",
    "\n",
    "# Plot the coast and rivers with specific colors\n",
    "fig.coast(shorelines=1, borders=\"1/2p,darkred,-\", rivers='r/1p,darkblue')\n",
    "\n",
    "# Volcano coordinates, names and heights\n",
    "volcanoe_lat = num.array([40.816667, 37.755, 38.793889, 38.399434])\n",
    "volcanoe_lon = num.array([14.433333, 14.995, 15.211111, 14.963955])\n",
    "volcanoe_height = num.array([1281.0, 3357.0, 924.0, 501.0])\n",
    "volcanoe_name = num.array(['Vesuvius', 'Etna', 'Stromboli', 'Vulcano'])\n",
    "\n",
    "# Plot the volcano locations\n",
    "\n",
    "# Plot the volcano labels\n",
    "\n",
    "fig.show()"
   ]
  },
  {
   "cell_type": "markdown",
   "metadata": {},
   "source": [
    "## Contoured data\n",
    "\n",
    "The final exercise is on contoured data. In the plots above topography has been plotted using `grdimage`. Now bathymetry (so everything below 0 m height) shall be plotted with contour lines every 1000 m (annotation every 2000 m).\n",
    "\n",
    "We have do to several steps:\n",
    "1. generate a grid which is NaN below zero\n",
    "1. plot the topography with transparent NaN\n",
    "1. plot the bathymetric contour lines"
   ]
  },
  {
   "cell_type": "code",
   "execution_count": null,
   "metadata": {},
   "outputs": [],
   "source": [
    "fig = pygmt.Figure()\n",
    "\n",
    "# Generate general empty plot frame\n",
    "fig.basemap(region=region, projection=\"M15c\", frame=True)\n",
    "\n",
    "# Cut a specific grid for topography above sealevel and replace each value below 0 with NaN\n",
    "grid_above_sl = pygmt.grdclip(\n",
    "    grid,\n",
    "    below=[0, num.nan])  # Replace everything below 0 with NaN\n",
    "\n",
    "# Plot the new clipped topography\n",
    "fig.grdimage(\n",
    "    grid=grid_above_sl,\n",
    "    cmap=\"geo\",\n",
    "    nan_transparent=True)  # Make NaN values (below sealevel) transparent\n",
    "\n",
    "# Plot the coast and rivers with specific colors\n",
    "fig.coast(shorelines=1, borders=\"1/2p,darkred,-\", rivers='r/1p,darkblue')\n",
    "\n",
    "# Plot bathymetry as contour\n",
    "fig.grdcontour(\n",
    "    grid=grid,\n",
    "    annotation=2000,  # Annotation every 2000 m\n",
    "    interval=1000,  # Draw lines every 1000 m\n",
    "    limit=[-6000., 0.])  # Limit the drawn contour lines between -6000. and 0 Meter\n",
    "\n",
    "fig.show()"
   ]
  }
 ],
 "metadata": {
  "kernelspec": {
   "display_name": "Python 3",
   "language": "python",
   "name": "python3"
  },
  "language_info": {
   "codemirror_mode": {
    "name": "ipython",
    "version": 3
   },
   "file_extension": ".py",
   "mimetype": "text/x-python",
   "name": "python",
   "nbconvert_exporter": "python",
   "pygments_lexer": "ipython3",
   "version": "3.6.9"
  }
 },
 "nbformat": 4,
 "nbformat_minor": 4
}
