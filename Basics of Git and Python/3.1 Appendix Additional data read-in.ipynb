{
 "cells": [
  {
   "cell_type": "markdown",
   "id": "infinite-visiting",
   "metadata": {},
   "source": [
    "# Data Read-In\n",
    "\n",
    "## Introduction\n",
    "\n",
    "We have checked in the previous submodule about Numpy and Pandas and how to read data using them. This appendix shows other ways of reading data, such as an individual read-in and also two other libraries.\n",
    "\n",
    "Table of contents:\n",
    "\n",
    "* [Individual Read-in](#Individual-Read-in)\n",
    "* [JSON](#JSON)\n",
    "* [GEOJSON](#GEOJSON-for-geo-data)\n"
   ]
  },
  {
   "cell_type": "markdown",
   "id": "genuine-rocket",
   "metadata": {},
   "source": [
    "## Individual Read-in\n",
    "\n",
    "Python has a built-in function called `open()`. This function simply returns a file object."
   ]
  },
  {
   "cell_type": "code",
   "execution_count": null,
   "id": "collected-honor",
   "metadata": {},
   "outputs": [],
   "source": [
    "#file = 'data/NY_climate_2010_raw.csv'\n",
    "#file = 'data/hourly_data_raw.txt'\n",
    "file = 'data/ingv_seismic.csv'\n",
    "\n",
    "# open() options 'r', 'w', 'a'\n",
    "# with option to avoid .close()\n",
    "\n",
    "with open(file, 'r') as f:\n",
    "    # lines = f.readlines()\n",
    "    attribute1 = []\n",
    "    filedict = {}\n",
    "    for ii, line in enumerate(f):\n",
    "        # line.strip\n",
    "        line = line.replace('\\n', '')\n",
    "        line = line.replace('\\\"', '')\n",
    "        line = line.rsplit(';')\n",
    "        \n",
    "        if ii < 4:\n",
    "            print(ii, line)\n",
    "        \n",
    "        if ii == 0:\n",
    "            header = line\n",
    "            continue\n",
    "        \n",
    "        attribute1.append(line[0])\n",
    "        \n",
    "        for nn in range(len(header)):\n",
    "            if header[nn] not in filedict:\n",
    "                filedict[header[nn]] = []\n",
    "            filedict[header[nn]].append(line[nn])\n",
    "\n",
    "print()\n",
    "print(header)\n",
    "print()\n",
    "print(attribute1) \n",
    "print()\n",
    "print(filedict)\n",
    "\n",
    "# do smth with data\n"
   ]
  },
  {
   "cell_type": "markdown",
   "id": "attended-valuable",
   "metadata": {},
   "source": [
    "## Individual Write-out"
   ]
  },
  {
   "cell_type": "code",
   "execution_count": null,
   "id": "greatest-bargain",
   "metadata": {},
   "outputs": [],
   "source": [
    "f = open(\"data/test_out.txt\", \"w\")\n",
    "f.write(\"Stations in Italy\\n\")\n",
    "for idx in range(len(filedict['Station'])):\n",
    "    d = filedict\n",
    "    f.write('The station %s.%s is located at %s, %s.\\n'\n",
    "            % (d['Station'][idx], d['Net'][idx], d['Lat (N)'][idx], d['Lon (E)'][idx]))\n",
    "f.close()\n",
    "\n",
    "## play with 'w' and 'a'\n",
    "## play with \\n"
   ]
  },
  {
   "cell_type": "markdown",
   "id": "rotary-bridal",
   "metadata": {},
   "source": [
    "## JSON\n",
    "\n",
    "JSON is a JavaScript Object Notation. Python supports JSON with the built-in package **`json`**. "
   ]
  },
  {
   "cell_type": "code",
   "execution_count": null,
   "id": "pharmaceutical-recycling",
   "metadata": {},
   "outputs": [],
   "source": [
    "import json\n",
    "\n",
    "file = 'data/finite_fault_usgs.json'\n",
    "file = 'data/metadata.json'\n",
    "\n",
    "with open(file, 'r') as f:\n",
    "  data = json.load(f)\n",
    "\n",
    "print(data)\n",
    "#print(data['features'][0]['geometry'])"
   ]
  },
  {
   "cell_type": "markdown",
   "id": "limiting-accreditation",
   "metadata": {},
   "source": [
    "## GEOJSON for geo data"
   ]
  },
  {
   "cell_type": "code",
   "execution_count": null,
   "id": "forbidden-national",
   "metadata": {},
   "outputs": [],
   "source": [
    "import geojson\n",
    "\n",
    "file = 'data/germany.geojson' # from shakygrounds2\n",
    "\n",
    "with open(file, 'r') as f:\n",
    "  data = geojson.load(f)\n",
    "\n",
    "#print(data)\n",
    "print(data['features'])\n",
    "# shape files etc.\n",
    "# e.g. line, polygon objects"
   ]
  }
 ],
 "metadata": {
  "kernelspec": {
   "display_name": "Python 3",
   "language": "python",
   "name": "python3"
  },
  "language_info": {
   "codemirror_mode": {
    "name": "ipython",
    "version": 3
   },
   "file_extension": ".py",
   "mimetype": "text/x-python",
   "name": "python",
   "nbconvert_exporter": "python",
   "pygments_lexer": "ipython3",
   "version": "3.6.9"
  }
 },
 "nbformat": 4,
 "nbformat_minor": 5
}
