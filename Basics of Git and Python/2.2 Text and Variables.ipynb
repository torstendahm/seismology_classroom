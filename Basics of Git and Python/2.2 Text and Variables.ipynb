{
 "cells": [
  {
   "cell_type": "markdown",
   "metadata": {},
   "source": [
    "# Text and Variables\n",
    "\n",
    "## Introduction\n",
    "\n",
    "Usually, when creating a program we need to deliver an output to the end user. Maybe we wish to communicate a message while the code performs some calculations like *`Data is downloading`*. Very often we will not work only with variables, but also some text will be needed. This noteboook will show you how to work with the `print` command and how to combine variables with text. \n",
    "\n",
    "**Table of contents:**\n",
    "\n",
    "* [Print command](#The-print-command)\n",
    "* [Combining variable with text](#Combination-of-variables-with-text)\n"
   ]
  },
  {
   "cell_type": "markdown",
   "metadata": {},
   "source": [
    "## The `print` command\n",
    "\n",
    "The `print()` function takes the message of the input and print it out on a line of text. The message can be a string or any other object, which will be converted to a string before printed."
   ]
  },
  {
   "cell_type": "code",
   "execution_count": null,
   "metadata": {},
   "outputs": [],
   "source": [
    "print('Here goes a message') #'Single' and 'double' quotes are both allowed."
   ]
  },
  {
   "cell_type": "code",
   "execution_count": null,
   "metadata": {},
   "outputs": [],
   "source": [
    "message = 'Please wait while the data is downloading ...'\n",
    "print(message)"
   ]
  },
  {
   "cell_type": "code",
   "execution_count": null,
   "metadata": {},
   "outputs": [],
   "source": [
    "print('string1', 1.0, False, 1j)"
   ]
  },
  {
   "cell_type": "code",
   "execution_count": null,
   "metadata": {},
   "outputs": [],
   "source": [
    "print('We can add \\n a new line')"
   ]
  },
  {
   "cell_type": "code",
   "execution_count": null,
   "metadata": {},
   "outputs": [],
   "source": [
    "print('\\tIndented line')"
   ]
  },
  {
   "cell_type": "markdown",
   "metadata": {},
   "source": [
    "## Combination of variables with text\n",
    "\n",
    "Python contains several ways of writing the output of a program using strings. The most common are **Formatted String Literals** and **String format method**. \n",
    "\n",
    "### Formatted String Literals\n",
    "\n",
    "This is also called f-strings. With this you can include a value inside a string by adding an `f` or `F` in front of the string and writing expressions inside `{}`. The syntax for this is `f'message{variable_name}'`."
   ]
  },
  {
   "cell_type": "code",
   "execution_count": null,
   "metadata": {},
   "outputs": [],
   "source": [
    "s = 3600\n",
    "print(f'One hour is equal to {s} seconds.')"
   ]
  },
  {
   "cell_type": "markdown",
   "metadata": {},
   "source": [
    "We can also let Python to do the calculations and include mathematical expresions:"
   ]
  },
  {
   "cell_type": "code",
   "execution_count": null,
   "metadata": {},
   "outputs": [],
   "source": [
    "import math\n",
    "r = 25\n",
    "print(f'The area of the circle is {math.pi*r**2:.2f} cm^2.') # .2f indicates to show the result with only 2 decimals"
   ]
  },
  {
   "cell_type": "markdown",
   "metadata": {},
   "source": [
    "<div class=\"alert alert-info\">\n",
    "    <strong>Note:</strong> We imported the module <em>math</em> to use a mathematical function, but this will be explained later.\n",
    "</div>\n",
    "\n",
    "We can also print several values in one line and break lines if we want to. But be careful to always add the `f` in front of the new line, otherwise the variable will not be recognized:"
   ]
  },
  {
   "cell_type": "code",
   "execution_count": null,
   "metadata": {},
   "outputs": [],
   "source": [
    "maule = '8.8'; iquique = '8.2'; illapel = '8.4'\n",
    "print(f'The moment magnitudes of the chilean earthquakes were {maule} in Maule, {iquique} in Iquique and '\n",
    "      f'{illapel} in Illapel.')"
   ]
  },
  {
   "cell_type": "markdown",
   "metadata": {},
   "source": [
    "###  String format() Method\n",
    "\n",
    "Unlike the previous method, here we only need to use `''` and we forget about the `f`, but we need to add `.format()` at the end. The form would be: `I need a variable here {}.format(that equals to this)`, for instance:\n"
   ]
  },
  {
   "cell_type": "code",
   "execution_count": null,
   "metadata": {},
   "outputs": [],
   "source": [
    "print('The earthquake occurred at {} km depth'.format('45'))"
   ]
  },
  {
   "cell_type": "markdown",
   "metadata": {},
   "source": [
    "or we could declare the variable before:"
   ]
  },
  {
   "cell_type": "code",
   "execution_count": null,
   "metadata": {},
   "outputs": [],
   "source": [
    "depth = 45\n",
    "print('The earthquake occurred at {} km depth'.format(depth))"
   ]
  },
  {
   "cell_type": "markdown",
   "metadata": {},
   "source": [
    "In this method we can also break long text into multiple lines by starting a new line as the previous method, with the difference that now we do not add the `f`."
   ]
  },
  {
   "cell_type": "markdown",
   "metadata": {},
   "source": [
    "We could also create a template string and ask different things by just changing the variable names:"
   ]
  },
  {
   "cell_type": "code",
   "execution_count": null,
   "metadata": {},
   "outputs": [],
   "source": [
    "template = \"The station {name} is located at {value} km epicentral distance.\"\n",
    "\n",
    "print(template.format(name='FUORN', value='63'))\n",
    "print(template.format(name='DAGMA', value='160'))"
   ]
  },
  {
   "cell_type": "markdown",
   "metadata": {},
   "source": [
    "# Summary\n",
    "\n",
    "* You know about the **print** function.\n",
    "* You learned two methods to **combine text and variables**: format and f-string."
   ]
  }
 ],
 "metadata": {
  "kernelspec": {
   "display_name": "Python 3",
   "language": "python",
   "name": "python3"
  },
  "language_info": {
   "codemirror_mode": {
    "name": "ipython",
    "version": 3
   },
   "file_extension": ".py",
   "mimetype": "text/x-python",
   "name": "python",
   "nbconvert_exporter": "python",
   "pygments_lexer": "ipython3",
   "version": "3.6.9"
  }
 },
 "nbformat": 4,
 "nbformat_minor": 4
}
