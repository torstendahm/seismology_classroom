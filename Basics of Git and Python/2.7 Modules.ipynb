{
 "cells": [
  {
   "cell_type": "markdown",
   "metadata": {},
   "source": [
    "# Modules\n",
    "\n",
    "A good concept in programming is to reuse code and to avoid repetitions. As we learned in the previous notebooks, functions and classes allow to improve the readability and maintainability of a program. Modules are a higher level modular programming construct, and here we can collect variables, functions and classes in only one module. \n",
    "\n",
    "In Python, a module is defined in a python file (`.py`) and it can be accessed by other programs by using `import`.\n",
    "You may remember that sometimes we used `import math` to be able to use some mathematical expressions. Now you know that math is a module available in Python.\n",
    "\n",
    "\n",
    "**Table of contents:**\n",
    "\n",
    "* [What is a module?](#What-is-a-module?)\n",
    "* [How to import modules?](#How-does-import-work?)"
   ]
  },
  {
   "cell_type": "markdown",
   "metadata": {},
   "source": [
    "## What is a module?\n",
    "\n"
   ]
  },
  {
   "cell_type": "markdown",
   "metadata": {},
   "source": [
    "## How to import modules?"
   ]
  },
  {
   "cell_type": "markdown",
   "metadata": {},
   "source": [
    "# Summary\n",
    "\n",
    "* You know how to run a `.py` file.\n",
    "* You know why modules are useful.\n",
    "* You know the different ways to import modules or parts of one.\n",
    "* You have a rough understanding of how to structure your code into packages and modules.\n",
    "* You familiarized yourself with some of the modules available by default."
   ]
  }
 ],
 "metadata": {
  "kernelspec": {
   "display_name": "Python 3",
   "language": "python",
   "name": "python3"
  },
  "language_info": {
   "codemirror_mode": {
    "name": "ipython",
    "version": 3
   },
   "file_extension": ".py",
   "mimetype": "text/x-python",
   "name": "python",
   "nbconvert_exporter": "python",
   "pygments_lexer": "ipython3",
   "version": "3.6.9"
  }
 },
 "nbformat": 4,
 "nbformat_minor": 4
}
