{
 "cells": [
  {
   "cell_type": "markdown",
   "metadata": {},
   "source": [
    "# Modules\n",
    "\n",
    "A good concept in programming is to reuse code and to avoid repetitions. As we learned in the previous notebooks, functions and classes allow to improve the readability and maintainability of a program. Modules are a higher level modular programming construct, and here we can collect variables, functions and classes in only one module. \n",
    "In other words, a module organizes a code and it contains statement, functions, classes, variables, etc.\n",
    "\n",
    "In Python, a module is defined in a python file (`.py`) and it can be accessed by other programs by using `import`.\n",
    "You may remember that sometimes we used `import math` to be able to use some mathematical expressions. Now you know that math is a module available in Python as it contains many reusable functions.\n",
    "\n",
    "\n",
    "**Table of contents:**\n",
    "\n",
    "* [Type of modules](#Type-of-modules)\n",
    "* [How to import modules?](#How-to-import-modules?)\n",
    "* [Creating-modules](#Creating-modules)\n"
   ]
  },
  {
   "cell_type": "markdown",
   "metadata": {},
   "source": [
    "## Type of modules\n",
    "\n",
    "In Python we find 2 types of modules: the **built-in** modules and the **user-defined** modules.\n",
    "\n",
    "* The **built-in** modules are the modules available in Python by default when installing it. Python possess a large amount of built-in modules. Some of them are math, os, datetime, random, etc. Take a look at [Python built-in modules](https://docs.python.org/3/py-modindex.html) to explore more on it.\n",
    "\n",
    "\n",
    "* The **user-defined** modules are the ones created by the user."
   ]
  },
  {
   "cell_type": "markdown",
   "metadata": {},
   "source": [
    "## How to import modules?\n",
    "\n",
    "To import modules we use the `import` keyword. Let's import the math module and use the function `sqrt` that computes the squared root of a number:"
   ]
  },
  {
   "cell_type": "code",
   "execution_count": null,
   "metadata": {},
   "outputs": [],
   "source": [
    "import math\n",
    "\n",
    "print(math.sqrt(16))"
   ]
  },
  {
   "cell_type": "markdown",
   "metadata": {},
   "source": [
    "To access the `sqrt` function we have used the dot (.) operator. \n",
    "\n",
    "* We can also import **multiple** modules in one line:"
   ]
  },
  {
   "cell_type": "code",
   "execution_count": null,
   "metadata": {},
   "outputs": [],
   "source": [
    "import random, math\n",
    "\n",
    "print(random.randint(5, 10)) # It gives a random number in the specified range\n",
    "print(math.factorial(3)) # It computes the factorial of the given value"
   ]
  },
  {
   "cell_type": "markdown",
   "metadata": {},
   "source": [
    "* It is possible to import only an **specific** class or function from a module. For this we use the syntax `from module import class/function`:"
   ]
  },
  {
   "cell_type": "code",
   "execution_count": null,
   "metadata": {},
   "outputs": [],
   "source": [
    "from math import factorial\n",
    "\n",
    "print(factorial(6))"
   ]
  },
  {
   "cell_type": "markdown",
   "metadata": {},
   "source": [
    "* We can also **modify the name of the module** for our code:"
   ]
  },
  {
   "cell_type": "code",
   "execution_count": null,
   "metadata": {},
   "outputs": [],
   "source": [
    "import random as rand\n",
    "\n",
    "print(rand.randint(1,100))"
   ]
  },
  {
   "cell_type": "markdown",
   "metadata": {},
   "source": [
    "* Or we can **ename only the specific method**:"
   ]
  },
  {
   "cell_type": "code",
   "execution_count": null,
   "metadata": {},
   "outputs": [],
   "source": [
    "from math import factorial as fact\n",
    "\n",
    "print(fact(6))"
   ]
  },
  {
   "cell_type": "markdown",
   "metadata": {},
   "source": [
    "* If you need to **import everything** of a module, then you use `*`:"
   ]
  },
  {
   "cell_type": "code",
   "execution_count": null,
   "metadata": {},
   "outputs": [],
   "source": [
    "from math import *\n",
    "\n",
    "print(pi)\n",
    "print(sqrt(30))"
   ]
  },
  {
   "cell_type": "markdown",
   "metadata": {},
   "source": [
    "## Creating modules\n",
    "\n",
    "To create your own module, you need to write everything in one file with the `.py` extension. For instance, if your file is called `myfirstmodule.py` then you can import it in another file with `import myfirstmodule`.\n",
    "\n",
    "We will take a look on the following module example that is called `.py`. This module is loaded in this notebook so later we can import it, but first let's see it:"
   ]
  },
  {
   "cell_type": "code",
   "execution_count": null,
   "metadata": {},
   "outputs": [],
   "source": [
    "def myfunction():\n",
    "    print('This is the first function of my module')"
   ]
  },
  {
   "cell_type": "markdown",
   "metadata": {},
   "source": [
    "Now we use the previous module in a new code:"
   ]
  },
  {
   "cell_type": "code",
   "execution_count": null,
   "metadata": {},
   "outputs": [],
   "source": []
  },
  {
   "cell_type": "markdown",
   "metadata": {},
   "source": [
    "# Summary\n",
    "\n",
    "\n",
    "* You learned **what is** a module.\n",
    "* You learned the **two types** of modules.\n",
    "* You learned the ways to **import** a module or specific parts of it.\n",
    "* You learned to **create** your own module."
   ]
  }
 ],
 "metadata": {
  "kernelspec": {
   "display_name": "Python 3",
   "language": "python",
   "name": "python3"
  },
  "language_info": {
   "codemirror_mode": {
    "name": "ipython",
    "version": 3
   },
   "file_extension": ".py",
   "mimetype": "text/x-python",
   "name": "python",
   "nbconvert_exporter": "python",
   "pygments_lexer": "ipython3",
   "version": "3.6.9"
  }
 },
 "nbformat": 4,
 "nbformat_minor": 4
}
