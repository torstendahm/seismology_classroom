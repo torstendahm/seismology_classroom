{
 "cells": [
  {
   "cell_type": "markdown",
   "metadata": {},
   "source": [
    "# Control Flow\n",
    "\n",
    "\n",
    "## Introduction\n",
    "\n",
    "When we start to do a bit more of work in a code, usually we face to the problem of performing the same task over a big amount of data. In this case, instead of doing a tedious code with a big amount of lines we can easily solve this problem by using control flow statements. \n",
    "\n",
    "* `if-elif-else`: Conditional statement. It tells Python to evaluate several conditions ans execute certain instructions according to which condition is true.\n",
    "* `for`: Repetition statement. It iterates over a sequence (list, tuple, dict or set).\n",
    "* `while`: Repetition statement. It executes a block of statements many times, but only *while* a condition is satisfied.\n",
    "\n",
    "\n",
    "**Table of contents:**\n",
    "\n",
    "* [if-elif-else](#if-elif-else)\n",
    "* [For loop](#For-Loop)\n",
    "* [While loop](#While-Loop)\n",
    "* [Nesting loops](#Nesting-Loops-(Loops-within-Loops))"
   ]
  },
  {
   "cell_type": "markdown",
   "metadata": {},
   "source": [
    "# if-elif-else\n",
    "\n",
    "The syntax for conditional statements is `if`, `elif` and `else`."
   ]
  },
  {
   "cell_type": "code",
   "execution_count": null,
   "metadata": {},
   "outputs": [],
   "source": [
    "statement1 = False\n",
    "statement2 = False\n",
    "\n",
    "if statement1 == True:\n",
    "    print('statement1 is True')\n",
    "    \n",
    "elif statement2 == True:\n",
    "    print('statement2 is True')\n",
    "    \n",
    "else:\n",
    "    print('statement1 and statement2 are False')"
   ]
  },
  {
   "cell_type": "markdown",
   "metadata": {},
   "source": [
    "As you see from the previous example, there is one very important detail: program blocks are defined by their **indentation** level. After every `if`, `elif` and `else` comes an indented statement and this tells Python to include it as part of the condition. You can choose how many spaces to indent (usually it is a tab or 4 spaces), but make sure to always use the same amount. It is also possible to only use `if`, `elif` and `else` are optional."
   ]
  },
  {
   "cell_type": "code",
   "execution_count": null,
   "metadata": {},
   "outputs": [],
   "source": [
    "#Bad indentation\n",
    "if statement1 == False:\n",
    "print('statement1 is False')"
   ]
  },
  {
   "cell_type": "markdown",
   "metadata": {},
   "source": [
    "The error indicates a line not properly indented. Let's add spaces after the condition (note that we are only using `if`):"
   ]
  },
  {
   "cell_type": "code",
   "execution_count": null,
   "metadata": {},
   "outputs": [],
   "source": [
    "if statement1 == False:\n",
    "    print('statement1 is False')"
   ]
  },
  {
   "cell_type": "markdown",
   "metadata": {},
   "source": [
    "It is also possible to write a condition without relational operators. This is done when we only want to check the existence of a value as Python:"
   ]
  },
  {
   "cell_type": "code",
   "execution_count": null,
   "metadata": {},
   "outputs": [],
   "source": [
    "if statement1:\n",
    "    print('statement1 is True')\n",
    "else:\n",
    "    print('statement1 is False')"
   ]
  },
  {
   "cell_type": "markdown",
   "metadata": {},
   "source": [
    "You could also include `if` into other `if`, i.e., to have nested conditions:"
   ]
  },
  {
   "cell_type": "code",
   "execution_count": null,
   "metadata": {},
   "outputs": [],
   "source": [
    "if statement1 == False:\n",
    "    if statement2 == True:\n",
    "        print('statement1 is False and statement2 is True')\n",
    "    else:\n",
    "        print('statement1 and statement2 are False')"
   ]
  },
  {
   "cell_type": "markdown",
   "metadata": {},
   "source": [
    "* Using **and**"
   ]
  },
  {
   "cell_type": "code",
   "execution_count": null,
   "metadata": {},
   "outputs": [],
   "source": [
    "if statement1==True and statement2==True:\n",
    "    print('statement1 and statement2 are True')\n",
    "else:\n",
    "    print('At least one statement is False')"
   ]
  },
  {
   "cell_type": "markdown",
   "metadata": {},
   "source": [
    "* Using **not**"
   ]
  },
  {
   "cell_type": "code",
   "execution_count": null,
   "metadata": {},
   "outputs": [],
   "source": [
    "if not statement1 == True:\n",
    "    print('statement1 is not True')"
   ]
  },
  {
   "cell_type": "markdown",
   "metadata": {},
   "source": [
    "* Using **or**"
   ]
  },
  {
   "cell_type": "code",
   "execution_count": null,
   "metadata": {},
   "outputs": [],
   "source": [
    "if statement1 == True or statement2 == True:\n",
    "    print('At least one statement is True')\n",
    "else:\n",
    "    print('Both are False')"
   ]
  },
  {
   "cell_type": "markdown",
   "metadata": {},
   "source": [
    "<div class=\"alert alert-success\">\n",
    "    <strong>Task</strong>: Declare two variables <strong>a</strong> and <strong>b</strong>, assign them integer values and create a nested conditional using relational operators. For example: if both variables are greater than 5, and if at least one variable is less than 10, print <em>a and b satisfy the conditions</em>. Print another message if the conditions are not satisfied (else). "
   ]
  },
  {
   "cell_type": "code",
   "execution_count": null,
   "metadata": {},
   "outputs": [],
   "source": []
  },
  {
   "cell_type": "markdown",
   "metadata": {},
   "source": [
    "# For-Loop\n",
    "\n",
    "The `for` loop is the most common way to execute a task on each element of a group of data. A very basic for loop looks like:"
   ]
  },
  {
   "cell_type": "code",
   "execution_count": null,
   "metadata": {},
   "outputs": [],
   "source": [
    "for i in [1, 2, 3]:\n",
    "    print(i)"
   ]
  },
  {
   "cell_type": "markdown",
   "metadata": {},
   "source": [
    "It is very common to use the function `range`. It returns a sequence of numbers starting from 0 (default), incrementing by 1 (default) and stops **before** a specified number."
   ]
  },
  {
   "cell_type": "code",
   "execution_count": null,
   "metadata": {},
   "outputs": [],
   "source": [
    "for i in range(4):\n",
    "    print(i)"
   ]
  },
  {
   "cell_type": "markdown",
   "metadata": {},
   "source": [
    "As you can see, 4 is not included. We could also iterate over strings:"
   ]
  },
  {
   "cell_type": "code",
   "execution_count": null,
   "metadata": {},
   "outputs": [],
   "source": [
    "for s in ['a','b','c']:\n",
    "    print(s)"
   ]
  },
  {
   "cell_type": "markdown",
   "metadata": {},
   "source": [
    "or over a dictionary. Here it is useful to know that **dict.items()** give us the tuples of (key, value), with **dict.keys()** we only get the keys, and with **dict.values()** we only get the values:"
   ]
  },
  {
   "cell_type": "code",
   "execution_count": null,
   "metadata": {},
   "outputs": [],
   "source": [
    "d = {'x': 1, 'y': 2, 'z': 3}\n",
    "\n",
    "for key, value in d.items():\n",
    "    print(key + '=' + str(value))"
   ]
  },
  {
   "cell_type": "markdown",
   "metadata": {},
   "source": [
    "We can also access some elements of a list (or tuple or string) by using **len()** which give us the number of items in an object:"
   ]
  },
  {
   "cell_type": "code",
   "execution_count": null,
   "metadata": {},
   "outputs": [],
   "source": [
    "years = [1960, 2010, 2014, 2015]\n",
    "for i in range(len(years)):\n",
    "    print(years[i])"
   ]
  },
  {
   "cell_type": "markdown",
   "metadata": {},
   "source": [
    "# While-Loop\n",
    "\n"
   ]
  },
  {
   "cell_type": "code",
   "execution_count": null,
   "metadata": {},
   "outputs": [],
   "source": [
    "x = 0\n",
    "\n",
    "while x < 5:\n",
    "    print(x)\n",
    "    x += 1\n",
    "print('finished')"
   ]
  },
  {
   "cell_type": "markdown",
   "metadata": {},
   "source": [
    "# Nesting Loops (Loops within Loops)\n",
    "\n",
    "**Note**: When nesting loops or other constructs introduced later make sure to increase the indentation of your code as well."
   ]
  },
  {
   "cell_type": "code",
   "execution_count": 24,
   "metadata": {},
   "outputs": [
    {
     "name": "stdout",
     "output_type": "stream",
     "text": [
      "4-spaces\n",
      "0\n",
      "    8-spaces\n",
      "    0\n",
      "    8-spaces\n",
      "    1\n",
      "4-spaces\n",
      "1\n",
      "    8-spaces\n",
      "    0\n",
      "    8-spaces\n",
      "    1\n",
      "4-spaces\n",
      "2\n",
      "    8-spaces\n",
      "    0\n",
      "    8-spaces\n",
      "    1\n"
     ]
    }
   ],
   "source": [
    "for i in range(3):\n",
    "    print('4-spaces')\n",
    "    print(f'{i}')\n",
    "    for j in range(2):\n",
    "        print('    8-spaces')\n",
    "        print(f\"    {j}\")"
   ]
  },
  {
   "cell_type": "markdown",
   "metadata": {},
   "source": [
    "# List Comprehension\n",
    "\n",
    "Python has some usefuls shorthands when working with loops.\n",
    "\n",
    "These shorthands are called **List Comprehension** and allow you to write loops in a single line.\n",
    "\n",
    "List comprehension is useful when you want to transform (also called *map*) data into something else.\n",
    "\n",
    "When using list comprehension the elements will be transformed on-the-fly and you do not have to create a new container to hold and add the transformed data to.\n",
    "\n",
    "**NOTE**: Using List Comprehension can also sometimes make reading an understanding code very difficult.\n",
    "\n",
    "## The general syntax is\n",
    "```python\n",
    "transformed_iterable = [DoSomethingWith(element) for element in <iterable>]\n",
    "\n",
    "# Which is similar to\n",
    "transformed_iterable = []\n",
    "for element in iterable:\n",
    "    transformed_iterable.append(DoSomethingWith(element))\n",
    "```\n",
    "\n",
    "## It is also possible to add a condition and filter elements\n",
    "Elements that do not meet the condition will be dropped.\n",
    "```python\n",
    "[DoSomethingWith(element) for element in <iterable> if <element meets condition>]\n",
    "```\n",
    "\n",
    "## (Bonus) List comprehension can also be nested\n",
    "<div class=\"alert alert-block alert-warning\">\n",
    "<b>NOTE:</b> This can quickly turn into unreadable code the more layers of nesting you add!.</div>\n",
    "\n",
    "```python\n",
    "[DoSomethingWith(element) for <iterable_inner> in <iterable_outer> for element in <iterable_inner>]\n",
    "        \n",
    "# You could also see it as follows\n",
    "# the parenthesis here are just to group the loops, they are not proper Python syntax\n",
    "[DoSomethingWith(element) (for <iterable_inner> in <iterable_outer>) (for element in <iterable_inner>)]\n",
    "\n",
    "# Which is similiar to\n",
    "for iterable_inner in iterable_outer:\n",
    "    for element in iterable_inner:\n",
    "        DoSomethingWith(element)\n",
    "```"
   ]
  },
  {
   "cell_type": "markdown",
   "metadata": {},
   "source": [
    "## Transform list elements"
   ]
  },
  {
   "cell_type": "code",
   "execution_count": 20,
   "metadata": {},
   "outputs": [
    {
     "data": {
      "text/plain": [
       "[1.0, 2.0, 3.0, 4.0, 5.0, 6.0, 7.0, 8.0, 9.0, 0.0]"
      ]
     },
     "execution_count": 20,
     "metadata": {},
     "output_type": "execute_result"
    }
   ],
   "source": [
    "list_of_ints = [1,2,3,4,5,6,7,8,9,0]\n",
    "[float(element) for element in list_of_ints]"
   ]
  },
  {
   "cell_type": "markdown",
   "metadata": {},
   "source": [
    "## Transform list elements `if` matching a condition\n",
    "We only convert even numbers to floats and drop the rest"
   ]
  },
  {
   "cell_type": "code",
   "execution_count": 21,
   "metadata": {},
   "outputs": [
    {
     "data": {
      "text/plain": [
       "[2.0, 4.0, 6.0, 8.0, 0.0]"
      ]
     },
     "execution_count": 21,
     "metadata": {},
     "output_type": "execute_result"
    }
   ],
   "source": [
    "list_of_ints = [1,2,3,4,5,6,7,8,9,0]\n",
    "[float(element) for element in list_of_ints if element % 2 == 0]"
   ]
  },
  {
   "cell_type": "markdown",
   "metadata": {},
   "source": [
    "## Flatten a list of lists to a single list with nested list comprehension"
   ]
  },
  {
   "cell_type": "code",
   "execution_count": 22,
   "metadata": {},
   "outputs": [
    {
     "data": {
      "text/plain": [
       "[1, 2, 3, 4, 5, 6, 7, 8]"
      ]
     },
     "execution_count": 22,
     "metadata": {},
     "output_type": "execute_result"
    }
   ],
   "source": [
    "non_flat = [ [1,2,3], [4,5,6], [7,8] ]\n",
    "[y for x in non_flat for y in x]"
   ]
  },
  {
   "cell_type": "markdown",
   "metadata": {},
   "source": [
    "## Transform a list of tuples into a dict\n",
    "Python allows you to automatically unpack a tuple into multiple elements which you can make use of in list comprehension.\n",
    "\n",
    "For example, the tuple `('a', 1)` will be unpacked to `key='a', value=1`"
   ]
  },
  {
   "cell_type": "code",
   "execution_count": 23,
   "metadata": {},
   "outputs": [
    {
     "data": {
      "text/plain": [
       "{'a': 1, 'b': 2, 'c': 3}"
      ]
     },
     "execution_count": 23,
     "metadata": {},
     "output_type": "execute_result"
    }
   ],
   "source": [
    "list_of_tuples = [('a', 1), ('b', 2), ('c', 3)]\n",
    "{key: value for key, value in list_of_tuples}"
   ]
  },
  {
   "cell_type": "markdown",
   "metadata": {},
   "source": [
    "# Summary\n",
    "\n",
    "* You learned the conditional statements **if**, **elif** and **else**.\n",
    "* You know about **for** loops.\n",
    "* You know about **while** loops.\n",
    "* You know **how to access values in basic containers using a for loop**.\n",
    "* You know what **break** and **continue** do.\n",
    "* You know how to use **list comprehension** and the basics of **when NOT to use it**."
   ]
  }
 ],
 "metadata": {
  "kernelspec": {
   "display_name": "Python 3",
   "language": "python",
   "name": "python3"
  },
  "language_info": {
   "codemirror_mode": {
    "name": "ipython",
    "version": 3
   },
   "file_extension": ".py",
   "mimetype": "text/x-python",
   "name": "python",
   "nbconvert_exporter": "python",
   "pygments_lexer": "ipython3",
   "version": "3.6.9"
  }
 },
 "nbformat": 4,
 "nbformat_minor": 4
}
