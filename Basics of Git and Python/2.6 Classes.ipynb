{
 "cells": [
  {
   "cell_type": "markdown",
   "metadata": {},
   "source": [
    "# Classes\n",
    "\n",
    "## Introduction\n",
    "\n",
    "A class is a structure that represents an object and the operations that can be performed on the object. In Python, a class can contain attributes (variables) and methods (functions). We define it \n",
    "\n",
    "**Table of contents:**\n",
    "\n",
    "* [Definition of a Class](#Definition-of-a-Class)\n",
    "* \n",
    "* \n",
    "\n",
    "\n",
    "## Definition of a Class\n",
    "\n",
    "A Class is defined following the same concept of a function, but here we use the `class` keyword, and this definition usually contains a number of class mehtods definitions (a function in a class).\n",
    "\n",
    "* Each class method should contain an argument `self` as its first argument.\n",
    "* \n",
    "\n"
   ]
  },
  {
   "cell_type": "code",
   "execution_count": null,
   "metadata": {},
   "outputs": [],
   "source": [
    "class Point:\n",
    "    \"\"\"\n",
    "    Simple class for representing a point in a Cartesian coordinate system.\n",
    "    \"\"\"\n",
    "    \n",
    "    def __init__(self, x, y):\n",
    "        \"\"\"\n",
    "        Create a new Point at x, y.\n",
    "        \"\"\"\n",
    "        self.x = x\n",
    "        self.y = y\n",
    "        \n",
    "    def translate(self, dx, dy):\n",
    "        \"\"\"\n",
    "        Translate the point by dx and dy in the x and y direction.\n",
    "        \"\"\"\n",
    "        self.x += dx\n",
    "        self.y += dy\n",
    "        \n",
    "    def __str__(self):\n",
    "        return(\"Point at [%f, %f]\" % (self.x, self.y))"
   ]
  },
  {
   "cell_type": "markdown",
   "metadata": {},
   "source": [
    "# Summary\n",
    "\n",
    "* You know what is a **class**.\n",
    "* You know whow to **define** a class.\n",
    "* You know how to program a simple class in Python.\n",
    "* You know how to access attributes and call methods of an object.\n",
    "* You know how to write documentation for a class and its methods."
   ]
  }
 ],
 "metadata": {
  "kernelspec": {
   "display_name": "Python 3",
   "language": "python",
   "name": "python3"
  },
  "language_info": {
   "codemirror_mode": {
    "name": "ipython",
    "version": 3
   },
   "file_extension": ".py",
   "mimetype": "text/x-python",
   "name": "python",
   "nbconvert_exporter": "python",
   "pygments_lexer": "ipython3",
   "version": "3.6.9"
  }
 },
 "nbformat": 4,
 "nbformat_minor": 4
}
