{
 "cells": [
  {
   "cell_type": "markdown",
   "metadata": {},
   "source": [
    "# Classes\n",
    "\n",
    "## Introduction\n",
    "\n",
    "At the beginning of this module we mentioned that everything in Python is an object, with its own properties and methods. Now we can add that a **class** is a prototype that constructs **objects**. To understand the utility of classes, we could imagine that we need to do a revision of several earthquakes that have different attributes like epicenter, year and magnitude. We could do this using lists where we define the first element as the epicenter, the second as the year and the third one as the magnitude. This works but what if the number of earthquakes is too big or if we want to add new attributes? To avoid organization problems, classes are the recommendation.\n",
    "\n",
    "\n",
    "**Table of contents:**\n",
    "\n",
    "* [Class and Objects](#Class-and-Objects)\n",
    "* [Definition of a Class](#Definition-of-a-Class)\n",
    "* [Class Attributes](#Class-Attributes)\n",
    "* [Class Methods](#Class-Methods)\n",
    "* [pass](#The-pass-statement)\n",
    "* [Object Properties](#Object-properties)\n",
    "\n",
    "\n",
    "## Class and Objects\n",
    "\n",
    "A class is a structure that represents an object and the operations that can be performed on the object, i.e., it is an object constructor. In Python, a class can contain attributes (variables) and methods (functions). Classes are also called blueprints that create a new object, and using a class you can create as many objects as you like. Therefore, an object is an instance of a class and we use it to perform actions.\n",
    "\n",
    "It is important to emntion that every object has 3 properties:\n",
    "\n",
    "* Identity: every object is uniquely identified.\n",
    "* State: it corresponds to the attributes that an object possess.\n",
    "* Behavior: it corresponds to the methods representing the object behavior.\n",
    "\n",
    "## Definition of a Class\n",
    "\n",
    "A Class is defined following the same concept of a function, but here we use the `class` keyword. The naming convention for classes is to always start each word with a capital letter and write them all together, no separators.\n",
    "\n",
    "We can start with a very simple way to **create a class**:"
   ]
  },
  {
   "cell_type": "code",
   "execution_count": 1,
   "metadata": {},
   "outputs": [],
   "source": [
    "class MyFirstClass:\n",
    "    x = 2"
   ]
  },
  {
   "cell_type": "markdown",
   "metadata": {},
   "source": [
    "Now, let's use `MyFirstClass` **to create an object**:"
   ]
  },
  {
   "cell_type": "code",
   "execution_count": 5,
   "metadata": {},
   "outputs": [],
   "source": [
    "y = MyFirstClass()"
   ]
  },
  {
   "cell_type": "markdown",
   "metadata": {},
   "source": [
    "To access the attributes of a class, in this case `x`, we need to use the dot (.) operator:"
   ]
  },
  {
   "cell_type": "code",
   "execution_count": 6,
   "metadata": {},
   "outputs": [
    {
     "data": {
      "text/plain": [
       "2"
      ]
     },
     "execution_count": 6,
     "metadata": {},
     "output_type": "execute_result"
    }
   ],
   "source": [
    "y.x"
   ]
  },
  {
   "cell_type": "markdown",
   "metadata": {},
   "source": [
    "The previous examples showed a class (MyFirstClass) and an object (y) in their simplest form, but a useful class contains much more than that.\n",
    "\n",
    "## Class Attributes\n",
    "\n",
    "Attributes are defined as instance variables and class variables. \n",
    "\n",
    "**Instance variables** are the attributes attached to an instance of a class and they are declared inside the  `__init()__` method. These attributes are not shared by objects, as any object has its own copy and it is unique to each of them.\n",
    "\n",
    "**Class variables** are declared inside of a class but outside of any method. These attributes are shared by all the objects of a class.\n",
    "\n",
    "<div class=\"alert alert-warning\">\n",
    "    <strong>Note</strong>: when we talk about methods, we are simply referring to functions that are now associated with a class.\n",
    "</div>"
   ]
  },
  {
   "cell_type": "code",
   "execution_count": null,
   "metadata": {},
   "outputs": [],
   "source": [
    "class VolcanicAlert:\n",
    "    '''Volcanic alert recommendations'''\n",
    "    #Class variable, in this case our class variable correspond to the institution that gives these recommendations.\n",
    "    institution = 'sernageomin'\n",
    "    \n",
    "    def __init__(self, color):\n",
    "        # Instance variables, in this case is color, but can be more.\n",
    "        self.color = color\n",
    "\n",
    "    def action(self):\n",
    "        if self.color=='red':\n",
    "            print('Follow authorities instructions, possible evacuation.')\n",
    "        elif self.color=='orange':\n",
    "            print('Keep informed, possible partial access restrictions to the volcano.')\n",
    "        elif self.color=='yellow':\n",
    "            print('Keep informed by official media of local and national authorities.')\n",
    "        elif self.color=='green':\n",
    "            print('No danger')        \n",
    "        else:\n",
    "            print('Please enter a valid color code: red, orange, yellow or green.')"
   ]
  },
  {
   "cell_type": "markdown",
   "metadata": {},
   "source": [
    "To access an instance variable:"
   ]
  },
  {
   "cell_type": "code",
   "execution_count": 9,
   "metadata": {},
   "outputs": [
    {
     "name": "stdout",
     "output_type": "stream",
     "text": [
      "Follow authorities instructions, possible evacuation.\n"
     ]
    }
   ],
   "source": [
    "VolcanicAlert('red').action()"
   ]
  },
  {
   "cell_type": "markdown",
   "metadata": {},
   "source": [
    "To access a class variable:"
   ]
  },
  {
   "cell_type": "code",
   "execution_count": null,
   "metadata": {},
   "outputs": [],
   "source": [
    "VolcanicAlert.institution"
   ]
  },
  {
   "cell_type": "markdown",
   "metadata": {},
   "source": [
    "The previous example is a class that describes what to do during a volcanic alert, but maybe you are wondering what is **self**.\n",
    "\n",
    "<div class=\"alert alert-warning\">\n",
    "<p style=\"font-weight: bold; font-size:150%\"> The self parameter </p>\n",
    "<ol>\n",
    "    \n",
    "This parameter refers to the current instance of the class and is used to access the variables in a class. You can use any name (self is an arbitrary name that is often used) but it is very important that you add it as the first parameter of any function inside a class.\n",
    "</div>"
   ]
  },
  {
   "cell_type": "markdown",
   "metadata": {},
   "source": [
    "## Class Methods\n",
    "\n",
    "In a class there are 3 types of methods:\n",
    "\n",
    "* **Instance methods**: these are used to access or modify the object state.\n",
    "* **Class methods**: used to access or modify the class state. It is important to add `@classmethod` before defining it.\n",
    "* **Static methods**: these methods perform a task isolated. There are no instance or class variables in it as they do not have access to the class attributes. It is important to add `@staticmethod` before defining it."
   ]
  },
  {
   "cell_type": "code",
   "execution_count": null,
   "metadata": {},
   "outputs": [],
   "source": [
    "class Student:\n",
    "    # class variables\n",
    "    school_name = 'ABC School'\n",
    "\n",
    "    def __init__(self, name, age):\n",
    "        self.name = name\n",
    "        self.age = age\n",
    "\n",
    "    # instance method\n",
    "    def show(self):\n",
    "        # access instance variables\n",
    "        print('Student:', self.name, self.age)\n",
    "        # access class variables\n",
    "        print('School:', self.school_name)\n",
    "    \n",
    "    # class method\n",
    "    @classmethod\n",
    "    def change_School(cls, name):\n",
    "        # access class variable\n",
    "        print('Previous School name:', cls.school_name)\n",
    "        cls.school_name = name\n",
    "        print('School name changed to', Student.school_name)\n",
    "    \n",
    "    # static method\n",
    "    @staticmethod\n",
    "    def find_notes(subject_name):\n",
    "        # can't access instance or class attributes\n",
    "        return ['chapter 1', 'chapter 2', 'chapter 3']"
   ]
  },
  {
   "cell_type": "code",
   "execution_count": null,
   "metadata": {},
   "outputs": [],
   "source": [
    "# create object\n",
    "jessa = Student('Jessa', 12)\n",
    "\n",
    "# call instance method\n",
    "jessa.show()\n",
    "\n",
    "# call class method\n",
    "Student.change_School('XYZ School')\n",
    "\n",
    "# call static method\n",
    "Student.find_notes()"
   ]
  },
  {
   "cell_type": "markdown",
   "metadata": {},
   "source": [
    "## The `pass` statement\n",
    "\n",
    "`pass` is a null statement, so nothing happens when it is executed. This is useful when there is an empty block needed as an empty code is not allowed in loops, function and class definitions. Why would you need an empty block? Well, sometimes you could want to implement a class in the future and in order to avoid getting an error you can use `pass`."
   ]
  },
  {
   "cell_type": "code",
   "execution_count": null,
   "metadata": {},
   "outputs": [],
   "source": [
    "class Unfinished():\n",
    "    pass"
   ]
  },
  {
   "cell_type": "markdown",
   "metadata": {},
   "source": [
    "## Object Properties\n",
    "\n",
    "You already know that every object has properties. What happens if we want to modify those properties? Or if we want to delete a property when we already initialised it? \n",
    "\n",
    "* To **modify** a property:"
   ]
  },
  {
   "cell_type": "code",
   "execution_count": null,
   "metadata": {},
   "outputs": [],
   "source": []
  },
  {
   "cell_type": "markdown",
   "metadata": {},
   "source": [
    "* To **delete** a property"
   ]
  },
  {
   "cell_type": "code",
   "execution_count": null,
   "metadata": {},
   "outputs": [],
   "source": []
  },
  {
   "cell_type": "markdown",
   "metadata": {},
   "source": [
    "* To **delete** an **object**"
   ]
  },
  {
   "cell_type": "code",
   "execution_count": null,
   "metadata": {},
   "outputs": [],
   "source": []
  },
  {
   "cell_type": "markdown",
   "metadata": {},
   "source": [
    "# Summary\n",
    "\n",
    "* You know what is a **class**.\n",
    "* You know how to **define** a class.\n",
    "* You know how to program a simple class in Python.\n",
    "* You know how to access attributes and call methods of an object."
   ]
  }
 ],
 "metadata": {
  "kernelspec": {
   "display_name": "Python 3",
   "language": "python",
   "name": "python3"
  },
  "language_info": {
   "codemirror_mode": {
    "name": "ipython",
    "version": 3
   },
   "file_extension": ".py",
   "mimetype": "text/x-python",
   "name": "python",
   "nbconvert_exporter": "python",
   "pygments_lexer": "ipython3",
   "version": "3.6.9"
  }
 },
 "nbformat": 4,
 "nbformat_minor": 4
}
