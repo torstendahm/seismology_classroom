{
 "cells": [
  {
   "cell_type": "markdown",
   "metadata": {},
   "source": [
    "# Functions\n",
    "\n",
    "## Introduction\n",
    "\n",
    "A Function is a block of code that will return a result depending on the input. It is a reusable code that will run only when called. This notebook will show you the main structure of a function in terms of syntax and arguments.\n",
    "\n",
    "**Table of contents:**\n",
    "\n",
    "* [How does a function look like?](#How-does-a-function-look-like?)\n",
    "* [Arguments](#Arguments)\n",
    "* [`lambda` function](#lambda-function)\n",
    "\n",
    "\n",
    "\n",
    "## How does a function look like?\n",
    "\n",
    "Functions in Python are defined with the keyword `def`. This is followed by a function name, parentheses `()` and a colon `:`. Then, a function looks like:"
   ]
  },
  {
   "cell_type": "code",
   "execution_count": 1,
   "metadata": {},
   "outputs": [],
   "source": [
    "def myfunction():\n",
    "    print('function test')"
   ]
  },
  {
   "cell_type": "markdown",
   "metadata": {},
   "source": [
    "As `myfunction` does not ask for any argument, we can call it simply with:"
   ]
  },
  {
   "cell_type": "code",
   "execution_count": 2,
   "metadata": {},
   "outputs": [
    {
     "name": "stdout",
     "output_type": "stream",
     "text": [
      "function test\n"
     ]
    }
   ],
   "source": [
    "myfunction()"
   ]
  },
  {
   "cell_type": "markdown",
   "metadata": {},
   "source": [
    "Something highly recommended is to define a \"docstring\", which would contain the description of the function, i.e., what is done and how it is done. Let's add a docstring to the previous function:\n",
    "\n"
   ]
  },
  {
   "cell_type": "code",
   "execution_count": 3,
   "metadata": {},
   "outputs": [],
   "source": [
    "def myfunction():\n",
    "    \"\"\"\n",
    "    myfunction prints the string 'function test'\n",
    "    \"\"\"\n",
    "    print('function test')"
   ]
  },
  {
   "cell_type": "markdown",
   "metadata": {},
   "source": [
    "If you want to know the description of a function, you could use `help` to get more information."
   ]
  },
  {
   "cell_type": "code",
   "execution_count": 4,
   "metadata": {},
   "outputs": [
    {
     "name": "stdout",
     "output_type": "stream",
     "text": [
      "Help on function myfunction in module __main__:\n",
      "\n",
      "myfunction()\n",
      "    myfunction prints the string 'function test'\n",
      "\n"
     ]
    }
   ],
   "source": [
    "help(myfunction)"
   ]
  },
  {
   "cell_type": "markdown",
   "metadata": {},
   "source": [
    "Let's define another function with arguments in it. For example, we could define a function that calculates the square of a value."
   ]
  },
  {
   "cell_type": "code",
   "execution_count": 5,
   "metadata": {
    "slideshow": {
     "slide_type": "-"
    },
    "tags": [
     "raises-exception"
    ]
   },
   "outputs": [],
   "source": [
    "def square(x):\n",
    "    \"\"\"\n",
    "    Return the square of x\n",
    "    \"\"\"\n",
    "    return x**2"
   ]
  },
  {
   "cell_type": "code",
   "execution_count": 6,
   "metadata": {},
   "outputs": [
    {
     "data": {
      "text/plain": [
       "9"
      ]
     },
     "execution_count": 6,
     "metadata": {},
     "output_type": "execute_result"
    }
   ],
   "source": [
    "square(3)"
   ]
  },
  {
   "cell_type": "markdown",
   "metadata": {},
   "source": [
    "<div class=\"alert alert-info\">\n",
    "Like the example above, when a function gives back a value (or multiple values), we use the `return` statement to define this \n",
    "value. This simply indicates <strong>what</strong> to return. But, if `return` is not provided, then Python will return None:\n",
    "</div>"
   ]
  },
  {
   "cell_type": "code",
   "execution_count": 7,
   "metadata": {},
   "outputs": [
    {
     "name": "stdout",
     "output_type": "stream",
     "text": [
      "None\n"
     ]
    }
   ],
   "source": [
    "def square2(x):\n",
    "    \"\"\"\n",
    "    Return the square of x\n",
    "    \"\"\"\n",
    "    x**2\n",
    "\n",
    "square2(3) #Nothing happens, as None is \"hidden\"\n",
    "x = square2(3)\n",
    "print(x)"
   ]
  },
  {
   "cell_type": "markdown",
   "metadata": {},
   "source": [
    "## Arguments\n",
    "\n",
    "The arguments of a function are specified inside the parenthesis. The previous example contained one single argument meaning that the function will work only when one argument is provided. But we can add as many arguments as we like. This is donde by simply separating them with a comma. In Python documentations sometimes you find the shortened word *args* but this is also referring to arguments. \n",
    "\n",
    "### Positional arguments (args)\n",
    "\n",
    "Positional arguments are the first ones in the list of all arguments. To specify their values it is important to do it in the same order they were specified in the function."
   ]
  },
  {
   "cell_type": "code",
   "execution_count": 8,
   "metadata": {},
   "outputs": [],
   "source": [
    "def force(m ,a):\n",
    "    return m*a"
   ]
  },
  {
   "cell_type": "markdown",
   "metadata": {},
   "source": [
    "<div class=\"alert alert-success\">\n",
    "Try your own values and see what happens if you change the order. Do you get the same result?\n",
    "    </div>"
   ]
  },
  {
   "cell_type": "code",
   "execution_count": null,
   "metadata": {},
   "outputs": [],
   "source": []
  },
  {
   "cell_type": "markdown",
   "metadata": {},
   "source": [
    "If not, take a look on keyword arguments."
   ]
  },
  {
   "cell_type": "markdown",
   "metadata": {},
   "source": [
    "### *args\n",
    "\n",
    "When you do not know hoy many positional arguments will be given to your function, you can add `*` before the argument name. This `*` inidicates that a tuple will be received, which means that values can be accessed with **args[index]**."
   ]
  },
  {
   "cell_type": "code",
   "execution_count": 9,
   "metadata": {},
   "outputs": [
    {
     "name": "stdout",
     "output_type": "stream",
     "text": [
      "3\n",
      "('check stations list', 2022)\n"
     ]
    }
   ],
   "source": [
    "def memo(note, *args):\n",
    "    print(note)\n",
    "    print(args)\n",
    "\n",
    "memo(3,'check stations list', 2022)"
   ]
  },
  {
   "cell_type": "markdown",
   "metadata": {},
   "source": [
    "### Keyword arguments (kwargs)\n",
    "\n",
    "Keyword arguments comes after the positional arguments. They are explicitly listed with a name so they do not need to be called in the same order:"
   ]
  },
  {
   "cell_type": "code",
   "execution_count": 10,
   "metadata": {},
   "outputs": [
    {
     "data": {
      "text/plain": [
       "760"
      ]
     },
     "execution_count": 10,
     "metadata": {},
     "output_type": "execute_result"
    }
   ],
   "source": [
    "def force2(m=30, a=30):\n",
    "    return m*a\n",
    "\n",
    "force2(m=38, a=20)"
   ]
  },
  {
   "cell_type": "markdown",
   "metadata": {},
   "source": [
    "<div class=\"alert alert-success\">\n",
    "What happens if you calculate the same values but not in the same order?\n",
    "</div>"
   ]
  },
  {
   "cell_type": "code",
   "execution_count": null,
   "metadata": {},
   "outputs": [],
   "source": []
  },
  {
   "cell_type": "markdown",
   "metadata": {},
   "source": [
    "### *kwargs\n",
    "\n",
    "When you do not know how many keyword arguments will be given to your function, you can add `*` before the keyword argument name. Unlike `*args`, it is a dictionary that will store the unknown kwargs, and the values can be accessed with **kwargs[keyword]**. "
   ]
  },
  {
   "cell_type": "code",
   "execution_count": 11,
   "metadata": {},
   "outputs": [
    {
     "name": "stdout",
     "output_type": "stream",
     "text": [
      "kwargs: {'to_do': 'Finish report', 'deadline': 30, 'scolarship_renew': 'october'}\n"
     ]
    }
   ],
   "source": [
    "def memo2(**kwargs):\n",
    "    print('kwargs:', kwargs)\n",
    "    \n",
    "memo2(to_do='Finish report', deadline=30, scolarship_renew='october')"
   ]
  },
  {
   "cell_type": "markdown",
   "metadata": {},
   "source": [
    "## `lambda` function\n",
    "\n",
    "`lambda` is a keyword to create unnamed functions. Let's define two functions that perform the same task. `f1` will be defined in the way we already learned, and `f2` will be defined with the `lambda` keyword:"
   ]
  },
  {
   "cell_type": "code",
   "execution_count": 12,
   "metadata": {},
   "outputs": [
    {
     "data": {
      "text/plain": [
       "(8, 8)"
      ]
     },
     "execution_count": 12,
     "metadata": {},
     "output_type": "execute_result"
    }
   ],
   "source": [
    "def f1(x):\n",
    "    return x**3\n",
    "\n",
    "f2 = lambda x: x**3\n",
    "\n",
    "#Let's execute f1 and f2:\n",
    "\n",
    "f1(2), f2(2)"
   ]
  },
  {
   "cell_type": "markdown",
   "metadata": {},
   "source": [
    "This becomes useful when we want to use a simple function as argument for another function. Let's check the built-in function `map` that makes an iterator of the results after applying a given function to each item of an iterable (list, tuple, etc). Instead of defining the function with `def`, we can include it directly as an argument. In the following example, we will ask for a function that returns the doubled values of a tuple:"
   ]
  },
  {
   "cell_type": "code",
   "execution_count": 13,
   "metadata": {},
   "outputs": [
    {
     "data": {
      "text/plain": [
       "(<map at 0x7fe29813b390>, [2, 4, 6, 8])"
      ]
     },
     "execution_count": 13,
     "metadata": {},
     "output_type": "execute_result"
    }
   ],
   "source": [
    "values = (1, 2, 3, 4)\n",
    "result = map(lambda x: x*2, values)\n",
    "#To visualize the results we transform the map object into a list:\n",
    "result, list(result)"
   ]
  },
  {
   "cell_type": "markdown",
   "metadata": {},
   "source": [
    "# Summary\n",
    "\n",
    "* You know **what a function is**.\n",
    "* You know the **syntax of a function** (def ...).\n",
    "* You learned to use **return**.\n",
    "* You know the **different arguments of a function** (positional, keyword) and how to build functions with them.\n"
   ]
  }
 ],
 "metadata": {
  "kernelspec": {
   "display_name": "Python 3",
   "language": "python",
   "name": "python3"
  },
  "language_info": {
   "codemirror_mode": {
    "name": "ipython",
    "version": 3
   },
   "file_extension": ".py",
   "mimetype": "text/x-python",
   "name": "python",
   "nbconvert_exporter": "python",
   "pygments_lexer": "ipython3",
   "version": "3.6.9"
  }
 },
 "nbformat": 4,
 "nbformat_minor": 4
}
