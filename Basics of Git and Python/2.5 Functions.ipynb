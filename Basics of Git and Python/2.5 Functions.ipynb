{
 "cells": [
  {
   "cell_type": "markdown",
   "metadata": {},
   "source": [
    "# Functions\n",
    "\n",
    "## Introduction\n",
    "\n",
    "A Function is a block of code that will return a result depending on the input. It is a reusable code that will run only when called. This notebook will show you the main structure of a function in terms of syntax and arguments.\n",
    "\n",
    "**Table of contents:**\n",
    "\n",
    "* [How does a function look like?](#How-does-a-function-look-like?)\n",
    "* [How to name a function](#How-to-name-functions?)\n",
    "* [General syntax of a function](#The-general-syntax-of-a-function-is)\n",
    "* [Examples](#Let's-look-at-some-examples)\n",
    "\n",
    "\n",
    "\n",
    "## How does a function look like?\n",
    "\n",
    "Functions in Python are defined with the keyword `def`. This is followed by a function name, parentheses `()` and a colon `:`. Then, a function looks like:"
   ]
  },
  {
   "cell_type": "code",
   "execution_count": null,
   "metadata": {},
   "outputs": [],
   "source": [
    "def myfunction():\n",
    "    print('function test')"
   ]
  },
  {
   "cell_type": "markdown",
   "metadata": {},
   "source": [
    "Something highly recommended is to define a \"docstring\", which would contain the description of the function, i.e., what is done and how it is done. Let's add a docstring to the previous function:\n",
    "\n"
   ]
  },
  {
   "cell_type": "code",
   "execution_count": null,
   "metadata": {},
   "outputs": [],
   "source": [
    "def myfunction():\n",
    "    \"\"\"\n",
    "    myfunction prints the string 'function test'\n",
    "    \"\"\"\n",
    "    print('function test')"
   ]
  },
  {
   "cell_type": "markdown",
   "metadata": {},
   "source": [
    "If you want to know the description of a function, you could use `help` to get more information."
   ]
  },
  {
   "cell_type": "code",
   "execution_count": null,
   "metadata": {},
   "outputs": [],
   "source": [
    "help(myfunction)"
   ]
  },
  {
   "cell_type": "markdown",
   "metadata": {},
   "source": [
    "Let's define another function with arguments in it. For example, we could define a function that calculates the square of a value."
   ]
  },
  {
   "cell_type": "code",
   "execution_count": null,
   "metadata": {
    "slideshow": {
     "slide_type": "-"
    },
    "tags": [
     "raises-exception"
    ]
   },
   "outputs": [],
   "source": [
    "def square(x):\n",
    "    \"\"\"\n",
    "    Return the square of x\n",
    "    \"\"\"\n",
    "    return x**2"
   ]
  },
  {
   "cell_type": "code",
   "execution_count": null,
   "metadata": {},
   "outputs": [],
   "source": [
    "square(3)"
   ]
  },
  {
   "cell_type": "markdown",
   "metadata": {},
   "source": [
    "## How to name functions?\n",
    "\n"
   ]
  },
  {
   "cell_type": "markdown",
   "metadata": {},
   "source": [
    "# Summary\n",
    "\n",
    "* You know **what a function is**.\n",
    "* You understand **why functions are useful**.\n",
    "* You know the **syntax of a function** (def ...).\n",
    "* You know the **different arguments of a function** (positional, keyword).\n",
    "* You know what **return** does and how to use it to return one or multiple values from a function.\n",
    "\n",
    "Bonus\n",
    "* You have learned how to use **\\*args** and **\\*\\*kwargs**.\n",
    "* You know about **accessing variables outside a function** and **shaddowing outside variables** and that you have to be mindful."
   ]
  }
 ],
 "metadata": {
  "kernelspec": {
   "display_name": "Python 3",
   "language": "python",
   "name": "python3"
  },
  "language_info": {
   "codemirror_mode": {
    "name": "ipython",
    "version": 3
   },
   "file_extension": ".py",
   "mimetype": "text/x-python",
   "name": "python",
   "nbconvert_exporter": "python",
   "pygments_lexer": "ipython3",
   "version": "3.6.9"
  }
 },
 "nbformat": 4,
 "nbformat_minor": 4
}
