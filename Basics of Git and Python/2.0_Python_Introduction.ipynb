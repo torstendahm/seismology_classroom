{
 "cells": [
  {
   "cell_type": "markdown",
   "metadata": {},
   "source": [
    "# Introduction to Python\n",
    "\n",
    "\n",
    "## Introduction\n",
    "\n",
    "Python is a modern high-level programming language. It is a general-purpose and object-oriented language. The main advantages of Python are that it is clean, simple, easy to read and it minimizes the time to develop, debug and mantain the code.\n",
    "\n",
    "To start we will check how to execute a Python program and we will take a look on the terminology used within Python. When you create your own code this becomes very important as you understand the structure and properties associated to each term. \n",
    "\n",
    "**Table of contents:**\n",
    "\n",
    "* [IPython](#IPython)\n",
    "* [Executing a Python code](#Executing-a-Python-code)\n",
    "* [Terminology](#Terminology)\n",
    "* [Comments](#Comments)\n",
    "* [Built-in functions](#Built-in-functions)"
   ]
  },
  {
   "cell_type": "markdown",
   "metadata": {},
   "source": [
    "## IPython\n",
    "\n",
    "All the files shown in this course are IPython notebooks (ending in **.ipynb**). IPython is an interactive shell included in Python, but it can do more than the standard prompt. IPython adds extra functionalities, as mixing formatted text with Python code and code output. But besides the extra functionalities, you do not need to modify your Python code to run it within an IPython shell. Here we are using Jupyter Notebook, and each ell can either contain text or code. If the cell is a Code cell, then you can run the program in the cell and see inmediately its result.\n",
    "\n",
    "<div class=\"alert alert-info\">    \n",
    "<strong>Note:</strong> `Code` cells will automatically print the result of the last line of code in it. This is a feature of the notebooks and does not print anything in regular Python programs (i.e. when run with `python3 my_program.py`).\n",
    "   \n",
    "</div>\n",
    "\n",
    "## Executing a Python code\n",
    "\n",
    "Python codes (also called scripts) are usually stored in text files with the ending `.py`, for example: `my_program.py`\n",
    "\n",
    "To execute a program from the command line we use `python3 my_program.py`\n",
    "\n",
    "#### How does a code look like?\n",
    "\n",
    "The following cell shows a fully working Python program:\n"
   ]
  },
  {
   "cell_type": "code",
   "execution_count": null,
   "metadata": {},
   "outputs": [],
   "source": [
    "a = 1\n",
    "b = 2\n",
    "print(a + b)"
   ]
  },
  {
   "cell_type": "markdown",
   "metadata": {},
   "source": [
    "\n",
    "## Terminology\n",
    "\n",
    "- **Object**: Everything in Python is an *object*! An object has `properties` and `methods`.\n",
    "- **Properties**: Properties store data associated with an object. Properties can be accessed by `object.property`.\n",
    "- **Classes**: Classes are the construction plans for *Object*s. A class defines\n",
    "    - how to construct an object (e.g. how to build a car)\n",
    "    - which properties it has and (e.g. it has a color and it has a number of wheels)\n",
    "    - which methods are bound to it. (e.g. it can steer left and right and honk)  \n",
    "- **Instance**: The process of using a class is called *instantiation*, because you create a specific *Instance* of that *Class*.\n",
    "    - A class can accept *arguments* at construction time to set some of its *properties* (e.g. a blue car with 8 wheels)\n",
    "    - An object is *instantiated* from a class by `Class(argument, argument, ...)`\n",
    "- **Argument**: This is how the values passed to a function, method or class are called.\n",
    "- **Functions**: A function is not part of an object an can be executed by `function(argument, argument, ...)`. A function can\n",
    "    - compute something,\n",
    "    - return a result.\n",
    "- **Methods**: Methods are similar to functions, but are part of (bound to) an object. Methods can be executed by `object.method(argument, argument, ...)`. A method can\n",
    "    - compute something,\n",
    "    - access and change the state (properties) of the object it is bound to, (e.g. change the door state of a car from open to closed)\n",
    "    - return a result (e.g. the current fuel level of the car)\n",
    "- **Method vs Function**:\n",
    "    - A **Method** is bound to an object and can have side-effects (change state).\n",
    "    - A **Function** is not bound to an object and has no side-effects.\n",
    "    - **Side-Effects**: When an operation changes an objects state or global state it has side-effects.\n",
    "- **Indentation**:\n",
    "    - This is specific to Python and is used to tell `Python` which parts of code belong together\n",
    "    - This is done by using spaces or tabs."
   ]
  },
  {
   "cell_type": "markdown",
   "metadata": {},
   "source": [
    "## Comments\n",
    "Comments can be used to annotate code with text that is not executed when you run a python program.\n",
    "\n",
    "Creating a comment works like this: `# This is a comment`\n",
    "\n",
    "Or like this: `\"\"\"Comment in here\"\"\"`\n",
    "\n",
    "There are two types of comments: **inline** and **multiline**.\n",
    "\n",
    "- **inline**: This type of comment is on the same line as code.\n",
    "- **multiline**: This type of comments stretches over multiple lines.\n"
   ]
  },
  {
   "cell_type": "markdown",
   "metadata": {},
   "source": [
    "## Built-in functions\n",
    "\n",
    "To discover what Python has to offer it has two built-in functions that will quickly get you going:\n",
    "\n",
    "`dir(object)` and `help(object/function/method)`\n",
    "\n",
    "\n",
    "**dir(object)**: This will list all `properties` and `methods` of an object.\n",
    "\n",
    "**help(object)**: This will print the documentation, also called *docstring*, of `Methods`, `Classes` and `Functions`. A docstring describes its\n",
    "- *parameters*,\n",
    "- *what it does/computes* and\n",
    "- *what it returns*.\n",
    "\n",
    "Ps: These functions will be used in the next modules."
   ]
  },
  {
   "cell_type": "markdown",
   "metadata": {},
   "source": [
    "## Online documentation\n",
    "\n",
    "- Python documenation is available at https://docs.python.org\n",
    "- Public platform to ask/answer questions at https://stackoverflow.com/\n",
    "\n",
    "\n",
    "# Summary\n",
    "\n",
    "* You learned what is **IPython** and the difference with Python.\n",
    "* You learned to **execute** a Python program in the terminal.\n",
    "* You learned the basic **terminology** in Python (which is similar to most other programming languages).\n",
    "* You learned the **comments** types and how to them in your code.\n",
    "* You learned about the **dir** and **help** built-in functions. "
   ]
  }
 ],
 "metadata": {
  "kernelspec": {
   "display_name": "Python 3",
   "language": "python",
   "name": "python3"
  },
  "language_info": {
   "codemirror_mode": {
    "name": "ipython",
    "version": 3
   },
   "file_extension": ".py",
   "mimetype": "text/x-python",
   "name": "python",
   "nbconvert_exporter": "python",
   "pygments_lexer": "ipython3",
   "version": "3.6.9"
  }
 },
 "nbformat": 4,
 "nbformat_minor": 2
}
