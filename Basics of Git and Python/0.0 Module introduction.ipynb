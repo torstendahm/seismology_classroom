{
 "cells": [
  {
   "cell_type": "markdown",
   "metadata": {},
   "source": [
    "# Introduction\n",
    "\n",
    "In this module you will find the basics about Git and Python programming language. The main goal in this module is to learn the basics needed to code and perform different numerical tasks required to the master program.\n",
    "\n",
    "The submodules covered here are:\n",
    "\n",
    "* GitHub \n",
    "* Basics of Python\n",
    "* Variables and Types\n",
    "* Text and Variables\n",
    "* Containers\n",
    "* Control Flow\n",
    "* Functions\n",
    "* Classes \n",
    "* Modules\n",
    "* Numpy and Pandas\n",
    "* Matplotlib and Seaborn\n",
    "* Gridded data plots\n",
    "\n",
    "<div class=\"alert alert-block alert-info\">\n",
    "<b>Note:</b> Many Python versions can be installed simultaneously in your system. You can check your version by typing in the terminal <strong>python --version</strong>, or <strong>python3 --version</strong>. As Python3 has more updates that are not available in Python2, we will always use Python3 to run our scripts.\n",
    "</div>"
   ]
  }
 ],
 "metadata": {
  "kernelspec": {
   "display_name": "Python 3",
   "language": "python",
   "name": "python3"
  },
  "language_info": {
   "codemirror_mode": {
    "name": "ipython",
    "version": 3
   },
   "file_extension": ".py",
   "mimetype": "text/x-python",
   "name": "python",
   "nbconvert_exporter": "python",
   "pygments_lexer": "ipython3",
   "version": "3.6.9"
  }
 },
 "nbformat": 4,
 "nbformat_minor": 2
}
