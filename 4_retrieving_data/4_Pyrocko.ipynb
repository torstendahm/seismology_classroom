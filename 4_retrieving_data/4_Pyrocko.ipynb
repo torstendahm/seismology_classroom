{
 "cells": [
  {
   "cell_type": "markdown",
   "id": "e4d68eb9",
   "metadata": {},
   "source": [
    "# Data retrieval using Pyrocko with Squirrel\n",
    "\n",
    "With the addition of squirrel to pyrocko the way of requesting data has changed. How to do it with out the squirrel is shown in the notebook [pyrocko old](x_Pyrocko_old.ipynb). The advantage of squirrel is that it memorizes if the reqeusted data is already in your squirrel database, and therefore does not download it again, but just reloads it. \n",
    "\n",
    "[Reference](https://pyrocko.org/docs/current/library/examples/squirrel/cli_tool.html#variant-1-quick-and-dirty-script)\n",
    "\n",
    "\n",
    "### Tabel of content:\n",
    "- [Event](#Event-catalog)\n",
    "- [Station](#Stations)\n",
    "- [Waveform](#Waveform)\n",
    "\n",
    "- [Summary](#Summary)"
   ]
  },
  {
   "cell_type": "code",
   "execution_count": null,
   "id": "41081da5",
   "metadata": {},
   "outputs": [],
   "source": [
    "import numpy as np\n",
    "from pyrocko import progress\n",
    "from pyrocko.util import str_to_time_fillup as stt\n",
    "from pyrocko.squirrel import Squirrel"
   ]
  },
  {
   "cell_type": "markdown",
   "id": "ec4d62dc",
   "metadata": {},
   "source": [
    "First we initialize a squirrel instance."
   ]
  },
  {
   "cell_type": "code",
   "execution_count": null,
   "id": "2b31a36c",
   "metadata": {},
   "outputs": [],
   "source": [
    "sq = Squirrel()"
   ]
  },
  {
   "cell_type": "markdown",
   "id": "6445a82a",
   "metadata": {},
   "source": [
    "## Event catalog\n",
    "Here we have to give it a catalog name, at the moment *geofon* and *gcmt* are implemented."
   ]
  },
  {
   "cell_type": "code",
   "execution_count": null,
   "id": "6682808e",
   "metadata": {},
   "outputs": [],
   "source": [
    "sq.add_catalog('geofon') # or gcmt"
   ]
  },
  {
   "cell_type": "code",
   "execution_count": null,
   "id": "b0ec5aaf",
   "metadata": {
    "scrolled": false
   },
   "outputs": [],
   "source": [
    "tmin = stt('2016-10-30 00:00:00')\n",
    "tmax = stt('2016-10-30 23:50:00')\n",
    "\n",
    "sq.update(tmin=tmin, tmax=tmax)"
   ]
  },
  {
   "cell_type": "markdown",
   "id": "db176805",
   "metadata": {},
   "source": [
    "With the *get_events()* function, we select now all events within the time span defined beforehand."
   ]
  },
  {
   "cell_type": "code",
   "execution_count": null,
   "id": "282cd113",
   "metadata": {},
   "outputs": [],
   "source": [
    "evs = sq.get_events()"
   ]
  },
  {
   "cell_type": "code",
   "execution_count": null,
   "id": "b97b5c3b",
   "metadata": {},
   "outputs": [],
   "source": [
    "len(evs)"
   ]
  },
  {
   "cell_type": "markdown",
   "id": "1dc7b8a0",
   "metadata": {},
   "source": [
    "We can iterate through the evs and for example select the specific time of an event. Here the Norcia earthquake."
   ]
  },
  {
   "cell_type": "code",
   "execution_count": null,
   "id": "e51c57e1",
   "metadata": {},
   "outputs": [],
   "source": [
    "for ev in evs:\n",
    "    if ev.magnitude > 6:\n",
    "        print(ev.magnitude, ev.region)\n",
    "        \n",
    "        if ev.region == 'Central Italy' and ev.magnitude == 6.5:\n",
    "            tevent = ev.time\n",
    "            print(tevent)"
   ]
  },
  {
   "cell_type": "markdown",
   "id": "6afc906b",
   "metadata": {},
   "source": [
    "## Stations\n",
    "\n",
    "Again, we need to select a source, here *BGR*. Further, we can specify which network, stations and channels we are interested in. This limits further requests to stations that fit with the specification, meaning may be a restriction. "
   ]
  },
  {
   "cell_type": "code",
   "execution_count": null,
   "id": "795b723f",
   "metadata": {},
   "outputs": [],
   "source": [
    "# Add online data source. Enable access to BGR's FDSN web service and restrict\n",
    "# to GR network and LH channels only:\n",
    "sq.add_fdsn('bgr', query_args=dict(network='GR', channel='LH?'))"
   ]
  },
  {
   "cell_type": "markdown",
   "id": "b4eb22ba",
   "metadata": {},
   "source": [
    "Similar to the query option *level* squirrel has *get_stations()*, *get_channels()* or *get_response()*. All of them can be further restricted by using the *code* argument."
   ]
  },
  {
   "cell_type": "code",
   "execution_count": null,
   "id": "48ed8022",
   "metadata": {
    "scrolled": false
   },
   "outputs": [],
   "source": [
    "stas = sq.get_stations(codes='*.*.*')\n",
    "# stas = sq.get_stations(codes='*.BFO.*')\n",
    "print(len(stas))"
   ]
  },
  {
   "cell_type": "code",
   "execution_count": null,
   "id": "c4abd3d3",
   "metadata": {},
   "outputs": [],
   "source": [
    "for sta in stas:\n",
    "    print(sta)"
   ]
  },
  {
   "cell_type": "code",
   "execution_count": null,
   "id": "845060db",
   "metadata": {},
   "outputs": [],
   "source": [
    "chas = sq.get_channels(codes='*.BFO.*.*')\n",
    "print(len(chas))"
   ]
  },
  {
   "cell_type": "code",
   "execution_count": null,
   "id": "0a6dea4b",
   "metadata": {
    "scrolled": true
   },
   "outputs": [],
   "source": [
    "for cha in chas:\n",
    "    print(cha)\n",
    "    print(cha)"
   ]
  },
  {
   "cell_type": "code",
   "execution_count": null,
   "id": "b2dc888d",
   "metadata": {},
   "outputs": [],
   "source": [
    "resps = sq.get_response(tmin=tmin, tmax=tmax, codes='GR.BFO..LHZ')\n",
    "print(resps)"
   ]
  },
  {
   "cell_type": "markdown",
   "id": "f0e1c976",
   "metadata": {},
   "source": [
    "Note that for *get_response()* only one station at once is allowed. Therefore, to get all responses of your stations you have to use a loop. To can give the channel object directly, as it will automatically retrieves all informations."
   ]
  },
  {
   "cell_type": "code",
   "execution_count": null,
   "id": "b00faac5",
   "metadata": {
    "scrolled": true
   },
   "outputs": [],
   "source": [
    "for cha in chas:\n",
    "    resps = sq.get_response(cha)#.get_effective()\n",
    "    print(cha)\n",
    "    print(resps)"
   ]
  },
  {
   "cell_type": "markdown",
   "id": "44225f0a",
   "metadata": {},
   "source": [
    "## Waveform\n",
    "\n",
    "Here, we want to request the waveform for the Norcia earthquake, for one specific station. \n",
    "\n",
    "Before the download we need to update the waveform promises ([Ref](https://pyrocko.org/docs/current/library/reference/squirrel/base.html#pyrocko.squirrel.base.Squirrel.update_waveform_promises)).\n",
    "\n"
   ]
  },
  {
   "cell_type": "code",
   "execution_count": null,
   "id": "6e298c7a",
   "metadata": {},
   "outputs": [],
   "source": [
    "tmin = tevent + 0\n",
    "tmax = tevent + 1500\n",
    "# Ensure meta-data from online sources is up to date for the selected time\n",
    "# span:\n",
    "sq.update(tmin=tmin, tmax=tmax)\n",
    "\n",
    "# Allow waveform download for station BFO. This does not download anything\n",
    "# yet, it just enables downloads later, when needed. Omit `tmin`, `tmax`,\n",
    "# and `codes` to enable download of everything selected in `add_fdsn(...)`.\n",
    "sq.update_waveform_promises(tmin=tmin, tmax=tmax, codes='*.BFO.*.*')"
   ]
  },
  {
   "cell_type": "markdown",
   "id": "dad41a76",
   "metadata": {},
   "source": [
    "With the *chopper_waveforms* function we download the waveform and store them."
   ]
  },
  {
   "cell_type": "code",
   "execution_count": null,
   "id": "e32d8f69",
   "metadata": {},
   "outputs": [],
   "source": [
    "batches = sq.chopper_waveforms(\n",
    "        tmin=tmin,\n",
    "        tmax=tmax,\n",
    "        codes='*.BFO.*.LH*',\n",
    "        want_incomplete=False,   # Skip incomplete windows.\n",
    "        snap_window=True)"
   ]
  },
  {
   "cell_type": "code",
   "execution_count": null,
   "id": "f0f86897",
   "metadata": {},
   "outputs": [],
   "source": [
    "for batch in batches:\n",
    "    for tr in batch.traces:        \n",
    "        print(tr)        \n",
    "        tr.plot()"
   ]
  },
  {
   "cell_type": "markdown",
   "id": "00aaec6c",
   "metadata": {},
   "source": [
    "Restitution of the waveform is also possible, in a rather easy fashion by combining it with *get_response()*."
   ]
  },
  {
   "cell_type": "code",
   "execution_count": null,
   "id": "fdde3bc9",
   "metadata": {
    "scrolled": false
   },
   "outputs": [],
   "source": [
    "# Frequency band for restitution:\n",
    "fmin = 0.01\n",
    "fmax = 0.05\n",
    "\n",
    "# Time length for padding (half of overlap).\n",
    "tpad = 1.0 / fmin\n",
    "\n",
    "batches = sq.chopper_waveforms(\n",
    "        tmin=tmin,\n",
    "        tmax=tmax,\n",
    "        codes='*.BFO.*.LH*',\n",
    "#         tinc=3600.,              # One hour time windows (payload).\n",
    "#         tpad=tpad,               # Add padding to absorb processing artifacts.\n",
    "        want_incomplete=False,   # Skip incomplete windows.\n",
    "        snap_window=True)\n",
    "\n",
    "for batch in batches:\n",
    "    for tr in batch.traces:\n",
    "        resp = sq.get_response(tr).get_effective()\n",
    "        \n",
    "        tr = tr.transfer(\n",
    "            tpad,                  # Fade in / fade out length.\n",
    "            (0.5*fmin, fmin,\n",
    "             fmax, 2.0*fmax),      # Frequency taper.\n",
    "            resp,                  # Complex frequency response of instrument.\n",
    "            invert=True,           # Use inverse of instrument response.\n",
    "            cut_off_fading=False)  # Disable internal trimming.\n",
    "        \n",
    "        tr.chop(batch.tmin, batch.tmax)\n",
    "        \n",
    "        print(tr)        \n",
    "        tr.plot()\n"
   ]
  },
  {
   "cell_type": "markdown",
   "id": "47de7587",
   "metadata": {},
   "source": [
    "## Summary\n",
    "\n",
    "You have learned how to use pyrocko and the squirrel to collect information about events, stations and waveforms."
   ]
  }
 ],
 "metadata": {
  "kernelspec": {
   "display_name": "Python 3",
   "language": "python",
   "name": "python3"
  },
  "language_info": {
   "codemirror_mode": {
    "name": "ipython",
    "version": 3
   },
   "file_extension": ".py",
   "mimetype": "text/x-python",
   "name": "python",
   "nbconvert_exporter": "python",
   "pygments_lexer": "ipython3",
   "version": "3.6.9"
  }
 },
 "nbformat": 4,
 "nbformat_minor": 5
}
