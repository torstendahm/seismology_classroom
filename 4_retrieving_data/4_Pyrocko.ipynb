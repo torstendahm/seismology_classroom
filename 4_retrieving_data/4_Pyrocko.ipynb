{
 "cells": [
  {
   "cell_type": "markdown",
   "id": "8b086673",
   "metadata": {},
   "source": [
    "# Data retrieval using Pyrocko with Squirrel\n",
    "\n",
    "The Squirrel, a new database handler by Pyrocko, ships with some easy functions to retrieve data from online resources. (If you are interested in downloading data without the Squirrel check the notebook [pyrocko old](x_Pyrocko_old.ipynb)). The advantage of Squirrel is that it memorizes if the requested data is already in your squirrel database, and therefore does not download it again, but just reloads it. \n",
    "\n",
    "We will create a simple Squirrel event, station meta data and waveform request based on this [Reference](https://pyrocko.org/docs/current/library/examples/squirrel/cli_tool.html#variant-1-quick-and-dirty-script).\n",
    "\n",
    "\n",
    "### Tabel of content:\n",
    "- [Download Events](#Event-catalog)\n",
    "- [Download Station Meta Data](#Stations)\n",
    "- [Download Waveforms](#Waveform)\n",
    "\n",
    "- [Summary](#Summary)"
   ]
  },
  {
   "cell_type": "code",
   "execution_count": null,
   "id": "44363fb3",
   "metadata": {},
   "outputs": [],
   "source": [
    "import numpy as np\n",
    "from pyrocko import progress\n",
    "from pyrocko.util import time_to_str, str_to_time_fillup as stt\n",
    "from pyrocko.squirrel import Squirrel"
   ]
  },
  {
   "cell_type": "markdown",
   "id": "a560ba24",
   "metadata": {},
   "source": [
    "First we initialize a squirrel instance."
   ]
  },
  {
   "cell_type": "code",
   "execution_count": null,
   "id": "0ac955e4",
   "metadata": {},
   "outputs": [],
   "source": [
    "sq = Squirrel()"
   ]
  },
  {
   "cell_type": "markdown",
   "id": "57f96e22",
   "metadata": {},
   "source": [
    "## Event catalog\n",
    "Squirrel requires a catalog providing agency. In the moment Global CMT (`gcmt`) and GEOFON (`geofon`) are implemented. Here we will choose GEOFON."
   ]
  },
  {
   "cell_type": "code",
   "execution_count": null,
   "id": "6ce16f2b",
   "metadata": {},
   "outputs": [],
   "source": [
    "sq.add_catalog('geofon') # or gcmt"
   ]
  },
  {
   "cell_type": "markdown",
   "id": "0ec5fba5",
   "metadata": {},
   "source": [
    "We do also need to set a time span, within which events are searched for. "
   ]
  },
  {
   "cell_type": "code",
   "execution_count": null,
   "id": "ffaab8f5",
   "metadata": {
    "scrolled": false
   },
   "outputs": [],
   "source": [
    "tmin = stt('2016-10-30 00:00:00')  # Start time of the search window\n",
    "tmax = stt('2016-10-30 23:50:00')  # End time of the search window\n",
    "\n",
    "sq.update(tmin=tmin, tmax=tmax)  # Define the time window within Squirrel"
   ]
  },
  {
   "cell_type": "markdown",
   "id": "ebcb1094",
   "metadata": {},
   "source": [
    "With the *get_events()* function, we select now all events within the time window defined above."
   ]
  },
  {
   "cell_type": "code",
   "execution_count": null,
   "id": "adfcec33",
   "metadata": {},
   "outputs": [],
   "source": [
    "evs = sq.get_events()"
   ]
  },
  {
   "cell_type": "code",
   "execution_count": null,
   "id": "ad5bf574",
   "metadata": {},
   "outputs": [],
   "source": [
    "len(evs)"
   ]
  },
  {
   "cell_type": "markdown",
   "id": "3eede553",
   "metadata": {},
   "source": [
    "We can iterate through the events. In the following we will print the time of the Norcia earthquake (as an example):"
   ]
  },
  {
   "cell_type": "code",
   "execution_count": null,
   "id": "b45eb041",
   "metadata": {},
   "outputs": [],
   "source": [
    "for ev in evs:\n",
    "    if ev.magnitude > 6:\n",
    "        print('Magnitude: {}, Region: {}'.format(ev.magnitude, ev.region))\n",
    "        \n",
    "        if ev.region == 'Central Italy' and ev.magnitude == 6.5:\n",
    "            tevent = ev.time\n"
   ]
  },
  {
   "cell_type": "markdown",
   "id": "aeb7114a",
   "metadata": {},
   "source": [
    "## Stations\n",
    "\n",
    "Equivalent to the event download we need to select a source of our station meta data first. We will download the data via an FDSN server, here provided by *BGR* (Bundesanstalt für Geowissenschaften und Rohstoffe). We are also able to restrict our search to specific seismic networks, stations or recorded channels. That will limit the number of downloaded station meta data and, hence, decrease computation time. "
   ]
  },
  {
   "cell_type": "code",
   "execution_count": null,
   "id": "40b7e8ec",
   "metadata": {},
   "outputs": [],
   "source": [
    "# Add online data source.\n",
    "sq.add_fdsn(\n",
    "    'bgr',               # BGR FDSN source\n",
    "    query_args=dict(\n",
    "        network='GR',    # Restrict query to 'GR' network\n",
    "        channel='LH?'))  # Restrict query to 'LH?' channels\n",
    "\n",
    "sq.update(tmin=tmin, tmax=tmax)  # Update the Squirrel to ensure meta data is up to date"
   ]
  },
  {
   "cell_type": "markdown",
   "id": "3b3bf2d1",
   "metadata": {},
   "source": [
    "Similar to the FDSN *level* option, Squirrel offers different levels of downloading meta data:\n",
    "* *get_stations()*\n",
    "* *get_channels()* \n",
    "* *get_response()*\n",
    "\n",
    "All of them can be further restricted by using the *code* argument. There you can give any `network.station.location(.channel)` code you are interested in."
   ]
  },
  {
   "cell_type": "code",
   "execution_count": null,
   "id": "66d14a2a",
   "metadata": {
    "scrolled": false
   },
   "outputs": [],
   "source": [
    "stas = sq.get_stations(codes='*.*.*')\n",
    "# stas = sq.get_stations(codes='*.BFO.*')\n",
    "print(len(stas))"
   ]
  },
  {
   "cell_type": "markdown",
   "id": "52a85589",
   "metadata": {},
   "source": [
    "We are now able to iterate through the downloaded stations and check their content:"
   ]
  },
  {
   "cell_type": "code",
   "execution_count": null,
   "id": "2d385124",
   "metadata": {},
   "outputs": [],
   "source": [
    "for sta in stas:\n",
    "    print(sta)"
   ]
  },
  {
   "cell_type": "markdown",
   "id": "2ac1bfe4",
   "metadata": {},
   "source": [
    "Similarly to station data download we can also catch the channel information. In our case we limit the results to show only channels of `BFO` - the Black Forrest Observatory: "
   ]
  },
  {
   "cell_type": "code",
   "execution_count": null,
   "id": "1e2d66dc",
   "metadata": {},
   "outputs": [],
   "source": [
    "chas = sq.get_channels(codes='*.BFO.*.*')\n",
    "print(len(chas))"
   ]
  },
  {
   "cell_type": "code",
   "execution_count": null,
   "id": "594cec2c",
   "metadata": {
    "scrolled": true
   },
   "outputs": [],
   "source": [
    "for cha in chas:\n",
    "    print(cha)"
   ]
  },
  {
   "cell_type": "markdown",
   "id": "665324fc",
   "metadata": {},
   "source": [
    "The most detailed level of meta data download will include the response information of each requested channel. Here, we further need to restrict our query to catch only the response of the `LHZ` channel of `BFO` valid within our defined time window: "
   ]
  },
  {
   "cell_type": "code",
   "execution_count": null,
   "id": "e02fe843",
   "metadata": {
    "scrolled": true
   },
   "outputs": [],
   "source": [
    "sq.update_responses(codes='GR.BFO..LH?')  # Is required only once\n",
    "resps = sq.get_response(tmin=tmin, tmax=tmax, codes='GR.BFO..LHZ')\n",
    "print(resps)"
   ]
  },
  {
   "cell_type": "markdown",
   "id": "df2e47c7",
   "metadata": {},
   "source": [
    "Note that for *get_response()* only one station at once is allowed. Therefore, to get all responses of your stations you have to use a loop. You can give the channel object directly, as it will automatically retrieves all informations. **HINT** Don't forget to update the Squirrel Responses with an adopted code restriction as otherwise no response information will be seen."
   ]
  },
  {
   "cell_type": "code",
   "execution_count": null,
   "id": "2cfca1bd",
   "metadata": {
    "scrolled": true
   },
   "outputs": [],
   "source": [
    "for cha in chas:\n",
    "    resps = sq.get_response(cha)\n",
    "    print(cha)\n",
    "    print(resps)"
   ]
  },
  {
   "cell_type": "markdown",
   "id": "d2fac3a5",
   "metadata": {},
   "source": [
    "## Waveform\n",
    "\n",
    "We have previously checked for events on 30th October 2016 (found the 2016 Norcia earthquake) and also collected available stations and channels (e.g. `GR.BFO`). Now we want to request waveforms for the chosen 2016 Norcia earthquake, for one specific station - so `GR.BFO`. \n",
    "\n",
    "As done for events and the responses we do also need to update the Squirrel to handle and download the waveforms correctly. This can be achieved by setting/updating the waveform promises ([Ref](https://pyrocko.org/docs/current/library/reference/squirrel/base.html#pyrocko.squirrel.base.Squirrel.update_waveform_promises)).\n",
    "\n"
   ]
  },
  {
   "cell_type": "code",
   "execution_count": null,
   "id": "05112f20",
   "metadata": {},
   "outputs": [],
   "source": [
    "# Set the time window of the waveform data request\n",
    "tmin = tevent + 0.  \n",
    "tmax = tevent + 1500.\n",
    "\n",
    "# Ensure meta-data from online sources is up to date for the selected time span:\n",
    "sq.update(tmin=tmin, tmax=tmax)\n",
    "\n",
    "# Allow waveform download for station BFO. This does not download anything\n",
    "# yet, it just enables downloads later, when needed. Omit `tmin`, `tmax`,\n",
    "# and `codes` to enable download of everything selected in `add_fdsn(...)`.\n",
    "sq.update_waveform_promises(tmin=tmin, tmax=tmax, codes='*.BFO.*.*')"
   ]
  },
  {
   "cell_type": "markdown",
   "id": "9b530031",
   "metadata": {},
   "source": [
    "So far no data has been downloaded. Squirrel has only checked for available data. Now, this can be downloaded and stored in `batches` with *chopper_waveforms*."
   ]
  },
  {
   "cell_type": "code",
   "execution_count": null,
   "id": "d6d00cd5",
   "metadata": {},
   "outputs": [],
   "source": [
    "batches = sq.chopper_waveforms(\n",
    "        tmin=tmin,\n",
    "        tmax=tmax,\n",
    "        codes='*.BFO.*.LH*',\n",
    "        want_incomplete=False,  # Skip incomplete traces\n",
    "        snap_window=True)"
   ]
  },
  {
   "cell_type": "code",
   "execution_count": null,
   "id": "55aa5f19",
   "metadata": {},
   "outputs": [],
   "source": [
    "for batch in batches:\n",
    "    for tr in batch.traces:        \n",
    "        print(tr)        \n",
    "        tr.plot()"
   ]
  },
  {
   "cell_type": "markdown",
   "id": "e3190d44",
   "metadata": {},
   "source": [
    "In a final step we will now remove the instrument response from the raw waveform to obtain true ground displacement. This is done iterating through the waveforms, getting the responses using *get_response()* and then removing the response:"
   ]
  },
  {
   "cell_type": "code",
   "execution_count": null,
   "id": "07afbc1c",
   "metadata": {
    "scrolled": false
   },
   "outputs": [],
   "source": [
    "# Frequency band for restitution in [Hz]:\n",
    "fmin = 0.01\n",
    "fmax = 0.05\n",
    "\n",
    "# Time length for padding (half of overlap).\n",
    "tpad = 1.0 / fmin\n",
    "\n",
    "batches = sq.chopper_waveforms(\n",
    "        tmin=tmin,\n",
    "        tmax=tmax,\n",
    "        codes='*.BFO.*.LH*',\n",
    "        tpad=tpad,               # Add padding to absorb processing artifacts.\n",
    "        want_incomplete=False,   # Skip incomplete windows.\n",
    "        snap_window=True)\n",
    "\n",
    "# Iterate through batches and traces within batches\n",
    "for batch in batches:\n",
    "    for tr in batch.traces:\n",
    "        resp = sq.get_response(tr).get_effective(\n",
    "            input_quantity='displacement')  # Get effective response to obtain true ground displacement\n",
    "        \n",
    "        tr = tr.transfer(\n",
    "            tpad,                  # Fade in / fade out length.\n",
    "            (0.5*fmin, fmin,\n",
    "             fmax, 2.0*fmax),      # Frequency taper.\n",
    "            resp,                  # Complex frequency response of instrument.\n",
    "            invert=True,           # Use inverse of instrument response.\n",
    "            cut_off_fading=False)  # Disable internal trimming.\n",
    "        \n",
    "        tr.chop(batch.tmin, batch.tmax)\n",
    "        \n",
    "        print(tr)        \n",
    "        tr.plot()\n"
   ]
  },
  {
   "cell_type": "markdown",
   "id": "0d0ec4a7",
   "metadata": {},
   "source": [
    "## Summary\n",
    "\n",
    "You have learned how to use pyrocko and the squirrel to collect information about events, stations and waveforms."
   ]
  }
 ],
 "metadata": {
  "kernelspec": {
   "display_name": "Python 3",
   "language": "python",
   "name": "python3"
  },
  "language_info": {
   "codemirror_mode": {
    "name": "ipython",
    "version": 3
   },
   "file_extension": ".py",
   "mimetype": "text/x-python",
   "name": "python",
   "nbconvert_exporter": "python",
   "pygments_lexer": "ipython3",
   "version": "3.6.9"
  }
 },
 "nbformat": 4,
 "nbformat_minor": 5
}
