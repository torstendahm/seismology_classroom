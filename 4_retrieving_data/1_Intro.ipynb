{
 "cells": [
  {
   "cell_type": "markdown",
   "metadata": {},
   "source": [
    "# Introduction\n",
    "\n",
    "A usual problem as a seismologist and that you probably will experience as well starts with the simple question: \"Where do I get (my) data from?\". That is actually a rather tricky question.\n",
    "\n",
    "First: **Data** is often used to summarize three different types of data:\n",
    "* *waveform data*\n",
    "* *station meta-data*\n",
    "* *event information*.\n",
    "\n",
    "All of them are highly interconnected and are seldomly used without the others. \n",
    "\n",
    "Waveform data is usually provided as *mseed*, station meta-data as *station-xml* and event information as *quake(x)ml*.\n",
    "\n",
    "\n",
    "In this chapter, we fist will have a look at websites (in the browser) that provide routinely seismological data.\n",
    "Afterwards, we look at more advanced ways of collecting data by using python-scripts/packages, that may be more user-friendly and faster.\n",
    "\n",
    "\n",
    "### Tabel of content:\n",
    "- [Websites](2_Web-Based.ipynb)\n",
    "- Scripts:\n",
    "    - [Obspy](3_Obspy.ipynb)\n",
    "    - [Pyrocko](4_Pyrocko.ipynb)\n"
   ]
  },
  {
   "cell_type": "markdown",
   "metadata": {},
   "source": [
    "\n",
    "<div class=\"alert alert-warning\"> \n",
    "\n",
    "    \n",
    "    \n",
    "**Naming convention of networks and stations**\n",
    "    \n",
    "Before you actually download any waveform you need to now the name(s) of the station(s) that you are interested in. There is a specific format how any station gets to its name. Every (permanent) network and station is usually registered with a unique identifier - the code.\n",
    "\n",
    "The format seems quite simple: \n",
    "\n",
    "*Network.Station.Location.Channel*\n",
    "\n",
    "Example: [GE.RUE..BHZ](https://geofon.gfz-potsdam.de/waveform/liveseis.php?station=RUE) - Rüdersdorf, east of Berlin, from the Geophone Network\n",
    "\n",
    "A network can have several stations, a station can have several locations of its sensors, and each station/sensor can have multiple channels. The most crucial and complicated one is the channel due to the fact that it allows all types of sensors, from seismic to even weather sensors.\n",
    "\n",
    "- *Network*: usually two characters\n",
    "    - often refering to something like the country, organization, owner .. \n",
    "\n",
    "\n",
    "- *Station*: usually upto five characters\n",
    "    - the name of station, often similiar to a place nearby  \n",
    "\n",
    "\n",
    "- *Location*: two characters, often either empty or 00; \n",
    "    - used if sensors are distributed and not in the same place, e.g. borehole stations\n",
    "\n",
    "\n",
    "- *Channel*: three characters; each positon has a special meaning\n",
    "    - first: Band Code - sampling rate and reponses band, e.g.\n",
    "        - H - high broad band (80 - 250 Hz, $f_c\\ge$10s)\n",
    "        - B - broad band (10 - 80 Hz, $f_c\\ge$10s)\n",
    "        - E - (extremely) short period (80 - 250 Hz, $f_c <$10s)\n",
    "    - second: Instrument Type - e.g.:\n",
    "        - H - high gain seismometer (weak motion)\n",
    "        - L - low gain seismometer\n",
    "        - G - gravimeter\n",
    "        - N - accelerometer (strong motion)\n",
    "    - third: Orientation - axis orientaiton of the sensor, e.g.:\n",
    "        - Z, E, N for vertical, east and north (orthogonal)\n",
    "        - 1, 2, 3 without aligned orientation (orthogonal)\n",
    "\n",
    "A detailed documentation [SEED manual](http://www.fdsn.org/pdf/SEEDManual_V2.4.pdf).\n",
    "</div>"
   ]
  }
 ],
 "metadata": {
  "kernelspec": {
   "display_name": "Python 3",
   "language": "python",
   "name": "python3"
  },
  "language_info": {
   "codemirror_mode": {
    "name": "ipython",
    "version": 3
   },
   "file_extension": ".py",
   "mimetype": "text/x-python",
   "name": "python",
   "nbconvert_exporter": "python",
   "pygments_lexer": "ipython3",
   "version": "3.8.10"
  }
 },
 "nbformat": 4,
 "nbformat_minor": 5
}
