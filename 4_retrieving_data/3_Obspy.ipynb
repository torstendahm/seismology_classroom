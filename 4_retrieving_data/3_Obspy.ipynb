{
 "cells": [
  {
   "cell_type": "markdown",
   "metadata": {},
   "source": [
    "# Data retrieval with Obspy\n",
    "\n",
    "Here we will use the python pacakge *ObsPy* to access the [FDSN](2_Web-Based.ipynb#FDSN) services.\n",
    "\n",
    "Obspy has several available clients - one of them is the FDSN, which we will use here. The [documentation](https://docs.obspy.org/packages/obspy.clients.fdsn.html) for more details.\n",
    "\n",
    "### Tabel of content:\n",
    "- [Waveform](#Waveform)\n",
    "- [Event](#Event)\n",
    "- [Station](#Station)\n",
    "- [Routing](#Routing)\n",
    "- [Summary](#Summary)"
   ]
  },
  {
   "cell_type": "code",
   "execution_count": null,
   "metadata": {
    "scrolled": true
   },
   "outputs": [],
   "source": [
    "from obspy import UTCDateTime\n",
    "from obspy.clients.fdsn import Client, header"
   ]
  },
  {
   "cell_type": "markdown",
   "metadata": {},
   "source": [
    "We can check which agencies are available:"
   ]
  },
  {
   "cell_type": "code",
   "execution_count": null,
   "metadata": {
    "scrolled": false
   },
   "outputs": [],
   "source": [
    "for key in sorted(header.URL_MAPPINGS.keys()):\n",
    "    print(\"{0:<11} {1}\".format(key,  header.URL_MAPPINGS[key]))"
   ]
  },
  {
   "cell_type": "markdown",
   "metadata": {},
   "source": [
    "Here we select *IRIS*. "
   ]
  },
  {
   "cell_type": "code",
   "execution_count": null,
   "metadata": {},
   "outputs": [],
   "source": [
    "client = Client(\"IRIS\")"
   ]
  },
  {
   "cell_type": "markdown",
   "metadata": {},
   "source": [
    "## Waveform\n",
    "<a id='Waveform'></a>\n",
    "We use the [get_waveforms()](https://docs.obspy.org/packages/autogen/obspy.clients.fdsn.client.Client.get_waveforms.html#obspy.clients.fdsn.client.Client.get_waveforms) function, which needs (atleast) station information (Network, Station, Location and Channel - NSLC) and a time span. \n",
    "\n",
    "The results are stored in a *stream* object. This contains the waveform seperated by NSLC."
   ]
  },
  {
   "cell_type": "code",
   "execution_count": null,
   "metadata": {},
   "outputs": [],
   "source": [
    "t = UTCDateTime(\"2011-03-11T05:46:23\")  # Tohoku\n",
    "st = client.get_waveforms(\"II\", \"PFO\", \"*\", \"LHZ\",\n",
    "                          t + 10 * 60, t + 30 * 60)\n",
    "print(st)\n",
    "st.plot()\n",
    "print('Finished')"
   ]
  },
  {
   "cell_type": "code",
   "execution_count": null,
   "metadata": {},
   "outputs": [],
   "source": [
    "print(st[0])\n",
    "print(st[0].id)\n",
    "print(st[0].data)\n",
    "print(st[0].stats)"
   ]
  },
  {
   "cell_type": "markdown",
   "metadata": {},
   "source": [
    "There is the option to directly download the response of sensors as well and remove them in an easy fashion. "
   ]
  },
  {
   "cell_type": "code",
   "execution_count": null,
   "metadata": {},
   "outputs": [],
   "source": [
    "t = UTCDateTime(\"2011-03-11T05:46:23\")  # Tohoku\n",
    "st = client.get_waveforms(\"II\", \"PFO\", \"*\", \"LHZ\",\n",
    "                          t + 10 * 60, t + 30 * 60, attach_response=True)\n",
    "st.remove_response()\n",
    "st.plot()\n",
    "print('Finished')"
   ]
  },
  {
   "cell_type": "markdown",
   "metadata": {},
   "source": [
    "## Event and Catalogs\n",
    "<a id='Event'></a>\n",
    "To request  event and catalog information, with [get_events()](https://docs.obspy.org/packages/autogen/obspy.clients.fdsn.client.Client.get_events.html#obspy.clients.fdsn.client.Client.get_events), you should atleast define a time span, otherwise you download *the whole internet* or all events. Additionaly, you can define from which catalog/site/organization you want to request the event information. As a result you get a Obspy catalog object, including all requested events."
   ]
  },
  {
   "cell_type": "code",
   "execution_count": null,
   "metadata": {},
   "outputs": [],
   "source": [
    "starttime = UTCDateTime(\"2014-07-06\")\n",
    "endtime = UTCDateTime(\"2014-07-07\")\n",
    "\n",
    "cat = client.get_events(starttime=starttime, endtime=endtime,\n",
    "                        minmagnitude=5, catalog=\"ISC\")\n",
    "\n",
    "print(cat)  \n",
    "\n",
    "cat.plot()\n",
    "print('Finished')"
   ]
  },
  {
   "cell_type": "code",
   "execution_count": null,
   "metadata": {},
   "outputs": [],
   "source": [
    "print(cat[0])\n",
    "print(cat[0].event_type)\n",
    "print(cat[0].magnitudes)"
   ]
  },
  {
   "cell_type": "markdown",
   "metadata": {},
   "source": [
    "## Station meta data\n",
    "<a id='Station'></a>\n",
    "Similiar to the event request we can also request station meta data using [get_stations()](https://docs.obspy.org/packages/autogen/obspy.clients.fdsn.client.Client.get_stations.html#obspy.clients.fdsn.client.Client.get_stations). The result is an inventory object, containing all stations.\n",
    "\n",
    "We need to keep the *level* option in mind, we may have to much unnecessary informaton or we may restrict our data too much."
   ]
  },
  {
   "cell_type": "code",
   "execution_count": null,
   "metadata": {
    "scrolled": false
   },
   "outputs": [],
   "source": [
    "starttime = UTCDateTime(\"2014-07-06\")\n",
    "endtime = UTCDateTime(\"2014-07-07\")\n",
    "\n",
    "inventory = client.get_stations(\n",
    "    network=\"IU\",\n",
    "    station=\"A*\",\n",
    "    level='station',  # or 'network', 'response'\n",
    "    starttime=starttime,\n",
    "    endtime=endtime)\n",
    "\n",
    "print(inventory)  \n",
    "\n",
    "inventory.plot()\n",
    "print('Finished')"
   ]
  },
  {
   "cell_type": "markdown",
   "metadata": {},
   "source": [
    "### Store information to file\n",
    "All of the three mentioned functions can directly store its output into a file."
   ]
  },
  {
   "cell_type": "code",
   "execution_count": null,
   "metadata": {},
   "outputs": [],
   "source": [
    "client = Client(\"IRIS\")\n",
    "\n",
    "starttime = UTCDateTime(\"2019-07-06 03:00:00\")\n",
    "endtime = starttime + 6000\n",
    "net = \"II\"\n",
    "sta = \"PFO\"\n",
    "\n",
    "\n",
    "client.get_events(starttime=starttime, endtime=endtime, minmagnitude=5,\n",
    "                  filename=\"/tmp/events.xml\")\n",
    "client.get_stations(network=net, station=sta, level=\"station\",\n",
    "                    filename=\"/tmp/stations.xml\")\n",
    "client.get_waveforms(network=net, station=sta, location='*', channel='LHZ',\n",
    "                     starttime=starttime, endtime=endtime,\n",
    "                     filename=\"/tmp/waveforms.mseed\")"
   ]
  },
  {
   "cell_type": "code",
   "execution_count": null,
   "metadata": {},
   "outputs": [],
   "source": [
    "!ls -lrt /tmp/"
   ]
  },
  {
   "cell_type": "markdown",
   "metadata": {},
   "source": [
    "## Routing\n",
    "<a id='Routing'></a>\n",
    "The descripted way has the disadvantage that one has to approach each of the centers manually. Especially, if you want to have a complete set of stations or if you don't know which center is responsible for which station. The [routing](https://docs.obspy.org/packages/obspy.clients.fdsn.html#basic-routing-clients-usage) makes those things easier as services are combined and they are automatically searched for your requests.\n",
    "\n",
    "In Obspy, there are two Routing options:\n",
    "- IRIS Federator\n",
    "- EIDAWS Routing Service"
   ]
  },
  {
   "cell_type": "code",
   "execution_count": null,
   "metadata": {},
   "outputs": [],
   "source": [
    "from obspy.clients.fdsn import RoutingClient\n",
    "client = RoutingClient(\"iris-federator\")\n",
    "\n",
    "st = client.get_waveforms(\n",
    "    channel=\"LHZ\", starttime=UTCDateTime(2017, 1, 1),\n",
    "    endtime=UTCDateTime(2017, 1, 1, 0, 5), latitude=10,\n",
    "    longitude=10, maxradius=25)  \n",
    "\n",
    "print(st)  "
   ]
  },
  {
   "cell_type": "markdown",
   "metadata": {},
   "source": [
    "# Summary\n",
    "In this notebook we have learned the usage of Obspy with FDSN to request and download waveform, station and event data."
   ]
  }
 ],
 "metadata": {
  "kernelspec": {
   "display_name": "Python 3",
   "language": "python",
   "name": "python3"
  },
  "language_info": {
   "codemirror_mode": {
    "name": "ipython",
    "version": 3
   },
   "file_extension": ".py",
   "mimetype": "text/x-python",
   "name": "python",
   "nbconvert_exporter": "python",
   "pygments_lexer": "ipython3",
   "version": "3.8.10"
  }
 },
 "nbformat": 4,
 "nbformat_minor": 5
}
