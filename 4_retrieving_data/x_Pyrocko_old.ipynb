{
 "cells": [
  {
   "cell_type": "markdown",
   "id": "ac2a3ac8",
   "metadata": {},
   "source": [
    "# Data retrieval with Pyrocko\n",
    "\n",
    "In this notebook, we will use Pyrocko to retrieve data from the FDSN client via script. [Documentation of Pyrocko FDSN](https://pyrocko.org/docs/current/library/reference/client/waveform.html).\n",
    "\n",
    "Reference: https://pyrocko.org/docs/current/library/examples/fdsn_download.html\n",
    "\n",
    "\n",
    "### Tabel of content:\n",
    "- [Event](#Event)\n",
    "- [Waveform](#Waveform)\n",
    "- [Station](#Station)\n",
    "- [Summary](#Summary)\n"
   ]
  },
  {
   "cell_type": "code",
   "execution_count": null,
   "id": "a60e4785",
   "metadata": {},
   "outputs": [],
   "source": [
    "import matplotlib.pyplot as plt\n",
    "\n",
    "from pyrocko.client import fdsn\n",
    "from pyrocko import util, io, trace, model\n",
    "from pyrocko.io import quakeml"
   ]
  },
  {
   "cell_type": "markdown",
   "id": "9ccf8eb6",
   "metadata": {},
   "source": [
    "# Event\n",
    "<a id='Event'></a>\n",
    "First, we use pyrocko to get events. For that we need to define a time range and a service which has an available 'event'-option, e.g. IRIS or GFZ. The time refers to the origin time of the event, not if signal arrives at a certain station from an event.\n"
   ]
  },
  {
   "cell_type": "code",
   "execution_count": null,
   "id": "30f9515e",
   "metadata": {},
   "outputs": [],
   "source": [
    "tmin = util.stt('2014-01-01 16:10:00.000')\n",
    "tmax = util.stt('2014-01-01 16:39:59.000')\n",
    "\n",
    "# request events at IRIS for the given time span\n",
    "request_event = fdsn.event(\n",
    "    site='iris', starttime=tmin, endtime=tmax)\n",
    "\n",
    "# parse QuakeML and extract pyrocko events\n",
    "events = quakeml.QuakeML.load_xml(request_event).get_pyrocko_events()\n",
    "\n",
    "# If wanted, one can easily store the events:\n",
    "# model.dump_events(events, 'iris-events.pf')"
   ]
  },
  {
   "cell_type": "code",
   "execution_count": null,
   "id": "3071ec9e",
   "metadata": {
    "scrolled": true
   },
   "outputs": [],
   "source": [
    "for event in events:\n",
    "    print(event)"
   ]
  },
  {
   "cell_type": "markdown",
   "id": "763f3dc5",
   "metadata": {},
   "source": [
    "# Waveform\n",
    "<a id='Waveform'></a>\n",
    "Similar to the event, we also need a service and time, but additional information about the stations. The basic code behind a station name is the NSLC, meaning \"Network.Station.Location.Channel\". Here, it is possible to provide a list of stations."
   ]
  },
  {
   "cell_type": "code",
   "execution_count": null,
   "id": "f140ee18",
   "metadata": {},
   "outputs": [],
   "source": [
    "tmin = util.stt('2014-01-01 16:10:00.000')\n",
    "tmax = util.stt('2014-01-01 16:39:59.000')\n",
    "\n",
    "# select stations by their NSLC id and wildcards (asterisk) for waveform download\n",
    "selection = [\n",
    "    ('*', 'HMDT', '*', '*', tmin, tmax),    # all available components\n",
    "    ('GE', 'EIL', '*', '*Z', tmin, tmax),   # all vertical components\n",
    "]\n",
    "\n",
    "# Restricted access token\n",
    "# token = open('token.asc', 'rb').read()\n",
    "# request_waveform = fdsn.dataselect(site='geofon', selection=selection,\n",
    "#                                    token=token)\n",
    "\n",
    "# setup a waveform data request\n",
    "request_waveform = fdsn.dataselect(site='geofon', selection=selection)\n",
    "\n",
    "# write the incoming data stream to 'traces.mseed'\n",
    "with open('/tmp/traces.mseed', 'wb') as file:\n",
    "    file.write(request_waveform.read())"
   ]
  },
  {
   "cell_type": "code",
   "execution_count": null,
   "id": "969bb2e6",
   "metadata": {
    "scrolled": false
   },
   "outputs": [],
   "source": [
    "traces = io.load('/tmp/traces.mseed')\n",
    "for tr in traces:\n",
    "    print(tr)"
   ]
  },
  {
   "cell_type": "markdown",
   "id": "bfeb7633",
   "metadata": {},
   "source": [
    "# Station data\n",
    "<a id='Station'></a>\n",
    "Pretty similar to the waveform retrieval. A Pyrocko favoring internal format is YAML."
   ]
  },
  {
   "cell_type": "code",
   "execution_count": null,
   "id": "ff82b90b",
   "metadata": {},
   "outputs": [],
   "source": [
    "tmin = util.stt('2014-01-01 16:10:00.000')\n",
    "tmax = util.stt('2014-01-01 16:39:59.000')\n",
    "\n",
    "# select stations by their NSLC id and wildcards (asterisk) for waveform download\n",
    "selection = [\n",
    "    ('*', 'HMDT', '*', '*', tmin, tmax),    # all available components\n",
    "    ('GE', 'EIL', '*', '*Z', tmin, tmax),   # all vertical components\n",
    "]\n",
    "\n",
    "# request meta data\n",
    "request_response = fdsn.station(\n",
    "    site='geofon', selection=selection, level='response')\n",
    "\n",
    "# save the response in YAML and StationXML format\n",
    "request_response.dump(filename='/tmp/responses_geofon.yaml')\n",
    "request_response.dump_xml(filename='/tmp/responses_geofon.xml')"
   ]
  },
  {
   "cell_type": "markdown",
   "id": "02d5ba68",
   "metadata": {},
   "source": [
    "# Combining\n",
    "Download waveform and station data, do a response correction."
   ]
  },
  {
   "cell_type": "code",
   "execution_count": null,
   "id": "f7b47354",
   "metadata": {},
   "outputs": [],
   "source": [
    "service = 'geofon'\n",
    "\n",
    "tmin = util.stt('2014-01-01 16:10:00.000')\n",
    "tmax = util.stt('2014-01-01 16:39:59.000')\n",
    "\n",
    "# select stations by their NSLC id and wildcards (asterisk) for waveform download\n",
    "selection = [\n",
    "    ('*', 'HMDT', '*', '*', tmin, tmax),    # all available components\n",
    "    ('GE', 'EIL', '*', '*Z', tmin, tmax),   # all vertical components\n",
    "]\n",
    "\n",
    "request_waveform = fdsn.dataselect(site=service, selection=selection)\n",
    "\n",
    "with open('/tmp/traces2.mseed', 'wb') as file:\n",
    "    file.write(request_waveform.read())\n",
    "\n",
    "request_response = fdsn.station(\n",
    "    site=service, selection=selection, level='response')\n",
    "\n",
    "# Loop through retrieved waveforms and request meta information for each trace\n",
    "traces = io.load('/tmp/traces2.mseed')\n",
    "displacement = []\n",
    "for tr in traces:\n",
    "    polezero_response = request_response.get_pyrocko_response(\n",
    "        nslc=tr.nslc_id,\n",
    "        timespan=(tr.tmin, tr.tmax),\n",
    "        fake_input_units='M')\n",
    "    # *fake_input_units*: required for consistent responses throughout entire\n",
    "    # data set\n",
    "\n",
    "    # deconvolve transfer function\n",
    "    restituted = tr.transfer(\n",
    "        tfade=2.,\n",
    "        freqlimits=(0.01, 0.1, 1., 2.),\n",
    "        transfer_function=polezero_response,\n",
    "        invert=True)\n",
    "\n",
    "    displacement.append(restituted)"
   ]
  },
  {
   "cell_type": "code",
   "execution_count": null,
   "id": "46b6ffc1",
   "metadata": {},
   "outputs": [],
   "source": [
    "# Inspect waveforms using Snuffler\n",
    "# trace.snuffle(displacement)"
   ]
  },
  {
   "cell_type": "code",
   "execution_count": null,
   "id": "00906374",
   "metadata": {},
   "outputs": [],
   "source": [
    "print(displacement)\n",
    "plt.figure(figsize=(16,9))\n",
    "f, ax = plt.subplots(len(displacement), 1, sharex=True, figsize=(16,9))\n",
    "for cnt, tr in enumerate(displacement):\n",
    "    ax[cnt].plot(tr.get_xdata(), tr.ydata, color='k')\n",
    "    ax[cnt].set_ylabel('%s.%s' % (tr.station, tr.channel))\n",
    "plt.show()"
   ]
  },
  {
   "cell_type": "markdown",
   "id": "0cf06dad",
   "metadata": {},
   "source": [
    "# Summary\n",
    "In this notebook we have learned the usage of Obspy with FDSN to request and download waveform, station and event data."
   ]
  }
 ],
 "metadata": {
  "kernelspec": {
   "display_name": "Python 3",
   "language": "python",
   "name": "python3"
  },
  "language_info": {
   "codemirror_mode": {
    "name": "ipython",
    "version": 3
   },
   "file_extension": ".py",
   "mimetype": "text/x-python",
   "name": "python",
   "nbconvert_exporter": "python",
   "pygments_lexer": "ipython3",
   "version": "3.6.9"
  }
 },
 "nbformat": 4,
 "nbformat_minor": 5
}
