{
 "cells": [
  {
   "cell_type": "markdown",
   "metadata": {},
   "source": [
    "# Source types\n",
    "\n",
    "## Introduction\n",
    "\n",
    "Before fully starting with the synthetic seismograms topic, we need to understand that the seismic source can be modelled in different ways, depending on distance approximations (far or near-field), process involved (pure-shear earthquakes, volume changes, ...), etc. \n",
    "\n",
    "Here we will check the most common/important used source models.\n",
    "\n",
    "\n",
    "**Table of Contents:**\n",
    "\n",
    "* [Double Couple source](#Double-Couple-source)\n",
    "* [Moment tensor source](#Moment-tensor-source)\n",
    "* [Rectangular source](#Rectangular-source)\n"
   ]
  },
  {
   "cell_type": "markdown",
   "metadata": {},
   "source": [
    "## Double Couple source\n",
    "\n",
    "The DC source is a point source that describes a shear rupture. Before initialising the source we should import the GF framework within Pyrocko:"
   ]
  },
  {
   "cell_type": "code",
   "execution_count": null,
   "metadata": {},
   "outputs": [],
   "source": [
    "from pyrocko import gf"
   ]
  },
  {
   "cell_type": "markdown",
   "metadata": {},
   "source": [
    "Now that we have imported the framework that contains the source models, we can proceed to initialise the first type, the double couple source model:"
   ]
  },
  {
   "cell_type": "code",
   "execution_count": null,
   "metadata": {},
   "outputs": [],
   "source": [
    "dc_source = gf.DCSource(lat=50., lon=10., depth=10e3, strike=20., dip=15., rake=85.)"
   ]
  },
  {
   "cell_type": "markdown",
   "metadata": {},
   "source": [
    "<img src=\"https://pyrocko.org/docs/current/_images/source-doublecouple.svg\" alt=\"Drawing\" style=\"width: 200px;\"/>"
   ]
  },
  {
   "cell_type": "markdown",
   "metadata": {},
   "source": [
    "## Moment tensor source\n",
    "\n",
    "What happens when the DC source is not enough to accurately describe the process? For example, sometimes there are other processes involved that describe something different to a shear rupture, like an explosion being an additional cause to the ground excitation. In this case a moment tensor would be the best source to use. This source also describes a point source, but it is the most complete form to describe an ensemble of buried forces to first order. The way of initialising a full moment tensor is as follows:"
   ]
  },
  {
   "cell_type": "code",
   "execution_count": null,
   "metadata": {},
   "outputs": [],
   "source": [
    "mt_source = gf.MTSource(lat=20., lon=58., depth=8.3e3, mnn=.5, mee=.1, mdd=.7, mne=.6, mnd=.2, med=.1,)"
   ]
  },
  {
   "cell_type": "markdown",
   "metadata": {},
   "source": [
    "<img src=\"https://pyrocko.org/docs/current/_images/source-mt.svg\" alt=\"Drawing\" style=\"width: 200px;\"/>"
   ]
  },
  {
   "cell_type": "markdown",
   "metadata": {},
   "source": [
    "## Rectangular source\n",
    "\n",
    "The rectangular source is a finite source that describes a rectangular fault plane. To initialise it we need to define, besides the focal parameters of the source, the size of the rectangle involved:"
   ]
  },
  {
   "cell_type": "code",
   "execution_count": null,
   "metadata": {},
   "outputs": [],
   "source": [
    "rectangular_source = gf.RectangularSource(lat=20., lon=40., depth=5000., dip=30., strike=120., rake=50.,width=3000., \n",
    "                                         length=8000., slip=2.3)"
   ]
  },
  {
   "cell_type": "markdown",
   "metadata": {},
   "source": [
    "<img src=\"https://pyrocko.org/docs/current/_images/source-rectangular.svg\" alt=\"Drawing\" style=\"width: 400px;\"/>"
   ]
  },
  {
   "cell_type": "markdown",
   "metadata": {},
   "source": [
    "([Images source](https://pyrocko.org/docs/current/topics/pyrocko-gf.html))."
   ]
  },
  {
   "cell_type": "markdown",
   "metadata": {},
   "source": [
    "## Summary\n",
    "\n",
    "* You know how to initialise in Pyrocko a **double couple**, a **moment tensor** and a **rectangular** source."
   ]
  }
 ],
 "metadata": {
  "kernelspec": {
   "display_name": "Python 3",
   "language": "python",
   "name": "python3"
  },
  "language_info": {
   "codemirror_mode": {
    "name": "ipython",
    "version": 3
   },
   "file_extension": ".py",
   "mimetype": "text/x-python",
   "name": "python",
   "nbconvert_exporter": "python",
   "pygments_lexer": "ipython3",
   "version": "3.6.9"
  }
 },
 "nbformat": 4,
 "nbformat_minor": 2
}
