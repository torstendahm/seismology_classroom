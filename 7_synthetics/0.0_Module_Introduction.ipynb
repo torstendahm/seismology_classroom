{
 "cells": [
  {
   "cell_type": "markdown",
   "metadata": {},
   "source": [
    "# Module Introduction\n",
    "\n",
    "A very important topic in seismology is the synthetic seismogram calculation. This task requires:\n",
    "\n",
    "* a **source model**, which refers to the excitacion source\n",
    "* a **Green's function store**, which correspond to the media response at a receiver to a simple excitation at the source, i.e., a Green's function describes the seismic wave propagation from the source to the receiver, and\n",
    "* the **target configuration**, i.e., the receivers.\n",
    "\n",
    "The following image from [Heimann et al., 2019](https://se.copernicus.org/articles/10/1921/2019/) shows the three concepts previously described, where a GF store contains the media response of a certain source at a certain receiver.\n",
    "\n",
    "![](gf_pyrocko.png) \n",
    "In this module we will cover the different source types, how to calculate Green's functions and how to download pre-calculated stores. \n",
    "\n",
    "You will learn about the tool **Fomosto**, which allows to create, inspect and manipulate Green's function stores. We will also go through how to create synthetics from a point source and how to check the source radiation effects.  \n",
    "\n",
    "**Contents:**\n",
    "\n",
    "[Source types](0.1_Source_types.ipynb)\n",
    "\n",
    "[GF creation tool](1.0_Fomosto.ipynb)\n",
    "\n",
    "[Synthetic seismograms example](2.0_Synthetic_seismograms_from_a_point_source.ipynb)\n",
    "\n",
    "[Source radiation plots](3.0_Source_radiation_plots.ipynb)"
   ]
  }
 ],
 "metadata": {
  "kernelspec": {
   "display_name": "Python 3",
   "language": "python",
   "name": "python3"
  },
  "language_info": {
   "codemirror_mode": {
    "name": "ipython",
    "version": 3
   },
   "file_extension": ".py",
   "mimetype": "text/x-python",
   "name": "python",
   "nbconvert_exporter": "python",
   "pygments_lexer": "ipython3",
   "version": "3.6.9"
  }
 },
 "nbformat": 4,
 "nbformat_minor": 4
}
