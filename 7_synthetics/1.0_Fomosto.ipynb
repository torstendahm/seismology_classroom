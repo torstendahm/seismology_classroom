{
 "cells": [
  {
   "cell_type": "markdown",
   "metadata": {},
   "source": [
    "# Fomosto\n",
    "\n",
    "## Introduction\n",
    "\n",
    "This notebook is totally focused on the use of **Fomosto**, the *FOrward MOdel Storage TOol*. Fomosto is a tool able to create and manipulate Green's functions. The complete documentation is available here https://pyrocko.org/docs/current/apps/fomosto/tutorial.html, but we will cover the key points on how to initialize a store.\n",
    "\n",
    "**Table of Contents:**\n",
    "\n",
    "* [How to download pre-calculated Green's functions](#Downloading-pre-calculated-Green's-functions)\n",
    "* [How to create Green's functions](#How-to-create-my-own-Green's-functions?)\n",
    "\n",
    "\n",
    "\n",
    "## Downloading pre-calculated Green's functions\n",
    "\n",
    "First of all, as the Green's functions calculation is a computationally very expensive task, you should know there is an online repository that contains pre-calculated Green's function stores. You can click on https://greens-mill.pyrocko.org and explore the different spatial scales and sampling rates available. When you find a suitable store, you can simply check the ID and download it with:\n",
    "\n",
    "`fomosto download kinherd <store_id>`\n",
    "\n",
    "In this way, you can avoid the long waiting time taken by some calculations and easily get the store on your machine."
   ]
  },
  {
   "cell_type": "markdown",
   "metadata": {},
   "source": [
    "## How to create my own Green's functions?\n",
    "\n",
    "But what happens if I need a different Green's function store? As you saw previously, Fomosto can be used to create GF stores and here you will learn how to compute them.\n",
    "\n",
    "### Backends\n",
    "\n",
    "Fomosto is a unified interface that allows the Green's function computation and makes it simpler to build, but the actual numerical computation is done with an additional modelling code. \n",
    "\n",
    "In the Pyrocko repository you can find four modelling codes including Python interfaces that are required for Fomosto:\n",
    "\n",
    "* [QSSP](https://git.pyrocko.org/pyrocko/fomosto-qssp)\n",
    "\n",
    "* [QSEIS](https://git.pyrocko.org/pyrocko/fomosto-qseis)\n",
    "\n",
    "* [QSEIS2D](https://git.pyrocko.org/pyrocko/fomosto-qseis2d)\n",
    "\n",
    "* [PSGRN-PSCMP](https://git.pyrocko.org/pyrocko/fomosto-psgrn-pscmp)\n",
    "\n",
    "\n",
    "These codes that perform the calculations of synthetic seismograms are called **backends**.\n",
    "\n",
    "#### QSSP\n",
    "\n",
    "*QSSP* calculate synthetic seismograms based on a layered, self-gravitating spherical Earth using the normal mode theory. You can choose this backend when you need global seismograms at very low (first eigenmodes) or very high frequencies (4 Hz has been tested), when you deal with core phases or if you are interested in the coupling of earth and atmosphere.\n",
    "\n",
    "#### QSEIS/QSEIS2D\n",
    "\n",
    "*QSEIS* code calculate synthetic seismograms based on a layered viscoelastic half-space model. You can choose this backend when you are using local and regional configurations, when you need to consider different source/receiver structures, and also to compute single force excitation Green's functions.\n",
    "*QSEIS2D* code has an additional feature of efficiently modelling multiple receiver side structures.\n",
    "\n",
    "#### PSGRN-PSCMP\n",
    "\n",
    "*PSGRN-PSCMP* is used to calculate synthetics stress/strain/tilt/gravitational fields based on a layered viscoelastic half-space. If you need to calculate synthetic static and/or viscoelastic displacement fields of tectonic events, magmatic intrusions or fluid migrations, then this backend is the best choice. Also useful for the synthetics calculation of many points like InSAR or GPS.\n",
    "\n",
    "You can also find more details in [Backends](https://pyrocko.org/docs/current/apps/fomosto/backends.html)."
   ]
  },
  {
   "cell_type": "markdown",
   "metadata": {},
   "source": [
    "### Let's start\n",
    "\n",
    "The documentation to create a Green's function store is included in the [Fomosto tutorial](https://pyrocko.org/docs/current/apps/fomosto/tutorial.html#creating-a-new-green-s-function-store). \n",
    "\n",
    "* **Backend installation**\n",
    "\n",
    "The first step is to download and install the code needed. After you download the desired backend (from one of the links above) you can install it with:\n",
    "\n",
    "`autoreconf -i`   # only if 'configure' script is missing \n",
    "\n",
    "`./configure`\n",
    "\n",
    "`make`\n",
    "\n",
    "`sudo make install`\n",
    "\n",
    "* **Initialize an empty GF store**\n",
    "\n",
    "`fomosto init backend dir`\n",
    "\n",
    "where *backend* is the name of the code (for QSEIS we would use `qseis.2006a`) and *dir* would be the directoy name of your store (your choice). \n",
    "\n",
    "* **Configuration**\n",
    "\n",
    "After initializing a store, you will get your store directory with some files in it. These files refer to the velocity model used to calculate phase arrivals (dir/config) and to the backend specific configuration, such as the time region where the GF will be calculated (dir/extra/backend). You can change the configuration values in order to build the store you need. Check [here](https://pyrocko.org/docs/current/apps/fomosto/tutorial.html#configuration) for the configuration details.\n",
    "\n",
    "<div class=\"alert alert-block alert-info\">\n",
    "Note that the config file contains the parameters *component_scheme* and *ncomponents*. These refer to the GF component schemes and are important to consider if you later want to check other sources or configurations (for example, if you want to calculate synthetics for a single force, then *component_scheme* would be *elastic5* and *ncomponents* would be *5*). </div>\n",
    "\n",
    "You can find more details [here](https://pyrocko.org/docs/current/library/reference/gf.html#pyrocko.gf.meta.ComponentScheme).\n",
    "\n",
    "Just be sure to check all parameters before building your synthetic traces, as this task takes time. \n",
    "\n",
    "* **Tabulated phase arrivals**\n",
    "\n",
    "You can create the tabulated phase arrivals with\n",
    "\n",
    "`cd dir`\n",
    "\n",
    "`fomosto ttt`\n",
    "\n",
    "With this command you will get a new subdirectory called *phases*.\n",
    "\n",
    "* **Synthetic traces calculation**\n",
    "\n",
    "Finally, the Green's function traces can be calculated with\n",
    "\n",
    "`fomosto build`\n",
    "\n",
    "This final command will take some time depending on your configuration, but that is all. If you later wish to modify your configuration files, you can do it but be sure to rebuild the traces by adding *--force* to the commands so Fomosto can overwrite the store content. That is to say:\n",
    "\n",
    "`fomosto ttt --force`\n",
    "\n",
    "`fomosto build --force`\n",
    "\n",
    "* **Visualization and report**\n",
    "\n",
    "To visualize the traces you can use the `fomosto view` command. "
   ]
  },
  {
   "cell_type": "code",
   "execution_count": null,
   "metadata": {},
   "outputs": [],
   "source": [
    "!fomosto view --help"
   ]
  },
  {
   "cell_type": "markdown",
   "metadata": {},
   "source": [
    "To create a report of your store, Fomosto includes the option of `fomosto report`. This command creates a PDF file including displacment and velocity traces, maximum amplitude of traces and displacment spectra for Green's function stores. The details can be found [here](https://pyrocko.org/docs/current/apps/fomosto/tutorial.html#diagnostics)."
   ]
  },
  {
   "cell_type": "code",
   "execution_count": null,
   "metadata": {},
   "outputs": [],
   "source": [
    "!fomosto report"
   ]
  },
  {
   "cell_type": "markdown",
   "metadata": {},
   "source": [
    "## Summary\n",
    "\n",
    "* You know what **Fomosto** is\n",
    "* You can **download** a pre-calculated GF store\n",
    "* You know the available **backends** to perform GF calculations\n",
    "* You can **create** your own GF store with Fomosto\n"
   ]
  }
 ],
 "metadata": {
  "kernelspec": {
   "display_name": "Python 3",
   "language": "python",
   "name": "python3"
  },
  "language_info": {
   "codemirror_mode": {
    "name": "ipython",
    "version": 3
   },
   "file_extension": ".py",
   "mimetype": "text/x-python",
   "name": "python",
   "nbconvert_exporter": "python",
   "pygments_lexer": "ipython3",
   "version": "3.6.9"
  }
 },
 "nbformat": 4,
 "nbformat_minor": 2
}
