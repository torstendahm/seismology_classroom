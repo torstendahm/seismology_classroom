{
 "cells": [
  {
   "cell_type": "markdown",
   "metadata": {},
   "source": [
    "# 1.2 Waveform data handling in *Pyrocko*\n",
    "\n",
    "Pyrocko ships different techniques to load and to display data from simple waveform file reading to a scan of directories using the `squirrel`.\n",
    "\n",
    "This chapter shows, how to load, manipulate, process and/or save waveforms in *Pyrocko* (following multiple   [examples](https://pyrocko.org/docs/current/library/examples/)).\n",
    "\n",
    "It includes \n",
    "* loading,\n",
    "* plotting,\n",
    "* cutting,\n",
    "* filtering,\n",
    "* spectral plot and\n",
    "* saving\n",
    "\n",
    "of waveforms.\n",
    "\n",
    "\n",
    "## Contents:\n",
    "* [Loading and first inspection](#sec1)\n",
    "* [Simple processing steps - Cutting, Filtering, Spectral plot](#sec2)\n",
    "* [Saving](#sec3)\n",
    "* [Summary](#sum)\n",
    "\n",
    "\n",
    "## Loading and first inspection <a class=\"anchor\" id=\"sec1\"></a>\n",
    "\n",
    "*Pyrocko* waveforms are loaded directly using the `load` function. It will load waveforms from the path(s) into a `traces`. "
   ]
  },
  {
   "cell_type": "code",
   "execution_count": 1,
   "metadata": {},
   "outputs": [],
   "source": [
    "# Pyrockos' simple loading function\n",
    "from pyrocko.io import load\n",
    "\n",
    "# This is a list of traces containing the waveform data\n",
    "traces = load(filename='data/data_GE.KTHA..HHZ_2020-10-30_11-30-26.mseed')"
   ]
  },
  {
   "cell_type": "markdown",
   "metadata": {},
   "source": [
    "Alternatively there is the `Squirrel`, a versatile database manager ([squirrel introduction](https://pyrocko.org/docs/current/library/reference/squirrel/index.html)). Loading in this case is equally simple:"
   ]
  },
  {
   "cell_type": "code",
   "execution_count": 2,
   "metadata": {},
   "outputs": [
    {
     "name": "stderr",
     "output_type": "stream",
     "text": [
      "\u001bD\u001b[1;27r\u001b[28;1H\u001b[0K◷ Gathering file names    working           \u001b[27;1H\u001b[0K\u001b[1;28r\u001bM\u001b[29;1H\u001b[28;1H\u001b[0K\u001bD\u001b[1;27r\u001b[28;1H\u001b[0K◷ Preparing database      working           \u001b[27;1H\u001b[0K\u001b[1;28r\u001bM\u001b[29;1H\u001b[28;1H\u001b[0K\u001bD\u001b[1;27r\u001b[28;1H\u001b[0K◷ Indexing files          working           \u001b[27;1H\u001b[0K\u001b[1;28r\u001bM\u001b[29;1H\u001b[28;1H\u001b[0K\u001bD\u001b[1;27r\u001b[28;1H\u001b[0K◷ Aggregating selection   working           \u001b[27;1H\u001b[0K\u001b[1;28r\u001bM\u001b[29;1H\u001b[28;1H\u001b[0K\u001b[28;1H"
     ]
    }
   ],
   "source": [
    "# Pyrockos' Squirrel class\n",
    "from pyrocko.squirrel import Squirrel\n",
    "\n",
    "# Initialization of the database manager\n",
    "sq = Squirrel()\n",
    "\n",
    "# Load waveform data into the squirrel database\n",
    "sq.add('data/data_GE.KTHA..HHZ_2020-10-30_11-30-26.mseed')"
   ]
  },
  {
   "cell_type": "markdown",
   "metadata": {},
   "source": [
    "The `Squirrel` becomes very handy for a lot of data, as it is fast and very effective in memory usage. Hence, in the following we will show both ways of data handling:\n",
    "* handling data loaded via `load` and\n",
    "* handling data loaded via the `Squirrel`.\n",
    "\n",
    "To start with, let's check the meta data of the waveforms we have loaded."
   ]
  },
  {
   "cell_type": "code",
   "execution_count": 3,
   "metadata": {},
   "outputs": [
    {
     "name": "stdout",
     "output_type": "stream",
     "text": [
      "Trace (GE, KTHA, , HHZ)\n",
      "  timerange: 2020-10-30 11:30:26.98 - 2020-10-30 12:30:26.97\n",
      "  delta t: 0.01\n",
      "  last: True\n",
      "  offset_end: 0\n",
      "  offset_start: 0\n",
      "  segment_size: 0\n",
      "\n",
      "Trace (GE, KTHA, , HHZ)\n",
      "  timerange: 2020-10-30 11:30:26.98 - 2020-10-30 12:30:26.97\n",
      "  delta t: 0.01\n",
      "  last: True\n",
      "  offset_end: 0\n",
      "  offset_start: 0\n",
      "  segment_size: 1048576\n",
      "\n"
     ]
    }
   ],
   "source": [
    "# Accessing an individual trace (here the first) from the trace list\n",
    "tr = traces[0].copy()\n",
    "print(tr)\n",
    "\n",
    "# OR accessing an individual trace (here the first) from the squirrel\n",
    "tr = sq.get_waveforms()[0]\n",
    "print(tr)"
   ]
  },
  {
   "cell_type": "markdown",
   "metadata": {},
   "source": [
    "The output shows, that the trace extracted was recorded at the station `GE.KTHA..HHZ` on 2020-10-30 with a sampling rate of 0.01 s. Both traces loaded via `load` and the `Squirrel` are equivalent (excellent).\n",
    "\n",
    "For the `Squirrel` instance further meta data is shown using the `print` command:"
   ]
  },
  {
   "cell_type": "code",
   "execution_count": 4,
   "metadata": {},
   "outputs": [
    {
     "name": "stdout",
     "output_type": "stream",
     "text": [
      "Number of files:               1\n",
      "Total size of known files:     483 kB\n",
      "Number of index nuts:          1\n",
      "Available content kinds:       \n",
      "  waveform: 1 2020-10-30 11:30:26.980 - 2020-10-30 12:30:26.980\n",
      "Available codes:               \n",
      "  GE.KTHA..HHZ\n",
      "Sources:                       <none>\n",
      "Operators:                     <none>\n"
     ]
    }
   ],
   "source": [
    "# Show squirrel meta data\n",
    "print(sq)"
   ]
  },
  {
   "cell_type": "markdown",
   "metadata": {},
   "source": [
    "We know now something about the record (when, which station, sampling rate etc.), but we have not seen the waveform yet. *Pyrocko* comes with an interactive waveform viewer and real time processing tool, the `Snuffler` (more later). Here we will just have a look at the waveforms ([further information here](https://pyrocko.org/docs/current/apps/snuffler/manual.html)).\n",
    "\n",
    "One tip: Familiarize yourself with the display of long waveforms and zooming within `Snuffler`. "
   ]
  },
  {
   "cell_type": "code",
   "execution_count": 34,
   "metadata": {},
   "outputs": [
    {
     "name": "stderr",
     "output_type": "stream",
     "text": [
      "cc.py:pyrocko.gui.snuffling.okada - WARNING  - \n",
      " /home/malde/.snufflings/okada/libokada.so: undefined symbol: okada_get_consts\n",
      "--> run 'make' in okada snuffling directory <--\n",
      "cc.py:pyrocko.gui.snuffling.okada - WARNING  - \n",
      " /home/malde/.snufflings/okada/libokada.so: undefined symbol: okada_get_consts\n",
      "--> run 'make' in okada snuffling directory <--\n"
     ]
    }
   ],
   "source": [
    "# Plot of the data loaded using `load`\n",
    "from pyrocko.trace import snuffle\n",
    "snuffle(traces);\n",
    "\n",
    "# OR plot of the loaded data using the squirrel\n",
    "sq.snuffle();"
   ]
  },
  {
   "cell_type": "markdown",
   "metadata": {},
   "source": [
    "## Simple processing steps - Cutting, Filtering, Spectral plot  <a class=\"anchor\" id=\"sec2\"></a>\n",
    "\n",
    "In this section some easy but frequently used processing and analysis tools for seismic waveforms are demonstrated based on the loaded waveform.\n",
    "\n",
    "The loaded waveform, as seen above, contains the seismic signal from `11:50:00` to around `12:05:00`, but also a long period of quiesence. Let's remove the quiet parts of the waveforms for a better glimps at the actual signal. This can be done with the method `chop` (for individual traces) or the `get_waveforms` (for the `Squirrel`), which requires a time range to cut the waveforms to.\n",
    "So here we define the time range:"
   ]
  },
  {
   "cell_type": "code",
   "execution_count": 6,
   "metadata": {},
   "outputs": [],
   "source": [
    "# Import of the Pyrocko time formater\n",
    "from pyrocko.util import str_to_time\n",
    "\n",
    "# Defintion of tmin and tmax\n",
    "tmin = str_to_time('2020-10-30 11:50:00')\n",
    "tmax = str_to_time('2020-10-30 12:05:00')"
   ]
  },
  {
   "cell_type": "markdown",
   "metadata": {},
   "source": [
    "Now we are able to slice the traces within both the `traces` list and the `Squirrel` to the decided time range:"
   ]
  },
  {
   "cell_type": "code",
   "execution_count": 35,
   "metadata": {},
   "outputs": [],
   "source": [
    "# Generate a new list (traces_cut) with the sliced waveform\n",
    "traces_cut = []\n",
    "for tr in traces:\n",
    "    traces_cut.append(\n",
    "        tr.chop(\n",
    "            tmin,\n",
    "            tmax,\n",
    "            include_last=True,\n",
    "            inplace=False))\n",
    "\n",
    "# OR use the Squirrel with its chopper_waveforms\n",
    "sq_cut = Squirrel()\n",
    "for tr in sq.get_waveforms(\n",
    "        tmin=tmin, tmax=tmax, include_last=True):\n",
    "\n",
    "    sq_cut.add_volatile_waveforms([tr])"
   ]
  },
  {
   "cell_type": "markdown",
   "metadata": {},
   "source": [
    "To inspect, if we have been successful, we can use the `snuffle` method again:"
   ]
  },
  {
   "cell_type": "code",
   "execution_count": 8,
   "metadata": {},
   "outputs": [
    {
     "name": "stderr",
     "output_type": "stream",
     "text": [
      "cc.py:pyrocko.gui.snuffling.okada - WARNING  - \n",
      " /home/malde/.snufflings/okada/libokada.so: undefined symbol: okada_get_consts\n",
      "--> run 'make' in okada snuffling directory <--\n",
      "cc.py:pyrocko.gui.snuffling.okada - WARNING  - \n",
      " /home/malde/.snufflings/okada/libokada.so: undefined symbol: okada_get_consts\n",
      "--> run 'make' in okada snuffling directory <--\n"
     ]
    }
   ],
   "source": [
    "# Plot of the data loaded using `load`\n",
    "snuffle(traces_cut);\n",
    "\n",
    "# OR plot of the loaded data using the squirrel\n",
    "sq_cut.snuffle();"
   ]
  },
  {
   "cell_type": "markdown",
   "metadata": {},
   "source": [
    "Here we have our earthquake signal. It is characterized by heterogeneous amplitudes and frequencies. A profound look onto the frequency-amplitude distribution over time is provided when calculating a `spectrogram`. In Pyrocko this is best achieved within `Snuffler` using the extension (a so called [`Snuffling`](https://git.pyrocko.org/pyrocko/contrib-snufflings)) `spectrogram`.\n",
    "\n",
    "So, your task is to install the `Snufflings` from [git.pyrocko.org/pyrocko/contrib-snufflings](https://git.pyrocko.org/pyrocko/contrib-snufflings) and generate the spectrogram within `Snuffler`. It should look something like this:\n",
    "<img src=\"https://git.pyrocko.org/pyrocko/contrib-snufflings/raw/commit/33eba2a6c41ddcc7b2e0d87ffb90b728883b6115/screenshots/spectrogram.png\">"
   ]
  },
  {
   "cell_type": "markdown",
   "metadata": {},
   "source": [
    "Hope, you have been successful. In this case, what do we see?\n",
    "* When does the earthquake start?\n",
    "* How does the frequency content and the amplitudes change over time?\n",
    "* In which frequency range do you observe the largest amplitudes?\n",
    "\n",
    "To look closer into the waveform within the dominant frequency range, let's apply a filter on our cutted waveforms:"
   ]
  },
  {
   "cell_type": "code",
   "execution_count": 36,
   "metadata": {},
   "outputs": [],
   "source": [
    "# Filter each trace within the cutted list (traces_cut)\n",
    "for tr in traces_cut:\n",
    "    tr.lowpass(4, 0.1)\n",
    "    tr.highpass(4, 0.01)\n",
    "\n",
    "# OR use the Squirrel with its chopper_waveforms\n",
    "sq_filter = Squirrel()\n",
    "for tr in sq_cut.get_waveforms():\n",
    "    tr.lowpass(4, 0.1)\n",
    "    tr.highpass(4, 0.01)\n",
    "\n",
    "    sq_filter.add_volatile_waveforms([tr])"
   ]
  },
  {
   "cell_type": "markdown",
   "metadata": {},
   "source": [
    "And of course we should have a look again at the result.\n",
    "* What has changed compared to the raw waveform?"
   ]
  },
  {
   "cell_type": "code",
   "execution_count": 37,
   "metadata": {},
   "outputs": [
    {
     "name": "stderr",
     "output_type": "stream",
     "text": [
      "cc.py:pyrocko.gui.snuffling.okada - WARNING  - \n",
      " /home/malde/.snufflings/okada/libokada.so: undefined symbol: okada_get_consts\n",
      "--> run 'make' in okada snuffling directory <--\n",
      "cc.py:pyrocko.gui.snuffling.okada - WARNING  - \n",
      " /home/malde/.snufflings/okada/libokada.so: undefined symbol: okada_get_consts\n",
      "--> run 'make' in okada snuffling directory <--\n"
     ]
    }
   ],
   "source": [
    "# Plot of the data loaded using `load`\n",
    "snuffle(traces_cut);\n",
    "\n",
    "# OR plot of the loaded data using the squirrel\n",
    "sq_filter.snuffle();"
   ]
  },
  {
   "cell_type": "markdown",
   "metadata": {},
   "source": [
    "## Saving  <a class=\"anchor\" id=\"sec3\"></a>\n",
    "\n",
    "We have applied multiple processing steps (cutting, filtering) to our raw waveform. The genereated waveform shall be stored now for any later use, so you don't have to apply the processing chain again. This is done using the `save` method.\n",
    "So we will loop over each trace within our stream and write the trace in the same format as the one loaded (reminder: `data_GE.KTHA..HHZ_2020-10-30_11-30-26.mseed`), but adding a `processed_` flag into it: "
   ]
  },
  {
   "cell_type": "code",
   "execution_count": 40,
   "metadata": {},
   "outputs": [
    {
     "data": {
      "text/plain": [
       "['processed_data_GE.KTHA..HHZ_2020-10-30_11-50-00.mseed']"
      ]
     },
     "execution_count": 40,
     "metadata": {},
     "output_type": "execute_result"
    }
   ],
   "source": [
    "from pyrocko.io import save\n",
    "\n",
    "# Save trace list\n",
    "save(\n",
    "    traces_cut,\n",
    "    filename_template='processed_data_%(network)s.%(station)s.%(location)s.%(channel)s_%(tmin)s.mseed')\n",
    "\n",
    "# Save squirrel trace list\n",
    "save(\n",
    "    sq_filter.get_waveforms(include_last=True),\n",
    "    filename_template='processed_data_%(network)s.%(station)s.%(location)s.%(channel)s_%(tmin)s.mseed')\n"
   ]
  },
  {
   "cell_type": "markdown",
   "metadata": {},
   "source": [
    "## Summary  <a class=\"anchor\" id=\"sum\"></a>\n",
    "\n",
    "Here we have covered simple techniques to \n",
    "* **load** waveforms into an Pyrocko traces and the Pyrocko Squirrel database,\n",
    "* waveform visualization techniques of the waveform and its frequency content within **Snuffler**,\n",
    "* simple processing steps (**filtering** and **cutting**),\n",
    "* writing of waveforms into a file (**save**)."
   ]
  }
 ],
 "metadata": {
  "kernelspec": {
   "display_name": "Python 3",
   "language": "python",
   "name": "python3"
  },
  "language_info": {
   "codemirror_mode": {
    "name": "ipython",
    "version": 3
   },
   "file_extension": ".py",
   "mimetype": "text/x-python",
   "name": "python",
   "nbconvert_exporter": "python",
   "pygments_lexer": "ipython3",
   "version": "3.8.10"
  }
 },
 "nbformat": 4,
 "nbformat_minor": 4
}
