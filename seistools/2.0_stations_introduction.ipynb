{
 "cells": [
  {
   "cell_type": "markdown",
   "metadata": {},
   "source": [
    "## 2.0 Station meta data handling\n",
    "\n",
    "Station meta data contains a lot of information on\n",
    "* seismic networks,\n",
    "* their stations and associated channels,\n",
    "* recording times,\n",
    "* instrument responses (how a specific sensor reacts to ground motion)\n",
    "* and much more.\n",
    "\n",
    "This might be important for further processing and is not included in the miniSEED files.\n",
    "\n",
    "The most common format for station information is [`StationXML`](http://docs.fdsn.org/projects/stationxml/en/latest/#). Here we will see, how these files can be loaded and used within *Obspy* and *Pyrocko*.\n",
    "Furthermore we will add new stations from scratch and check the instrument reponse.\n",
    "\n",
    "So, let's start:\n",
    "1. [Station handling in *Obspy*](2.1_stations_obspy.ipynb)\n",
    "2. [Station handling in *Pyrocko*](2.2_stations_pyrocko.ipynb)"
   ]
  }
 ],
 "metadata": {
  "kernelspec": {
   "display_name": "Python 3",
   "language": "python",
   "name": "python3"
  },
  "language_info": {
   "codemirror_mode": {
    "name": "ipython",
    "version": 3
   },
   "file_extension": ".py",
   "mimetype": "text/x-python",
   "name": "python",
   "nbconvert_exporter": "python",
   "pygments_lexer": "ipython3",
   "version": "3.8.10"
  }
 },
 "nbformat": 4,
 "nbformat_minor": 4
}
