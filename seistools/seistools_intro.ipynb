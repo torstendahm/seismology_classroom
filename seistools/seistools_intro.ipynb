{
 "cells": [
  {
   "cell_type": "markdown",
   "metadata": {},
   "source": [
    "# Module 3 - Introduction to common seismological toolboxes\n",
    "\n",
    "Different toolboxes aid in handling, processing and investigation of seismological data as, e.g.:\n",
    "* *Obspy* ([docs.obspy.org](https://docs.obspy.org/))\n",
    "* *Pyrocko* ([pyrocko.org](https://pyrocko.org/))\n",
    "* *Integrated Seismic Program* ISP ([integratedseismicprogram.com](https://integratedseismicprogram.com/))\n",
    "* *SeisComP* ([seiscomp.de](https://www.seiscomp.de/doc/index.html) - full version costs money)\n",
    "* ...\n",
    "\n",
    "All of them have their own strengths and weaknesses, so it is fully worth to check out each of them and also search for other tool boxes.\n",
    "\n",
    "Here we will focus on *Pyrocko* and *Obspy* as two well known and often used free software packages. They are designed for usage in scripts. So we will do the same.\n",
    "\n",
    "This module shows to load and process\n",
    "* Station data (especially StationXML)\n",
    "* Event data (QuakeML)\n",
    "* Waveform data (miniSEED)\n",
    "\n",
    "in *Pyrocko* and *Obspy*."
   ]
  },
  {
   "cell_type": "markdown",
   "metadata": {},
   "source": [
    "## 1. Installation of *Obspy*\n",
    "\n",
    "For installation instructions it is always smart to check the instructions on the [website](https://docs.obspy.org/)"
   ]
  },
  {
   "cell_type": "markdown",
   "metadata": {},
   "source": [
    "- [X] Translation Obspy <-> Pyrocko\n",
    "2. Intro to (provided data)\n",
    "    1. station data handling\n",
    "        - [ ] StationXML\n",
    "        - [ ] Pyrocko Station format\n",
    "        - [ ] Pyrocko Response\n",
    "        - [ ] Obspy Station format (?)\n",
    "        - [ ] Obspy Response\n",
    "    2. event data handling\n",
    "        - [X] QuakeML\n",
    "        - [ ] Pyrocko event format\n",
    "        - [ ] Obspy event format\n",
    "    3. waveform data handling\n",
    "        - [X] MiniSEED (a lot more)\n",
    "        - [X] Pyrocko - reading (trace snuffle)\n",
    "        - [X] Pyrocko - squirrel (squirrel snuffle)\n",
    "        - [X] Obspy stream (obspy plot)\n"
   ]
  },
  {
   "cell_type": "markdown",
   "metadata": {},
   "source": [
    "## 2. Waveform data handling\n",
    "\n",
    "A common waveform format used in seismology is `miniSEED` ([iris](https://ds.iris.edu/ds/nodes/dmc/data/formats/miniseed/)). It is optimized for seismic data and ships not only the data, but also certain channel meta data. This part explains, how miniSEED data is loaded and inspected.\n",
    "\n",
    "\n",
    "Note: There are much more common and uncommon data formats (check e.g. [here for a more complete view on the zoo of seismic waveform formats](https://pyrocko.org/docs/current/_modules/pyrocko/io.html#load)). We will focus on miniSEED though as the most common one.\n",
    "\n",
    "\n",
    "### *Obspy*\n",
    "\n",
    "Let's load a waveform file with *Obspy* (follows the [tutorial](https://docs.obspy.org/tutorial/code_snippets/reading_seismograms.html#accessing-waveform-data)) "
   ]
  },
  {
   "cell_type": "code",
   "execution_count": 15,
   "metadata": {},
   "outputs": [],
   "source": [
    "# Let's start with obspy\n",
    "from obspy import read\n",
    "\n",
    "# This is an obspy stream\n",
    "st = read('data/data_GE.KTHA..HHZ_2020-10-30_11-30-26.mseed')"
   ]
  },
  {
   "cell_type": "markdown",
   "metadata": {},
   "source": [
    "The loaded stream contains the loaded waveform as traces. Meta data can be seen with different techniques:"
   ]
  },
  {
   "cell_type": "code",
   "execution_count": 16,
   "metadata": {},
   "outputs": [
    {
     "name": "stdout",
     "output_type": "stream",
     "text": [
      "1 Trace(s) in Stream:\n",
      "GE.KTHA..HHZ | 2020-10-30T11:30:26.980000Z - 2020-10-30T12:30:26.970000Z | 100.0 Hz, 360000 samples\n",
      "1 traces have been loaded into the stream\n"
     ]
    }
   ],
   "source": [
    "# The stream stats\n",
    "print(st)\n",
    "\n",
    "# Let's check, how many traces are loaded\n",
    "print('{} traces have been loaded into the stream'.format(len(st)))"
   ]
  },
  {
   "cell_type": "code",
   "execution_count": 17,
   "metadata": {},
   "outputs": [
    {
     "name": "stdout",
     "output_type": "stream",
     "text": [
      "         network: GE\n",
      "         station: KTHA\n",
      "        location: \n",
      "         channel: HHZ\n",
      "       starttime: 2020-10-30T11:30:26.980000Z\n",
      "         endtime: 2020-10-30T12:30:26.970000Z\n",
      "   sampling_rate: 100.0\n",
      "           delta: 0.01\n",
      "            npts: 360000\n",
      "           calib: 1.0\n",
      "         _format: MSEED\n",
      "           mseed: AttribDict({'dataquality': 'D', 'number_of_records': 118, 'encoding': 'STEIM1', 'byteorder': '>', 'record_length': 4096, 'filesize': 483328})\n"
     ]
    }
   ],
   "source": [
    "# Accessing an individual trace (here the first) of the stream\n",
    "tr = st[0]\n",
    "\n",
    "# Print the trace stats\n",
    "print(tr.stats)"
   ]
  },
  {
   "cell_type": "code",
   "execution_count": 18,
   "metadata": {},
   "outputs": [
    {
     "data": {
      "image/png": "[encoded data removed]",
      "text/plain": [
       "<Figure size 800x250 with 1 Axes>"
      ]
     },
     "metadata": {
      "needs_background": "light"
     },
     "output_type": "display_data"
    }
   ],
   "source": [
    "# Plot of the loaded data\n",
    "st.plot();"
   ]
  },
  {
   "cell_type": "markdown",
   "metadata": {},
   "source": [
    "### *Pyrocko*\n",
    "\n",
    "*Pyrocko* ships different techniques to load and to display data from simple waveform file reading to a scan of directories using `pile` and `squirrel`."
   ]
  },
  {
   "cell_type": "code",
   "execution_count": 19,
   "metadata": {},
   "outputs": [
    {
     "name": "stderr",
     "output_type": "stream",
     "text": [
      "selecting files... done. 1 file selected.\n",
      "Looking at files [----------------------------------------] 100% Time:  0:00:00\n",
      "Scanning files [------------------------------------------] 100% Time:  0:00:00\n",
      "\u001bD\u001b[1;27r\u001b[28;1H\u001b[0K◷ Gathering file names    working           \u001b[27;1H\u001b[0K\u001b[1;28r\u001bM\u001b[29;1H\u001b[28;1H\u001b[0K\u001bD\u001b[1;27r\u001b[28;1H\u001b[0K◷ Preparing database      working           \u001b[27;1H\u001b[0K\u001b[1;28r\u001bM\u001b[29;1H\u001b[28;1H\u001b[0K\u001bD\u001b[1;27r\u001b[28;1H\u001b[0K◷ Indexing files          working           \u001b[27;1H\u001b[0K\u001b[1;28r\u001bM\u001b[29;1H\u001b[28;1H\u001b[0K\u001bD\u001b[1;27r\u001b[28;1H\u001b[0K◷ Aggregating selection   working           \u001b[27;1H\u001b[0K\u001b[1;28r\u001bM\u001b[29;1H\u001b[28;1H\u001b[0K\u001b[28;1H"
     ]
    }
   ],
   "source": [
    "# Let's start with pyrocko\n",
    "from pyrocko.io import load\n",
    "from pyrocko.pile import make_pile\n",
    "from pyrocko.squirrel import Squirrel\n",
    "\n",
    "# This is a list of traces\n",
    "traces = load(filename='data/data_GE.KTHA..HHZ_2020-10-30_11-30-26.mseed')\n",
    "\n",
    "# OR This generates a pile\n",
    "p = make_pile('data/data_GE.KTHA..HHZ_2020-10-30_11-30-26.mseed')\n",
    "\n",
    "# OR this generates a squirrel\n",
    "sq = Squirrel()\n",
    "sq.add('data/data_GE.KTHA..HHZ_2020-10-30_11-30-26.mseed')"
   ]
  },
  {
   "cell_type": "markdown",
   "metadata": {},
   "source": [
    "`traces` contains the loaded waveform as a list of individual traces. Meta data can be seen here using:"
   ]
  },
  {
   "cell_type": "code",
   "execution_count": 20,
   "metadata": {},
   "outputs": [
    {
     "name": "stdout",
     "output_type": "stream",
     "text": [
      "1 trace has been loaded into the traces list\n",
      "1 trace has been loaded into the pile\n",
      "1 trace has been loaded into the squirrel\n",
      "Trace (GE, KTHA, , HHZ)\n",
      "  timerange: 2020-10-30 11:30:26.98 - 2020-10-30 12:30:26.97\n",
      "  delta t: 0.01\n",
      "  last: True\n",
      "  offset_end: 0\n",
      "  offset_start: 0\n",
      "  segment_size: 0\n",
      "\n",
      "Trace (GE, KTHA, , HHZ)\n",
      "  timerange: 2020-10-30 11:30:26.98 - 2020-10-30 12:30:26.96\n",
      "  delta t: 0.01\n",
      "  last: True\n",
      "  offset_end: 0\n",
      "  offset_start: 0\n",
      "  segment_size: 0\n",
      "\n",
      "Trace (GE, KTHA, , HHZ)\n",
      "  timerange: 2020-10-30 11:30:26.98 - 2020-10-30 12:30:26.97\n",
      "  delta t: 0.01\n",
      "  last: True\n",
      "  offset_end: 0\n",
      "  offset_start: 0\n",
      "  segment_size: 1048576\n",
      "\n"
     ]
    }
   ],
   "source": [
    "# Let's check, how many traces are loaded\n",
    "print('{} trace has been loaded into the traces list'.format(len(traces)))  # Trace list\n",
    "print('{} trace has been loaded into the pile'.format(len(p.all())))  # Pile\n",
    "print('{} trace has been loaded into the squirrel'.format(len(sq.get_waveforms())))  # Squirrel\n",
    "\n",
    "# Accessing an individual trace (here the first) from the trace list\n",
    "tr = traces[0]\n",
    "print(tr)\n",
    "\n",
    "# OR accessing an individual trace (here the first) from the pile\n",
    "tr = p.all()[0]\n",
    "print(tr)\n",
    "\n",
    "# OR accessing an individual trace (here the first) from the squirrel\n",
    "tr = sq.get_waveforms()[0]\n",
    "print(tr)"
   ]
  },
  {
   "cell_type": "code",
   "execution_count": 21,
   "metadata": {},
   "outputs": [
    {
     "name": "stderr",
     "output_type": "stream",
     "text": [
      "cc.py:pyrocko.gui.snuffling.okada - WARNING  - \n",
      " /home/malde/.snufflings/okada/libokada.so: undefined symbol: okada_get_consts\n",
      "--> run 'make' in okada snuffling directory <--\n",
      "cc.py:pyrocko.gui.snuffling.okada - WARNING  - \n",
      " /home/malde/.snufflings/okada/libokada.so: undefined symbol: okada_get_consts\n",
      "--> run 'make' in okada snuffling directory <--\n",
      "cc.py:pyrocko.gui.snuffling.okada - WARNING  - \n",
      " /home/malde/.snufflings/okada/libokada.so: undefined symbol: okada_get_consts\n",
      "--> run 'make' in okada snuffling directory <--\n"
     ]
    }
   ],
   "source": [
    "# Plot of the loaded data using the trace list\n",
    "from pyrocko.trace import snuffle\n",
    "\n",
    "snuffle(traces);\n",
    "\n",
    "# OR plot of the loaded data using the pile\n",
    "p.snuffle();\n",
    "\n",
    "# OR plot of the loaded data using the squirrel\n",
    "sq.snuffle();"
   ]
  },
  {
   "cell_type": "markdown",
   "metadata": {},
   "source": [
    "## 3. Station meta data handling\n",
    "\n"
   ]
  },
  {
   "cell_type": "code",
   "execution_count": null,
   "metadata": {},
   "outputs": [],
   "source": [
    "read_inventory\n",
    "stationxml.load_xml"
   ]
  },
  {
   "cell_type": "markdown",
   "metadata": {},
   "source": [
    "## 4. Event data handling\n",
    "\n",
    "Earthquakes are often referred to as `events`. Event data as location, depth, time and mechanism (the style of faulting) is published for large earthquakes e.g. by [USGS](https://earthquake.usgs.gov/earthquakes/search/), [Global CMT](https://www.globalcmt.org/CMTsearch.html) or [GEOFON](https://geofon.gfz-potsdam.de/eqinfo/list.php). The most common data format for event information is QuakeML. Here we present, how QuakeML is loaded in *Obspy* and *Pyrocko*."
   ]
  },
  {
   "cell_type": "code",
   "execution_count": null,
   "metadata": {},
   "outputs": [],
   "source": [
    "catalog\n",
    "event"
   ]
  },
  {
   "cell_type": "markdown",
   "metadata": {},
   "source": [
    "## 5. Compatibility - *Obspy* and *Pyrocko* talk with each other\n",
    "\n",
    "From time to time you might be faced with the problem of converting an *Obspy* stream into *Pyrocko* traces to watch it in snuffler etc.. To do so easily, *Pyrocko* contains a compatibility module [`obspy_compat`](https://pyrocko.org/docs/current/library/reference/obspy_compat.html):"
   ]
  },
  {
   "cell_type": "code",
   "execution_count": 23,
   "metadata": {},
   "outputs": [
    {
     "name": "stderr",
     "output_type": "stream",
     "text": [
      "cc.py:pyrocko.gui.snuffling.okada - WARNING  - \n",
      " /home/malde/.snufflings/okada/libokada.so: undefined symbol: okada_get_consts\n",
      "--> run 'make' in okada snuffling directory <--\n"
     ]
    }
   ],
   "source": [
    "# Import of the compatibility module\n",
    "from pyrocko import obspy_compat\n",
    "\n",
    "# Start compatiblity mode\n",
    "obspy_compat.plant()\n",
    "\n",
    "# Now snuffle the obspy stream \n",
    "st.snuffle();\n",
    "\n",
    "# Or convert it to pyrocko traces:\n",
    "traces_converted = st.to_pyrocko_traces()"
   ]
  }
 ],
 "metadata": {
  "kernelspec": {
   "display_name": "Python 3",
   "language": "python",
   "name": "python3"
  },
  "language_info": {
   "codemirror_mode": {
    "name": "ipython",
    "version": 3
   },
   "file_extension": ".py",
   "mimetype": "text/x-python",
   "name": "python",
   "nbconvert_exporter": "python",
   "pygments_lexer": "ipython3",
   "version": "3.8.10"
  }
 },
 "nbformat": 4,
 "nbformat_minor": 4
}
