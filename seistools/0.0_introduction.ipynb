{
 "cells": [
  {
   "cell_type": "markdown",
   "metadata": {},
   "source": [
    "# Module 3 - Introduction to common seismological toolboxes\n",
    "\n",
    "Different toolboxes aid in handling, processing and investigation of seismological data as, e.g.:\n",
    "* *Obspy* ([docs.obspy.org](https://docs.obspy.org/))\n",
    "* *Pyrocko* ([pyrocko.org](https://pyrocko.org/))\n",
    "* *Integrated Seismic Program* ISP ([integratedseismicprogram.com](https://integratedseismicprogram.com/))\n",
    "* *SeisComP* ([seiscomp.de](https://www.seiscomp.de/doc/index.html) - parts of the full version cost money)\n",
    "* ...\n",
    "\n",
    "All of them have their own strengths and weaknesses, so it is fully worth to check out each of them and also search for other tool boxes.\n",
    "\n",
    "Here we will focus on *Pyrocko* and *Obspy* as two well known and often used free software packages. They are designed for usage in scripts. So we will do the same.\n",
    "\n",
    "This module shows steps to **load**, **process** and **save**\n",
    "* Waveform data (miniSEED)\n",
    "* Station data (especially StationXML)\n",
    "* Event data (QuakeML)\n",
    "\n",
    "Besides also different basic simple **data manipulation** techniques are presented.\n",
    "\n",
    "The module is structured by data type and toolbox:\n",
    "1. [Waveform data handling](1.0_waveforms_introduction.ipynb) ...\n",
    "    1. [in *Obspy*](1.1_waveforms_obspy.ipynb)\n",
    "    1. [in *Pyrocko*](1.2_waveforms_pyrocko.ipynb)\n",
    "1. [Station meta data handling](2.0_stations_introduction.ipynb) ...\n",
    "    1. [in *Obspy*](2.1_stations_obspy.ipynb)\n",
    "    1. [in *Pyrocko*](2.2_stations_pyrocko.ipynb)\n",
    "1. [Event data handling](3.0_events_introduction.ipynb) ...\n",
    "    1. [in *Obspy*](3.1_events_obspy.ipynb)\n",
    "    1. [in *Pyrocko*](3.2_events_pyrocko.ipynb)\n",
    "1. [Package compatibility between *Obspy* and *Pyrocko*](4.0_toolbox_compatibility.ipynb)\n",
    "\n",
    "\n",
    "## Package installation\n",
    "\n",
    "Both *Pyrocko* and *Obspy* have well documented installation instructions for various systems and requirements. So just check the instructions on the [obspy website](https://docs.obspy.org/) or [pyrocko website](https://pyrocko.org/). They will help you for sure."
   ]
  }
 ],
 "metadata": {
  "kernelspec": {
   "display_name": "Python 3 (ipykernel)",
   "language": "python",
   "name": "python3"
  },
  "language_info": {
   "codemirror_mode": {
    "name": "ipython",
    "version": 3
   },
   "file_extension": ".py",
   "mimetype": "text/x-python",
   "name": "python",
   "nbconvert_exporter": "python",
   "pygments_lexer": "ipython3",
   "version": "3.7.13"
  }
 },
 "nbformat": 4,
 "nbformat_minor": 4
}
