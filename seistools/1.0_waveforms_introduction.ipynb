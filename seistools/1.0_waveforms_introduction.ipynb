{
 "cells": [
  {
   "cell_type": "markdown",
   "metadata": {},
   "source": [
    "## 1. Waveform data handling\n",
    "\n",
    "A common waveform format used in seismology is `miniSEED` ([iris](https://ds.iris.edu/ds/nodes/dmc/data/formats/miniseed/)). It is optimized for seismic data and ships not only the data, but also the respective network, station and channel information the data was recorded on. This section explains, how miniSEED data is loaded and inspected.\n",
    "\n",
    "\n",
    "Note: There are much more common and uncommon data formats (check e.g. [here for a more complete view on the zoo of seismic waveform formats](https://pyrocko.org/docs/current/_modules/pyrocko/io.html#load)). Both *Obspy* and *Pyrocko* are able to load the most common ones. So in case you are faced with waveforms in another format, check the documentations.\n",
    "For this course we will focus on miniSEED though as the most common one, though.\n",
    "\n",
    "This part of the module gives you an introduction into waveform loading, simple processing and saving using *Obspy* or *Pyrocko*.\n",
    "\n",
    "So, let's start:\n",
    "1. [Waveform handling in *Obspy*](1.1_waveforms_obspy.ipynb)\n",
    "2. [Waveform handling in *Pyrocko*](1.2_waveforms_pyrocko.ipynb)"
   ]
  }
 ],
 "metadata": {
  "kernelspec": {
   "display_name": "Python 3 (ipykernel)",
   "language": "python",
   "name": "python3"
  },
  "language_info": {
   "codemirror_mode": {
    "name": "ipython",
    "version": 3
   },
   "file_extension": ".py",
   "mimetype": "text/x-python",
   "name": "python",
   "nbconvert_exporter": "python",
   "pygments_lexer": "ipython3",
   "version": "3.7.13"
  }
 },
 "nbformat": 4,
 "nbformat_minor": 4
}
