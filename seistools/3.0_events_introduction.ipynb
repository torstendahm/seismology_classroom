{
 "cells": [
  {
   "cell_type": "markdown",
   "metadata": {},
   "source": [
    "## 3. Event data handling\n",
    "\n",
    "Earthquakes are often referred to as `events`. Event data as location, depth, time and mechanism (the style of faulting) for large earthquakes is published e.g. by [USGS](https://earthquake.usgs.gov/earthquakes/search/), [Global CMT](https://www.globalcmt.org/CMTsearch.html) or [GEOFON](https://geofon.gfz-potsdam.de/eqinfo/list.php). The most common data format for event information is [QuakeML](https://quake.ethz.ch/quakeml). Here we present, how QuakeML is loaded in *Obspy* and *Pyrocko*.\n",
    "\n",
    "\n",
    "So, let's start:\n",
    "1. [Event handling in *Obspy*](3.1_events_obspy.ipynb)\n",
    "2. [Event handling in *Pyrocko*](3.2_events_pyrocko.ipynb)"
   ]
  }
 ],
 "metadata": {
  "kernelspec": {
   "display_name": "Python 3 (ipykernel)",
   "language": "python",
   "name": "python3"
  },
  "language_info": {
   "codemirror_mode": {
    "name": "ipython",
    "version": 3
   },
   "file_extension": ".py",
   "mimetype": "text/x-python",
   "name": "python",
   "nbconvert_exporter": "python",
   "pygments_lexer": "ipython3",
   "version": "3.7.13"
  }
 },
 "nbformat": 4,
 "nbformat_minor": 4
}
