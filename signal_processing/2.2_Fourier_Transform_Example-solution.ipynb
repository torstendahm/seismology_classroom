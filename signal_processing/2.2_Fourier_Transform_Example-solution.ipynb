{
 "cells": [
  {
   "cell_type": "markdown",
   "id": "2fe87bff",
   "metadata": {},
   "source": [
    "# Fourier Transformation Examples\n",
    "\n",
    "<div class =\"alert alert-success\">\n",
    "Task 1\n",
    "    \n",
    "Load the dataset 'data/ft_example1.csv'. This dataset is from https://opendata.dwd.de/climate_environment/CDC/observations_germany/climate/hourly/air_temperature/historical/ and contains the hourly air temperature data for one specific location. The column 'seconds' was already prepared (based on other time-related columns). The relevant data is stored in the 'TT_TU' column. \n",
    "\n",
    "    \n",
    "Do the Fourier Transform. \n",
    "And try to interprete as many peaks as possible.\n",
    "\n",
    "    \n",
    "Hint: be aware of the sampling frequency, the unit and thus the interpretation of corresponding frequencies after the FT.\n",
    "</div>"
   ]
  },
  {
   "cell_type": "code",
   "execution_count": null,
   "id": "93be9542",
   "metadata": {},
   "outputs": [],
   "source": [
    "import numpy as num\n",
    "import matplotlib.pyplot as plt\n",
    "\n",
    "import pandas as pd\n",
    "\n",
    "# file = 'data/NY_climate_2010_modified.csv'\n",
    "file = 'data/hourly_data_modified.txt' # https://opendata.dwd.de/climate_environment/CDC/observations_germany/climate/hourly/air_temperature/historical/\n",
    "\n",
    "data = pd.read_csv(file)"
   ]
  },
  {
   "cell_type": "code",
   "execution_count": null,
   "id": "f5b41df3",
   "metadata": {},
   "outputs": [],
   "source": [
    "print(data.columns)"
   ]
  },
  {
   "cell_type": "code",
   "execution_count": null,
   "id": "cf45e682",
   "metadata": {
    "scrolled": false
   },
   "outputs": [],
   "source": [
    "tempcol = 'TT_TU'\n",
    "timecol = 'seconds'\n",
    "\n",
    "# numyears = 0.009\n",
    "# numyears = 5\n",
    "numyears = 50\n",
    "idxyear = int(24*365 * numyears)\n",
    "\n",
    "xdata = data[timecol][:idxyear]\n",
    "ydata = data[tempcol][:idxyear]\n",
    "\n",
    "plt.figure(figsize=(16, 4))\n",
    "plt.plot(xdata, ydata)\n",
    "plt.xlabel('Date')\n",
    "plt.ylabel('Temperature in C')\n",
    "\n",
    "## Sampling interval\n",
    "# dt = (60*60) # in secs\n",
    "# dt = 1 # in hours\n",
    "dt = 1 / 24 # in days\n",
    "# dt = 1 / (24*365) # in years\n",
    "\n",
    "ft = num.fft.rfft(ydata)\n",
    "\n",
    "amps = abs(ft) * dt\n",
    "phase =  num.angle(ft)\n",
    "freqs = num.fft.rfftfreq(len(ydata), d=dt)\n",
    "\n",
    "from scipy.signal import find_peaks\n",
    "peaks, _ = find_peaks(amps, height=0.1, distance=10000)\n",
    "num.set_printoptions(suppress=True)\n",
    "print('Peak-Frequencies:', freqs[peaks])\n",
    "\n",
    "plt.figure(figsize=(16, 4))\n",
    "plt.plot(freqs, amps)\n",
    "plt.scatter(freqs[peaks], amps[peaks], color='red')\n",
    "plt.xlabel('Frequency in ??')\n",
    "plt.ylabel('Amplitude')\n",
    "plt.yscale('log')\n",
    "plt.xscale('log')\n",
    "# plt.ylim(0, 1e5)\n",
    "plt.show()"
   ]
  }
 ],
 "metadata": {
  "kernelspec": {
   "display_name": "Python 3 (ipykernel)",
   "language": "python",
   "name": "python3"
  },
  "language_info": {
   "codemirror_mode": {
    "name": "ipython",
    "version": 3
   },
   "file_extension": ".py",
   "mimetype": "text/x-python",
   "name": "python",
   "nbconvert_exporter": "python",
   "pygments_lexer": "ipython3",
   "version": "3.8.1"
  }
 },
 "nbformat": 4,
 "nbformat_minor": 5
}
