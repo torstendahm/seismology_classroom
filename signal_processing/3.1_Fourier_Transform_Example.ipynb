{
 "cells": [
  {
   "cell_type": "markdown",
   "id": "4c1e7eb9",
   "metadata": {},
   "source": [
    "# Fourier Transformation\n",
    "### Task:\n",
    "- Load in the dataset: xy\n",
    "- apply a fft\n",
    "- interprete the different peaks\n",
    "\n",
    "Whats done here\n",
    "\n",
    "More Ideas examples or tasks?"
   ]
  }
 ],
 "metadata": {
  "kernelspec": {
   "display_name": "Python 3 (ipykernel)",
   "language": "python",
   "name": "python3"
  },
  "language_info": {
   "codemirror_mode": {
    "name": "ipython",
    "version": 3
   },
   "file_extension": ".py",
   "mimetype": "text/x-python",
   "name": "python",
   "nbconvert_exporter": "python",
   "pygments_lexer": "ipython3",
   "version": "3.8.1"
  }
 },
 "nbformat": 4,
 "nbformat_minor": 5
}
