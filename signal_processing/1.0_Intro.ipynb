{
 "cells": [
  {
   "cell_type": "markdown",
   "id": "c2eab885",
   "metadata": {},
   "source": [
    "# Introduction to Signal Processing\n",
    "\n",
    "In this part we will learn about helpful and important tools for signal processing. The goal is to learn the basic concepts, how to apply them and what possible use-cases exist. \n",
    "\n",
    "In detail we will learn about:\n",
    "- [Regression](2.0_Regression_Introduction.ipynb)\n",
    "- [Fourier](3.0_Fourier_Transform_Introduction.ipynb)\n",
    "- [Filtering](4.0_Filter_Introduction.ipynb)\n",
    "- [Correlation](5.0_Correlation_Introduction.ipynb)\n",
    "\n",
    "## formeln \n",
    "\n",
    "# Topics to do:\n",
    "- think about good examples for each tool"
   ]
  }
 ],
 "metadata": {
  "kernelspec": {
   "display_name": "Python 3 (ipykernel)",
   "language": "python",
   "name": "python3"
  },
  "language_info": {
   "codemirror_mode": {
    "name": "ipython",
    "version": 3
   },
   "file_extension": ".py",
   "mimetype": "text/x-python",
   "name": "python",
   "nbconvert_exporter": "python",
   "pygments_lexer": "ipython3",
   "version": "3.8.1"
  }
 },
 "nbformat": 4,
 "nbformat_minor": 5
}
