{
 "cells": [
  {
   "cell_type": "markdown",
   "id": "ee654204",
   "metadata": {},
   "source": [
    "# Correlation\n",
    "\n",
    "\n",
    "## Introduction\n",
    "\n",
    "In this notebook we will learn how to correlate two variables/signals, and what 'correlation' roughly means. \n",
    "\n",
    "In general, the correlation is used to measure the degree of similarity between two variables or even two signals.\n",
    "\n",
    "The 'classic' linear correlation produces one single coefficient as output, while the cross-correlation produces a whole new signal. The first approach is often used when two signals have e.g a common time axis but are of different origin, while the cross-correlation is used for example when signals display the same signal type, but happen/where recorded on different times.\n",
    "\n",
    "\n",
    "\n",
    "<div class =\"alert alert-warning\">\n",
    "One important aspect beforehand:\n",
    "\n",
    "*Correlation ≠ Causation*\n",
    "\n",
    "Even if two things correlate, that does not directly mean they have a causal relation.\n",
    "</div>\n",
    " \n",
    "\n",
    "Lectures:\n",
    "-  ..\n",
    "\n",
    "\n",
    "## Table of Contents\n",
    "- [Classic Correlation](#Correlation)\n",
    "- [Cross-correlation](#Cross-correlation)\n",
    "- [Autocorrelation](#Autocorrelation)\n",
    "- [Summary](#Summary)\n",
    "\n",
    "\n",
    "\n",
    "<a id='Correlation'></a> \n",
    "# Classic Correlation\n",
    "The 'classic' linear correlation, defined by one coefficient, is often used when two signals have e.g a common time axis but are of different origin.\n",
    "\n",
    "The correlation measures how similar the trend of two variables is, independent of the time.\n",
    "\n",
    "[More to correlation](https://machinelearningmastery.com/how-to-use-correlation-to-understand-the-relationship-between-variables/)"
   ]
  },
  {
   "cell_type": "code",
   "execution_count": null,
   "id": "f0d94a69",
   "metadata": {},
   "outputs": [],
   "source": [
    "import numpy as num\n",
    "import matplotlib.pyplot as plt\n",
    "from scipy import signal\n",
    "import time"
   ]
  },
  {
   "cell_type": "markdown",
   "id": "005842c5",
   "metadata": {},
   "source": [
    "First, as always, creating some synthetic noisy data."
   ]
  },
  {
   "cell_type": "code",
   "execution_count": null,
   "id": "c9f6e35c",
   "metadata": {},
   "outputs": [],
   "source": [
    "# Creating data\n",
    "num.random.seed(0)\n",
    "datlen = 100\n",
    "data1 = num.linspace(-10, 10, datlen) + num.random.normal(0, 2, datlen)\n",
    "data2 = num.linspace(-10, 10, datlen) + num.random.normal(0, 1, datlen)\n",
    "\n",
    "plt.figure()\n",
    "plt.scatter(data1, data2)\n",
    "plt.xlabel('Data 1')\n",
    "plt.ylabel('Data 2')\n",
    "plt.show()"
   ]
  },
  {
   "cell_type": "markdown",
   "id": "7cf18c3f",
   "metadata": {},
   "source": [
    "#### Convariance matrix \n",
    "\n",
    "$\\large Cov(x,y) = \\frac{\\sum_{i=1}^{N}(x_i - \\bar{x}) \\cdot (y_i - \\bar{y})}{N - 1}$ \n",
    "\n",
    "\n",
    "\n",
    "$\\large CovMatrix(x,y) = [ {Cov(x,x)\\atop Cov(y,x)}{Cov(x,y)\\atop Cov(y,y)}] $"
   ]
  },
  {
   "cell_type": "code",
   "execution_count": null,
   "id": "d72e3423",
   "metadata": {},
   "outputs": [],
   "source": [
    "covariance = num.cov(data1, data2)\n",
    "print('Covariance-matrix:\\n', covariance)"
   ]
  },
  {
   "cell_type": "markdown",
   "id": "57317f61",
   "metadata": {},
   "source": [
    "[Covariance](https://en.wikipedia.org/wiki/Covariance) and [Covariance-Matrix](https://en.wikipedia.org/wiki/Covariance_matrix), it gives the 'direction' of correlation but not the intensity. In simpler words, we can use it to find out if the data has a positive or negative relation, but not how strong this connection is.\n",
    "\n",
    "#### Correlation coefficients\n",
    "Correlation is a standardized covariance. This allows now to investigate how strong the correlation is. The correlation coefficient is defined between -1 (anti-correlation) and 1 (correlation). If the coefficient is 0 the variables are not correlated at all. \n",
    "\n",
    "\n",
    "Attention is needed, often some formulas/algorithms require that the data is gaussian-distributed."
   ]
  },
  {
   "cell_type": "code",
   "execution_count": null,
   "id": "376b1669",
   "metadata": {},
   "outputs": [],
   "source": [
    "from scipy.stats import pearsonr, spearmanr\n",
    "\n",
    "# Pearson's correlation coefficient = covariance(X, Y) / (stdv(X) * stdv(Y))\n",
    "# Gaussian or Gaussian-like distribution\n",
    "corr, _ = pearsonr(data1, data2)\n",
    "print('Pearsons correlation coefficient : %.3f' % corr)\n",
    "\n",
    "# Spearman's correlation coefficient = covariance(rank(X), rank(Y)) / (stdv(rank(X)) * stdv(rank(Y)))\n",
    "# non-Gaussian distribution\n",
    "corr, _ = spearmanr(data1, data2)\n",
    "print('Spearmans correlation coefficient: %.3f' % corr)"
   ]
  },
  {
   "cell_type": "markdown",
   "id": "d4e678fc",
   "metadata": {},
   "source": [
    "<div class =\"alert alert-success\">\n",
    "Tasks\n",
    "    \n",
    "- Change sign\n",
    "- Change randomness/increase std\n",
    "</div>\n",
    "\n",
    "### Non-linear correlation \n",
    "It is not so trivial ... ."
   ]
  },
  {
   "cell_type": "markdown",
   "id": "cf43b00d",
   "metadata": {},
   "source": [
    "# Cross Correlation\n",
    "\n",
    "It is possible to include the x-axis, often corresponds to time, information into the correlation. \n",
    "Cross-correlation investigates how similiar two (time)signal are and additional at which (lag/shift) time the correlation is the highest. As a results, instead of a single value we obtain a new 'trace' consisting of \"correlation coefficients\" for different shift/lag times.\n",
    "Often of interest are signals that are not the same.\n",
    "\n",
    "Starting with generating some 'peaky' data."
   ]
  },
  {
   "cell_type": "code",
   "execution_count": null,
   "id": "83513479",
   "metadata": {},
   "outputs": [],
   "source": [
    "# Creating data\n",
    "xdata = num.linspace(0, 100, 15)\n",
    "ydata1 = num.zeros(len(xdata))\n",
    "ydata2 = num.zeros(len(xdata))\n",
    "ydata1[5] = 1\n",
    "ydata1[10] = 1\n",
    "\n",
    "ydata2[5] = 2\n",
    "ydata2[10] = -1\n",
    "\n",
    "plt.figure()\n",
    "plt.plot(xdata, ydata1, label='Signal1')\n",
    "plt.plot(xdata, ydata2, label='Signal2')\n",
    "plt.xlabel('Time [s]')\n",
    "plt.legend()\n",
    "plt.show()"
   ]
  },
  {
   "cell_type": "markdown",
   "id": "5fca34a7",
   "metadata": {},
   "source": [
    "Now we use the [correlate](https://docs.scipy.org/doc/scipy/reference/generated/scipy.signal.correlate.html) function. What we get is a new time-series. For getting the correct time shift values, we can use the [correlation_lags](https://docs.scipy.org/doc/scipy/reference/generated/scipy.signal.correlation_lags.html#scipy.signal.correlation_lags) function."
   ]
  },
  {
   "cell_type": "code",
   "execution_count": null,
   "id": "38f2b1b6",
   "metadata": {},
   "outputs": [],
   "source": [
    "corr = signal.correlate(ydata1, ydata2)\n",
    "lags = signal.correlation_lags(len(ydata1), len(ydata2))\n",
    "\n",
    "plt.figure()\n",
    "plt.plot(lags, corr)\n",
    "plt.xlabel('Lag-Time [s]')\n",
    "plt.show()"
   ]
  },
  {
   "cell_type": "markdown",
   "id": "0e07430e",
   "metadata": {},
   "source": [
    "To understand this maybe a bit better, there is a simple, custom-made function that hopefully visualize the cross-correlation better. "
   ]
  },
  {
   "cell_type": "code",
   "execution_count": null,
   "id": "9f4b71db",
   "metadata": {},
   "outputs": [],
   "source": [
    "import matplotlib.pyplot as plt\n",
    "from IPython.display import display, clear_output\n",
    "\n",
    "def signal_correlation_animation(sig1, sig2, pausetime=0.):\n",
    "    ## might be a small WARNING bug\n",
    "    \n",
    "    if len(sig2) > len(sig1):\n",
    "        sig2_alt = sig2\n",
    "        sig1_alt = sig1\n",
    "    \n",
    "        sig2 = sig1_alt\n",
    "        sig1 = sig2_alt\n",
    "        \n",
    "    x1 = num.arange(len(sig1))\n",
    "    x2 = num.arange(len(sig2))\n",
    "    \n",
    "    fig, axs = plt.subplots(2,1, figsize=(16,9))\n",
    "    ax1 = axs[0]\n",
    "    ax2 = axs[1]\n",
    "     \n",
    "    corr = signal.correlate(sig1, sig2)\n",
    "    lags = signal.correlation_lags(len(sig1), len(sig2))\n",
    "     \n",
    "    crosscorr = [0]\n",
    "    for ii in range(len(sig1) + len(sig2)):\n",
    "        if ii == 0:\n",
    "            continue\n",
    "        \n",
    "        if ii <= len(sig1):\n",
    "            idxx = (ii - len(sig2))\n",
    "            if idxx < 0:\n",
    "                idxx = 0\n",
    "            x = sig1[idxx: ii]\n",
    "        else:\n",
    "            xx = ii - len(sig1)\n",
    "            x = sig1[xx + abs(len(sig1) - len(sig2)): ]\n",
    "        \n",
    "        if ii <= len(sig2):\n",
    "            idxy = -ii + len(sig1)\n",
    "            if idxy >= 0:\n",
    "                idxy = None\n",
    "            y = sig2[-ii: idxy]\n",
    "        else:\n",
    "            yy = ii - len(sig2)\n",
    "            idxyy = len(sig1) -yy\n",
    "            if idxyy > len(sig2):\n",
    "                idxyy = None\n",
    "            y = sig2[:idxyy]\n",
    "        \n",
    "        crosscorr.append(num.sum(x * y))\n",
    "        \n",
    "        ax1.cla()\n",
    "        ax1.plot(lags, corr, color='orange', alpha=0.5, zorder=-2)\n",
    "        ax1.scatter(num.arange(len(crosscorr)) - len(sig2), crosscorr, c='blue')\n",
    "        ax1.set_xlabel('Lag-Time [s]')\n",
    "        \n",
    "        ax2.cla()\n",
    "        ax2.plot(x1 + len(sig2) - ii, sig1)\n",
    "        ax2.plot(x2, sig2)\n",
    "        ax2.set_xlim(-len(sig1), len(sig1) + len(sig2))\n",
    "        ax2.set_xlabel('Time [s]')\n",
    "\n",
    "        display(fig)\n",
    "        \n",
    "        if pausetime >= 0.01:\n",
    "            plt.pause(pausetime)\n",
    "        \n",
    "        if ii + 1 == len(sig1) + len(sig2):\n",
    "            clear_output(wait=False)\n",
    "        else:\n",
    "            clear_output(wait=True)\n",
    "    \n",
    "    return"
   ]
  },
  {
   "cell_type": "markdown",
   "id": "4d402e08",
   "metadata": {},
   "source": [
    "Run this same example with the new function:"
   ]
  },
  {
   "cell_type": "code",
   "execution_count": null,
   "id": "e47546fe",
   "metadata": {},
   "outputs": [],
   "source": [
    "signal_correlation_animation(ydata1, ydata2, pausetime=0.1)"
   ]
  },
  {
   "cell_type": "markdown",
   "id": "f27c7832",
   "metadata": {},
   "source": [
    "Doing it with sinus and cosine."
   ]
  },
  {
   "cell_type": "code",
   "execution_count": null,
   "id": "ab5d41a1",
   "metadata": {},
   "outputs": [],
   "source": [
    "df = 10\n",
    "xdata = num.arange(num.pi * df) / df\n",
    "ysin = num.sin(2*num.pi*xdata * 1/ num.pi)\n",
    "ycos = num.cos(2*num.pi*xdata * 1/ num.pi)\n",
    "\n",
    "plt.figure()\n",
    "plt.plot(xdata, ysin, label='sin')\n",
    "plt.plot(xdata, ycos, label='cos')\n",
    "plt.legend()\n",
    "plt.grid()\n",
    "\n",
    "corr = signal.correlate(ysin, ycos)\n",
    "lags = signal.correlation_lags(len(ysin), len(ycos))\n",
    "\n",
    "plt.figure()\n",
    "plt.plot(lags / df, corr)\n",
    "plt.grid()\n",
    "plt.show()\n",
    "\n",
    "# signal_correlation_animation(ysin, ycos, pausetime=0.001)"
   ]
  },
  {
   "cell_type": "markdown",
   "id": "4c32a3c7",
   "metadata": {},
   "source": [
    "<div class =\"alert alert-success\">\n",
    "Tasks\n",
    "    \n",
    "- test several different signals\n",
    "- different time length\n",
    "</div>\n",
    "\n",
    "\n",
    "\n",
    "It is possible that a smaller signal should be correlated against a longer one. For the correlation the two signals doesn't need to have the same length. But, they need the same sampling frequency (interval). \n",
    "\n",
    "Maybe a more 'realistic' example. We have a longer time-series that represent our noise data. Now, we want to test if this signal contains a certain reference signal and where. Here, we try to 'hide' our signal in noise, to see if we can find the time "
   ]
  },
  {
   "cell_type": "code",
   "execution_count": null,
   "id": "9ff36d42",
   "metadata": {},
   "outputs": [],
   "source": [
    "# With noise\n",
    "\n",
    "xdata = num.linspace(0, 100, 100)\n",
    "ysin = num.sin(2*num.pi*xdata)\n",
    "#ycos = num.cos(2*num.pi*xdata)\n",
    "\n",
    "xdata2 = num.linspace(0, 1000, 1000)\n",
    "ydata = num.zeros(len(xdata2))\n",
    "ydata[200:200 + len(ysin)] = ysin\n",
    "ydata[700:700 + len(ysin)] = -ysin\n",
    "ydata += num.random.normal(0, 0.99, len(xdata2))\n",
    "\n",
    "plt.figure()\n",
    "plt.plot(xdata2, ydata, label='Signal')\n",
    "plt.plot(xdata, ysin, label='sin')\n",
    "plt.legend()\n",
    "plt.grid()\n",
    "plt.show()\n",
    "\n",
    "corr = signal.correlate(ysin, ydata)\n",
    "lags = signal.correlation_lags(len(ysin), len(ydata))\n",
    "\n",
    "plt.figure()\n",
    "plt.plot(lags, corr)\n",
    "plt.grid()\n",
    "plt.show()\n",
    "\n",
    "# signal_correlation_animation(ysin, ydata, pausetime=0.001)"
   ]
  },
  {
   "cell_type": "markdown",
   "id": "c182b7de",
   "metadata": {},
   "source": [
    "<a id='Autocorrelation'></a> \n",
    "## Autocorrelation\n",
    "If the signal is cross-correlate with itself, it is called Autocorrelation. Therefore, it is a special case of the cross-correlation.\n",
    "\n",
    "Starting with a simple two pulse signal."
   ]
  },
  {
   "cell_type": "code",
   "execution_count": null,
   "id": "92d43aac",
   "metadata": {},
   "outputs": [],
   "source": [
    "# Creating data\n",
    "xdata = num.linspace(0, 100, 30)\n",
    "ydata = num.zeros(len(xdata))\n",
    "ydata[10] = 1\n",
    "ydata[20] = -1\n",
    "# ydata[15] = 1\n",
    "# ydata[5] = 1\n",
    "\n",
    "plt.figure()\n",
    "plt.plot(xdata, ydata)\n",
    "plt.xlabel('Time [s]')\n",
    "\n",
    "\n",
    "# Autocorrelation\n",
    "\n",
    "corr = signal.correlate(ydata, ydata)\n",
    "lags = signal.correlation_lags(len(ydata), len(ydata))\n",
    "\n",
    "plt.figure()\n",
    "plt.plot(lags, corr)\n",
    "plt.xlabel('Lag-Time [s]')\n",
    "plt.show()\n",
    "\n",
    "# signal_correlation_animation(ydata, ydata, pausetime=0.2)"
   ]
  },
  {
   "cell_type": "markdown",
   "id": "d674f3a1",
   "metadata": {},
   "source": [
    "At lag-time 0 there is always the highest peaks and, as expected, two further side peaks. "
   ]
  },
  {
   "cell_type": "markdown",
   "id": "4ae08aa7",
   "metadata": {},
   "source": [
    "\n",
    "<div class =\"alert alert-success\">\n",
    "Tasks\n",
    "\n",
    "- Correlate random noise\n",
    "- different data signals \n",
    "</div>\n"
   ]
  },
  {
   "cell_type": "markdown",
   "id": "070757ab",
   "metadata": {},
   "source": [
    "<a id='Summary'></a> \n",
    "# Summary\n",
    "\n",
    "We have learned\n",
    "- two variable can be tested if the correlate with Pearsons correlation (Gaussian distributions) or the Spearman's correlation (non-Gaussian distribution).\n",
    "- how to compare two (time) signals. Those can be tested on correlation with the Auto- (if its twice the same signal) or Cross-correlation. Besides the maximum value also the side-peaks can be of interest and therefore their lag time."
   ]
  }
 ],
 "metadata": {
  "kernelspec": {
   "display_name": "Python 3",
   "language": "python",
   "name": "python3"
  },
  "language_info": {
   "codemirror_mode": {
    "name": "ipython",
    "version": 3
   },
   "file_extension": ".py",
   "mimetype": "text/x-python",
   "name": "python",
   "nbconvert_exporter": "python",
   "pygments_lexer": "ipython3",
   "version": "3.6.9"
  }
 },
 "nbformat": 4,
 "nbformat_minor": 5
}
