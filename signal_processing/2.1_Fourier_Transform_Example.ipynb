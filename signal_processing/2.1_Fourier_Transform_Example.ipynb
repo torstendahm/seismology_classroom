{
 "cells": [
  {
   "cell_type": "markdown",
   "id": "4c1e7eb9",
   "metadata": {},
   "source": [
    "# Fourier Transformation Examples\n",
    "\n",
    "<div class =\"alert alert-success\">\n",
    "Task 1\n",
    "    \n",
    "Load the dataset 'data/ft_example1.txt'. This dataset is from https://opendata.dwd.de/climate_environment/CDC/observations_germany/climate/hourly/air_temperature/historical/ and contains the hourly air temperature data for one specific location. The column 'seconds' was already prepared (based on other time-related columns). The relevant data is stored in the 'TT_TU' column. \n",
    "\n",
    "    \n",
    "Do the Fourier Transform. \n",
    "And try to interprete as many peaks as possible.\n",
    "\n",
    "    \n",
    "Hint: be aware of the sampling frequency, the unit and thus the interpretation of corresponding frequencies after the FT.\n",
    "</div>"
   ]
  }
 ],
 "metadata": {
  "kernelspec": {
   "display_name": "Python 3",
   "language": "python",
   "name": "python3"
  },
  "language_info": {
   "codemirror_mode": {
    "name": "ipython",
    "version": 3
   },
   "file_extension": ".py",
   "mimetype": "text/x-python",
   "name": "python",
   "nbconvert_exporter": "python",
   "pygments_lexer": "ipython3",
   "version": "3.6.9"
  }
 },
 "nbformat": 4,
 "nbformat_minor": 5
}
