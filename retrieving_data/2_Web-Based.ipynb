{
 "cells": [
  {
   "cell_type": "markdown",
   "id": "ad9fb5ff",
   "metadata": {},
   "source": [
    "# Web-based\n",
    "Fortunately, nowadays data can be 'easily' accessed through the internet. Here, we will show a selection of available websites that allow you to request and download specific data by browsing their database/catalogs. This can require somehow a lot of manual work.  \n",
    "\n",
    "\n",
    "For the majority of applications you want event specific waveform data. The first step is to find out the event parameters: origin time and (hypo)location. The next step, depending on your purpose, is selection of stations that may have recorded the event. The last step is requesting and downloading the corresponding waveform data. After that,  you are ready for processing, analysis etc. \n",
    "\n",
    "### Tabel of content:\n",
    "- [Websites](#Websites)\n",
    "- [FDSN-WS](#FDSN)\n",
    "- [Summary](#Summary)\n"
   ]
  },
  {
   "cell_type": "markdown",
   "id": "8fa35993",
   "metadata": {},
   "source": [
    "<a id='Websites'></a>\n",
    "# Websites\n",
    "There are a lot of agencies, data center etc. that provide seismological relevant data. A few provide waveform, station and event information (altogether), while others are dedicated for specific data. Some websites might be more user-friendly than others.\n",
    "\n",
    "### Event data\n",
    "There are several sites that provide information about events that have occured. Often they provide additional information like source mechanisms, if available. Usually national services provide those information but also international ones. Of importance is, that not every service/agency lists or records all events. Often, different agencies provide (little) different solutions for the same event.\n",
    "\n",
    "The most important agencies purely for event relevant data:\n",
    "- [EMSC](https://www.emsc-csem.org/#2)\n",
    "- [ISC](http://www.isc.ac.uk/)\n",
    "- [USGS](https://earthquake.usgs.gov/earthquakes/search/)\n",
    "\n",
    "For germany also relevant:\n",
    "- [GFZ-Geofon](https://geofon.gfz-potsdam.de/)\n",
    "\n",
    "#### Volcanoes\n",
    "For Volcanoes there are similar sites, e.g.:\n",
    "[Smithsonian Institution](https://volcano.si.edu/)\n",
    "\n",
    "\n",
    "### Waveform and Station data\n",
    "Agencies that operate and maintain seismic stations often provide the waveform data as well as all information about their stations. This list can be quite long, therefore only a selection:\n",
    "\n",
    "- [BGR](http://eida.bgr.de/)\n",
    "- [GFZ-Geofon](https://geofon.gfz-potsdam.de/)\n",
    "- [INGV](http://webservices.ingv.it/)\n",
    "- [ORFEUS with EIDA](http://www.orfeus-eu.org/data/eida/)\n",
    "- ...\n",
    "\n",
    "##### Strong Motion Data\n",
    "There are dedicated websites that provide strong-motion data, e.g.:\n",
    "- [ESM](https://esm-db.eu/#/home)\n",
    "- [CESMD](https://www.strongmotioncenter.org/)\n",
    "- [Bosai/Japan](https://www.kyoshin.bosai.go.jp/)\n",
    "\n",
    "### Complete information\n",
    "As you may have already observed, there are wbesites that provided all data types. Often agencies with their own networks, e.g.:\n",
    "- [GFZ-Geofon](https://geofon.gfz-potsdam.de/)\n",
    "- [IRIS](https://www.iris.edu/hq/)\n",
    "- [SCEDC](http://scedc.caltech.edu/)\n",
    "- ...\n",
    "\n",
    "\n",
    "<div class=\"alert alert-success\"> \n",
    "Get waveform data for one station of your choice for the *M 7.1 - 2019 Ridgecrest* Earthquake.    \n",
    "</div>\n",
    "\n"
   ]
  },
  {
   "cell_type": "markdown",
   "id": "3ad57d5f",
   "metadata": {},
   "source": [
    "<a id='FDSN'></a>\n",
    "# FDSN-WS\n",
    "[*Federation of Digital Seismograph Networks - Web Services*](https://www.fdsn.org/webservices/)\n",
    "\n",
    "An easier and more user-friedlier way of requesting seismological data is by using FDSN-WS. The FDSN webservices try\n",
    "to create a consistent and standardized scheme to make data available. In short, the user creates an URL that is used to request the data. \n",
    "\n",
    "Here is a list of [datacenters](https://www.fdsn.org/webservices/datacenters/) that provided their data via FDSN-WS, similiar to the ones mentioned above.\n",
    "\n",
    "There are different products that can be requested. (Clicking on one of those links reveals its detailed documentation.)  \n",
    "- [dataselect](https://www.fdsn.org/webservices/fdsnws-dataselect-1.1.pdf) - for waveform data\n",
    "- [station](https://www.fdsn.org/webservices/fdsnws-station-1.1.pdf) - for station meta data\n",
    "    - note: the parameter *level*\n",
    "- [event](https://www.fdsn.org/webservices/fdsnws-event-1.2.pdf) - for event catalogs\n",
    "- [availability](https://www.fdsn.org/webservices/fdsnws-availability-1.0.pdf) - checks if time series data availability\n",
    "\n",
    "There is the *builder* that allows you to build you URL, and provides the link for the data download. Clicking this link starts the download.\n",
    "\n",
    "e.g. GFZ - http://geofon.gfz-potsdam.de/fdsnws/dataselect/1/builder\n",
    "\n",
    "**Besides the builder, once you understand the syntax and the options you can easily build your own URLs and request the data.**\n",
    "\n",
    "\n",
    "### Command line\n",
    "Maybe, a more convenient way of downloading the URL is by using 'wget' (on linux).\n",
    "\n",
    "wget *URL*"
   ]
  },
  {
   "cell_type": "code",
   "execution_count": null,
   "id": "8289413b",
   "metadata": {},
   "outputs": [],
   "source": [
    "!wget --help"
   ]
  },
  {
   "cell_type": "markdown",
   "id": "ca337c98",
   "metadata": {},
   "source": [
    "\n",
    "<div class=\"alert alert-success\"> \n",
    "\n",
    "    \n",
    "Get select waveform data for a different station of your choice for the *M 7.1 - 2019 Ridgecrest* Earthquake but now via FDSN-WS and wget.    \n",
    "</div>\n",
    "\n"
   ]
  },
  {
   "cell_type": "markdown",
   "id": "611b8135",
   "metadata": {},
   "source": [
    "<a id='Summary'></a>\n",
    "# Summary\n",
    "\n",
    "In this notebook we learned:\n",
    "- where and how to request and download data\n",
    "- important websites that provide waveform, station and event data\n",
    "- an introduction into the user-friedly scheme of FDSN-WS"
   ]
  }
 ],
 "metadata": {
  "kernelspec": {
   "display_name": "Python 3",
   "language": "python",
   "name": "python3"
  },
  "language_info": {
   "codemirror_mode": {
    "name": "ipython",
    "version": 3
   },
   "file_extension": ".py",
   "mimetype": "text/x-python",
   "name": "python",
   "nbconvert_exporter": "python",
   "pygments_lexer": "ipython3",
   "version": "3.6.9"
  }
 },
 "nbformat": 4,
 "nbformat_minor": 5
}
