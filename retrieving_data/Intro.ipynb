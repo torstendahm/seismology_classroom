{
 "cells": [
  {
   "cell_type": "markdown",
   "id": "d6868b8e",
   "metadata": {},
   "source": [
    "# Introduction"
   ]
  },
  {
   "cell_type": "markdown",
   "id": "376ae94b",
   "metadata": {},
   "source": [
    "What is done"
   ]
  },
  {
   "cell_type": "markdown",
   "id": "f565c18a",
   "metadata": {},
   "source": [
    "# Web-based \n",
    "## Orfeus - Eida\n",
    "\n",
    "http://www.orfeus-eu.org/data/eida/\n",
    "http://orfeus-eu.org/webdc3/\n",
    "\n",
    "## GFZ\n",
    "https://geofon.gfz-potsdam.de/\n",
    "\n",
    "## FDSNWS\n",
    "https://www.fdsn.org/webservices/\n",
    "https://www.fdsn.org/webservices/datacenters/\n",
    "\n",
    "e.g. GFZ\n",
    "http://geofon.gfz-potsdam.de/fdsnws/dataselect/1/builder"
   ]
  },
  {
   "cell_type": "markdown",
   "id": "9f95de04",
   "metadata": {},
   "source": [
    "# Command line\n",
    "\n",
    "wget ..."
   ]
  }
 ],
 "metadata": {
  "kernelspec": {
   "display_name": "Python 3 (ipykernel)",
   "language": "python",
   "name": "python3"
  },
  "language_info": {
   "codemirror_mode": {
    "name": "ipython",
    "version": 3
   },
   "file_extension": ".py",
   "mimetype": "text/x-python",
   "name": "python",
   "nbconvert_exporter": "python",
   "pygments_lexer": "ipython3",
   "version": "3.8.1"
  }
 },
 "nbformat": 4,
 "nbformat_minor": 5
}
