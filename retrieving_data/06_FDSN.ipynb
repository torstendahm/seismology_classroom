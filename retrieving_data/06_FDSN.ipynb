{
 "cells": [
  {
   "cell_type": "markdown",
   "metadata": {},
   "source": [
    "<div style='background-image: url(\"../share/images/header.svg\") ; padding: 0px ; background-size: cover ; border-radius: 5px ; height: 250px'>\n",
    "    <div style=\"float: right ; margin: 50px ; padding: 20px ; background: rgba(255 , 255 , 255 , 0.7) ; width: 50% ; height: 150px\">\n",
    "        <div style=\"position: relative ; top: 50% ; transform: translatey(-50%)\">\n",
    "            <div style=\"font-size: xx-large ; font-weight: 900 ; color: rgba(0 , 0 , 0 , 0.8) ; line-height: 100%\">ObsPy Tutorial</div>\n",
    "            <div style=\"font-size: large ; padding-top: 20px ; color: rgba(0 , 0 , 0 , 0.5)\">Downloading Data</div>\n",
    "        </div>\n",
    "    </div>\n",
    "</div>"
   ]
  },
  {
   "cell_type": "markdown",
   "metadata": {},
   "source": [
    "Seismo-Live: http://seismo-live.org\n",
    "\n",
    "##### Authors:\n",
    "* Lion Krischer ([@krischer](https://github.com/krischer))\n",
    "* Tobias Megies ([@megies](https://github.com/megies))\n",
    "---"
   ]
  },
  {
   "cell_type": "markdown",
   "metadata": {},
   "source": [
    "![](images/obspy_logo_full_524x179px.png)"
   ]
  },
  {
   "cell_type": "code",
   "execution_count": null,
   "metadata": {},
   "outputs": [],
   "source": [
    "%matplotlib inline\n",
    "import matplotlib.pyplot as plt\n",
    "plt.style.use('ggplot')\n",
    "plt.rcParams['figure.figsize'] = 12, 8"
   ]
  },
  {
   "cell_type": "markdown",
   "metadata": {},
   "source": [
    "ObsPy has clients to directly fetch data via...\n",
    "\n",
    "- FDSN webservices (IRIS, Geofon/GFZ, USGS, NCEDC, SeisComp3 instances, ...)\n",
    "- ArcLink (EIDA, ...)\n",
    "- Earthworm\n",
    "- SeedLink (near-realtime servers)\n",
    "- NERIES/NERA/seismicportal.eu\n",
    "- NEIC\n",
    "- SeisHub (local seismological database)\n",
    "\n",
    "This introduction shows how to use the FDSN webservice client. The FDSN webservice definition is by now the default web service implemented by many data centers world wide. Clients for other protocols work similar to the FDSN client.\n",
    "\n",
    "#### Waveform Data"
   ]
  },
  {
   "cell_type": "code",
   "execution_count": null,
   "metadata": {},
   "outputs": [],
   "source": [
    "from obspy import UTCDateTime\n",
    "from obspy.clients.fdsn import Client\n",
    "\n",
    "client = Client(\"IRIS\")\n",
    "t = UTCDateTime(\"2011-03-11T05:46:23\")  # Tohoku\n",
    "st = client.get_waveforms(\"II\", \"PFO\", \"*\", \"LHZ\",\n",
    "                          t + 10 * 60, t + 30 * 60)\n",
    "print(st)\n",
    "st.plot()"
   ]
  },
  {
   "cell_type": "markdown",
   "metadata": {},
   "source": [
    "- again, waveform data is returned as a Stream object\n",
    "- for all custom processing workflows it does not matter if the data originates from a local file or from a web service\n",
    "\n",
    "#### Event Metadata\n",
    "\n",
    "The FDSN client can also be used to request event metadata:"
   ]
  },
  {
   "cell_type": "code",
   "execution_count": null,
   "metadata": {},
   "outputs": [],
   "source": [
    "t = UTCDateTime(\"2011-03-11T05:46:23\")  # Tohoku\n",
    "catalog = client.get_events(starttime=t - 100, endtime=t + 24 * 3600,\n",
    "                            minmagnitude=7)\n",
    "print(catalog)\n",
    "catalog.plot();"
   ]
  },
  {
   "cell_type": "markdown",
   "metadata": {},
   "source": [
    "Requests can have a wide range of constraints (see [ObsPy Documentation](http://docs.obspy.org/packages/autogen/obspy.fdsn.client.Client.get_events.html)):\n",
    "\n",
    "- time range\n",
    "- geographical (lonlat-box, circular by distance)\n",
    "- depth range\n",
    "- magnitude range, type\n",
    "- contributing agency"
   ]
  },
  {
   "cell_type": "markdown",
   "metadata": {},
   "source": [
    "#### Station Metadata\n",
    "\n",
    "Finally, the FDSN client can be used to request station metadata. Stations can be looked up using a wide range of constraints (see [ObsPy documentation](http://docs.obspy.org/packages/autogen/obspy.fdsn.client.Client.get_stations.html)):\n",
    "\n",
    " * network/station code\n",
    " * time range of operation\n",
    " * geographical (lonlat-box, circular by distance)"
   ]
  },
  {
   "cell_type": "code",
   "execution_count": null,
   "metadata": {},
   "outputs": [],
   "source": [
    "event = catalog[0]\n",
    "origin = event.origins[0]\n",
    "\n",
    "# Münster\n",
    "lon = 7.63\n",
    "lat = 51.96\n",
    "\n",
    "inventory = client.get_stations(longitude=lon, latitude=lat,\n",
    "                                maxradius=2.5, level=\"station\")\n",
    "print(inventory)"
   ]
  },
  {
   "cell_type": "markdown",
   "metadata": {},
   "source": [
    "The **`level=...`** keyword is used to specify the level of detail in the requested inventory\n",
    "\n",
    "- `\"network\"`: only return information on networks matching the criteria\n",
    "- `\"station\"`: return information on all matching stations\n",
    "- `\"channel\"`: return information on available channels in all stations networks matching the criteria\n",
    "- `\"response\"`: include instrument response for all matching channels (large result data size!)"
   ]
  },
  {
   "cell_type": "code",
   "execution_count": null,
   "metadata": {},
   "outputs": [],
   "source": [
    "inventory = client.get_stations(network=\"OE\", station=\"DAVA\",\n",
    "                                level=\"station\")\n",
    "print(inventory)"
   ]
  },
  {
   "cell_type": "code",
   "execution_count": null,
   "metadata": {},
   "outputs": [],
   "source": [
    "inventory = client.get_stations(network=\"OE\", station=\"DAVA\",\n",
    "                                level=\"channel\")\n",
    "print(inventory)"
   ]
  },
  {
   "cell_type": "markdown",
   "metadata": {},
   "source": [
    "For waveform requests that include instrument correction, the appropriate instrument response information can be attached to waveforms automatically:     \n",
    "(Of course, for work on large datasets, the better choice is to download all station information and avoid the internal repeated webservice requests)"
   ]
  },
  {
   "cell_type": "code",
   "execution_count": null,
   "metadata": {},
   "outputs": [],
   "source": [
    "t = UTCDateTime(\"2011-03-11T05:46:23\")  # Tohoku\n",
    "st = client.get_waveforms(\"II\", \"PFO\", \"*\", \"LHZ\",\n",
    "                          t + 10 * 60, t + 30 * 60, attach_response=True)\n",
    "st.plot()\n",
    "\n",
    "st.remove_response()\n",
    "st.plot()"
   ]
  },
  {
   "cell_type": "markdown",
   "metadata": {},
   "source": [
    "All data requested using the FDSN client can be directly saved to file using the **`filename=\"...\"`** option. The data is then stored exactly as it is served by the data center, i.e. without first parsing by ObsPy and outputting by ObsPy."
   ]
  },
  {
   "cell_type": "code",
   "execution_count": null,
   "metadata": {},
   "outputs": [],
   "source": [
    "client.get_events(starttime=t-100, endtime=t+24*3600, minmagnitude=7,\n",
    "                  filename=\"/tmp/requested_events.xml\")\n",
    "client.get_stations(network=\"OE\", station=\"DAVA\", level=\"station\",\n",
    "                    filename=\"/tmp/requested_stations.xml\")\n",
    "client.get_waveforms(\"II\", \"PFO\", \"*\", \"LHZ\", t + 10 * 60, t + 30 * 60,\n",
    "                     filename=\"/tmp/requested_waveforms.mseed\")\n",
    "!ls -lrt /tmp/requested*"
   ]
  },
  {
   "cell_type": "markdown",
   "metadata": {},
   "source": [
    "#### FDSN Client Exercise\n",
    "\n",
    "Use the FDSN client to assemble a waveform dataset for on event.\n",
    "\n",
    "- search for a large earthquake (e.g. by depth or in a region of your choice, use option **`limit=5`** to keep network traffic down)"
   ]
  },
  {
   "cell_type": "code",
   "execution_count": null,
   "metadata": {
    "lines_to_next_cell": 2,
    "tags": [
     "exercise"
    ]
   },
   "outputs": [],
   "source": []
  },
  {
   "cell_type": "code",
   "execution_count": null,
   "metadata": {
    "tags": [
     "solution"
    ]
   },
   "outputs": [],
   "source": []
  },
  {
   "cell_type": "markdown",
   "metadata": {},
   "source": [
    "- search for stations to look at waveforms for the event. stations should..\n",
    "    * be available at the time of the event\n",
    "    * have a vertical 1 Hz stream (\"LHZ\", to not overpower our network..)\n",
    "    * be in a narrow angular distance around the event (e.g. 90-91 degrees)\n",
    "    * adjust your search so that only a small number of stations (e.g. 3-6) match your search criteria"
   ]
  },
  {
   "cell_type": "code",
   "execution_count": null,
   "metadata": {
    "lines_to_next_cell": 2,
    "tags": [
     "exercise"
    ]
   },
   "outputs": [],
   "source": []
  },
  {
   "cell_type": "code",
   "execution_count": null,
   "metadata": {
    "tags": [
     "solution"
    ]
   },
   "outputs": [],
   "source": []
  },
  {
   "cell_type": "markdown",
   "metadata": {},
   "source": [
    "- for each of these stations download data of the event, e.g. a couple of minutes before to half an hour after the event\n",
    "- put all data together in one stream (put the `get_waveforms()` call in a try/except/pass block to silently skip stations that actually have no data available)\n",
    "- print stream info, plot the raw data"
   ]
  },
  {
   "cell_type": "code",
   "execution_count": null,
   "metadata": {
    "lines_to_next_cell": 2,
    "tags": [
     "exercise"
    ]
   },
   "outputs": [],
   "source": []
  },
  {
   "cell_type": "code",
   "execution_count": null,
   "metadata": {
    "tags": [
     "solution"
    ]
   },
   "outputs": [],
   "source": []
  },
  {
   "cell_type": "markdown",
   "metadata": {},
   "source": [
    "- correct the instrument response for all stations and plot the corrected data"
   ]
  },
  {
   "cell_type": "code",
   "execution_count": null,
   "metadata": {
    "lines_to_next_cell": 2,
    "tags": [
     "exercise"
    ]
   },
   "outputs": [],
   "source": []
  },
  {
   "cell_type": "code",
   "execution_count": null,
   "metadata": {
    "tags": [
     "solution"
    ]
   },
   "outputs": [],
   "source": []
  },
  {
   "cell_type": "markdown",
   "metadata": {},
   "source": [
    "If you have time, assemble and plot another similar dataset (e.g. like before stations at a certain distance from a big event, or use Transportable Array data for a big event, etc.)"
   ]
  }
 ],
 "metadata": {
  "jupytext": {
   "encoding": "# -*- coding: utf-8 -*-"
  },
  "kernelspec": {
   "display_name": "Python 3 (ipykernel)",
   "language": "python",
   "name": "python3"
  },
  "language_info": {
   "codemirror_mode": {
    "name": "ipython",
    "version": 3
   },
   "file_extension": ".py",
   "mimetype": "text/x-python",
   "name": "python",
   "nbconvert_exporter": "python",
   "pygments_lexer": "ipython3",
   "version": "3.7.13"
  }
 },
 "nbformat": 4,
 "nbformat_minor": 4
}
