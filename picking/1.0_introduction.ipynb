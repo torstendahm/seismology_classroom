{
 "cells": [
  {
   "cell_type": "markdown",
   "metadata": {},
   "source": [
    "# Introduction to picking of seismic phases:\n",
    "\n",
    "In module 3 - the introduction to different seismological toolboxes - we had a glimpse at a seismic signal recorded after the 2020 M<sub>w</sub> 7.0 Samos earthquake: <img src='img/GE_KTHA_raw_20201030.svg'>"
   ]
  },
  {
   "cell_type": "markdown",
   "metadata": {},
   "source": [
    "When looking at this waveform signal, different sections of the record with different characteristics appear. Some parts of the waveform are small in **amplitude**, but arrive **early** (at ca. `11:52:30`), others have larger amplitudes as the signals recorded from `11:53:00` to `11:54:30`. There are also sections with a significant higher **frequency** content.\n",
    "\n",
    "This different parts of the waveform records are called **seismic phases**. Let's have a brief recap on the most common ones:\n",
    "\n",
    "## P wave - Compressional wave\n",
    "\n",
    "The P wave is the first wave to arrive at seismic stations, as they travel faster than other seismic phases. They are so called **compressional** waves, characterized by compression and dilatation of the ground in direction of the wave propagation (see gif below). Opposing shear waves (see next section) P waves are able to travel through liquids. P and S waves are the two body wave types seismologist refer to.\n",
    "\n",
    "<figure style=\"width: 30%; text-align: left; display: block\">\n",
    "    <img src='https://upload.wikimedia.org/wikipedia/commons/6/62/Onde_compression_impulsion_1d_30_petit.gif'>\n",
    "    <caption>Particle motion of a P wave (compressional wave). Courtasy to wikimedia.org.</caption>\n",
    "</figure>\n",
    "\n",
    "\n",
    "## S wave - Shear wave\n",
    "\n",
    "The shear waves, so called S waves are the second group of body waves. As their name suggests, their particle motion shows shearing in a plane perpendicular to the direction of wave propagation (see gif below). S waves arrive later than P waves.\n",
    "As liquids can not be sheared, S waves can not travel through them. Hence, as it is liquid, no S waves travel through the outer core of the earth. With other words the S wave velocity is zero there (as shown in the image below).\n",
    "\n",
    "<figure style=\"width: 30%; text-align: left; display: block\">\n",
    "    <img src='https://upload.wikimedia.org/wikipedia/commons/6/6d/Onde_cisaillement_impulsion_1d_30_petit.gif'>\n",
    "    <caption>Particle motion of a S wave (shear wave). Courtasy to wikimedia.org.</caption>\n",
    "</figure>\n",
    "\n",
    "<figure style=\"width: 30%; text-align: left; display: block\">\n",
    "    <img src='https://upload.wikimedia.org/wikipedia/commons/b/be/Speeds_of_seismic_waves.PNG'>\n",
    "    <caption>Depth dependend velocities of P and S waves. Courtasy to wikimedia.org.</caption>\n",
    "</figure>\n",
    "\n",
    "\n",
    "## Love waves\n",
    "\n",
    "Love waves belong to the group of surface waves, which are generated at the free surface of the earth. Love waves show a purely horizontal particle motion perpendicular to the wave propagation direction (image below), which decreases with increasing depth.\n",
    "Shallow earthquakes generate Love and Rayleigh waves (see next section) with large amplitudes, while deep events are characterized by very little recorded surface wave energy.\n",
    "\n",
    "<figure style=\"width: 50%; text-align: left; display: block\">\n",
    "    <img src='https://upload.wikimedia.org/wikipedia/commons/2/29/Love_wave.svg'>\n",
    "    <caption>Particle motion of a Love wave. Courtasy to wikimedia.org.</caption>\n",
    "</figure>\n",
    "\n",
    "## Rayleigh waves\n",
    "\n",
    "Rayleigh waves are the second major surface waves. They arrive later than the Love waves and show a more complicated particle motion pattern (image below). Particles at the surface show a circular motion in the plane of the wave propagation and the vertical. Rayleigh waves signals are similar on both of these components, but show a phase shift of 90 degrees between them. \n",
    "\n",
    "<figure style=\"width: 50%; text-align: left; display: block\">\n",
    "    <img src='https://upload.wikimedia.org/wikipedia/commons/1/1e/Rayleigh_wave.jpg'>\n",
    "    <caption>Particle motion of a Rayleigh wave. Courtasy to wikimedia.org.</caption>\n",
    "</figure>\n",
    "\n"
   ]
  },
  {
   "cell_type": "code",
   "execution_count": null,
   "metadata": {},
   "outputs": [],
   "source": []
  }
 ],
 "metadata": {
  "kernelspec": {
   "display_name": "Python 3",
   "language": "python",
   "name": "python3"
  },
  "language_info": {
   "codemirror_mode": {
    "name": "ipython",
    "version": 3
   },
   "file_extension": ".py",
   "mimetype": "text/x-python",
   "name": "python",
   "nbconvert_exporter": "python",
   "pygments_lexer": "ipython3",
   "version": "3.8.10"
  }
 },
 "nbformat": 4,
 "nbformat_minor": 4
}
