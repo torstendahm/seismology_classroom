{
 "cells": [
  {
   "cell_type": "markdown",
   "metadata": {},
   "source": [
    "# Calculate synthetic arrival times using a Python script\n",
    "\n",
    "`Cake` allows to calculate the arrival times of differen seismic phases ([example here](https://pyrocko.org/docs/current/apps/cake/manual.html#calculate-p-phase-arrivals)). In this task we will compute P and S wave arrivals for the station `GE.KTHA` and the 2020 M<sub>w</sub> 7.0 Samos earthquake and compare them to the picks, we made in the previous module.\n",
    "\n",
    "We start by importing the different modules from Pyrocko, we need:"
   ]
  },
  {
   "cell_type": "code",
   "execution_count": 84,
   "metadata": {},
   "outputs": [],
   "source": [
    "from pyrocko import cake, model, util\n",
    "from pyrocko.gui.util import Marker\n",
    "\n",
    "import numpy as num"
   ]
  },
  {
   "cell_type": "markdown",
   "metadata": {},
   "source": [
    "In the next step both the event and station data need to be loaded. We make use of `load_one_event` and `load_stations` for this purpose."
   ]
  },
  {
   "cell_type": "code",
   "execution_count": 7,
   "metadata": {},
   "outputs": [],
   "source": [
    "# Loading of events\n",
    "event = model.load_one_event(filename='data/events.yaml')\n",
    "\n",
    "# Loading of stations\n",
    "stations = model.load_stations(filename='data/stations.yaml')"
   ]
  },
  {
   "cell_type": "markdown",
   "metadata": {},
   "source": [
    "In the next step we need to select the station `GE.KTHA`:"
   ]
  },
  {
   "cell_type": "code",
   "execution_count": 4,
   "metadata": {},
   "outputs": [],
   "source": [
    "station = None\n",
    "\n",
    "# Iterate through stations and check for matching network-station-location code\n",
    "for sta in stations:\n",
    "    if sta.nsl() == ('GE', 'KTHA', ''):\n",
    "        station = sta\n",
    "        \n",
    "        break"
   ]
  },
  {
   "cell_type": "markdown",
   "metadata": {},
   "source": [
    "and calculate the distance to the earthquake:"
   ]
  },
  {
   "cell_type": "code",
   "execution_count": 11,
   "metadata": {},
   "outputs": [
    {
     "name": "stdout",
     "output_type": "stream",
     "text": [
      "Distance between event and station: 3.4046 deg\n"
     ]
    }
   ],
   "source": [
    "distance = event.distance_to(station) * cake.m2d  # Convert meter to degrees for usage in cake\n",
    "\n",
    "print('Distance between event and station: {:.4f} deg'.format(distance))"
   ]
  },
  {
   "cell_type": "markdown",
   "metadata": {},
   "source": [
    "Great, finally we can calculate the arrival times for the different phases based on **cake**. First the synthetic earth model is loaded:"
   ]
  },
  {
   "cell_type": "code",
   "execution_count": 17,
   "metadata": {},
   "outputs": [],
   "source": [
    "# Load builtin 'prem-no-ocean' model (medium resolution)\n",
    "earth_model = cake.load_model('prem-no-ocean.m')"
   ]
  },
  {
   "cell_type": "markdown",
   "metadata": {},
   "source": [
    "We also need to define the phases, we want to extract the travel time for:"
   ]
  },
  {
   "cell_type": "code",
   "execution_count": 13,
   "metadata": {},
   "outputs": [],
   "source": [
    "# Define the phase to use.\n",
    "phases = [\n",
    "    cake.PhaseDef('P'),\n",
    "    cake.PhaseDef('S')]"
   ]
  },
  {
   "cell_type": "markdown",
   "metadata": {},
   "source": [
    "Now arrivals are calulated and we directly feed it into `Snuffler` markers for usage in `Snuffler`. "
   ]
  },
  {
   "cell_type": "code",
   "execution_count": 90,
   "metadata": {},
   "outputs": [
    {
     "name": "stdout",
     "output_type": "stream",
     "text": [
      "phase name  |    arrival\n",
      "------------------------\n",
      "P_24.4p     |   11:52:16\n",
      "P           |   11:52:23\n",
      "Pv24.4p     |   11:52:23\n",
      "P           |   11:52:31\n",
      "Pv15p       |   11:52:31\n",
      "S_24.4s     |   11:52:56\n",
      "S           |   11:53:06\n",
      "Sv24.4s     |   11:53:06\n",
      "S           |   11:53:24\n",
      "Sv15s       |   11:53:24\n",
      "Sv2891s     |   12:06:59\n"
     ]
    }
   ],
   "source": [
    "markers = []\n",
    "\n",
    "# calculate distances and arrivals and store them as marker:\n",
    "print('{:<12}|{:>11}'.format('phase name', 'arrival'))\n",
    "print('-' * 24)\n",
    "\n",
    "for arrival in earth_model.arrivals([distance], phases=phases, zstart=event.depth):\n",
    "    markers.append(Marker(\n",
    "        tmin=arrival.t + event.time,\n",
    "        tmax=arrival.t + event.time,\n",
    "        nslc_ids=[station.nsl() + ('???',)]))\n",
    "    \n",
    "    phase = arrival.used_phase()\n",
    "    print('{:<12}|{:>11}'.format(phase.used_repr(), util.time_to_str(arrival.t + event.time, format='%H:%M:%S')))"
   ]
  },
  {
   "cell_type": "markdown",
   "metadata": {},
   "source": [
    "In the last step we repeat the loading of waveforms into `Snuffler` (check module 3 - Introduction to seismological toolboxes)."
   ]
  },
  {
   "cell_type": "code",
   "execution_count": 83,
   "metadata": {},
   "outputs": [
    {
     "name": "stderr",
     "output_type": "stream",
     "text": [
      "\u001bD\u001b[1;28r\u001b[29;1H\u001b[0K◷ Gathering file names    working           \u001b[28;1H\u001b[0K\u001b[1;29r\u001bM\u001b[30;1H\u001b[29;1H\u001b[0K\u001bD\u001b[1;28r\u001b[29;1H\u001b[0K◷ Preparing database      working           \u001b[28;1H\u001b[0K\u001b[1;29r\u001bM\u001b[30;1H\u001b[29;1H\u001b[0K\u001bD\u001b[1;28r\u001b[29;1H\u001b[0K◷ Indexing files          working           \u001b[28;1H\u001b[0K\u001b[1;29r\u001bM\u001b[30;1H\u001b[29;1H\u001b[0K\u001bD\u001b[1;28r\u001b[29;1H\u001b[0K◷ Aggregating selection   working           \u001b[28;1H\u001b[0K\u001b[1;29r\u001bM\u001b[30;1H\u001b[29;1H\u001b[0K\u001b[29;1Hcc.py:pyrocko.gui.snuffling.okada - WARNING  - \n",
      " /home/malde/.snufflings/okada/libokada.so: undefined symbol: okada_get_consts\n",
      "--> run 'make' in okada snuffling directory <--\n"
     ]
    }
   ],
   "source": [
    "# Import\n",
    "from pyrocko.squirrel import Squirrel\n",
    "from pyrocko.trace import snuffle\n",
    "\n",
    "# Loading of waveforms\n",
    "sq = Squirrel()\n",
    "sq.add('data/')\n",
    "\n",
    "# Snuffle traces and markers\n",
    "snuffle(traces=sq.get_waveforms(), markers=markers)"
   ]
  },
  {
   "cell_type": "markdown",
   "metadata": {},
   "source": [
    "Finally, compare your picks with the one computed by **cake**. Are they in good agreement? Why could there be differences?"
   ]
  }
 ],
 "metadata": {
  "kernelspec": {
   "display_name": "Python 3",
   "language": "python",
   "name": "python3"
  },
  "language_info": {
   "codemirror_mode": {
    "name": "ipython",
    "version": 3
   },
   "file_extension": ".py",
   "mimetype": "text/x-python",
   "name": "python",
   "nbconvert_exporter": "python",
   "pygments_lexer": "ipython3",
   "version": "3.8.10"
  }
 },
 "nbformat": 4,
 "nbformat_minor": 4
}
