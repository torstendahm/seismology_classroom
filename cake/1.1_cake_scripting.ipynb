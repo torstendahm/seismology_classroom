{
 "cells": [
  {
   "cell_type": "markdown",
   "metadata": {},
   "source": [
    "# Calculate synthetic arrival times using a Python script\n",
    "\n",
    "`Cake` allows to calculate the arrival times of differen seismic phases ([example here](https://pyrocko.org/docs/current/apps/cake/manual.html#calculate-p-phase-arrivals)). In this task we will compute P and S wave arrivals for the station `GE.KTHA` and the 2020 M<sub>w</sub> 7.0 Samos earthquake and compare them to the picks, we made in the previous module.\n",
    "\n",
    "We start by importing the different modules from Pyrocko, we need:"
   ]
  },
  {
   "cell_type": "code",
   "execution_count": 2,
   "metadata": {},
   "outputs": [],
   "source": [
    "from pyrocko import cake, marker, model\n",
    "import numpy as num"
   ]
  },
  {
   "cell_type": "markdown",
   "metadata": {},
   "source": [
    "In the next step both the event and station data need to be loaded. We make use of `load_one_event` and `load_stations` for this purpose."
   ]
  },
  {
   "cell_type": "code",
   "execution_count": null,
   "metadata": {},
   "outputs": [],
   "source": [
    "# Loading of events\n",
    "events = model.load_one_event(filename='processed_events_pyrocko.yaml')\n",
    "\n",
    "# Loading of stations\n",
    "stations = model.load_stations(filename='processed_stations_pyrocko.yaml')"
   ]
  },
  {
   "cell_type": "markdown",
   "metadata": {},
   "source": [
    "In the next step we need to select the station `GE.KTHA`:"
   ]
  },
  {
   "cell_type": "code",
   "execution_count": 4,
   "metadata": {},
   "outputs": [],
   "source": [
    "station = None\n",
    "\n",
    "# Iterate through stations and check for matching network-station-location code\n",
    "for sta in stations:\n",
    "    if sta.nsl() == ('GE', 'KTHA', ''):\n",
    "        station = sta\n",
    "        \n",
    "        break"
   ]
  },
  {
   "cell_type": "markdown",
   "metadata": {},
   "source": [
    "and calculate the distance to the earthquake:"
   ]
  },
  {
   "cell_type": "code",
   "execution_count": 5,
   "metadata": {},
   "outputs": [
    {
     "ename": "NameError",
     "evalue": "name 'event' is not defined",
     "output_type": "error",
     "traceback": [
      "\u001b[0;31m---------------------------------------------------------------------------\u001b[0m",
      "\u001b[0;31mNameError\u001b[0m                                 Traceback (most recent call last)",
      "\u001b[0;32m<ipython-input-5-aa43a8efe440>\u001b[0m in \u001b[0;36m<module>\u001b[0;34m\u001b[0m\n\u001b[0;32m----> 1\u001b[0;31m \u001b[0mdistance\u001b[0m \u001b[0;34m=\u001b[0m \u001b[0mevent\u001b[0m\u001b[0;34m.\u001b[0m\u001b[0mdistance_to\u001b[0m\u001b[0;34m(\u001b[0m\u001b[0mstation\u001b[0m\u001b[0;34m)\u001b[0m\u001b[0;34m\u001b[0m\u001b[0;34m\u001b[0m\u001b[0m\n\u001b[0m",
      "\u001b[0;31mNameError\u001b[0m: name 'event' is not defined"
     ]
    }
   ],
   "source": [
    "distance = event.distance_to(station) * cake.m2d  # Convert meter to degrees for usage in cake"
   ]
  },
  {
   "cell_type": "markdown",
   "metadata": {},
   "source": [
    "Great, finally we can calculate the arrival times for the different phases based on **cake**. First the synthetic earth model is loaded:"
   ]
  },
  {
   "cell_type": "code",
   "execution_count": 10,
   "metadata": {},
   "outputs": [],
   "source": [
    "# Load builtin 'prem-no-ocean' model (medium resolution)\n",
    "earth_model = cake.load_model('prem-no-ocean.m')"
   ]
  },
  {
   "cell_type": "markdown",
   "metadata": {},
   "source": [
    "We also need to define the phases, we want to extract the travel time for:"
   ]
  },
  {
   "cell_type": "code",
   "execution_count": 11,
   "metadata": {},
   "outputs": [],
   "source": [
    "# Define the phase to use.\n",
    "phases = [\n",
    "    cake.PhaseDef('P'),\n",
    "    cake.PhaseDef('S')]"
   ]
  },
  {
   "cell_type": "markdown",
   "metadata": {},
   "source": [
    "Now arrivals are calulated and we directly feed it into `Snuffler` markers for usage in `Snuffler`. "
   ]
  },
  {
   "cell_type": "code",
   "execution_count": 12,
   "metadata": {},
   "outputs": [
    {
     "ename": "NameError",
     "evalue": "name 'distance' is not defined",
     "output_type": "error",
     "traceback": [
      "\u001b[0;31m---------------------------------------------------------------------------\u001b[0m",
      "\u001b[0;31mNameError\u001b[0m                                 Traceback (most recent call last)",
      "\u001b[0;32m<ipython-input-12-ffb4807bc170>\u001b[0m in \u001b[0;36m<module>\u001b[0;34m\u001b[0m\n\u001b[1;32m      2\u001b[0m \u001b[0;34m\u001b[0m\u001b[0m\n\u001b[1;32m      3\u001b[0m \u001b[0;31m# calculate distances and arrivals and store them as marker:\u001b[0m\u001b[0;34m\u001b[0m\u001b[0;34m\u001b[0m\u001b[0;34m\u001b[0m\u001b[0m\n\u001b[0;32m----> 4\u001b[0;31m \u001b[0;32mfor\u001b[0m \u001b[0marrival\u001b[0m \u001b[0;32min\u001b[0m \u001b[0mmodel\u001b[0m\u001b[0;34m.\u001b[0m\u001b[0marrivals\u001b[0m\u001b[0;34m(\u001b[0m\u001b[0mdistance\u001b[0m\u001b[0;34m,\u001b[0m \u001b[0mphases\u001b[0m\u001b[0;34m=\u001b[0m\u001b[0mphases\u001b[0m\u001b[0;34m,\u001b[0m \u001b[0mzstart\u001b[0m\u001b[0;34m=\u001b[0m\u001b[0mevent\u001b[0m\u001b[0;34m.\u001b[0m\u001b[0mdepth\u001b[0m\u001b[0;34m)\u001b[0m\u001b[0;34m:\u001b[0m\u001b[0;34m\u001b[0m\u001b[0;34m\u001b[0m\u001b[0m\n\u001b[0m\u001b[1;32m      5\u001b[0m     markers.append(marker.PhaseMarker(\n\u001b[1;32m      6\u001b[0m         \u001b[0mtmin\u001b[0m\u001b[0;34m=\u001b[0m\u001b[0marrival\u001b[0m\u001b[0;34m.\u001b[0m\u001b[0mt\u001b[0m \u001b[0;34m+\u001b[0m \u001b[0mevent\u001b[0m\u001b[0;34m.\u001b[0m\u001b[0mtime\u001b[0m\u001b[0;34m,\u001b[0m\u001b[0;34m\u001b[0m\u001b[0;34m\u001b[0m\u001b[0m\n",
      "\u001b[0;31mNameError\u001b[0m: name 'distance' is not defined"
     ]
    }
   ],
   "source": [
    "markers = []\n",
    "\n",
    "# calculate distances and arrivals and store them as marker:\n",
    "for arrival in model.arrivals(distance, phases=phases, zstart=event.depth):\n",
    "    markers.append(marker.PhaseMarker(\n",
    "        tmin=arrival.t + event.time,\n",
    "        tmax=arrival.t + event.time,\n",
    "        phasename=arrival.used_phase,))"
   ]
  },
  {
   "cell_type": "markdown",
   "metadata": {},
   "source": [
    "In the last step we repeat the loading of waveforms into `Snuffler` (check module 3 - Introduction to seismological toolboxes)."
   ]
  },
  {
   "cell_type": "code",
   "execution_count": 16,
   "metadata": {},
   "outputs": [
    {
     "name": "stderr",
     "output_type": "stream",
     "text": [
      "selecting files... done. 2 files selected.\n",
      "Looking at files [----------------------------------------] 100% Time:  0:00:00\n",
      "[Errno 2] No such file or directory: '/home/malde/src/seiscl/cake/-f'\n",
      "Scanning files [                                          ] N/A% ETA:  --:--:--Cannot read file '/home/malde/.local/share/jupyter/runtime/kernel-2c4ce1e7-6419-4fc7-8076-add2f8439f55.json': No SEED data detected (file: /home/malde/.local/share/jupyter/runtime/kernel-2c4ce1e7-6419-4fc7-8076-add2f8439f55.json)\n",
      "Scanning files [------------------------------------------] 100% Time:  0:00:00\n",
      "The following files caused problems and will be ignored:\n",
      "/home/malde/src/seiscl/cake/-f\n",
      "/home/malde/.local/share/jupyter/runtime/kernel-2c4ce1e7-6419-4fc7-8076-add2f8439f55.json\n",
      "\n",
      " /home/malde/.snufflings/okada/libokada.so: undefined symbol: okada_get_consts\n",
      "--> run 'make' in okada snuffling directory <--\n"
     ]
    }
   ],
   "source": [
    "# Import\n",
    "from pyrocko.squirrel import Squirrel\n",
    "from pyrocko.gui import snuffler\n",
    "\n",
    "# Loading of waveforms\n",
    "sq = Squirrel()\n",
    "sq.add('data/')\n",
    "\n",
    "# snuffle\n",
    "snuffler.snuffle(sq.get_waveforms(), marker=markers)"
   ]
  },
  {
   "cell_type": "markdown",
   "metadata": {},
   "source": [
    "Finally, compare your picks with the one computed by **cake**. Are they in good agreement? Why could b"
   ]
  }
 ],
 "metadata": {
  "kernelspec": {
   "display_name": "Python 3",
   "language": "python",
   "name": "python3"
  },
  "language_info": {
   "codemirror_mode": {
    "name": "ipython",
    "version": 3
   },
   "file_extension": ".py",
   "mimetype": "text/x-python",
   "name": "python",
   "nbconvert_exporter": "python",
   "pygments_lexer": "ipython3",
   "version": "3.8.10"
  }
 },
 "nbformat": 4,
 "nbformat_minor": 4
}
