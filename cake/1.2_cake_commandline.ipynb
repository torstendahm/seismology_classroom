{
 "cells": [
  {
   "cell_type": "markdown",
   "metadata": {},
   "source": [
    "# Calculate synthetic arrival times from command line\n",
    "\n",
    "`Cake` can be called from command line and offers a large bandwidth of ground model calculation and inspection tools. We will follow the examples given [here](https://pyrocko.org/docs/current/apps/cake/manual.html#command-line-examples).\n",
    "\n",
    "The general invocation of `Cake` in the command line looks as:"
   ]
  },
  {
   "cell_type": "code",
   "execution_count": 2,
   "metadata": {},
   "outputs": [
    {
     "name": "stdout",
     "output_type": "stream",
     "text": [
      "Usage: cake <subcommand> [options]\n",
      "\n",
      "Subcommands:\n",
      "\n",
      "    print          get information on model/phase/material properties\n",
      "    arrivals       print list of phase arrivals\n",
      "    paths          print ray path details\n",
      "    plot-xt        plot traveltime vs distance curves\n",
      "    plot-xp        plot ray parameter vs distance curves\n",
      "    plot-rays      plot ray propagation paths\n",
      "    plot           plot combination of ray and traveltime curves\n",
      "    plot-model     plot velocity model\n",
      "    list-models    list builtin velocity models\n",
      "    list-phase-map show translation table for classic phase names\n",
      "    simplify-model create a simplified version of a layered model\n",
      "    scatter        show details about scattering at model interfaces\n",
      "\n",
      "To get further help and a list of available options for any subcommand run:\n",
      "\n",
      "    cake <subcommand> --help\n"
     ]
    }
   ],
   "source": [
    "!cake"
   ]
  },
  {
   "cell_type": "markdown",
   "metadata": {},
   "source": [
    "So, what you see, is the help of all command line functions, `Cake` offers. We will start in our case to check the available models. That is done using `cake list-models`, which yields:"
   ]
  },
  {
   "cell_type": "code",
   "execution_count": 8,
   "metadata": {},
   "outputs": [
    {
     "name": "stdout",
     "output_type": "stream",
     "text": [
      "ak135-f-average-no-ocean.f\n",
      "ak135-f-average-no-ocean.l\n",
      "ak135-f-average-no-ocean.m\n",
      "ak135-f-average.f\n",
      "ak135-f-average.l\n",
      "ak135-f-average.m\n",
      "ak135-f-average.vf\n",
      "ak135-f-continental.f\n",
      "ak135-f-continental.l\n",
      "ak135-f-continental.m\n",
      "prem-no-ocean.f\n",
      "prem-no-ocean.l\n",
      "prem-no-ocean.m\n",
      "prem.f\n",
      "prem.l\n",
      "prem.m\n"
     ]
    }
   ],
   "source": [
    "!cake list-models"
   ]
  },
  {
   "cell_type": "markdown",
   "metadata": {},
   "source": [
    "Let's choosen one model and compare it to the one, we have seen in the introduction to picking of seismic phases. So, you should open now a shell and check the result of the following command"
   ]
  },
  {
   "cell_type": "code",
   "execution_count": 10,
   "metadata": {},
   "outputs": [
    {
     "name": "stdout",
     "output_type": "stream",
     "text": [
      "Figure(1169.44x826.389)\n"
     ]
    }
   ],
   "source": [
    "!cake plot-model --model=prem-no-ocean.m"
   ]
  },
  {
   "cell_type": "markdown",
   "metadata": {},
   "source": [
    "* How does it compare to <img src='https://upload.wikimedia.org/wikipedia/commons/b/be/Speeds_of_seismic_waves.PNG' style='width: 30%'>?\n",
    "* Are there any differences and if there are any, where could they come from?\n",
    "\n",
    "Cake allows also to plot theoretical ray paths (`plot-rays`), so seismic wave travel paths through the earth for certain earthquake-stations geometries. They can give you a better understanding, where and how the waves have been traveling through the earth.\n",
    "\n",
    "In our case we want to have a look at certain P wave depth phases recorded at greater distances from the earthquake. We plot\n",
    "* the P wave refracted at the core-mantle boundary **Pdiff**,\n",
    "* the P wave traveling through the outer core **PKP** and\n",
    "* the P wave traveling through outer and inner core **PKIKP**\n",
    "\n",
    "at distances of 110 to 150 degrees:\n",
    "\n",
    "Task:\n",
    "* Find the names of the different phases [here](http://www.isc.ac.uk/standards/phases/).\n",
    "* Select a propper distance range, in which these phases can be observed: Check the phase diagramm <img src='https://web.ics.purdue.edu/~braile/edumod/as1lessons/InterpSeis/InterpSeis_files/image020.gif' style='width: 60%'> (copied from slide serve)"
   ]
  },
  {
   "cell_type": "code",
   "execution_count": 11,
   "metadata": {},
   "outputs": [
    {
     "name": "stdout",
     "output_type": "stream",
     "text": [
      "Figure(1169.44x826.389)\n"
     ]
    }
   ],
   "source": [
    "!cake plot-rays --classic=Pdiff,PKP,PKIKP --distances=110:150:5 --degrees"
   ]
  },
  {
   "cell_type": "markdown",
   "metadata": {},
   "source": [
    "Great, the final task is now to compute the arrival times for the given P wave phases assuming a source depth of 30 km. Hint, check `arrivals`."
   ]
  },
  {
   "cell_type": "code",
   "execution_count": 12,
   "metadata": {},
   "outputs": [
    {
     "name": "stdout",
     "output_type": "stream",
     "text": [
      "slow    dist  time   take inci effi spre phase             used             \n",
      "s/deg   deg   s      deg  deg  %    %   \n",
      "----------------------------------------------------------------------------\n",
      "4.44510 110.0 866.69 15.1 13.4 1.02 0.00 Pv_(cmb)p         (Pv_2892p)       \n",
      "4.44510 110.0 866.69 15.1 13.4 1.02 0.00 Pv_(cmb)p         (Pv_2892p)       \n",
      "4.44510 120.0 911.14 15.1 13.4 1.02 0.00 Pv_(cmb)p         (Pv_2892p)       \n",
      "4.44510 120.0 911.14 15.1 13.4 1.02 0.00 Pv_(cmb)p         (Pv_2892p)       \n",
      "1.92204 120.0 1128.1 6.48 5.75 17.5 0.12 P(cmb)P(icb)P(icb)p(cmb)p (P)              \n",
      "4.44510 130.0 955.59 15.1 13.4 1.02 0.00 Pv_(cmb)p         (Pv_2892p)       \n",
      "4.44510 130.0 955.59 15.1 13.4 1.02 0.00 Pv_(cmb)p         (Pv_2892p)       \n",
      "1.89842 130.0 1147.3 6.40 5.68 56.4 0.71 P(cmb)P(icb)P(icb)p(cmb)p (P)              \n",
      "4.44510 140.0 1000.0 15.1 13.4 1.02 0.00 Pv_(cmb)p         (Pv_2892p)       \n",
      "4.44510 140.0 1000.0 15.1 13.4 1.02 0.00 Pv_(cmb)p         (Pv_2892p)       \n",
      "1.81383 140.0 1165.9 6.12 5.43 64.1 2.83 P(cmb)P(icb)P(icb)p(cmb)p (P)              \n",
      "4.44510 150.0 1044.5 15.1 13.4 1.02 0.00 Pv_(cmb)p         (Pv_2892p)       \n",
      "4.44510 150.0 1044.5 15.1 13.4 1.02 0.00 Pv_(cmb)p         (Pv_2892p)       \n",
      "1.56389 150.0 1183.0 5.27 4.68 67.0 8.82 P(cmb)P(icb)P(icb)p(cmb)p (P)              \n",
      "2.50077 150.0 1188.1 8.45 7.50 58.7 49.8 P(cmb)P<(icb)(cmb)p (P)              \n",
      "4.10620 150.0 1193.9 14.0 12.4 32.3 25.5 P(cmb)P<(icb)(cmb)p (P)              \n"
     ]
    }
   ],
   "source": [
    "!cake arrivals --classic=Pdiff,PKP,PKIKP --distances=110:150:5 --degrees --sdepth=30"
   ]
  },
  {
   "cell_type": "markdown",
   "metadata": {},
   "source": [
    "* Are the arrival times comparable to the ones given on the phase diagram?"
   ]
  }
 ],
 "metadata": {
  "kernelspec": {
   "display_name": "Python 3 (ipykernel)",
   "language": "python",
   "name": "python3"
  },
  "language_info": {
   "codemirror_mode": {
    "name": "ipython",
    "version": 3
   },
   "file_extension": ".py",
   "mimetype": "text/x-python",
   "name": "python",
   "nbconvert_exporter": "python",
   "pygments_lexer": "ipython3",
   "version": "3.7.13"
  }
 },
 "nbformat": 4,
 "nbformat_minor": 4
}
