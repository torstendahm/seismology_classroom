{
 "cells": [
  {
   "cell_type": "markdown",
   "metadata": {},
   "source": [
    "# Synthetic travel time calculation using Cake\n",
    "\n",
    "In the last module we had a first glimpse at different parts, phases, of the seismic waveform. These different phases are characterized not just by different particle motions but also different arrival times with P arriving first before the S and the surface waves.\n",
    "    While we had to pick these phases by hand, there are also ways to extract theoretical wave arrivals (at least the approximate ones) from a synthetic earthmodel. Obspy offers for this the [taup module](https://docs.obspy.org/tutorial/code_snippets/travel_time.html), but we will focus here on [Pyrockos cake application](https://pyrocko.org/docs/current/apps/cake/manual.html).\n",
    "    \n",
    "This module covers different segments of the theoretical travel time calculation.\n",
    "1. [We check the usage of cake as a command line tool and subsequently use it to inspect the provided earthmodels with its plotting routines](1.1_cake_commandline.ipynb).\n",
    "2. [We will calculate synthetic travel times in a script, load our wave picks and compare them with each other in Snuffler](1.2_cake_scripting.ipynb).\n"
   ]
  }
 ],
 "metadata": {
  "kernelspec": {
   "display_name": "Python 3",
   "language": "python",
   "name": "python3"
  },
  "language_info": {
   "codemirror_mode": {
    "name": "ipython",
    "version": 3
   },
   "file_extension": ".py",
   "mimetype": "text/x-python",
   "name": "python",
   "nbconvert_exporter": "python",
   "pygments_lexer": "ipython3",
   "version": "3.6.9"
  }
 },
 "nbformat": 4,
 "nbformat_minor": 4
}
