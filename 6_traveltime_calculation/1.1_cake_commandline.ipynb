{
 "cells": [
  {
   "cell_type": "markdown",
   "metadata": {},
   "source": [
    "# Calculate synthetic arrival times from command line\n",
    "\n",
    "`Cake` can be called from command line and offers a large bandwidth of ground model calculation and inspection tools. We will follow the examples given [here](https://pyrocko.org/docs/current/apps/cake/manual.html#command-line-examples).\n",
    "\n",
    "The general invocation of `Cake` in the command line looks as:"
   ]
  },
  {
   "cell_type": "code",
   "execution_count": null,
   "metadata": {},
   "outputs": [],
   "source": [
    "!cake"
   ]
  },
  {
   "cell_type": "markdown",
   "metadata": {},
   "source": [
    "So, what you see, is the help of all command line functions, `Cake` offers. We will start in our case to check the available models. That is done using `cake list-models`, which yields:"
   ]
  },
  {
   "cell_type": "code",
   "execution_count": null,
   "metadata": {},
   "outputs": [],
   "source": [
    "!cake list-models"
   ]
  },
  {
   "cell_type": "markdown",
   "metadata": {},
   "source": [
    "Let's choose one model and compare it to the one, we have seen in the introduction to picking of seismic phases. So, you should open now a shell and check the result of the following command"
   ]
  },
  {
   "cell_type": "code",
   "execution_count": null,
   "metadata": {},
   "outputs": [],
   "source": [
    "!cake plot-model --model=prem-no-ocean.m"
   ]
  },
  {
   "cell_type": "markdown",
   "metadata": {},
   "source": [
    "<figure style='width: 60%'>\n",
    "    <img src='img/cake_prem_velocity_profile.png'>\n",
    "    <caption>Velocity profile derived from Pyrocko Cake for the PREM model.</caption>\n",
    "</figure>\n",
    "\n",
    "<div class='alert alert-success'>\n",
    "    <p style=\"font-weight: bold; font-size: 150%\">Task 1:</p>\n",
    "    <ol>\n",
    "        <li>How does it compare to <img src='https://upload.wikimedia.org/wikipedia/commons/b/be/Speeds_of_seismic_waves.PNG' style='width: 30%'>?</li>\n",
    "        <li>Are there any differences and if there are any, where could they come from?</li>\n",
    "    </ol>\n",
    "</div>\n",
    "    \n",
    "Cake allows also to plot theoretical ray paths (`plot-rays`), so seismic wave travel paths through the earth for certain earthquake-stations geometries. They can give you a better understanding, where and how the waves have been traveling through the earth.\n",
    "\n",
    "In our case we want to have a look at certain P wave depth phases recorded at greater distances from the earthquake. We plot\n",
    "* the P wave refracted at the core-mantle boundar,\n",
    "* the P wave traveling through the outer core and\n",
    "* the P wave traveling through outer and inner core\n",
    "\n",
    "at a properly selected distance range:\n",
    "\n",
    "<div class='alert alert-success'>\n",
    "    <p style=\"font-weight: bold; font-size: 150%\">Task 2:</p>\n",
    "    <ol>\n",
    "        <li>Find the names of the different phases <a href='http://www.isc.ac.uk/standards/phases/'>here</a>.</li>\n",
    "        <li>Select a propper distance range, in which these phases can be observed: Check the phase diagramm e.g. <a href='https://web.ics.purdue.edu/~braile/edumod/as1lessons/InterpSeis/InterpSeis_files/image020.gif'>here.</a></li>\n",
    "        <li>Plot the ray paths for the phases in the selected distance range with 5 degree increment using cake (check the <a href='https://pyrocko.org/docs/current/apps/cake/manual.html'>cake manual</a>).</li>\n",
    "        <li>List the arrival times for the phases for one well suited source-receiver-distance assuming a source depth of 30 km (check the <a href='https://pyrocko.org/docs/current/apps/cake/manual.html'>cake manual</a>).</li>\n",
    "    </ol>\n",
    "    <p style=\"font-weight: bold\">Remember: Define the model as <em>prem-no-ocean.m</em></p>\n",
    "</div>\n"
   ]
  }
 ],
 "metadata": {
  "kernelspec": {
   "display_name": "Python 3",
   "language": "python",
   "name": "python3"
  },
  "language_info": {
   "codemirror_mode": {
    "name": "ipython",
    "version": 3
   },
   "file_extension": ".py",
   "mimetype": "text/x-python",
   "name": "python",
   "nbconvert_exporter": "python",
   "pygments_lexer": "ipython3",
   "version": "3.8.10"
  }
 },
 "nbformat": 4,
 "nbformat_minor": 4
}
