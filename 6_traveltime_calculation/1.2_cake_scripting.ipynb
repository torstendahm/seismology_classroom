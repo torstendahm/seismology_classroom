{
 "cells": [
  {
   "cell_type": "markdown",
   "metadata": {},
   "source": [
    "# Calculate synthetic arrival times using a Python script\n",
    "\n",
    "`Cake` allows to calculate the arrival times of different seismic phases ([example here](https://pyrocko.org/docs/current/apps/cake/manual.html#calculate-p-phase-arrivals)). In this task we will compute P and S wave arrivals for the station `GE.KTHA` and the 2020 M<sub>w</sub> 7.0 Samos earthquake and compare them to the picks, we made in the previous module.\n",
    "\n",
    "We start by importing the different modules from Pyrocko, we need:"
   ]
  },
  {
   "cell_type": "code",
   "execution_count": null,
   "metadata": {},
   "outputs": [],
   "source": [
    "from pyrocko import cake, model, util\n",
    "from pyrocko.guts import clone\n",
    "from pyrocko.gui.util import EventMarker\n",
    "\n",
    "import numpy as num"
   ]
  },
  {
   "cell_type": "markdown",
   "metadata": {},
   "source": [
    "In the next step both the event and station data need to be loaded. We make use of `load_one_event` and `load_stations` for this purpose."
   ]
  },
  {
   "cell_type": "code",
   "execution_count": null,
   "metadata": {},
   "outputs": [],
   "source": [
    "# Loading of events\n",
    "event = model.load_one_event(filename='data/events.yaml')\n",
    "\n",
    "# Loading of stations\n",
    "stations = model.load_stations(filename='data/stations.yaml')"
   ]
  },
  {
   "cell_type": "markdown",
   "metadata": {},
   "source": [
    "In the next step we need to select the station `GE.KTHA`:"
   ]
  },
  {
   "cell_type": "code",
   "execution_count": null,
   "metadata": {},
   "outputs": [],
   "source": [
    "station = None\n",
    "\n",
    "# Iterate through stations and check for matching network-station-location code\n",
    "for sta in stations:\n",
    "    if sta.nsl() == ('GE', 'KTHA', ''):\n",
    "        station = sta\n",
    "        \n",
    "        break"
   ]
  },
  {
   "cell_type": "markdown",
   "metadata": {},
   "source": [
    "and calculate the distance to the earthquake:"
   ]
  },
  {
   "cell_type": "code",
   "execution_count": null,
   "metadata": {},
   "outputs": [],
   "source": [
    "distance = event.distance_to(station) * cake.m2d  # Convert meter to degrees for usage in cake\n",
    "\n",
    "print('Distance between event and station: {:.4f} deg'.format(distance))"
   ]
  },
  {
   "cell_type": "markdown",
   "metadata": {},
   "source": [
    "Great, finally we can calculate the arrival times for the different phases based on **cake**. First the synthetic earth model is loaded:"
   ]
  },
  {
   "cell_type": "code",
   "execution_count": null,
   "metadata": {},
   "outputs": [],
   "source": [
    "# Load builtin 'prem-no-ocean' model (medium resolution)\n",
    "earth_model = cake.load_model('prem-no-ocean.m')"
   ]
  },
  {
   "cell_type": "markdown",
   "metadata": {},
   "source": [
    "We also need to define the phases, we want to extract the travel time for:"
   ]
  },
  {
   "cell_type": "code",
   "execution_count": null,
   "metadata": {},
   "outputs": [],
   "source": [
    "# Define the phase to use.\n",
    "phases = [\n",
    "    cake.PhaseDef('P'),\n",
    "    cake.PhaseDef('S')]"
   ]
  },
  {
   "cell_type": "markdown",
   "metadata": {},
   "source": [
    "Now arrivals are calulated and we directly feed it into `Snuffler` markers for usage in `Snuffler`. "
   ]
  },
  {
   "cell_type": "code",
   "execution_count": null,
   "metadata": {},
   "outputs": [],
   "source": [
    "markers = []\n",
    "\n",
    "# calculate distances and arrivals and store them as marker:\n",
    "print('{:<12}|{:>11}'.format('phase name', 'arrival'))\n",
    "print('-' * 24)\n",
    "\n",
    "for arrival in earth_model.arrivals([distance], phases=phases, zstart=event.depth):\n",
    "    phase = arrival.used_phase()\n",
    "    \n",
    "    # Create pseudo event to display travel time markers with name according to phase\n",
    "    marker_event = clone(event)\n",
    "    marker_event.time = arrival.t + event.time\n",
    "    marker_event.name = phase.used_repr()\n",
    "    marker_event.magnitude = None\n",
    "    \n",
    "    markers.append(EventMarker(event=marker_event))\n",
    "    \n",
    "    print('{:<12}|{:>11}'.format(phase.used_repr(), util.time_to_str(arrival.t + event.time, format='%H:%M:%S')))"
   ]
  },
  {
   "cell_type": "markdown",
   "metadata": {},
   "source": [
    "Wow, there are quite some arrivals! Now the questions are:\n",
    "\n",
    "<div class='alert alert-success'>\n",
    "    <p style=\"font-weight: bold; font-size: 150%\">Task 3:</p>\n",
    "    <ol>\n",
    "        <li>Why do we have so many different P and S-wave arrivals?</li>\n",
    "        <li>Which arrival has likely produced significant signals within our recorded data?</li>\n",
    "    </ol>\n",
    "    <span style='font-weight: bold'>Hints:</span>\n",
    "    <ul>\n",
    "        <li>You can get detailed information on each phase, if you print the <em>phase</em> within the code snippet above.</li>\n",
    "        <li>For direct comparison of the phase arrivals with the observed signal you should start the <em>Snuffler</em> with the recorded signals and the markers. Check <a href='https://pyrocko.org/docs/current/library/reference/trace.html#pyrocko.trace.Trace.snuffle'>the Pyrocko documentation and also module 3 - Introduction to seismological toolboxes.</a>\n",
    "    </ul>\n",
    "</div>"
   ]
  },
  {
   "cell_type": "code",
   "execution_count": null,
   "metadata": {},
   "outputs": [],
   "source": [
    "# Import\n",
    "from pyrocko.squirrel import Squirrel\n",
    "from pyrocko.trace import snuffle\n",
    "\n",
    "# Loading of waveforms\n",
    "sq = Squirrel()\n",
    "\n",
    "# Add path with data to Squirrel database\n",
    "\n",
    "# Snuffle traces and markers\n"
   ]
  },
  {
   "cell_type": "markdown",
   "metadata": {},
   "source": [
    "<div class='alert alert-success'>\n",
    "    <p style=\"font-weight: bold; font-size: 150%\">Task 4 (no solutions given):</p>\n",
    "    <ol>\n",
    "        <li>Load/make manual picks on the given data and compare them with the ones calculated by cake.</li>\n",
    "        <li> Are they in good agreement? Why could there be differences?</li>\n",
    "    </ol>\n",
    "</div>"
   ]
  }
 ],
 "metadata": {
  "kernelspec": {
   "display_name": "Python 3",
   "language": "python",
   "name": "python3"
  },
  "language_info": {
   "codemirror_mode": {
    "name": "ipython",
    "version": 3
   },
   "file_extension": ".py",
   "mimetype": "text/x-python",
   "name": "python",
   "nbconvert_exporter": "python",
   "pygments_lexer": "ipython3",
   "version": "3.6.9"
  }
 },
 "nbformat": 4,
 "nbformat_minor": 4
}
