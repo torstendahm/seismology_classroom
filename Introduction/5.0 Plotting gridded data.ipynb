{
 "cells": [
  {
   "cell_type": "markdown",
   "metadata": {},
   "source": [
    "# Visualization of gridded data\n",
    "\n",
    "## Introduction\n",
    "\n",
    "Very often we face to the task of plotting gridded data. Let's have a look on some examples.\n",
    "\n",
    "**Table of Contents:**\n",
    "\n",
    "* Examples to plot gridded data"
   ]
  },
  {
   "cell_type": "markdown",
   "metadata": {},
   "source": [
    "* *imshow* displays data as an image, i.e., on a 2D regular raster"
   ]
  },
  {
   "cell_type": "code",
   "execution_count": 26,
   "metadata": {},
   "outputs": [
    {
     "data": {
      "image/png": "[encoded data removed]",
      "text/plain": [
       "<matplotlib.figure.Figure at 0x7fa63e6a05c0>"
      ]
     },
     "metadata": {},
     "output_type": "display_data"
    }
   ],
   "source": [
    "import matplotlib.pyplot as plt\n",
    "%matplotlib inline\n",
    "\n",
    "data = [ [0,0,0,0,0,1,4,1,1,0],\n",
    "         [0,0,0,0,0,3,0,0,1,0],\n",
    "         [0,0,1,0,1,0,2,1,0,0],\n",
    "         [0,0,1,0,0,1,9,0,1,0],\n",
    "         [0,0,1,0,1,0,0,2,1,0],\n",
    "         [1,0,0,1,0,1,0,0,1,0],\n",
    "         [0,1,0,0,0,1,1,3,1,1],\n",
    "         [0,1,0,0,0,0,1,3,1,1],\n",
    "         [1,0,0,0,1,1,1,2,1,0],\n",
    "         [1,1,1,1,0,0,4,1,1,0] ]\n",
    "plt.imshow(data)\n",
    "plt.show()"
   ]
  },
  {
   "cell_type": "markdown",
   "metadata": {},
   "source": [
    "* *pcolormesh* creates a pseudocolor plot with a non-regular rectangular grid."
   ]
  },
  {
   "cell_type": "code",
   "execution_count": 27,
   "metadata": {},
   "outputs": [
    {
     "data": {
      "image/png": "[encoded data removed]",
      "text/plain": [
       "<matplotlib.figure.Figure at 0x7fa63df7fbe0>"
      ]
     },
     "metadata": {},
     "output_type": "display_data"
    }
   ],
   "source": [
    "import matplotlib.pyplot as plt\n",
    "import numpy as np\n",
    "\n",
    "x = np.linspace(0,4)\n",
    "y = np.linspace(0,1)\n",
    "\n",
    "def f(x, y):\n",
    "    return y * np.sin(x) \n",
    "\n",
    "X, Y = np.meshgrid(x,y)\n",
    "Z = np.zeros((50,50))\n",
    "\n",
    "for i in range(50):\n",
    "   for j in range(50):\n",
    "       Z[i,j] = f(X[i,j],Y[i,j])\n",
    "\n",
    "plt.pcolormesh(X, Y, Z)\n",
    "plt.show()"
   ]
  },
  {
   "cell_type": "markdown",
   "metadata": {},
   "source": [
    "# Interpolating data to a regular grid\n",
    "\n",
    "Here we will use the interpolation subpackage contained in SciPy (package described in Module 3.1)."
   ]
  },
  {
   "cell_type": "code",
   "execution_count": 1,
   "metadata": {},
   "outputs": [
    {
     "name": "stderr",
     "output_type": "stream",
     "text": [
      "/usr/lib/python3/dist-packages/mpl_toolkits/basemap/__init__.py:1704: MatplotlibDeprecationWarning: The axesPatch function was deprecated in version 2.1. Use Axes.patch instead.\n",
      "  limb = ax.axesPatch\n",
      "/usr/lib/python3/dist-packages/mpl_toolkits/basemap/__init__.py:1707: MatplotlibDeprecationWarning: The axesPatch function was deprecated in version 2.1. Use Axes.patch instead.\n",
      "  if limb is not ax.axesPatch:\n",
      "/usr/lib/python3/dist-packages/mpl_toolkits/basemap/__init__.py:4987: MatplotlibDeprecationWarning: The is_scalar function was deprecated in version 2.1.\n",
      "  elif masked and is_scalar(masked):\n"
     ]
    },
    {
     "data": {
      "text/plain": [
       "<matplotlib.figure.Figure at 0x7ff4879cfe80>"
      ]
     },
     "metadata": {},
     "output_type": "display_data"
    }
   ],
   "source": [
    "import numpy as np\n",
    "from scipy.interpolate import griddata\n",
    "from mpl_toolkits.basemap import Basemap\n",
    "import matplotlib.pyplot as plt\n",
    "\n",
    "#Define mapframe\n",
    "lllon = -11\n",
    "lllat = 49\n",
    "urlon = 2\n",
    "urlat = 61\n",
    "\n",
    "# Make some toy data, random points + corners\n",
    "n = 10 # no of stations\n",
    "lat = np.random.uniform(low=lllat+2, high=urlat-2, size=n)\n",
    "lat = np.append(lat, [lllat, urlat, urlat, lllat]) \n",
    "lon = np.random.uniform(low=lllon+2, high=urlon-2, size=n)\n",
    "lon = np.append(lon, [lllon, urlon, lllon, urlon])\n",
    "temp = np.random.randn(n+4) + 8 # British summer?\n",
    "\n",
    "# set up basemap chose projection!\n",
    "m = Basemap(projection = 'merc', resolution='i', \n",
    "    llcrnrlon = lllon, llcrnrlat = lllat, urcrnrlon = urlon, urcrnrlat = urlat) \n",
    "\n",
    "# transform coordinates to map projection m\n",
    "m_lon, m_lat = m(*(lon, lat))\n",
    "\n",
    "# generate grid data\n",
    "numcols, numrows = 240, 240\n",
    "xi = np.linspace(m_lon.min(), m_lon.max(), numcols)\n",
    "yi = np.linspace(m_lat.min(), m_lat.max(), numrows)\n",
    "xi, yi = np.meshgrid(xi, yi)\n",
    "\n",
    "# interpolate, there are better methods, especially if you have many datapoints\n",
    "zi = griddata((m_lon,m_lat),temp,(xi,yi),method='cubic')\n",
    "\n",
    "fig, ax = plt.subplots(figsize=(12, 12))\n",
    "\n",
    "# draw map details\n",
    "m.drawmapboundary(fill_color = 'skyblue', zorder = 1)\n",
    "\n",
    "# Plot interpolated temperatures\n",
    "m.contourf(xi, yi, zi, 500, cmap='magma', zorder = 2)\n",
    "\n",
    "m.drawlsmask(ocean_color='skyblue', land_color=(0, 0, 0, 0), lakes=True, zorder = 3)\n",
    "\n",
    "cbar = plt.colorbar()\n",
    "\n",
    "plt.show()\n"
   ]
  },
  {
   "cell_type": "markdown",
   "metadata": {},
   "source": [
    "## Summary\n",
    "\n",
    "* You know how to use **imshow**, **pcolormesh** to plot gridded data.\n",
    "* You know how to interpolate gridded data and plot it using interpolate contained in Scipy."
   ]
  }
 ],
 "metadata": {
  "kernelspec": {
   "display_name": "Python 3",
   "language": "python",
   "name": "python3"
  },
  "language_info": {
   "codemirror_mode": {
    "name": "ipython",
    "version": 3
   },
   "file_extension": ".py",
   "mimetype": "text/x-python",
   "name": "python",
   "nbconvert_exporter": "python",
   "pygments_lexer": "ipython3",
   "version": "3.6.9"
  }
 },
 "nbformat": 4,
 "nbformat_minor": 2
}
