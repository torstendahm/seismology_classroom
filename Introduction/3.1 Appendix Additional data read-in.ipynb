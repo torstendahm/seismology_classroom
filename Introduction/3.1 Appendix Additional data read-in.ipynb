{
 "cells": [
  {
   "cell_type": "markdown",
   "id": "dense-spiritual",
   "metadata": {},
   "source": [
    "# Data Read-In\n",
    "\n",
    "## Introduction\n",
    "\n",
    "We have checked in the previous submodule about Numpy and Pandas and how to read data using them. This appendix shows other ways of reading data, such as an individual read-in and also two other libraries\n",
    "\n",
    "What is done here\n",
    "\n",
    "* Individual Read-in\n",
    "* (GEO)JSON\n"
   ]
  },
  {
   "cell_type": "code",
   "execution_count": null,
   "id": "future-embassy",
   "metadata": {},
   "outputs": [],
   "source": [
    "import matplotlib.pyplot as plt"
   ]
  },
  {
   "cell_type": "markdown",
   "id": "nearby-parameter",
   "metadata": {},
   "source": [
    "## Individual Read-in"
   ]
  },
  {
   "cell_type": "code",
   "execution_count": null,
   "id": "central-ordinance",
   "metadata": {},
   "outputs": [],
   "source": [
    "#file = 'data/NY_climate_2010_raw.csv'\n",
    "#file = 'data/hourly_data_raw.txt'\n",
    "file = 'data/ingv_seismic.csv'\n",
    "\n",
    "# open() options 'r', 'w', 'a'\n",
    "# with option to avoid .close()\n",
    "\n",
    "with open(file, 'r') as f:\n",
    "    # lines = f.readlines()\n",
    "    attribute1 = []\n",
    "    filedict = {}\n",
    "    for ii, line in enumerate(f):\n",
    "        # line.strip\n",
    "        line = line.replace('\\n', '')\n",
    "        line = line.replace('\\\"', '')\n",
    "        line = line.rsplit(';')\n",
    "        \n",
    "        if ii < 4:\n",
    "            print(ii, line)\n",
    "        \n",
    "        if ii == 0:\n",
    "            header = line\n",
    "            continue\n",
    "        \n",
    "        attribute1.append(line[0])\n",
    "        \n",
    "        for nn in range(len(header)):\n",
    "            if header[nn] not in filedict:\n",
    "                filedict[header[nn]] = []\n",
    "            filedict[header[nn]].append(line[nn])\n",
    "\n",
    "print()\n",
    "print(header)\n",
    "print()\n",
    "print(attribute1) \n",
    "print()\n",
    "print(filedict)\n",
    "\n",
    "# do smth with data\n"
   ]
  },
  {
   "cell_type": "markdown",
   "id": "dietary-customer",
   "metadata": {},
   "source": [
    "## Individual Write-out"
   ]
  },
  {
   "cell_type": "code",
   "execution_count": null,
   "id": "corrected-dependence",
   "metadata": {},
   "outputs": [],
   "source": [
    "f = open(\"data/test_out.txt\", \"w\")\n",
    "f.write(\"Stations in Italy\\n\")\n",
    "for idx in range(len(filedict['Station'])):\n",
    "    d = filedict\n",
    "    f.write('The station %s.%s is located at %s, %s.\\n'\n",
    "            % (d['Station'][idx], d['Net'][idx], d['Lat (N)'][idx], d['Lon (E)'][idx]))\n",
    "f.close()\n",
    "\n",
    "## play with 'w' and 'a'\n",
    "## play with \\n"
   ]
  },
  {
   "cell_type": "markdown",
   "id": "ruled-roberts",
   "metadata": {},
   "source": [
    "## JSON"
   ]
  },
  {
   "cell_type": "code",
   "execution_count": null,
   "id": "matched-kitchen",
   "metadata": {},
   "outputs": [],
   "source": [
    "import json\n",
    "# geojson\n",
    "\n",
    "file = 'data/finite_fault_usgs.json'\n",
    "file = 'data/metadata.json'\n",
    "\n",
    "with open(file, 'r') as f:\n",
    "  data = json.load(f)\n",
    "\n",
    "print(data)\n",
    "#print(data['features'][0]['geometry'])\n",
    "\n"
   ]
  },
  {
   "cell_type": "markdown",
   "id": "retired-turning",
   "metadata": {},
   "source": [
    "## GEOJSON for geo data"
   ]
  },
  {
   "cell_type": "code",
   "execution_count": null,
   "id": "indirect-closing",
   "metadata": {},
   "outputs": [],
   "source": [
    "import geojson\n",
    "\n",
    "file = 'data/germany.geojson' # from shakygrounds2\n",
    "\n",
    "with open(file, 'r') as f:\n",
    "  data = geojson.load(f)\n",
    "\n",
    "#print(data)\n",
    "print(data['features'])\n",
    "# shape files etc.\n",
    "# e.g. line, polygon objects"
   ]
  }
 ],
 "metadata": {
  "kernelspec": {
   "display_name": "Python 3",
   "language": "python",
   "name": "python3"
  }
 },
 "nbformat": 4,
 "nbformat_minor": 5
}
