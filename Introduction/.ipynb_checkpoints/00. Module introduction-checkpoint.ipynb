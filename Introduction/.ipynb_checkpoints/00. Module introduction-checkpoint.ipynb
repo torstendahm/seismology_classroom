{
 "cells": [
  {
   "cell_type": "markdown",
   "metadata": {},
   "source": [
    "# Introduction\n",
    "\n",
    "In this module you will find the basic about Git and Python 3 programming language. The submodules covered here are\n",
    "\n",
    "* GitHub \n",
    "* Python Introduction\n",
    "* Data Types\n",
    "* Relational Operators\n",
    "* Print and Format\n",
    "* Containers\n",
    "* Loops\n",
    "* Functions\n",
    "* Classes and Objects\n",
    "* Modules\n",
    "* Numpy, Pandas\n",
    "* Matplotlib and Seaborn\n",
    "* Gridded data plots"
   ]
  }
 ],
 "metadata": {
  "kernelspec": {
   "display_name": "Python 3",
   "language": "python",
   "name": "python3"
  },
  "language_info": {
   "codemirror_mode": {
    "name": "ipython",
    "version": 3
   },
   "file_extension": ".py",
   "mimetype": "text/x-python",
   "name": "python",
   "nbconvert_exporter": "python",
   "pygments_lexer": "ipython3",
   "version": "3.6.9"
  }
 },
 "nbformat": 4,
 "nbformat_minor": 2
}
