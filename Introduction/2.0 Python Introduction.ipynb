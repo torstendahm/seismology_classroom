{
 "cells": [
  {
   "cell_type": "markdown",
   "metadata": {},
   "source": [
    "# Introduction to Python\n",
    "\n",
    "\n",
    "## Introduction\n",
    "\n",
    "This short notebook is focused on showing the terminology used within Python. When you create your own code this become very important as you understand the structure and properties associated to each term. \n",
    "\n",
    "**Table of contents:**\n",
    "\n",
    "* Terminology\n",
    "* Code\n",
    "* Comments\n",
    "* dir and help built-in functions"
   ]
  },
  {
   "cell_type": "markdown",
   "metadata": {},
   "source": [
    "## Terminology\n",
    "\n",
    "- **Object**: Everything in Python is an *object*! An object has `properties` and `methods`.\n",
    "- **Properties**: Properties store data associated with an object. Properties can be accessed by `object.property`.\n",
    "- **Classes**: Classes are the construction plans for *Object*s. A class defines\n",
    "    - how to construct an object (e.g. how to build a car)\n",
    "    - which properties it has and (e.g. it has a color and it has a number of wheels)\n",
    "    - which methods are bound to it. (e.g. it can steer left and right and honk)  \n",
    "- **Instance**: The process of using a class is called *instantiation*, because you create a specific *Instance* of that *Class*.\n",
    "    - A class can accept *arguments* at construction time to set some of its *properties* (e.g. a blue car with 8 wheels)\n",
    "    - An object is *instantiated* from a class by `Class(argument, argument, ...)`\n",
    "- **Argument**: This is how the values passed to a function, method or class are called.\n",
    "- **Functions**: A function is not part of an object an can be executed by `function(argument, argument, ...)`. A function can\n",
    "    - compute something,\n",
    "    - return a result.\n",
    "- **Methods**: Methods are similar to functions, but are part of (bound to) an object. Methods can be executed by `object.method(argument, argument, ...)`. A method can\n",
    "    - compute something,\n",
    "    - access and change the state (properties) of the object it is bound to, (e.g. change the door state of a car from open to closed)\n",
    "    - return a result (e.g. the current fuel level of the car)\n",
    "- **Method vs Function**:\n",
    "    - A **Method** is bound to an object and can have side-effects (change state).\n",
    "    - A **Function** is not bound to an object and has no side-effects.\n",
    "    - **Side-Effects**: When an operation changes an objects state or global state it has side-effects.\n",
    "- **Indentation**:\n",
    "    - This is specific to Python and is used to tell `Python` which parts of code belong together\n",
    "    - This is done by using spaces or tabs.\n",
    "    - We will go into details in a later section!"
   ]
  },
  {
   "cell_type": "markdown",
   "metadata": {},
   "source": [
    "## Code\n",
    "\n",
    "Python is a very good language for beginners. It has a very limited set of rules to learn.\n",
    "\n",
    "Writing a program is as simple as writing a command, one line at a time, in a text file that has a name like this `my_first_program.py`.\n",
    "\n",
    "`.py` denotes a Python file.\n",
    "\n",
    "The program can then be executed in a terminal using `python3 my_first_program.py`.\n",
    "\n",
    "If you are already familiar with other programming languages, then you will notice that Python has almost no extra special characters that you have to write to make your code work.\n",
    "\n",
    "The following is a fully working Python program:"
   ]
  },
  {
   "cell_type": "code",
   "execution_count": 1,
   "metadata": {},
   "outputs": [
    {
     "name": "stdout",
     "output_type": "stream",
     "text": [
      "3\n"
     ]
    }
   ],
   "source": [
    "a = 1\n",
    "b = 2\n",
    "print(a + b)"
   ]
  },
  {
   "cell_type": "markdown",
   "metadata": {},
   "source": [
    "<div class = \"alert alert-info\">\n",
    "<b>Note:</b> This course is written in Jupyter Notebooks. A Jupyter Notebook is an interactive Python environment that allows you combining code and text. Each \"cell\" can either contain text or code. If it is a `Code cell`, then you can run the program in the cell and immediately see its result.\n",
    "</div>\n",
    "Note also, that `Code` cells will automatically print the result of the last line of code in it. This is a speciality of the notebooks and does not print anything in regular Python programs (i.e. when run with `python3 my_first_program.py`)."
   ]
  },
  {
   "cell_type": "markdown",
   "metadata": {},
   "source": [
    "## Comments\n",
    "Comments can be used to annotate code with text that is not executed when you run a python program.\n",
    "\n",
    "Creating a comment works like this: `# This is a comment`\n",
    "\n",
    "Or like this: `\"\"\"Comment in here\"\"\"`\n",
    "\n",
    "There are two types of comments: **inline** and **multiline**.\n",
    "\n",
    "- **inline**: This type of comment is on the same line as code.\n",
    "- **multiline**: This type of comments stretches over multiple lines.\n"
   ]
  },
  {
   "cell_type": "markdown",
   "metadata": {},
   "source": [
    "## `dir(object)` and `help(object|function|method)`\n",
    "\n",
    "\n",
    "To discover what Python has to offer it has two built-in functions that will quickly get you going. We will use them from time to time in this tutorial.\n",
    "\n",
    "**dir(object)**: This will list all `properties` and `methods` of an object.\n",
    "\n",
    "**help(object)**: This will print the documentation, also called *docstring*, of `Methods`, `Classes` and `Functions`. A docstring describes its\n",
    "- *parameters*,\n",
    "- *what it does/computes* and\n",
    "- *what it returns*."
   ]
  },
  {
   "cell_type": "markdown",
   "metadata": {},
   "source": [
    "## Ask & Find help online\n",
    "\n",
    "- Visit the Documentation of Python at https://docs.python.org\n",
    "- Ask and/or search for answers on https://stackoverflow.com/\n",
    "- Use your favorite search engine \n",
    "\n",
    "# Summary\n",
    "\n",
    "* You know the basic **terminology** in Python (which is similar to most other programming languages).\n",
    "* You know the difference between **code** and **comments** and how to use comments in your code.\n",
    "* You know how you can help yourself while programming with **dir** and **help**.\n",
    "    - Note: If you program in more advanced text editors for Python, then those often have a nicer way of showing the dir and help output."
   ]
  }
 ],
 "metadata": {
  "kernelspec": {
   "display_name": "Python 3",
   "language": "python",
   "name": "python3"
  },
  "language_info": {
   "codemirror_mode": {
    "name": "ipython",
    "version": 3
   },
   "file_extension": ".py",
   "mimetype": "text/x-python",
   "name": "python",
   "nbconvert_exporter": "python",
   "pygments_lexer": "ipython3",
   "version": "3.6.9"
  }
 },
 "nbformat": 4,
 "nbformat_minor": 2
}
